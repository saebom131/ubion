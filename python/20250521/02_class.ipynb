{
 "cells": [
  {
   "cell_type": "markdown",
   "id": "c5de6e01",
   "metadata": {},
   "source": [
    "### <class 선언>\n",
    "- class라는 키워드 이용하여 선언\n",
    "- class의 이름은 일반적으로 단어 앞글자는 대문자로 표기\n",
    "\n",
    "### <class 생성>\n",
    "- 선언된 class를 변수에 저장하는 과정\n",
    "- 선언된 class를 여러 개의 변수에서 저장하여 따로 관리가 가능\n",
    "\n",
    "### <class 내부의 변수, 함수를 호출>\n",
    "- 생성된 class(변수) 안에( . ) 변수와 함수를 호출\n"
   ]
  },
  {
   "cell_type": "code",
   "execution_count": 6,
   "id": "37a8eddc",
   "metadata": {},
   "outputs": [],
   "source": [
    "# 가장 기본적인 class 선언\n",
    "class Test:\n",
    "\n",
    "    # 생성자 함수(초기화 함수): 매개변수 self는 필수로 입력\n",
    "        # claas가 생성될 때 최초로 한번만 실행되는 함수\n",
    "        # 따로 호출할 필요X\n",
    "    def __init__(self, input_a, input_b):\n",
    "        # 총 매개변수는 3개\n",
    "        # class를 생성할 때 필요한 인자값은 2개\n",
    "        # self -> class가 생성되는 위치(주솟값)가 자동으로 입력\n",
    "        # class 내부에서 사용할 변수를 생성하는 함수\n",
    "        # class가 생성된 위치(self) 안에(.) 변수(a, b)를 생성\n",
    "        self.a = input_a\n",
    "        self.b = input_b\n",
    "\n",
    "    # 클래스 내부에서 생성되는 함수는 일반적으로 self 매개변수 이용\n",
    "    def add_value(self):\n",
    "        result = self.a + self.b\n",
    "        return result"
   ]
  },
  {
   "cell_type": "code",
   "execution_count": 7,
   "id": "0b8f1538",
   "metadata": {},
   "outputs": [],
   "source": [
    "# class 생성\n",
    "class_1 = Test('팥', '붕어빵')"
   ]
  },
  {
   "cell_type": "code",
   "execution_count": 8,
   "id": "a4d4c9b0",
   "metadata": {},
   "outputs": [],
   "source": [
    "class_2 = Test('슈크림', '붕어빵')"
   ]
  },
  {
   "cell_type": "code",
   "execution_count": 10,
   "id": "62cb951a",
   "metadata": {},
   "outputs": [
    {
     "name": "stdout",
     "output_type": "stream",
     "text": [
      "팥\n",
      "슈크림\n"
     ]
    }
   ],
   "source": [
    "# class 안에 존재하는 변수 호출\n",
    "\n",
    "# class_1 안에(.) a를 호출\n",
    "print(class_1.a)\n",
    "print(class_2.a)"
   ]
  },
  {
   "cell_type": "code",
   "execution_count": 12,
   "id": "1226e25c",
   "metadata": {},
   "outputs": [
    {
     "name": "stdout",
     "output_type": "stream",
     "text": [
      "<__main__.Test object at 0x000001DD0CCB0910>\n"
     ]
    }
   ],
   "source": [
    "print(class_1)"
   ]
  },
  {
   "cell_type": "code",
   "execution_count": 13,
   "id": "dd0f2f7d",
   "metadata": {},
   "outputs": [
    {
     "name": "stdout",
     "output_type": "stream",
     "text": [
      "<__main__.Test object at 0x000001DD0B8FAD90>\n"
     ]
    }
   ],
   "source": [
    "print(class_2)"
   ]
  },
  {
   "cell_type": "code",
   "execution_count": 16,
   "id": "b478053f",
   "metadata": {},
   "outputs": [
    {
     "name": "stdout",
     "output_type": "stream",
     "text": [
      "팥붕어빵\n",
      "슈크림붕어빵\n"
     ]
    }
   ],
   "source": [
    "print(class_1.add_value())\n",
    "print(class_2.add_value())"
   ]
  },
  {
   "cell_type": "code",
   "execution_count": 18,
   "id": "6da617cf",
   "metadata": {},
   "outputs": [],
   "source": [
    "# 계산기 class\n",
    "class Calcurate:\n",
    "    # 생성자 함수에서 데이터 2개 생성\n",
    "    def __init__(self, input_a, input_b):\n",
    "        self.a = input_a\n",
    "        self.b = input_b\n",
    "    \n",
    "    # self.a와 self.b를 더해주는 함수 생성\n",
    "    def add(self):\n",
    "        result = self.a + self.b\n",
    "        # self.a와 self.b 데이터 변화는 X\n",
    "        return result\n",
    "    \n",
    "    # self.a와 self.b를 빼주는 함수 생성\n",
    "    def sub(self):\n",
    "        result = self.a - self.b\n",
    "        return result\n",
    "    \n",
    "    # self.a와 self.b를 곱해주는 함수 생성\n",
    "    def mul(self):\n",
    "        result = self.a * self.b\n",
    "        return result\n",
    "    \n",
    "    # self.a에서 self.b로 나눠주는 함수 생성\n",
    "    def div(self):\n",
    "        result = self.a / self.b\n",
    "        return result\n"
   ]
  },
  {
   "cell_type": "code",
   "execution_count": 19,
   "id": "4e456465",
   "metadata": {},
   "outputs": [],
   "source": [
    "# class 생성\n",
    "cal_1 = Calcurate(20, 4)\n",
    "cal_2 = Calcurate(40, 5)"
   ]
  },
  {
   "cell_type": "code",
   "execution_count": 20,
   "id": "1d706102",
   "metadata": {},
   "outputs": [
    {
     "name": "stdout",
     "output_type": "stream",
     "text": [
      "24\n",
      "45\n"
     ]
    }
   ],
   "source": [
    "# cal_1에는 a변수와 b변수 4개의 함수가 존재\n",
    "print(cal_1.add())\n",
    "print(cal_2.add())"
   ]
  },
  {
   "cell_type": "code",
   "execution_count": 24,
   "id": "64eab5b1",
   "metadata": {},
   "outputs": [
    {
     "name": "stdout",
     "output_type": "stream",
     "text": [
      "16\n",
      "35\n"
     ]
    }
   ],
   "source": [
    "print(cal_1.sub())\n",
    "print(cal_2.sub())"
   ]
  },
  {
   "cell_type": "code",
   "execution_count": 25,
   "id": "e95fb42a",
   "metadata": {},
   "outputs": [
    {
     "name": "stdout",
     "output_type": "stream",
     "text": [
      "80\n",
      "200\n"
     ]
    }
   ],
   "source": [
    "print(cal_1.mul())\n",
    "print(cal_2.mul())"
   ]
  },
  {
   "cell_type": "code",
   "execution_count": 26,
   "id": "c10d8322",
   "metadata": {},
   "outputs": [
    {
     "name": "stdout",
     "output_type": "stream",
     "text": [
      "5.0\n",
      "8.0\n"
     ]
    }
   ],
   "source": [
    "print(cal_1.div())\n",
    "print(cal_2.div())"
   ]
  },
  {
   "cell_type": "code",
   "execution_count": null,
   "id": "5e63b9bd",
   "metadata": {},
   "outputs": [],
   "source": [
    "# 클래스 변수가 존재하는 클래스 선언\n",
    "# 클래스 변수: 같은 클래스끼리 서로 공유하는 변수\n",
    "class Test2:\n",
    "    cnt = 0     # 해당 클래스를 만든 수\n",
    "    user_list = []\n",
    "    def __init__(self, _name):\n",
    "        # 생성자 함수\n",
    "        self.name = _name\n",
    "        # 클래스 변수인 cnt에 1을 증가시킴\n",
    "        # self.cnt += 1 => cnt값 증가X \n",
    "        Test2.cnt += 1\n",
    "        Test2.user_list.append(_name)    # 전달받은 _name을 user_list 리스트에 추가\n",
    "\n"
   ]
  },
  {
   "cell_type": "code",
   "execution_count": 31,
   "id": "cbf93579",
   "metadata": {},
   "outputs": [],
   "source": [
    "user_1 = Test2('kim')"
   ]
  },
  {
   "cell_type": "code",
   "execution_count": 32,
   "id": "662c17d6",
   "metadata": {},
   "outputs": [
    {
     "data": {
      "text/plain": [
       "1"
      ]
     },
     "execution_count": 32,
     "metadata": {},
     "output_type": "execute_result"
    }
   ],
   "source": [
    "user_1.cnt"
   ]
  },
  {
   "cell_type": "code",
   "execution_count": 33,
   "id": "988cd20d",
   "metadata": {},
   "outputs": [
    {
     "data": {
      "text/plain": [
       "['kim']"
      ]
     },
     "execution_count": 33,
     "metadata": {},
     "output_type": "execute_result"
    }
   ],
   "source": [
    "user_1.user_list"
   ]
  },
  {
   "cell_type": "code",
   "execution_count": 34,
   "id": "24364400",
   "metadata": {},
   "outputs": [],
   "source": [
    "user_2 = Test2('Park')"
   ]
  },
  {
   "cell_type": "code",
   "execution_count": 35,
   "id": "eaa30ce3",
   "metadata": {},
   "outputs": [
    {
     "data": {
      "text/plain": [
       "2"
      ]
     },
     "execution_count": 35,
     "metadata": {},
     "output_type": "execute_result"
    }
   ],
   "source": [
    "user_2.cnt"
   ]
  },
  {
   "cell_type": "code",
   "execution_count": 36,
   "id": "d94f7669",
   "metadata": {},
   "outputs": [
    {
     "data": {
      "text/plain": [
       "['kim', 'Park']"
      ]
     },
     "execution_count": 36,
     "metadata": {},
     "output_type": "execute_result"
    }
   ],
   "source": [
    "user_2.user_list"
   ]
  },
  {
   "cell_type": "code",
   "execution_count": null,
   "id": "cc6f9d7e",
   "metadata": {},
   "outputs": [
    {
     "data": {
      "text/plain": [
       "2"
      ]
     },
     "execution_count": 37,
     "metadata": {},
     "output_type": "execute_result"
    }
   ],
   "source": [
    "user_1.cnt      # 재확인"
   ]
  },
  {
   "cell_type": "markdown",
   "id": "333450ac",
   "metadata": {},
   "source": [
    "### <은행 계좌 class 생성>\n",
    "- 클래스 변수 생성\n",
    "    - total_cost = 0, user_cnt = 0\n",
    "\n",
    "- 생성자 함수 (생성된 클래스에서 독립적으로 가지고 있는 변수 생성)\n",
    "    - name [str]\n",
    "    - birth [str]\n",
    "    - cost [int] -> 현재 잔액, 기본값 0\n",
    "    - log [list] -> 매개변수로 생성하지 않고, 변수로만 생성(self.log) : 빈 리스트로 대입\n",
    "\n",
    "- 함수 생성\n",
    "    - 입/출금\n",
    "        - 매개변수 2개\n",
    "            - _type : 입금(1) / 출금(2)\n",
    "            - _cost\n",
    "        - _type == 1 : self.cost를 _cost만큼 증가시키고, total_cost도 _cost만큼 증가\n",
    "        - _type == 2 : self.cost를 _cost만큼 감소시키고, total_cost도 _cost만큼 감소\n",
    "        - log에 [_type, _cost, self.cost] 추가\n",
    "    - 로그를 출력하는 함수\n",
    "        - 매개변수 X\n",
    "        - self.log 출력"
   ]
  },
  {
   "cell_type": "code",
   "execution_count": null,
   "id": "a0c065e6",
   "metadata": {},
   "outputs": [],
   "source": [
    "class Bank:\n",
    "    # 클래스 변수\n",
    "    total_cost = 0\n",
    "    user_cnt = 0\n",
    "\n",
    "    # 생성자 함수\n",
    "    # 네 개의 변수, 세 개는 생성 시 받아오고, 하나는 빈 리스트 형태\n",
    "    def __init__(self, _name, _birth, _cost = 0):       # _cost의 기본값 = 0\n",
    "        self.name = _name\n",
    "        self.birth = _birth\n",
    "        self.cost = _cost\n",
    "        self.log = []\n",
    "        Bank.user_cnt += 1\n",
    "\n",
    "    # 입출금 함수\n",
    "    def change_cost(self, _type, _cost):\n",
    "        if _type == 1:                      # _type이 1인 경우 => 입금\n",
    "            self.cost += _cost              # self.cost를 _cost만큼 증가시킴\n",
    "            Bank.total_cost += _cost        # total_cost도 _cost만큼 증가시킴\n",
    "        elif _type == 2:                    # _type이 2인 경우 => 출금\n",
    "            self.cost -= _cost\n",
    "            Bank.total_cost -= _cost\n",
    "        else:\n",
    "            return \"_type의 값이 잘못되었습니다.\"\n",
    "        # log에 1차원 데이터 추가\n",
    "        self.log.append( [_type, _cost, self.cost] )\n",
    "\n",
    "        # f문자열 \n",
    "        return f\"현재 잔액은 {self.cost}원 입니다.\"\n",
    "    \n",
    "\n",
    "    # 로그 출력 함수\n",
    "    def view_log(self):\n",
    "\n",
    "        # print(self.log)\n",
    "        for i in self.log:\n",
    "            print(i)"
   ]
  },
  {
   "cell_type": "code",
   "execution_count": 41,
   "id": "3b06f217",
   "metadata": {},
   "outputs": [],
   "source": [
    "bank1 = Bank('kim', '950101')"
   ]
  },
  {
   "cell_type": "code",
   "execution_count": 42,
   "id": "b1ec4d98",
   "metadata": {},
   "outputs": [],
   "source": [
    "bank2 = Bank('Park', '901010', 100000)"
   ]
  },
  {
   "cell_type": "code",
   "execution_count": 43,
   "id": "26ce8c70",
   "metadata": {},
   "outputs": [
    {
     "data": {
      "text/plain": [
       "'현재 잔액은 10000원 입니다.'"
      ]
     },
     "execution_count": 43,
     "metadata": {},
     "output_type": "execute_result"
    }
   ],
   "source": [
    "# 입금\n",
    "bank1.change_cost(1, 10000)"
   ]
  },
  {
   "cell_type": "code",
   "execution_count": 44,
   "id": "80ad39ae",
   "metadata": {},
   "outputs": [
    {
     "data": {
      "text/plain": [
       "'현재 잔액은 5000원 입니다.'"
      ]
     },
     "execution_count": 44,
     "metadata": {},
     "output_type": "execute_result"
    }
   ],
   "source": [
    "# 출금\n",
    "bank1.change_cost(2, 5000)"
   ]
  },
  {
   "cell_type": "code",
   "execution_count": 45,
   "id": "661b33a9",
   "metadata": {},
   "outputs": [
    {
     "data": {
      "text/plain": [
       "'현재 잔액은 150000원 입니다.'"
      ]
     },
     "execution_count": 45,
     "metadata": {},
     "output_type": "execute_result"
    }
   ],
   "source": [
    "bank2.change_cost(1, 50000)"
   ]
  },
  {
   "cell_type": "code",
   "execution_count": 46,
   "id": "fe94224b",
   "metadata": {},
   "outputs": [
    {
     "name": "stdout",
     "output_type": "stream",
     "text": [
      "[1, 10000, 10000]\n",
      "[2, 5000, 5000]\n"
     ]
    }
   ],
   "source": [
    "bank1.view_log()"
   ]
  },
  {
   "cell_type": "code",
   "execution_count": 47,
   "id": "4fcbcd65",
   "metadata": {},
   "outputs": [
    {
     "name": "stdout",
     "output_type": "stream",
     "text": [
      "[1, 50000, 150000]\n"
     ]
    }
   ],
   "source": [
    "bank2.view_log()"
   ]
  },
  {
   "cell_type": "code",
   "execution_count": null,
   "id": "d79df323",
   "metadata": {},
   "outputs": [],
   "source": []
  }
 ],
 "metadata": {
  "kernelspec": {
   "display_name": "Python 3",
   "language": "python",
   "name": "python3"
  },
  "language_info": {
   "codemirror_mode": {
    "name": "ipython",
    "version": 3
   },
   "file_extension": ".py",
   "mimetype": "text/x-python",
   "name": "python",
   "nbconvert_exporter": "python",
   "pygments_lexer": "ipython3",
   "version": "3.9.13"
  }
 },
 "nbformat": 4,
 "nbformat_minor": 5
}
