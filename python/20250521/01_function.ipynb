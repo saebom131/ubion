{
 "cells": [
  {
   "cell_type": "code",
   "execution_count": 12,
   "id": "be78118b",
   "metadata": {},
   "outputs": [],
   "source": [
    "# 함수\n",
    "# 특정한 행동(기능)\n",
    "# python에서 함수는 def 키워드를 이용해 생성\n",
    "def func_1():\n",
    "    # 매개변수가 존재하지 않는 함수 func_1()\n",
    "    # 함수가 하는 기능이 제한적\n",
    "    print('Hello')\n",
    "    # func_1() 함수는 Hello를 출력해준다.\n",
    "\n",
    "def func_2():\n",
    "    return 'Hello'\n",
    "    # func_2() 함수는 Hello를 되돌려준다.\n",
    "    # 함수를 실행시킨 개체에 "
   ]
  },
  {
   "cell_type": "code",
   "execution_count": 13,
   "id": "3e13e624",
   "metadata": {},
   "outputs": [
    {
     "name": "stdout",
     "output_type": "stream",
     "text": [
      "Hello\n"
     ]
    }
   ],
   "source": [
    "# func_1, func_2 호출\n",
    "func_1()"
   ]
  },
  {
   "cell_type": "code",
   "execution_count": 14,
   "id": "573ad075",
   "metadata": {},
   "outputs": [
    {
     "data": {
      "text/plain": [
       "'Hello'"
      ]
     },
     "execution_count": 14,
     "metadata": {},
     "output_type": "execute_result"
    }
   ],
   "source": [
    "func_2()"
   ]
  },
  {
   "cell_type": "code",
   "execution_count": null,
   "id": "bcafc515",
   "metadata": {},
   "outputs": [
    {
     "name": "stdout",
     "output_type": "stream",
     "text": [
      "Hello\n"
     ]
    }
   ],
   "source": [
    "# func_1, func_2 함수를 호출한 결과를 변수에 대입\n",
    "a = func_1()    # 값 출력\n",
    "b = func_2()    # 값 되돌려줌 -> b에 'Hello' 저장 & 출력X"
   ]
  },
  {
   "cell_type": "code",
   "execution_count": 16,
   "id": "970dd000",
   "metadata": {},
   "outputs": [
    {
     "name": "stdout",
     "output_type": "stream",
     "text": [
      "None\n",
      "Hello\n"
     ]
    }
   ],
   "source": [
    "print(a)\n",
    "print(b)"
   ]
  },
  {
   "cell_type": "code",
   "execution_count": null,
   "id": "866357a7",
   "metadata": {},
   "outputs": [],
   "source": [
    "# 매개변수가 존재하는 함수\n",
    "def func_3(x, y):\n",
    "    # result 변수 생성하여 x + y 값 대입\n",
    "    result = x + y\n",
    "    # result 반환\n",
    "    return result"
   ]
  },
  {
   "cell_type": "code",
   "execution_count": 19,
   "id": "667c06b4",
   "metadata": {},
   "outputs": [],
   "source": [
    "func_3_res = func_3(10,3)\n",
    "# func_3 함수 호출\n",
    "    # x라는 매개변수에 10 대입\n",
    "    # y라는 매개변수에 3 대입\n",
    "    # result 변수를 생성하여 10과 3을 더한 값 대입\n",
    "    # result 되돌려줌\n",
    "# func_3_res에는 result의 데이터가 대입\n"
   ]
  },
  {
   "cell_type": "code",
   "execution_count": 20,
   "id": "e4715545",
   "metadata": {},
   "outputs": [
    {
     "name": "stdout",
     "output_type": "stream",
     "text": [
      "13\n"
     ]
    }
   ],
   "source": [
    "print(func_3_res)"
   ]
  },
  {
   "cell_type": "markdown",
   "id": "687a4fb3",
   "metadata": {},
   "source": [
    "### <변수>\n",
    ": 메모리상에 데이터가 저장되는 공간에 붙인 이름\n",
    "\n",
    "- 전역변수\n",
    "    - 전역의 의미는? => 모든 공간(전체의 영역)\n",
    "    - 해당하는 파일 어디서든 사용 가능한 변수\n",
    "- 지역변수\n",
    "    - 지역의 의미는? => 특정한 공간\n",
    "    - 함수나 클래스 안에서만 사용 가능한 변수\n",
    "    - 함수에서 값을 되돌려준다면(함수 종료되면) 해당 변수들은 삭제\n",
    "    - 휘발성 변수"
   ]
  },
  {
   "cell_type": "code",
   "execution_count": 23,
   "id": "c4bdf293",
   "metadata": {},
   "outputs": [
    {
     "ename": "NameError",
     "evalue": "name 'x' is not defined",
     "output_type": "error",
     "traceback": [
      "\u001b[1;31m---------------------------------------------------------------------------\u001b[0m",
      "\u001b[1;31mNameError\u001b[0m                                 Traceback (most recent call last)",
      "Cell \u001b[1;32mIn[23], line 2\u001b[0m\n\u001b[0;32m      1\u001b[0m \u001b[38;5;66;03m# 함수 내부에서 생성된 지역변수를 호출하면 해당 변수를 찾을 수X\u001b[39;00m\n\u001b[1;32m----> 2\u001b[0m \u001b[38;5;28mprint\u001b[39m(\u001b[43mx\u001b[49m)\n",
      "\u001b[1;31mNameError\u001b[0m: name 'x' is not defined"
     ]
    }
   ],
   "source": [
    "# 함수 내부에서 생성된 지역변수를 호출하면 해당 변수를 찾을 수X\n",
    "print(x)"
   ]
  },
  {
   "cell_type": "code",
   "execution_count": 24,
   "id": "0b8eadee",
   "metadata": {},
   "outputs": [
    {
     "name": "stdout",
     "output_type": "stream",
     "text": [
      "10\n",
      "10\n",
      "10\n"
     ]
    }
   ],
   "source": [
    "# 변수 생성\n",
    "a = b = c = 10\n",
    "print(a)\n",
    "print(b)\n",
    "print(c)"
   ]
  },
  {
   "cell_type": "code",
   "execution_count": 25,
   "id": "f1b6fc1c",
   "metadata": {},
   "outputs": [
    {
     "name": "stdout",
     "output_type": "stream",
     "text": [
      "10\n",
      "A\n",
      "True\n"
     ]
    }
   ],
   "source": [
    "# 여러 개의 변수에 각 데이터를 하나씩 대입\n",
    "x, y, z = 10, 'A', True\n",
    "print(x)\n",
    "print(y)\n",
    "print(z)"
   ]
  },
  {
   "cell_type": "code",
   "execution_count": 26,
   "id": "9c2a43f6",
   "metadata": {},
   "outputs": [],
   "source": [
    "# 함수에서 되돌려주는 데이터가 2개 이상인 경우\n",
    "def func_4(x, y):\n",
    "    # 지역변수 result, result2 생성\n",
    "    result = x + y\n",
    "    result2 = x - y\n",
    "    return result, result2"
   ]
  },
  {
   "cell_type": "code",
   "execution_count": null,
   "id": "03672446",
   "metadata": {},
   "outputs": [],
   "source": [
    "# 함수에서 되돌려주는 데이터가 2개 이상이라면 하나의 변수에 데이터를 대입할 때\n",
    "# 해당하는 타입은 tuple 형태로 저장됨\n",
    "func_4_res = func_4(5, 2)"
   ]
  },
  {
   "cell_type": "code",
   "execution_count": 40,
   "id": "4add3aaf",
   "metadata": {},
   "outputs": [
    {
     "name": "stdout",
     "output_type": "stream",
     "text": [
      "(7, 3)\n"
     ]
    }
   ],
   "source": [
    "print(func_4_res)\n",
    "# 튜플의 형태 (7, 3) 반환"
   ]
  },
  {
   "cell_type": "code",
   "execution_count": 41,
   "id": "e8ea0d07",
   "metadata": {},
   "outputs": [
    {
     "name": "stdout",
     "output_type": "stream",
     "text": [
      "4\n",
      "2\n"
     ]
    }
   ],
   "source": [
    "# 함수에서 되돌려주는 데이터가 2개 이상일 때, 각각의 변수에 데이터 저장하려면\n",
    "# 변수를 2개 생성하여 데이터 대입\n",
    "res1, res2 = func_4(3, 1)\n",
    "    # func_4() 함수의 매개변수 x에는 3, y에는 1을 대입\n",
    "    # 지역변수 result는 3+1 \n",
    "    # 지역변수 result2는 3-1\n",
    "    # func_4() 함수는 (4,2) 반환\n",
    "# 따라서 res1, res2 = 4, 2\n",
    "    # res1에는 4, res2에는 2가 저장\n",
    "print(res1)\n",
    "print(res2)"
   ]
  },
  {
   "cell_type": "code",
   "execution_count": null,
   "metadata": {},
   "outputs": [],
   "source": [
    "# 함수를 생성하고 호출하는 경우\n",
    "# 매개변수 개수 = 인자 개수\n",
    "def func_5(x):\n",
    "    result = x * 2\n",
    "    return result"
   ]
  },
  {
   "cell_type": "code",
   "execution_count": null,
   "id": "ab40f294",
   "metadata": {},
   "outputs": [
    {
     "ename": "TypeError",
     "evalue": "func_5() missing 1 required positional argument: 'x'",
     "output_type": "error",
     "traceback": [
      "\u001b[1;31m---------------------------------------------------------------------------\u001b[0m",
      "\u001b[1;31mTypeError\u001b[0m                                 Traceback (most recent call last)",
      "Cell \u001b[1;32mIn[43], line 2\u001b[0m\n\u001b[0;32m      1\u001b[0m \u001b[38;5;66;03m# 매개변수가 1개인 함수 func_5()함수를 인자값 없이(인자 개수=0) 호출한다면\u001b[39;00m\n\u001b[1;32m----> 2\u001b[0m \u001b[43mfunc_5\u001b[49m\u001b[43m(\u001b[49m\u001b[43m)\u001b[49m\n",
      "\u001b[1;31mTypeError\u001b[0m: func_5() missing 1 required positional argument: 'x'"
     ]
    }
   ],
   "source": [
    "# 매개변수가 1개인 함수 func_5()함수를 인자값 없이(인자 개수=0) 호출한다면 Error\n",
    "func_5()\n",
    "\n",
    "# 해당하는 함수에는 x라는 공간 존재, 데이터가 1개 필요\n",
    "# 에러 발생"
   ]
  },
  {
   "cell_type": "code",
   "execution_count": null,
   "id": "a1f5325f",
   "metadata": {},
   "outputs": [
    {
     "ename": "TypeError",
     "evalue": "func_5() takes 1 positional argument but 2 were given",
     "output_type": "error",
     "traceback": [
      "\u001b[1;31m---------------------------------------------------------------------------\u001b[0m",
      "\u001b[1;31mTypeError\u001b[0m                                 Traceback (most recent call last)",
      "Cell \u001b[1;32mIn[44], line 2\u001b[0m\n\u001b[0;32m      1\u001b[0m \u001b[38;5;66;03m# 매개변수가 1개인 함수에 인자의 개수를 2개로 호출한다면\u001b[39;00m\n\u001b[1;32m----> 2\u001b[0m \u001b[43mfunc_5\u001b[49m\u001b[43m(\u001b[49m\u001b[38;5;241;43m1\u001b[39;49m\u001b[43m,\u001b[49m\u001b[43m \u001b[49m\u001b[38;5;241;43m3\u001b[39;49m\u001b[43m)\u001b[49m\n",
      "\u001b[1;31mTypeError\u001b[0m: func_5() takes 1 positional argument but 2 were given"
     ]
    }
   ],
   "source": [
    "# 매개변수가 1개인 함수에 인자의 개수를 2개로 호출한다면\n",
    "func_5(1, 3)\n",
    "\n",
    "# 해당하는 함수에는 인자가 저장되는 공간이 1개밖에 없는데 2개의 데이터 입력\n",
    "# 에러 발생"
   ]
  },
  {
   "cell_type": "code",
   "execution_count": 58,
   "id": "64456b91",
   "metadata": {},
   "outputs": [
    {
     "name": "stdout",
     "output_type": "stream",
     "text": [
      "Hello world abc\n",
      "12345\n"
     ]
    }
   ],
   "source": [
    "# print() 함수\n",
    "print('Hello', 'world', 'abc')\n",
    "print(12345)"
   ]
  },
  {
   "cell_type": "code",
   "execution_count": null,
   "id": "ad4c69cb",
   "metadata": {},
   "outputs": [
    {
     "name": "stdout",
     "output_type": "stream",
     "text": [
      "Hello world abc\t12345\n"
     ]
    }
   ],
   "source": [
    "# print() 함수에는 end 매개변수 존재 => 기본값: 줄바꿈(\\n)\n",
    "# end 매개변수: 해당 줄을 어떻게 끝낼지 \n",
    "# end='' : 줄바꿈X\n",
    "print('Hello', 'world', 'abc', end='\\t')    # '\\t' : Tab\n",
    "print(12345)"
   ]
  },
  {
   "cell_type": "code",
   "execution_count": 69,
   "id": "2de33384",
   "metadata": {},
   "outputs": [
    {
     "name": "stdout",
     "output_type": "stream",
     "text": [
      "HelloWorldabc\n",
      "6\n"
     ]
    }
   ],
   "source": [
    "print('Hello'+'World'+'abc')\n",
    "print(1+2+3)"
   ]
  },
  {
   "cell_type": "code",
   "execution_count": 70,
   "id": "5fe13220",
   "metadata": {},
   "outputs": [
    {
     "ename": "TypeError",
     "evalue": "unsupported operand type(s) for +: 'int' and 'str'",
     "output_type": "error",
     "traceback": [
      "\u001b[1;31m---------------------------------------------------------------------------\u001b[0m",
      "\u001b[1;31mTypeError\u001b[0m                                 Traceback (most recent call last)",
      "Cell \u001b[1;32mIn[70], line 1\u001b[0m\n\u001b[1;32m----> 1\u001b[0m \u001b[38;5;28mprint\u001b[39m(\u001b[38;5;241;43m1\u001b[39;49m\u001b[38;5;241;43m+\u001b[39;49m\u001b[38;5;124;43m'\u001b[39;49m\u001b[38;5;124;43mhello\u001b[39;49m\u001b[38;5;124;43m'\u001b[39;49m\u001b[38;5;241m+\u001b[39m\u001b[38;5;241m2\u001b[39m)      \n\u001b[0;32m      2\u001b[0m \u001b[38;5;66;03m# 다른 type의 데이터는 +로 연결 X => 에러러\u001b[39;00m\n",
      "\u001b[1;31mTypeError\u001b[0m: unsupported operand type(s) for +: 'int' and 'str'"
     ]
    }
   ],
   "source": [
    "print(1+'hello'+2)      \n",
    "# 다른 type의 데이터는 +로 연결 X => 에러러"
   ]
  },
  {
   "cell_type": "code",
   "execution_count": 79,
   "id": "83c2d823",
   "metadata": {},
   "outputs": [],
   "source": [
    "# 인자의 개수가 가변인 함수 생성\n",
    "# 매개변수명 앞에 *추가\n",
    "def func_6(*args):\n",
    "    # args 변수는 여러 개의 인자를 저장할 수 있는 형태로 존재\n",
    "    print(args)\n",
    "    print(type(args))"
   ]
  },
  {
   "cell_type": "code",
   "execution_count": 80,
   "id": "0ac9432b",
   "metadata": {},
   "outputs": [
    {
     "name": "stdout",
     "output_type": "stream",
     "text": [
      "(1, 2, 3, 4, 5)\n",
      "<class 'tuple'>\n"
     ]
    }
   ],
   "source": [
    "func_6(1,2,3,4,5)"
   ]
  },
  {
   "cell_type": "code",
   "execution_count": 81,
   "id": "6b8ca1ba",
   "metadata": {},
   "outputs": [],
   "source": [
    "# 함수에서 매개변수의 기본값 설정\n",
    "def func_7(x, y=2):\n",
    "    result = x ** y\n",
    "    return result"
   ]
  },
  {
   "cell_type": "code",
   "execution_count": null,
   "id": "172949cb",
   "metadata": {},
   "outputs": [
    {
     "name": "stdout",
     "output_type": "stream",
     "text": [
      "100\n",
      "125\n"
     ]
    }
   ],
   "source": [
    "# func_7() 함수의 매개변수 중 y는 기본값이 설정되어 있으므로 x의 인자만 대입해 실행 가능\n",
    "print(func_7(10))       # y값 인자X -> 기본값 y=2 사용\n",
    "print(func_7(5, 3))"
   ]
  },
  {
   "cell_type": "code",
   "execution_count": null,
   "id": "e70133a5",
   "metadata": {},
   "outputs": [
    {
     "ename": "SyntaxError",
     "evalue": "non-default argument follows default argument (2487745014.py, line 2)",
     "output_type": "error",
     "traceback": [
      "\u001b[1;36m  Cell \u001b[1;32mIn[83], line 2\u001b[1;36m\u001b[0m\n\u001b[1;33m    def func_8(x = 1, y):\u001b[0m\n\u001b[1;37m                       ^\u001b[0m\n\u001b[1;31mSyntaxError\u001b[0m\u001b[1;31m:\u001b[0m non-default argument follows default argument\n"
     ]
    }
   ],
   "source": [
    "# 함수 생성시 매개변수에 기본값을 설정하는데 첫번째 매개변수에만 기본값 설정시 에러\n",
    "def func_8(x = 1, y):\n",
    "    return x + y\n",
    "# 매개변수에 기본값 설정할 때는 마지막부터 매개변수부터 설정"
   ]
  },
  {
   "cell_type": "code",
   "execution_count": 88,
   "id": "76b11d24",
   "metadata": {},
   "outputs": [],
   "source": [
    "# 인자의 개수가 가변인 매개변수와 데이터를 하나 저장할 수 있는 매개변수 생성\n",
    "def func_9(*args, data):\n",
    "    print(args)\n",
    "    print(data)"
   ]
  },
  {
   "cell_type": "code",
   "execution_count": null,
   "id": "e2fa5243",
   "metadata": {},
   "outputs": [
    {
     "name": "stdout",
     "output_type": "stream",
     "text": [
      "(1, 2, 3, 4, 5)\n",
      "6\n"
     ]
    }
   ],
   "source": [
    "# func_9(1,2,3,4,5) => 변수 전부 args에 대입, data에는 대입 값x -> 에러 발생\n",
    "func_9(1,2,3,4,5, data=6)       # data라는 매개변수에 강제적으로 값 대입"
   ]
  },
  {
   "cell_type": "code",
   "execution_count": 91,
   "id": "1c766ad8",
   "metadata": {},
   "outputs": [],
   "source": [
    "def func_10(data, *args):\n",
    "    print(data)\n",
    "    print(args)"
   ]
  },
  {
   "cell_type": "code",
   "execution_count": null,
   "id": "671364fa",
   "metadata": {},
   "outputs": [
    {
     "name": "stdout",
     "output_type": "stream",
     "text": [
      "1\n",
      "(2, 3, 4, 5)\n"
     ]
    }
   ],
   "source": [
    "# 여기서는 data에 1이라는 인자 대입, 나머지 2,3,4,5는 args에 대입\n",
    "func_10(1,2,3,4,5)"
   ]
  },
  {
   "cell_type": "code",
   "execution_count": 118,
   "id": "774114a2",
   "metadata": {},
   "outputs": [],
   "source": [
    "# 함수 생성\n",
    "# 첫 번째 매개변수는 인자의 개수가 가변인 형태\n",
    "# 두 번째 매개변수는 첫번째 매개변수에 데이터들 중\n",
    "# 최댓값, 최솟값, 평균을 보여줄지 지정하는 변수 (기본값 max)\n",
    "\n",
    "def func_11( *_datas, _type='max' ):\n",
    "    # _type이 max인 경우\n",
    "    if _type == 'max':\n",
    "        # _datas에서 가장 큰 값 저장\n",
    "        result = _datas[0]\n",
    "        # _datas의 2번째 데이터부터 마지막 데이터까지 result와 비교하여\n",
    "        # 큰 데이터를 result에 대입\n",
    "        for i in range (1, len(_datas), 1):\n",
    "            if result < _datas[i]:\n",
    "                result = _datas[i]\n",
    "    # _type이 min인 경우\n",
    "    elif _type == 'min':\n",
    "        result = _datas[0]\n",
    "        for i in range(1, len(_datas), 1):\n",
    "            if result > _datas[i]:\n",
    "                result = _datas[i]\n",
    "    # _type이 mean인 경우\n",
    "    elif _type == 'mean':\n",
    "        # _datas의 누적합 result\n",
    "        result = 0\n",
    "        # range 이용한 for문\n",
    "        # for i in range(0, len(_datas), 1):\n",
    "        #     result = result + _datas[i]\n",
    "\n",
    "        # 튜플 그대로 for문\n",
    "        for i in _datas:\n",
    "            result += i\n",
    "        result /= len(_datas)   # 평균 = 누적합 / 데이터의 개수(_datas의 길이)\n",
    "    else:\n",
    "        print('_type 매개변수에는 max, min, mean만 가능합니다.')\n",
    "    \n",
    "    return result"
   ]
  },
  {
   "cell_type": "code",
   "execution_count": 113,
   "id": "f473e444",
   "metadata": {},
   "outputs": [
    {
     "data": {
      "text/plain": [
       "5"
      ]
     },
     "execution_count": 113,
     "metadata": {},
     "output_type": "execute_result"
    }
   ],
   "source": [
    "func_11(1,2,3,4,5)"
   ]
  },
  {
   "cell_type": "code",
   "execution_count": 114,
   "id": "e7e567cf",
   "metadata": {},
   "outputs": [
    {
     "data": {
      "text/plain": [
       "1"
      ]
     },
     "execution_count": 114,
     "metadata": {},
     "output_type": "execute_result"
    }
   ],
   "source": [
    "func_11(1,2,3,4,5, _type='min')"
   ]
  },
  {
   "cell_type": "code",
   "execution_count": 115,
   "id": "500cff47",
   "metadata": {},
   "outputs": [
    {
     "data": {
      "text/plain": [
       "3.0"
      ]
     },
     "execution_count": 115,
     "metadata": {},
     "output_type": "execute_result"
    }
   ],
   "source": [
    "func_11(1,2,3,4,5, _type='mean')"
   ]
  },
  {
   "cell_type": "code",
   "execution_count": 119,
   "id": "1b823bcd",
   "metadata": {},
   "outputs": [
    {
     "name": "stdout",
     "output_type": "stream",
     "text": [
      "_type 매개변수에는 max, min, mean만 가능합니다.\n"
     ]
    },
    {
     "ename": "UnboundLocalError",
     "evalue": "local variable 'result' referenced before assignment",
     "output_type": "error",
     "traceback": [
      "\u001b[1;31m---------------------------------------------------------------------------\u001b[0m",
      "\u001b[1;31mUnboundLocalError\u001b[0m                         Traceback (most recent call last)",
      "Cell \u001b[1;32mIn[119], line 1\u001b[0m\n\u001b[1;32m----> 1\u001b[0m \u001b[43mfunc_11\u001b[49m\u001b[43m(\u001b[49m\u001b[38;5;241;43m1\u001b[39;49m\u001b[43m,\u001b[49m\u001b[38;5;241;43m2\u001b[39;49m\u001b[43m,\u001b[49m\u001b[38;5;241;43m3\u001b[39;49m\u001b[43m,\u001b[49m\u001b[38;5;241;43m4\u001b[39;49m\u001b[43m,\u001b[49m\u001b[38;5;241;43m5\u001b[39;49m\u001b[43m,\u001b[49m\u001b[43m \u001b[49m\u001b[43m_type\u001b[49m\u001b[38;5;241;43m=\u001b[39;49m\u001b[38;5;124;43m'\u001b[39;49m\u001b[38;5;124;43md\u001b[39;49m\u001b[38;5;124;43m'\u001b[39;49m\u001b[43m)\u001b[49m\n",
      "Cell \u001b[1;32mIn[118], line 37\u001b[0m, in \u001b[0;36mfunc_11\u001b[1;34m(_type, *_datas)\u001b[0m\n\u001b[0;32m     34\u001b[0m \u001b[38;5;28;01melse\u001b[39;00m:\n\u001b[0;32m     35\u001b[0m     \u001b[38;5;28mprint\u001b[39m(\u001b[38;5;124m'\u001b[39m\u001b[38;5;124m_type 매개변수에는 max, min, mean만 가능합니다.\u001b[39m\u001b[38;5;124m'\u001b[39m)\n\u001b[1;32m---> 37\u001b[0m \u001b[38;5;28;01mreturn\u001b[39;00m \u001b[43mresult\u001b[49m\n",
      "\u001b[1;31mUnboundLocalError\u001b[0m: local variable 'result' referenced before assignment"
     ]
    }
   ],
   "source": [
    "func_11(1,2,3,4,5, _type='d')"
   ]
  },
  {
   "cell_type": "code",
   "execution_count": 120,
   "id": "5cd17101",
   "metadata": {},
   "outputs": [],
   "source": [
    "# 함수 생성\n",
    "# 첫 번째 매개변수는 인자의 개수가 가변인 형태\n",
    "# 두 번째 매개변수는 첫번째 매개변수에 데이터들 중\n",
    "# 최댓값, 최솟값, 평균을 보여줄지 지정하는 변수 (기본값 max)\n",
    "\n",
    "def func_cal( *_datas, _type='max' ):\n",
    "    if _type=='max':\n",
    "        print(max(_datas))\n",
    "    if _type=='min':\n",
    "        print((min(_datas)))\n",
    "    if _type=='avg':\n",
    "        print(sum(_datas)/len(_datas))"
   ]
  },
  {
   "cell_type": "code",
   "execution_count": 121,
   "id": "14b0c090",
   "metadata": {},
   "outputs": [
    {
     "name": "stdout",
     "output_type": "stream",
     "text": [
      "8\n"
     ]
    }
   ],
   "source": [
    "func_cal(4,5,6,7,8)"
   ]
  },
  {
   "cell_type": "code",
   "execution_count": null,
   "id": "42a9ca7d",
   "metadata": {},
   "outputs": [],
   "source": []
  }
 ],
 "metadata": {
  "kernelspec": {
   "display_name": "Python 3",
   "language": "python",
   "name": "python3"
  },
  "language_info": {
   "codemirror_mode": {
    "name": "ipython",
    "version": 3
   },
   "file_extension": ".py",
   "mimetype": "text/x-python",
   "name": "python",
   "nbconvert_exporter": "python",
   "pygments_lexer": "ipython3",
   "version": "3.9.13"
  }
 },
 "nbformat": 4,
 "nbformat_minor": 5
}
