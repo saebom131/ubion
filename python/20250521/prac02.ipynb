{
 "cells": [
  {
   "cell_type": "code",
   "execution_count": 1,
   "id": "3e7c75f1",
   "metadata": {},
   "outputs": [],
   "source": [
    "class Test:\n",
    "    def __init__(self, input_a, input_b):\n",
    "        self.a = input_a\n",
    "        self.b = input_b\n",
    "    def add_value(self):\n",
    "        result = self.a+self.b\n",
    "        return result"
   ]
  },
  {
   "cell_type": "code",
   "execution_count": 2,
   "id": "35fc8f89",
   "metadata": {},
   "outputs": [],
   "source": [
    "class1 = Test('팥', '붕어빵')"
   ]
  },
  {
   "cell_type": "code",
   "execution_count": 3,
   "id": "82ba5da3",
   "metadata": {},
   "outputs": [
    {
     "name": "stdout",
     "output_type": "stream",
     "text": [
      "팥\n"
     ]
    }
   ],
   "source": [
    "print(class1.a)"
   ]
  },
  {
   "cell_type": "code",
   "execution_count": 4,
   "id": "31cf83bb",
   "metadata": {},
   "outputs": [],
   "source": [
    "class Calcurate:\n",
    "    def __init__(self, input_a, input_b):\n",
    "        self.a = input_a\n",
    "        self.b = input_b\n",
    "    def add(self):\n",
    "        result= self.a+self.b\n",
    "        return result\n",
    "    def sub(self):\n",
    "        result=self.a-self.b\n",
    "        return result\n",
    "    def mul(self):\n",
    "        result=self.a*self.b\n",
    "        return result\n",
    "    def div(self):\n",
    "        result=self.a/self.b\n",
    "        return result\n",
    "    "
   ]
  },
  {
   "cell_type": "code",
   "execution_count": 5,
   "id": "e362f91f",
   "metadata": {},
   "outputs": [],
   "source": [
    "cal1=Calcurate(20,4)\n",
    "cal2=Calcurate(40,5)"
   ]
  },
  {
   "cell_type": "code",
   "execution_count": 6,
   "id": "ef38bcc3",
   "metadata": {},
   "outputs": [
    {
     "data": {
      "text/plain": [
       "24"
      ]
     },
     "execution_count": 6,
     "metadata": {},
     "output_type": "execute_result"
    }
   ],
   "source": [
    "cal1.add()"
   ]
  },
  {
   "cell_type": "code",
   "execution_count": 7,
   "id": "89c3a8bd",
   "metadata": {},
   "outputs": [
    {
     "data": {
      "text/plain": [
       "80"
      ]
     },
     "execution_count": 7,
     "metadata": {},
     "output_type": "execute_result"
    }
   ],
   "source": [
    "cal1.mul()"
   ]
  },
  {
   "cell_type": "code",
   "execution_count": 11,
   "id": "140192bc",
   "metadata": {},
   "outputs": [],
   "source": [
    "class Test2:\n",
    "    cnt=0\n",
    "    user_list=[]\n",
    "    def __init__(self, _name):\n",
    "        self.name = _name\n",
    "        Test2.cnt+=1\n",
    "        Test2.user_list.append(_name)"
   ]
  },
  {
   "cell_type": "code",
   "execution_count": 12,
   "id": "cefcda18",
   "metadata": {},
   "outputs": [],
   "source": [
    "user_1 = Test2('kim')"
   ]
  },
  {
   "cell_type": "code",
   "execution_count": 13,
   "id": "fb5174f0",
   "metadata": {},
   "outputs": [],
   "source": [
    "user_2=Test2('lee')"
   ]
  },
  {
   "cell_type": "code",
   "execution_count": 14,
   "id": "3b575934",
   "metadata": {},
   "outputs": [
    {
     "data": {
      "text/plain": [
       "2"
      ]
     },
     "execution_count": 14,
     "metadata": {},
     "output_type": "execute_result"
    }
   ],
   "source": [
    "Test2.cnt"
   ]
  },
  {
   "cell_type": "code",
   "execution_count": 15,
   "id": "003c1911",
   "metadata": {},
   "outputs": [
    {
     "data": {
      "text/plain": [
       "['kim', 'lee']"
      ]
     },
     "execution_count": 15,
     "metadata": {},
     "output_type": "execute_result"
    }
   ],
   "source": [
    "Test2.user_list"
   ]
  },
  {
   "cell_type": "code",
   "execution_count": null,
   "id": "69cd662e",
   "metadata": {},
   "outputs": [],
   "source": []
  }
 ],
 "metadata": {
  "kernelspec": {
   "display_name": "Python 3",
   "language": "python",
   "name": "python3"
  },
  "language_info": {
   "codemirror_mode": {
    "name": "ipython",
    "version": 3
   },
   "file_extension": ".py",
   "mimetype": "text/x-python",
   "name": "python",
   "nbconvert_exporter": "python",
   "pygments_lexer": "ipython3",
   "version": "3.9.13"
  }
 },
 "nbformat": 4,
 "nbformat_minor": 5
}
