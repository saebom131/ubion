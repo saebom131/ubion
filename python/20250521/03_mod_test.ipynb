{
 "cells": [
  {
   "cell_type": "code",
   "execution_count": null,
   "id": "3edd3a06",
   "metadata": {},
   "outputs": [],
   "source": [
    "# 외부의 py 파일을 로드\n",
    "# import 모듈명\n",
    "# from 모듈명 import (변수, 함수, 클래스, 모듈) => 여러 모듈 한번에 import 가능\n",
    "# ex) from matplotlib import pyplot, a ...\n",
    "# import matplotlib.pyplot\n",
    "# from matplotlib import pyplot\n",
    "\n",
    "import mod\n",
    "# mod.py 모듈 파일 가지고 옴"
   ]
  },
  {
   "cell_type": "code",
   "execution_count": 5,
   "id": "8bb1e22d",
   "metadata": {},
   "outputs": [
    {
     "data": {
      "text/plain": [
       "<module 'mod' from 'c:\\\\ubion\\\\python\\\\20250521\\\\mod.py'>"
      ]
     },
     "execution_count": 5,
     "metadata": {},
     "output_type": "execute_result"
    }
   ],
   "source": [
    "# 특정 모듈을 강제적으로 리로드\n",
    "# why? 모듈 파일 수정 후에 다시 import mod 해도 변경된 새 모듈로 로드되지 X\n",
    "import importlib\n",
    "importlib.reload(mod)"
   ]
  },
  {
   "cell_type": "code",
   "execution_count": 2,
   "id": "b11ebbd4",
   "metadata": {},
   "outputs": [
    {
     "data": {
      "text/plain": [
       "'module_test'"
      ]
     },
     "execution_count": 2,
     "metadata": {},
     "output_type": "execute_result"
    }
   ],
   "source": [
    "# mod 모듈에서 변수 호출\n",
    "mod.test_data"
   ]
  },
  {
   "cell_type": "code",
   "execution_count": 3,
   "id": "43f591b6",
   "metadata": {},
   "outputs": [
    {
     "data": {
      "text/plain": [
       "55"
      ]
     },
     "execution_count": 3,
     "metadata": {},
     "output_type": "execute_result"
    }
   ],
   "source": [
    "# mod 모듈에서 custom_sum() 함수 호출\n",
    "# custom_sum() 매개변수 2개를 받아 두 사잇값의 누적합 구하는 함수\n",
    "mod.custom_sum(1, 10)"
   ]
  },
  {
   "cell_type": "code",
   "execution_count": 4,
   "id": "b1ca05f3",
   "metadata": {},
   "outputs": [
    {
     "data": {
      "text/plain": [
       "55"
      ]
     },
     "execution_count": 4,
     "metadata": {},
     "output_type": "execute_result"
    }
   ],
   "source": [
    "mod.custom_sum(10, 1)"
   ]
  },
  {
   "cell_type": "code",
   "execution_count": 9,
   "id": "43efa7b6",
   "metadata": {},
   "outputs": [],
   "source": [
    "# mode 모듈에서 Calcurate 클래스 호출\n",
    "# 새로운 변수에 저장\n",
    "cal_1 = mod.Calcurate(10, 4)"
   ]
  },
  {
   "cell_type": "code",
   "execution_count": 10,
   "id": "9df55464",
   "metadata": {},
   "outputs": [
    {
     "data": {
      "text/plain": [
       "14"
      ]
     },
     "execution_count": 10,
     "metadata": {},
     "output_type": "execute_result"
    }
   ],
   "source": [
    "cal_1.add()"
   ]
  },
  {
   "cell_type": "code",
   "execution_count": 11,
   "id": "85f7859f",
   "metadata": {},
   "outputs": [
    {
     "data": {
      "text/plain": [
       "6"
      ]
     },
     "execution_count": 11,
     "metadata": {},
     "output_type": "execute_result"
    }
   ],
   "source": [
    "cal_1.sub()"
   ]
  },
  {
   "cell_type": "code",
   "execution_count": 12,
   "id": "5e27f89a",
   "metadata": {},
   "outputs": [
    {
     "data": {
      "text/plain": [
       "2.5"
      ]
     },
     "execution_count": 12,
     "metadata": {},
     "output_type": "execute_result"
    }
   ],
   "source": [
    "cal_1.div()"
   ]
  },
  {
   "cell_type": "code",
   "execution_count": 13,
   "id": "b2358149",
   "metadata": {},
   "outputs": [],
   "source": [
    "# python 환경변수 확인\n",
    "import sys"
   ]
  },
  {
   "cell_type": "code",
   "execution_count": 14,
   "id": "846094ce",
   "metadata": {},
   "outputs": [
    {
     "data": {
      "text/plain": [
       "['c:\\\\Users\\\\toqha\\\\AppData\\\\Local\\\\Programs\\\\Python\\\\Python39\\\\python39.zip',\n",
       " 'c:\\\\Users\\\\toqha\\\\AppData\\\\Local\\\\Programs\\\\Python\\\\Python39\\\\DLLs',\n",
       " 'c:\\\\Users\\\\toqha\\\\AppData\\\\Local\\\\Programs\\\\Python\\\\Python39\\\\lib',\n",
       " 'c:\\\\Users\\\\toqha\\\\AppData\\\\Local\\\\Programs\\\\Python\\\\Python39',\n",
       " '',\n",
       " 'C:\\\\Users\\\\toqha\\\\AppData\\\\Roaming\\\\Python\\\\Python39\\\\site-packages',\n",
       " 'C:\\\\Users\\\\toqha\\\\AppData\\\\Roaming\\\\Python\\\\Python39\\\\site-packages\\\\win32',\n",
       " 'C:\\\\Users\\\\toqha\\\\AppData\\\\Roaming\\\\Python\\\\Python39\\\\site-packages\\\\win32\\\\lib',\n",
       " 'C:\\\\Users\\\\toqha\\\\AppData\\\\Roaming\\\\Python\\\\Python39\\\\site-packages\\\\Pythonwin',\n",
       " 'c:\\\\Users\\\\toqha\\\\AppData\\\\Local\\\\Programs\\\\Python\\\\Python39\\\\lib\\\\site-packages']"
      ]
     },
     "execution_count": 14,
     "metadata": {},
     "output_type": "execute_result"
    }
   ],
   "source": [
    "# sys 라이브러리의 path 함수 호출하면?\n",
    "sys.path"
   ]
  },
  {
   "cell_type": "code",
   "execution_count": null,
   "id": "cdae5d68",
   "metadata": {},
   "outputs": [],
   "source": []
  }
 ],
 "metadata": {
  "kernelspec": {
   "display_name": "Python 3",
   "language": "python",
   "name": "python3"
  },
  "language_info": {
   "codemirror_mode": {
    "name": "ipython",
    "version": 3
   },
   "file_extension": ".py",
   "mimetype": "text/x-python",
   "name": "python",
   "nbconvert_exporter": "python",
   "pygments_lexer": "ipython3",
   "version": "3.9.13"
  }
 },
 "nbformat": 4,
 "nbformat_minor": 5
}
