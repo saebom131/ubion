{
 "cells": [
  {
   "cell_type": "code",
   "execution_count": 1,
   "id": "7ec0f6a6",
   "metadata": {},
   "outputs": [],
   "source": [
    "def func_1():\n",
    "    print('Hello')"
   ]
  },
  {
   "cell_type": "code",
   "execution_count": 2,
   "id": "3e7cb985",
   "metadata": {},
   "outputs": [],
   "source": [
    "def func_2():\n",
    "    return 'Hello'"
   ]
  },
  {
   "cell_type": "code",
   "execution_count": 3,
   "id": "e88becc5",
   "metadata": {},
   "outputs": [
    {
     "name": "stdout",
     "output_type": "stream",
     "text": [
      "Hello\n"
     ]
    }
   ],
   "source": [
    "func_1()"
   ]
  },
  {
   "cell_type": "code",
   "execution_count": 4,
   "id": "22a22d12",
   "metadata": {},
   "outputs": [
    {
     "data": {
      "text/plain": [
       "'Hello'"
      ]
     },
     "execution_count": 4,
     "metadata": {},
     "output_type": "execute_result"
    }
   ],
   "source": [
    "func_2()"
   ]
  },
  {
   "cell_type": "code",
   "execution_count": 5,
   "id": "312168fc",
   "metadata": {},
   "outputs": [
    {
     "name": "stdout",
     "output_type": "stream",
     "text": [
      "Hello\n"
     ]
    }
   ],
   "source": [
    "a=func_1()"
   ]
  },
  {
   "cell_type": "code",
   "execution_count": 6,
   "id": "6d57ca27",
   "metadata": {},
   "outputs": [],
   "source": [
    "b=func_2()"
   ]
  },
  {
   "cell_type": "code",
   "execution_count": 7,
   "id": "f7e935b7",
   "metadata": {},
   "outputs": [
    {
     "name": "stdout",
     "output_type": "stream",
     "text": [
      "None\n",
      "Hello\n"
     ]
    }
   ],
   "source": [
    "print(a)\n",
    "print(b)"
   ]
  },
  {
   "cell_type": "code",
   "execution_count": 8,
   "id": "abfe696d",
   "metadata": {},
   "outputs": [],
   "source": [
    "def func_3(x,y):\n",
    "    result = x * y\n",
    "    return result"
   ]
  },
  {
   "cell_type": "code",
   "execution_count": 9,
   "id": "be3ac78c",
   "metadata": {},
   "outputs": [],
   "source": [
    "func_3_res = func_3(10,3)"
   ]
  },
  {
   "cell_type": "code",
   "execution_count": 10,
   "id": "bbe68962",
   "metadata": {},
   "outputs": [
    {
     "name": "stdout",
     "output_type": "stream",
     "text": [
      "30\n"
     ]
    }
   ],
   "source": [
    "print(func_3_res)"
   ]
  },
  {
   "cell_type": "code",
   "execution_count": 11,
   "id": "7babbb1a",
   "metadata": {},
   "outputs": [
    {
     "name": "stdout",
     "output_type": "stream",
     "text": [
      "10\n",
      "10\n",
      "10\n"
     ]
    }
   ],
   "source": [
    "a=b=c=10\n",
    "print(a)\n",
    "print(b)\n",
    "print(c)"
   ]
  },
  {
   "cell_type": "code",
   "execution_count": 13,
   "id": "f648a0ba",
   "metadata": {},
   "outputs": [
    {
     "name": "stdout",
     "output_type": "stream",
     "text": [
      "10\n",
      "A\n",
      "True\n"
     ]
    }
   ],
   "source": [
    "x, y, z=10, 'A', True\n",
    "print(x)\n",
    "print(y)\n",
    "print(z)"
   ]
  },
  {
   "cell_type": "code",
   "execution_count": 14,
   "id": "f1c91298",
   "metadata": {},
   "outputs": [],
   "source": [
    "def func_4(x, y):\n",
    "    result = x + y\n",
    "    result2 = x - y\n",
    "    return result, result2"
   ]
  },
  {
   "cell_type": "code",
   "execution_count": 15,
   "id": "40dadaac",
   "metadata": {},
   "outputs": [],
   "source": [
    "func_4_res = func_4(5,2)"
   ]
  },
  {
   "cell_type": "code",
   "execution_count": null,
   "id": "4e1f637e",
   "metadata": {},
   "outputs": [
    {
     "name": "stdout",
     "output_type": "stream",
     "text": [
      "(7, 3)\n"
     ]
    }
   ],
   "source": [
    "print(func_4_res)"
   ]
  },
  {
   "cell_type": "code",
   "execution_count": 17,
   "id": "b84653a5",
   "metadata": {},
   "outputs": [],
   "source": [
    "res1, res2=func_4(3,1)"
   ]
  },
  {
   "cell_type": "code",
   "execution_count": 18,
   "id": "80e3d2f3",
   "metadata": {},
   "outputs": [
    {
     "name": "stdout",
     "output_type": "stream",
     "text": [
      "4\n",
      "2\n"
     ]
    }
   ],
   "source": [
    "print(res1)\n",
    "print(res2)"
   ]
  },
  {
   "cell_type": "code",
   "execution_count": 19,
   "id": "ee70cbff",
   "metadata": {},
   "outputs": [],
   "source": [
    "def func_5(x):\n",
    "    result = x*2\n",
    "    return result"
   ]
  },
  {
   "cell_type": "code",
   "execution_count": 20,
   "id": "94df9371",
   "metadata": {},
   "outputs": [
    {
     "name": "stdout",
     "output_type": "stream",
     "text": [
      "Hello world abc\t12345\n"
     ]
    }
   ],
   "source": [
    "print('Hello', 'world', 'abc', end='\\t')\n",
    "print(12345)"
   ]
  },
  {
   "cell_type": "code",
   "execution_count": 23,
   "id": "1db760a7",
   "metadata": {},
   "outputs": [],
   "source": [
    "def func_6(*args):\n",
    "    print(args)\n",
    "    print(type(args))"
   ]
  },
  {
   "cell_type": "code",
   "execution_count": 24,
   "id": "a1c879df",
   "metadata": {},
   "outputs": [
    {
     "name": "stdout",
     "output_type": "stream",
     "text": [
      "(1, 2, 3, 4, 5)\n",
      "<class 'tuple'>\n"
     ]
    }
   ],
   "source": [
    "func_6(1,2,3,4,5)"
   ]
  },
  {
   "cell_type": "code",
   "execution_count": 26,
   "id": "0b092432",
   "metadata": {},
   "outputs": [],
   "source": [
    "def func_7(x,y=2):\n",
    "    result = x**y\n",
    "    return result"
   ]
  },
  {
   "cell_type": "code",
   "execution_count": 27,
   "id": "9e0080f9",
   "metadata": {},
   "outputs": [
    {
     "name": "stdout",
     "output_type": "stream",
     "text": [
      "100\n",
      "125\n"
     ]
    }
   ],
   "source": [
    "print(func_7(10))\n",
    "print(func_7(5,3))"
   ]
  },
  {
   "cell_type": "code",
   "execution_count": 28,
   "id": "30e434ea",
   "metadata": {},
   "outputs": [],
   "source": [
    "def func_9(*args, data):\n",
    "    print(args)\n",
    "    print(data)"
   ]
  },
  {
   "cell_type": "code",
   "execution_count": 29,
   "id": "a7cb56ff",
   "metadata": {},
   "outputs": [
    {
     "name": "stdout",
     "output_type": "stream",
     "text": [
      "(1, 2, 3, 4, 5)\n",
      "10\n"
     ]
    }
   ],
   "source": [
    "func_9(1,2,3,4,5, data=10)"
   ]
  },
  {
   "cell_type": "code",
   "execution_count": 30,
   "id": "adbbe2fd",
   "metadata": {},
   "outputs": [],
   "source": [
    "def func_10(data, *args):\n",
    "    print(data)\n",
    "    print(args)\n"
   ]
  },
  {
   "cell_type": "code",
   "execution_count": 31,
   "id": "00f803d8",
   "metadata": {},
   "outputs": [
    {
     "name": "stdout",
     "output_type": "stream",
     "text": [
      "1\n",
      "(2, 3, 4, 5)\n"
     ]
    }
   ],
   "source": [
    "func_10(1,2,3,4,5)"
   ]
  },
  {
   "cell_type": "code",
   "execution_count": 42,
   "id": "ab655282",
   "metadata": {},
   "outputs": [],
   "source": [
    "def func_11(*_datas, _type='max'):\n",
    "    if _type=='max':\n",
    "        result = _datas[0]\n",
    "        for i in range(1, len(_datas), 1):\n",
    "            if result < _datas[i]:\n",
    "                result = _datas[i]\n",
    "    elif _type == 'min':\n",
    "        result = _datas[0]\n",
    "        for i in range(1, len(_datas), 1):\n",
    "            if result>_datas[i]:\n",
    "                result = _datas[i]\n",
    "    elif _type=='mean':\n",
    "        result=0\n",
    "        for i in _datas:\n",
    "            result += i\n",
    "        result /= len(_datas)\n",
    "    else:\n",
    "        print('_type 매개변수에는 max, min, mean만 있어요')\n",
    "    return result"
   ]
  },
  {
   "cell_type": "code",
   "execution_count": 43,
   "id": "64e6b289",
   "metadata": {},
   "outputs": [
    {
     "data": {
      "text/plain": [
       "5"
      ]
     },
     "execution_count": 43,
     "metadata": {},
     "output_type": "execute_result"
    }
   ],
   "source": [
    "func_11(1,2,3,4,5)"
   ]
  },
  {
   "cell_type": "code",
   "execution_count": 44,
   "id": "8dae091d",
   "metadata": {},
   "outputs": [
    {
     "data": {
      "text/plain": [
       "1"
      ]
     },
     "execution_count": 44,
     "metadata": {},
     "output_type": "execute_result"
    }
   ],
   "source": [
    "func_11(1,2,3,4,5, _type='min')"
   ]
  },
  {
   "cell_type": "code",
   "execution_count": 45,
   "id": "e604262a",
   "metadata": {},
   "outputs": [
    {
     "data": {
      "text/plain": [
       "3.0"
      ]
     },
     "execution_count": 45,
     "metadata": {},
     "output_type": "execute_result"
    }
   ],
   "source": [
    "func_11(1,2,3,4,5, _type='mean')"
   ]
  },
  {
   "cell_type": "code",
   "execution_count": null,
   "id": "46742dc1",
   "metadata": {},
   "outputs": [],
   "source": []
  }
 ],
 "metadata": {
  "kernelspec": {
   "display_name": "Python 3",
   "language": "python",
   "name": "python3"
  },
  "language_info": {
   "codemirror_mode": {
    "name": "ipython",
    "version": 3
   },
   "file_extension": ".py",
   "mimetype": "text/x-python",
   "name": "python",
   "nbconvert_exporter": "python",
   "pygments_lexer": "ipython3",
   "version": "3.9.13"
  }
 },
 "nbformat": 4,
 "nbformat_minor": 5
}
