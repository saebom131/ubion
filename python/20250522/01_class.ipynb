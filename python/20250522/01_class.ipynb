{
 "cells": [
  {
   "cell_type": "code",
   "execution_count": 49,
   "id": "80141e2f",
   "metadata": {},
   "outputs": [
    {
     "name": "stdout",
     "output_type": "stream",
     "text": [
      "15\n",
      "10\n"
     ]
    }
   ],
   "source": [
    "# class를 생성하여 class 안에 존재하는 변수를 변경할 것인가?\n",
    "# 변경하지 않고 되돌려줄것인가?\n",
    "\n",
    "x = 10\n",
    "# return이 존재하는 함수\n",
    "def case1(_val):\n",
    "    result = x + _val\n",
    "    return result\n",
    "\n",
    "print(case1(5))\n",
    "print(x)"
   ]
  },
  {
   "cell_type": "code",
   "execution_count": null,
   "id": "d18f37af",
   "metadata": {},
   "outputs": [],
   "source": [
    "def case2(_val):\n",
    "    globals()['x'] = x + _val      \n",
    "    # 전역변수 x를 불러와 _val와 더한 후 다시 전역변수 x에 저장 => x의 값 변경(리스트.append()의 결과)\n",
    "\n",
    "case2(5)"
   ]
  },
  {
   "cell_type": "code",
   "execution_count": 51,
   "id": "6d0e504c",
   "metadata": {},
   "outputs": [
    {
     "data": {
      "text/plain": [
       "15"
      ]
     },
     "execution_count": 51,
     "metadata": {},
     "output_type": "execute_result"
    }
   ],
   "source": [
    "x"
   ]
  },
  {
   "cell_type": "code",
   "execution_count": null,
   "id": "70b583c2",
   "metadata": {},
   "outputs": [
    {
     "name": "stdout",
     "output_type": "stream",
     "text": [
      "15\n",
      "10\n",
      "None\n",
      "15\n"
     ]
    }
   ],
   "source": [
    "x = 10\n",
    "\n",
    "def case3(_val, inplace = False):\n",
    "    if inplace:\n",
    "        # 원본의 데이터를 수정\n",
    "        globals()['x'] = x + _val\n",
    "    else:\n",
    "        # 원본 데이터 수정 없이 결과만 확인\n",
    "        result = x + _val\n",
    "        return result\n",
    "\n",
    "# case3() 호출하면서 원본 데이터는 수정하지 않는 경우\n",
    "print(case3(5))\n",
    "print(x)\n",
    "\n",
    "# case3() 호출하면서 원본 데이터 수정하는 경우\n",
    "print(case3(5, inplace=True))   \n",
    "print(x)\n",
    "    "
   ]
  },
  {
   "cell_type": "code",
   "execution_count": 82,
   "id": "afcc0231",
   "metadata": {},
   "outputs": [],
   "source": [
    "class InplaceTest:\n",
    "    # 생성자 함수\n",
    "    def __init__(self, _data):      # 인자값 1개(_data) 전달받음\n",
    "        self.data = _data           # 독립변수 data라는 공간 안에 _data 값 저장\n",
    "\n",
    "    def add(self, _val, inplace = False):\n",
    "        if inplace:\n",
    "            # self.data를 변경\n",
    "            self.data += _val\n",
    "        else:   # inplace == 0인 경우\n",
    "            # self.data 변경X, 결과만 확인\n",
    "            result = self.data + _val\n",
    "            return result\n",
    "        "
   ]
  },
  {
   "cell_type": "code",
   "execution_count": 83,
   "id": "9e212954",
   "metadata": {},
   "outputs": [],
   "source": [
    "inplace_1 = InplaceTest(10)"
   ]
  },
  {
   "cell_type": "code",
   "execution_count": 84,
   "id": "55d469ba",
   "metadata": {},
   "outputs": [
    {
     "data": {
      "text/plain": [
       "15"
      ]
     },
     "execution_count": 84,
     "metadata": {},
     "output_type": "execute_result"
    }
   ],
   "source": [
    "# InplaceTest class 안에 있는 add() 함수를 호출출\n",
    "inplace_1.add(5)     # 원본데이터 변경X (inplace가 기본값 False인 경우)"
   ]
  },
  {
   "cell_type": "code",
   "execution_count": 85,
   "id": "0a6d6771",
   "metadata": {},
   "outputs": [
    {
     "data": {
      "text/plain": [
       "10"
      ]
     },
     "execution_count": 85,
     "metadata": {},
     "output_type": "execute_result"
    }
   ],
   "source": [
    "inplace_1.data"
   ]
  },
  {
   "cell_type": "code",
   "execution_count": 86,
   "id": "87eaa27e",
   "metadata": {},
   "outputs": [],
   "source": [
    "inplace_1.add(5, inplace=True)"
   ]
  },
  {
   "cell_type": "code",
   "execution_count": null,
   "id": "d3ca0399",
   "metadata": {},
   "outputs": [
    {
     "data": {
      "text/plain": [
       "15"
      ]
     },
     "execution_count": 87,
     "metadata": {},
     "output_type": "execute_result"
    }
   ],
   "source": [
    "inplace_1.data"
   ]
  },
  {
   "cell_type": "code",
   "execution_count": null,
   "id": "f3e634c0",
   "metadata": {},
   "outputs": [],
   "source": [
    "# !!!!! 주의 !!!!!\n",
    "inplace_1.data = inplace_1.add(5, inplace = True)\n",
    "# 위의 if inplace: 조건문에서 self.data를 변경한 후 return값이 없으므로\n",
    "# 결국 아무것도 리턴하지 않아 inplace_1.data에는 None이 저장됨"
   ]
  },
  {
   "cell_type": "code",
   "execution_count": 89,
   "id": "3058c0e4",
   "metadata": {},
   "outputs": [
    {
     "name": "stdout",
     "output_type": "stream",
     "text": [
      "None\n"
     ]
    }
   ],
   "source": [
    "print(inplace_1.data)"
   ]
  },
  {
   "cell_type": "markdown",
   "id": "19378973",
   "metadata": {},
   "source": [
    "### <class의 상속>\n",
    "- 상속 -> 물려받다.\n",
    "    - python class에서는 class 내부의 변수, 함수를 물려받아 사용\n",
    "    - 부모 클래스, 자식 클래스가 존재\n",
    "    - 부모 클래스에 존재하는 기능은 그대로 유지한 채, 자식 클래스에서는 부모 클래스 기능을 그대로 or 변경 후 사용 가능"
   ]
  },
  {
   "cell_type": "code",
   "execution_count": 90,
   "id": "3869c830",
   "metadata": {},
   "outputs": [],
   "source": [
    "# 부모 클래스 선언\n",
    "class A:\n",
    "    def __init__(self, _name, _bitrh):\n",
    "        self.name = _name\n",
    "        self.birth = _bitrh\n",
    "    \n",
    "    def view_info(self):\n",
    "        print(f\"등록된 이름은 {self.name}이고, 생년월일은 {self.birth}입니다.\")"
   ]
  },
  {
   "cell_type": "code",
   "execution_count": 91,
   "id": "3cfa325c",
   "metadata": {},
   "outputs": [],
   "source": [
    "test_1 = A('Kim', '000105')"
   ]
  },
  {
   "cell_type": "code",
   "execution_count": 92,
   "id": "bb9ef5a9",
   "metadata": {},
   "outputs": [
    {
     "name": "stdout",
     "output_type": "stream",
     "text": [
      "등록된 이름은 Kim이고, 생년월일은 000105입니다.\n"
     ]
    }
   ],
   "source": [
    "test_1.view_info()"
   ]
  },
  {
   "cell_type": "code",
   "execution_count": null,
   "id": "618e1366",
   "metadata": {},
   "outputs": [],
   "source": [
    "# A 클래스를 상속받는 B 클래스 선언\n",
    "class B(A):\n",
    "    def __init__(self, _name, _birth, _loc, _phone):\n",
    "        # A 클래스(부모클래스)에 생성자 함수를 호출\n",
    "        # 부모클래스 -> super()\n",
    "        super().__init__(_name, _birth)\n",
    "        self.loc = _loc\n",
    "        self.phone = _phone\n",
    "    \n",
    "    def user_info(self):\n",
    "        print(f'''이름은 {self.name}\n",
    "              생년월일은 {self.birth}\n",
    "              지역은 {self.loc}\n",
    "              휴대폰 번호는 {self.phone}입니다.''')"
   ]
  },
  {
   "cell_type": "code",
   "execution_count": 95,
   "id": "4a9625e0",
   "metadata": {},
   "outputs": [],
   "source": [
    "test_2 = B('park', '010502', 'seoul', '01012345678')"
   ]
  },
  {
   "cell_type": "code",
   "execution_count": null,
   "id": "968069a1",
   "metadata": {},
   "outputs": [
    {
     "name": "stdout",
     "output_type": "stream",
     "text": [
      "이름은 park\n",
      "              생년월일은 010502\n",
      "              지역은 seoul\n",
      "              휴대폰번호는 01012345678입니다.\n"
     ]
    }
   ],
   "source": [
    "# B 클래스를 생성한 test_2에는 변수가 4개 존재, 함수는 2개(user_info(), view_info()) 존재\n",
    "test_2.user_info()"
   ]
  },
  {
   "cell_type": "code",
   "execution_count": null,
   "id": "30b7fa28",
   "metadata": {},
   "outputs": [
    {
     "name": "stdout",
     "output_type": "stream",
     "text": [
      "등록된 이름은 park이고, 생년월일은 010502입니다.\n"
     ]
    }
   ],
   "source": [
    "test_2.view_info()\n",
    "# 상속받은 부모클래스(A 클래스)의 함수 호출"
   ]
  },
  {
   "cell_type": "code",
   "execution_count": null,
   "id": "035aa2ff",
   "metadata": {},
   "outputs": [
    {
     "name": "stdout",
     "output_type": "stream",
     "text": [
      "등록된 이름은 lee이고, 생년월일은 900101입니다.\n"
     ]
    }
   ],
   "source": [
    "test_3 = A('lee', '900101')\n",
    "test_3.view_info()\n",
    "# B 클래스에서 view_info()를 다시 작성하였더라도, A 클래스의 view_info()는 바뀌지 않음 "
   ]
  },
  {
   "cell_type": "markdown",
   "id": "70cb87b9",
   "metadata": {},
   "source": [
    "### <User, Wallet 클래스 선언>\n",
    "- 첫 번째 class : 유저의 정보를 저장하는 클래스\n",
    "    - 이름은 User\n",
    "    - 유저의 정보를 저장, 해당 정보를 출력\n",
    "    - 매개변수 3개\n",
    "        - 유저의 이름 (name)\n",
    "        - 유저의 생년월일 (birth)\n",
    "        - 유저의 거주지역 (addr)\n",
    "    - 함수 : 유저의 정보를 출력하는 함수\n",
    "        - print()를 이용해 유저의 정보 출력 \n",
    "- 두 번째 class : 지갑 클래스\n",
    "    - 이름은 Wallet\n",
    "        - 매개변수 4개\n",
    "            - 유저의 이름 (name)\n",
    "            - 유저의 생년월일 (birth)\n",
    "            - 유저의 거주지역 (addr)\n",
    "            - 지갑의 잔액 (balance)\n",
    "        - 생성자 함수\n",
    "            - 부모 클래스의 생성자 함수 호출\n",
    "            - self 변수 (item_list) 생성하여 빈 리스트 대입\n",
    "                - 물건 구매 성공 시 구매 목록 출력\n",
    "        - work() 함수 생성 => 일하면 잔액이 증가\n",
    "            - 매개변수 1개 : type\n",
    "                - type이 'serving'이라면 -> 현재 지갑의 잔액(balance) 50000 증가\n",
    "                - type이 'teaching'이라면 -> 100000원 증가\n",
    "                - type이 'hard_work'이라면 -> 150000원 증가\n",
    "                - 이외의 경우에는 'type이 잘못되었습니다' 출력\n",
    "        - buy() 함수 생성 => 구매하면 잔액 차감\n",
    "            - 매개변수 1개 : item_name\n",
    "                - item_name이 '맥스튜디오'라면 -> 800000원 차감\n",
    "                - item_name이 '디카'라면 -> 1500000원 차감\n",
    "                - item_name이 '스탠마이미'라면 -> 1000000원 차감\n",
    "                - 이외의 경우에는 'item_name이 잘못되었습니다' 출력\n",
    "                - 구매하려는 물건 가격이 현재 잔액보다 크다면 -> 구매 실패\n",
    "                - 아니라면 잔액은 차감하고 item_list에 해당 물건 추가\n",
    "        - 정보 출력하는 함수\n",
    "            - 유저 이름, 잔액, 구매 물건 목록 출력\n",
    "            "
   ]
  },
  {
   "cell_type": "code",
   "execution_count": 104,
   "id": "51066537",
   "metadata": {},
   "outputs": [],
   "source": [
    "# 부모 클래스 선언\n",
    "class User:\n",
    "    def __init__(self, _name, _bitrh, _addr):\n",
    "        self.name = _name\n",
    "        self.birth = _bitrh\n",
    "        self.addr = _addr\n",
    "    \n",
    "    def view_info(self):\n",
    "        print(f\"유저 이름은 {self.name}, 생년월일은 {self.birth}, 거주지역은 {self.addr}입니다.\")"
   ]
  },
  {
   "cell_type": "code",
   "execution_count": 260,
   "id": "d719b369",
   "metadata": {},
   "outputs": [],
   "source": [
    "       \n",
    "# 부모(User) 클래스를 상속받는 Wallet 클래스 선언\n",
    "class Wallet(User):\n",
    "    # 생성자 함수의 매개변수 4개\n",
    "    # 3개는 부모 클래스 생성자함수의 인자값\n",
    "    # 1개는 지갑의 잔액\n",
    "    def __init__(self, _name, _birth, _addr, _balance=0):\n",
    "        # User(부모) 클래스의 생성자 함수를 호출\n",
    "        # 부모클래스 -> super()\n",
    "        super().__init__(_name, _birth, _addr)\n",
    "        self.balance = _balance\n",
    "        self.item_list = []\n",
    "\n",
    "    # 지갑 잔액을 증가시키는 함수\n",
    "    def work(self, type):\n",
    "        if type == 'serving':\n",
    "            price = 50000\n",
    "        elif type == 'teaching':\n",
    "            price = 100000\n",
    "        elif type == 'hard_work':\n",
    "            price = 150000\n",
    "        else:\n",
    "            print(\"등록된 일의 종류가 아닙니다.\")\n",
    "            return \"Type Error\"\n",
    "        self.balance += price\n",
    "        print(f\"{type}일을 성공! 현재 잔액은 {self.balance}원\")\n",
    "\n",
    "    def buy(self, item_name):\n",
    "        if item_name == '맥스튜디오':\n",
    "            price = 8000000\n",
    "        elif item_name == '디카':\n",
    "            price = 1500000\n",
    "        elif item_name == '스탠바이미':\n",
    "            price = 1000000\n",
    "        else:\n",
    "            print('등록된 아이템이 아닙니다.')\n",
    "            return \"Item_name Error\"\n",
    "        # price와 self.balance 값 비교\n",
    "        # 구매 성공 조건 -> self.balance가 price보다 크거나 같다면\n",
    "        if self.balance >= price:\n",
    "            # 지갑 잔액을 price만큼 차감\n",
    "            self.balance -= price\n",
    "            # item_list에 item_name 값 추가\n",
    "            self.item_list.append(item_name)\n",
    "            # 구매 성공 메시지 출력\n",
    "            print(f\"{item_name} 물건 구매 성공! 현재 잔액은 {self.balance}원 입니다.\")\n",
    "        else:\n",
    "            print(f'{item_name} 물건 구매 실패. 부족한 금액은 {price - self.balance}입니다.')\n",
    "    \n",
    "    def user_info(self):\n",
    "        print(f'''유저 이름은 {self.name}\n",
    "              잔액은 {self.balance}\n",
    "              구매 물건은 {self.item_list}입니다.''')\n",
    "\n",
    "        "
   ]
  },
  {
   "cell_type": "code",
   "execution_count": 261,
   "id": "c1c0ff87",
   "metadata": {},
   "outputs": [],
   "source": [
    "wallet1 = Wallet('kim', '000101', 'seoul')\n",
    "wallet2 = Wallet('park', '050101', 'busan', 100000)"
   ]
  },
  {
   "cell_type": "code",
   "execution_count": 262,
   "id": "d91299df",
   "metadata": {},
   "outputs": [
    {
     "name": "stdout",
     "output_type": "stream",
     "text": [
      "serving일을 성공! 현재 잔액은 50000원\n"
     ]
    }
   ],
   "source": [
    "# wallet1 일을 합니다.\n",
    "wallet1.work('serving')"
   ]
  },
  {
   "cell_type": "code",
   "execution_count": 263,
   "id": "61ad7c28",
   "metadata": {},
   "outputs": [
    {
     "name": "stdout",
     "output_type": "stream",
     "text": [
      "teaching일을 성공! 현재 잔액은 150000원\n"
     ]
    }
   ],
   "source": [
    "wallet1.work('teaching')"
   ]
  },
  {
   "cell_type": "code",
   "execution_count": 264,
   "id": "013b5ee2",
   "metadata": {},
   "outputs": [
    {
     "name": "stdout",
     "output_type": "stream",
     "text": [
      "hard_work일을 성공! 현재 잔액은 250000원\n",
      "hard_work일을 성공! 현재 잔액은 400000원\n",
      "hard_work일을 성공! 현재 잔액은 550000원\n",
      "hard_work일을 성공! 현재 잔액은 700000원\n",
      "hard_work일을 성공! 현재 잔액은 850000원\n",
      "hard_work일을 성공! 현재 잔액은 1000000원\n",
      "hard_work일을 성공! 현재 잔액은 1150000원\n",
      "hard_work일을 성공! 현재 잔액은 1300000원\n",
      "hard_work일을 성공! 현재 잔액은 1450000원\n",
      "hard_work일을 성공! 현재 잔액은 1600000원\n",
      "hard_work일을 성공! 현재 잔액은 1750000원\n",
      "hard_work일을 성공! 현재 잔액은 1900000원\n",
      "hard_work일을 성공! 현재 잔액은 2050000원\n"
     ]
    }
   ],
   "source": [
    "for i in range(13):\n",
    "    wallet2.work('hard_work')"
   ]
  },
  {
   "cell_type": "code",
   "execution_count": 265,
   "id": "b4be2239",
   "metadata": {},
   "outputs": [
    {
     "name": "stdout",
     "output_type": "stream",
     "text": [
      "등록된 일의 종류가 아닙니다.\n"
     ]
    },
    {
     "data": {
      "text/plain": [
       "'Type Error'"
      ]
     },
     "execution_count": 265,
     "metadata": {},
     "output_type": "execute_result"
    }
   ],
   "source": [
    "wallet2.work('alba')"
   ]
  },
  {
   "cell_type": "code",
   "execution_count": 266,
   "id": "bcf1fda7",
   "metadata": {},
   "outputs": [
    {
     "name": "stdout",
     "output_type": "stream",
     "text": [
      "맥스튜디오 물건 구매 실패. 부족한 금액은 5950000입니다.\n"
     ]
    }
   ],
   "source": [
    "wallet2.buy('맥스튜디오')"
   ]
  },
  {
   "cell_type": "code",
   "execution_count": 267,
   "id": "cc81267f",
   "metadata": {},
   "outputs": [
    {
     "name": "stdout",
     "output_type": "stream",
     "text": [
      "디카 물건 구매 성공! 현재 잔액은 550000원 입니다.\n"
     ]
    }
   ],
   "source": [
    "wallet2.buy('디카')"
   ]
  },
  {
   "cell_type": "code",
   "execution_count": 268,
   "id": "17d583da",
   "metadata": {},
   "outputs": [
    {
     "name": "stdout",
     "output_type": "stream",
     "text": [
      "스탠바이미 물건 구매 실패. 부족한 금액은 450000입니다.\n"
     ]
    }
   ],
   "source": [
    "wallet2.buy('스탠바이미')"
   ]
  },
  {
   "cell_type": "code",
   "execution_count": 269,
   "id": "09c91784",
   "metadata": {},
   "outputs": [
    {
     "data": {
      "text/plain": [
       "['디카']"
      ]
     },
     "execution_count": 269,
     "metadata": {},
     "output_type": "execute_result"
    }
   ],
   "source": [
    "wallet2.item_list"
   ]
  },
  {
   "cell_type": "code",
   "execution_count": 270,
   "id": "f1694e5b",
   "metadata": {},
   "outputs": [
    {
     "name": "stdout",
     "output_type": "stream",
     "text": [
      "등록된 아이템이 아닙니다.\n"
     ]
    },
    {
     "data": {
      "text/plain": [
       "'Item_name Error'"
      ]
     },
     "execution_count": 270,
     "metadata": {},
     "output_type": "execute_result"
    }
   ],
   "source": [
    "wallet2.buy('노트북')"
   ]
  },
  {
   "cell_type": "code",
   "execution_count": 271,
   "id": "9bfd3ecd",
   "metadata": {},
   "outputs": [
    {
     "name": "stdout",
     "output_type": "stream",
     "text": [
      "유저 이름은 park\n",
      "              잔액은 550000\n",
      "              구매 물건은 ['디카']입니다.\n"
     ]
    }
   ],
   "source": [
    "wallet2.user_info()"
   ]
  },
  {
   "cell_type": "markdown",
   "id": "1525d42a",
   "metadata": {},
   "source": [
    "### <코드 수정>\n",
    "- 클래스 변수 생성\n",
    "    - type_names 리스트 : 일의 종류\n",
    "    - type_price 리스트 : 일했을 때 받는 금액\n",
    "    - item_info 딕셔너리 : 구매할 수 있는 물건 목록\n",
    "        - key : 물건 이름\n",
    "        - value : 물건 가격\n",
    "- try ~ except 코드로 작성\n",
    "    - try문 : 코드의 실행을 시도한다\n",
    "    - except문 : try문이 실패할 때 실행할 코드\n",
    "    > try문은 단독 사용 X 항상 except문과 함께 사용"
   ]
  },
  {
   "cell_type": "code",
   "execution_count": 419,
   "id": "95f96ae7",
   "metadata": {},
   "outputs": [],
   "source": [
    "       \n",
    "# 부모(User) 클래스를 상속받는 Wallet 클래스 선언\n",
    "class Wallet(User):\n",
    "\n",
    "    # 일의 종류를 리스트로 생성\n",
    "    type_names = ['serving', 'teaching', 'hard_work']           # 리스트로 만드는 이유: 수정 가능 (튜플은 수정X)\n",
    "    # 일에 따라 변화하는 금액의 값을 리스트로 생성\n",
    "    type_price = [50000, 100000, 150000]\n",
    "    # 구매하는 아이템 목록\n",
    "    item_info = {\n",
    "        '맥스튜디오' : 8000000,\n",
    "        '디카' : 1500000,\n",
    "        '스탠바이미' : 1000000\n",
    "    }\n",
    "\n",
    "    # 생성자 함수의 매개변수 4개\n",
    "    # 3개는 부모 클래스 생성자함수의 인자값\n",
    "    # 1개는 지갑의 잔액\n",
    "    def __init__(self, _name, _birth, _addr, _balance=0):\n",
    "        # User(부모) 클래스의 생성자 함수를 호출\n",
    "        # 부모클래스 -> super()\n",
    "        super().__init__(_name, _birth, _addr)\n",
    "        self.balance = _balance\n",
    "        self.item_list = []\n",
    "\n",
    "    # 지갑 잔액을 증가시키는 함수\n",
    "    def work(self, type):\n",
    "        if type in Wallet.type_names:\n",
    "            # idx : type이 Wallet.type_names에서 몇 번째에 위치하는가?\n",
    "            idx = Wallet.type_names.index(type)\n",
    "            price = Wallet.type_price[idx]\n",
    "        else:\n",
    "            print('등록되지 않은 일 입니다.')\n",
    "            return 'Type Error'\n",
    "        self.balance += price\n",
    "        print(f\"{type}일을 성공! 현재 잔액은 {self.balance}원\")\n",
    "\n",
    "    def buy(self, item_name):\n",
    "        try: \n",
    "            # 코드의 실행을 시도한다.\n",
    "            price = Wallet.item_info[item_name]\n",
    "        except:\n",
    "            # try 구문 안에 있는 코드를 실행하고 예외(에러) 발생 시 실행되는 코드\n",
    "            print('등록되지 않은 아이템 이름입니다.')\n",
    "            return \"Item_name Error\"\n",
    "        \n",
    "        # price와 self.balance 값 비교\n",
    "        # 구매 성공 조건 -> self.balance가 price보다 크거나 같다면\n",
    "        if self.balance >= price:\n",
    "            # 지갑 잔액을 price만큼 차감\n",
    "            self.balance -= price\n",
    "            # item_list에 item_name 값 추가\n",
    "            self.item_list.append(item_name)\n",
    "            # 구매 성공 메시지 출력\n",
    "            print(f\"{item_name} 물건 구매 성공! 현재 잔액은 {self.balance}원 입니다.\")\n",
    "        else:\n",
    "            print(f'{item_name} 물건 구매 실패😭 부족한 금액은 {price - self.balance}입니다.')\n",
    "    \n",
    "    def user_info(self):\n",
    "        print(f'''유저 이름은 {self.name}\n",
    "              잔액은 {self.balance}\n",
    "              구매 물건은 {self.item_list}입니다.''')\n",
    "        \n",
    "    # 일의 타입과 금액, 아이템 이름과 금액을 추가하는 함수 생성\n",
    "    # 매개변수 3개\n",
    "    def append(self, cate, name, price):\n",
    "        # cate가 'work'라면\n",
    "        if cate == 'work':\n",
    "            # type_names에 name이 포함되지 않는 경우\n",
    "            if name not in Wallet.type_names:\n",
    "                # type_names, type_price에 name과 price 추가\n",
    "                Wallet.type_names.append(name)\n",
    "                Wallet.type_price.append(price)\n",
    "            else:\n",
    "                print('이미 존재하는 일 입니다.')\n",
    "                return 'Work Type Append Error'\n",
    "        # cate가 'item'이라면\n",
    "        elif cate == 'item':\n",
    "            # item_info의 값들 중 key에 name이 존재하지 않는다면\n",
    "            if name not in Wallet.item_info.keys():\n",
    "                # item_info에 name : price 추가\n",
    "                Wallet.item_info[name] = price\n",
    "            else:\n",
    "                print('이미 존재하는 아이템 이름입니다.')\n",
    "                return 'Item Append Error'\n",
    "        else:\n",
    "            print('카테고리를 올바르게 입력하세요(work/item)')\n",
    "            return 'Category Error'\n"
   ]
  },
  {
   "cell_type": "code",
   "execution_count": 420,
   "id": "4ce0ce46",
   "metadata": {},
   "outputs": [],
   "source": [
    "wallet1 = Wallet('kim', '000101', 'seoul')\n",
    "wallet2 = Wallet('park', '050101', 'busan', 100000)"
   ]
  },
  {
   "cell_type": "code",
   "execution_count": 421,
   "id": "f4bec1e7",
   "metadata": {},
   "outputs": [
    {
     "name": "stdout",
     "output_type": "stream",
     "text": [
      "serving일을 성공! 현재 잔액은 50000원\n"
     ]
    }
   ],
   "source": [
    "wallet1.work('serving')"
   ]
  },
  {
   "cell_type": "code",
   "execution_count": 422,
   "id": "eac633a1",
   "metadata": {},
   "outputs": [
    {
     "name": "stdout",
     "output_type": "stream",
     "text": [
      "hard_work일을 성공! 현재 잔액은 200000원\n"
     ]
    }
   ],
   "source": [
    "wallet1.work('hard_work')"
   ]
  },
  {
   "cell_type": "code",
   "execution_count": 423,
   "id": "166b2023",
   "metadata": {},
   "outputs": [
    {
     "name": "stdout",
     "output_type": "stream",
     "text": [
      "등록되지 않은 일 입니다.\n"
     ]
    },
    {
     "data": {
      "text/plain": [
       "'Type Error'"
      ]
     },
     "execution_count": 423,
     "metadata": {},
     "output_type": "execute_result"
    }
   ],
   "source": [
    "wallet1.work('alba')"
   ]
  },
  {
   "cell_type": "code",
   "execution_count": 424,
   "id": "91b7f7eb",
   "metadata": {},
   "outputs": [],
   "source": [
    "# wallet2의 type_names에 alba 추가\n",
    "# wallet2의 type_price에 30000 추가\n",
    "wallet2.type_names.append('alba')\n",
    "wallet2.type_price.append(30000)"
   ]
  },
  {
   "cell_type": "code",
   "execution_count": 425,
   "id": "3d1fc099",
   "metadata": {},
   "outputs": [
    {
     "data": {
      "text/plain": [
       "['serving', 'teaching', 'hard_work', 'alba']"
      ]
     },
     "execution_count": 425,
     "metadata": {},
     "output_type": "execute_result"
    }
   ],
   "source": [
    "wallet2.type_names"
   ]
  },
  {
   "cell_type": "code",
   "execution_count": 426,
   "id": "5259793f",
   "metadata": {},
   "outputs": [
    {
     "data": {
      "text/plain": [
       "['serving', 'teaching', 'hard_work', 'alba']"
      ]
     },
     "execution_count": 426,
     "metadata": {},
     "output_type": "execute_result"
    }
   ],
   "source": [
    "# wallet2의 type_names와 type_price에 추가한 일의 종류, 수당은 Wallet이라는 클래스 변수에 추가\n",
    "# wallet1에서 확인해도 동일하게 추가됨\n",
    "wallet1.type_names"
   ]
  },
  {
   "cell_type": "code",
   "execution_count": 427,
   "id": "c160aa58",
   "metadata": {},
   "outputs": [],
   "source": [
    "# Wallet.type_names"
   ]
  },
  {
   "cell_type": "code",
   "execution_count": 428,
   "id": "538700ad",
   "metadata": {},
   "outputs": [
    {
     "name": "stdout",
     "output_type": "stream",
     "text": [
      "alba일을 성공! 현재 잔액은 230000원\n"
     ]
    }
   ],
   "source": [
    "wallet1.work('alba')"
   ]
  },
  {
   "cell_type": "code",
   "execution_count": 429,
   "id": "215623fe",
   "metadata": {},
   "outputs": [
    {
     "name": "stdout",
     "output_type": "stream",
     "text": [
      "맥스튜디오 물건 구매 실패😭 부족한 금액은 7770000입니다.\n"
     ]
    }
   ],
   "source": [
    "wallet1.buy('맥스튜디오')"
   ]
  },
  {
   "cell_type": "code",
   "execution_count": 430,
   "id": "4466487e",
   "metadata": {},
   "outputs": [
    {
     "name": "stdout",
     "output_type": "stream",
     "text": [
      "스탠바이미 물건 구매 실패😭 부족한 금액은 770000입니다.\n"
     ]
    }
   ],
   "source": [
    "wallet1.buy('스탠바이미')"
   ]
  },
  {
   "cell_type": "code",
   "execution_count": 431,
   "id": "a413f8cb",
   "metadata": {},
   "outputs": [
    {
     "name": "stdout",
     "output_type": "stream",
     "text": [
      "등록되지 않은 아이템 이름입니다.\n"
     ]
    },
    {
     "data": {
      "text/plain": [
       "'Item_name Error'"
      ]
     },
     "execution_count": 431,
     "metadata": {},
     "output_type": "execute_result"
    }
   ],
   "source": [
    "wallet1.buy('노트북')"
   ]
  },
  {
   "cell_type": "code",
   "execution_count": 432,
   "id": "d90b63de",
   "metadata": {},
   "outputs": [],
   "source": [
    "# Wallet class 안에 있는 item_info에 데이터 추가\n",
    "wallet2.item_info['노트북'] = 500000"
   ]
  },
  {
   "cell_type": "code",
   "execution_count": 433,
   "id": "e9a1b376",
   "metadata": {},
   "outputs": [
    {
     "data": {
      "text/plain": [
       "{'맥스튜디오': 8000000, '디카': 1500000, '스탠바이미': 1000000, '노트북': 500000}"
      ]
     },
     "execution_count": 433,
     "metadata": {},
     "output_type": "execute_result"
    }
   ],
   "source": [
    "Wallet.item_info"
   ]
  },
  {
   "cell_type": "code",
   "execution_count": 434,
   "id": "fa20a0b0",
   "metadata": {},
   "outputs": [
    {
     "name": "stdout",
     "output_type": "stream",
     "text": [
      "노트북 물건 구매 실패😭 부족한 금액은 270000입니다.\n"
     ]
    }
   ],
   "source": [
    "wallet1.buy('노트북')"
   ]
  },
  {
   "cell_type": "code",
   "execution_count": 435,
   "id": "9b046ed1",
   "metadata": {},
   "outputs": [],
   "source": [
    "wallet1.append('work', 'youtube', 1000000)"
   ]
  },
  {
   "cell_type": "code",
   "execution_count": 436,
   "id": "4a0b6199",
   "metadata": {},
   "outputs": [
    {
     "data": {
      "text/plain": [
       "['serving', 'teaching', 'hard_work', 'alba', 'youtube']"
      ]
     },
     "execution_count": 436,
     "metadata": {},
     "output_type": "execute_result"
    }
   ],
   "source": [
    "Wallet.type_names"
   ]
  },
  {
   "cell_type": "code",
   "execution_count": 437,
   "id": "13deb4f0",
   "metadata": {},
   "outputs": [
    {
     "name": "stdout",
     "output_type": "stream",
     "text": [
      "이미 존재하는 일 입니다.\n"
     ]
    },
    {
     "data": {
      "text/plain": [
       "'Work Type Append Error'"
      ]
     },
     "execution_count": 437,
     "metadata": {},
     "output_type": "execute_result"
    }
   ],
   "source": [
    "wallet1.append('work', 'youtube', 500000)"
   ]
  },
  {
   "cell_type": "code",
   "execution_count": 438,
   "id": "f729151b",
   "metadata": {},
   "outputs": [],
   "source": [
    "wallet2.append('item', 'tv', 1200000)"
   ]
  },
  {
   "cell_type": "code",
   "execution_count": 439,
   "id": "ab646c5a",
   "metadata": {},
   "outputs": [
    {
     "data": {
      "text/plain": [
       "{'맥스튜디오': 8000000,\n",
       " '디카': 1500000,\n",
       " '스탠바이미': 1000000,\n",
       " '노트북': 500000,\n",
       " 'tv': 1200000}"
      ]
     },
     "execution_count": 439,
     "metadata": {},
     "output_type": "execute_result"
    }
   ],
   "source": [
    "wallet2.item_info"
   ]
  },
  {
   "cell_type": "code",
   "execution_count": 440,
   "id": "bbd1de9e",
   "metadata": {},
   "outputs": [
    {
     "name": "stdout",
     "output_type": "stream",
     "text": [
      "이미 존재하는 아이템 이름입니다.\n"
     ]
    },
    {
     "data": {
      "text/plain": [
       "'Item Append Error'"
      ]
     },
     "execution_count": 440,
     "metadata": {},
     "output_type": "execute_result"
    }
   ],
   "source": [
    "wallet2.append('item', '노트북', 50000)"
   ]
  },
  {
   "cell_type": "code",
   "execution_count": 448,
   "id": "7ec6015d",
   "metadata": {},
   "outputs": [
    {
     "name": "stdout",
     "output_type": "stream",
     "text": [
      "이미 존재하는 일 입니다.\n"
     ]
    },
    {
     "data": {
      "text/plain": [
       "'Work Type Append Error'"
      ]
     },
     "execution_count": 448,
     "metadata": {},
     "output_type": "execute_result"
    }
   ],
   "source": [
    "wallet1.append('work', 'youtube', 800000)"
   ]
  },
  {
   "cell_type": "code",
   "execution_count": 449,
   "id": "1d84ca5d",
   "metadata": {},
   "outputs": [
    {
     "data": {
      "text/plain": [
       "['serving', 'teaching', 'hard_work', 'alba', 'youtube']"
      ]
     },
     "execution_count": 449,
     "metadata": {},
     "output_type": "execute_result"
    }
   ],
   "source": [
    "wallet1.type_names"
   ]
  },
  {
   "cell_type": "code",
   "execution_count": 450,
   "id": "d61e9fa0",
   "metadata": {},
   "outputs": [
    {
     "name": "stdout",
     "output_type": "stream",
     "text": [
      "alba일을 성공! 현재 잔액은 1320000원\n"
     ]
    }
   ],
   "source": [
    "wallet1.work('alba')"
   ]
  },
  {
   "cell_type": "code",
   "execution_count": 451,
   "id": "d0f0bcd7",
   "metadata": {},
   "outputs": [
    {
     "name": "stdout",
     "output_type": "stream",
     "text": [
      "alba일을 성공! 현재 잔액은 1350000원\n"
     ]
    }
   ],
   "source": [
    "wallet1.work('alba')"
   ]
  },
  {
   "cell_type": "code",
   "execution_count": 452,
   "id": "00f06900",
   "metadata": {},
   "outputs": [
    {
     "name": "stdout",
     "output_type": "stream",
     "text": [
      "youtube일을 성공! 현재 잔액은 2350000원\n"
     ]
    }
   ],
   "source": [
    "wallet1.work('youtube')"
   ]
  },
  {
   "cell_type": "code",
   "execution_count": 453,
   "id": "bde85f60",
   "metadata": {},
   "outputs": [
    {
     "data": {
      "text/plain": [
       "[50000, 100000, 150000, 30000, 1000000]"
      ]
     },
     "execution_count": 453,
     "metadata": {},
     "output_type": "execute_result"
    }
   ],
   "source": [
    "Wallet.type_price"
   ]
  },
  {
   "cell_type": "code",
   "execution_count": 455,
   "id": "9b8de3ff",
   "metadata": {},
   "outputs": [],
   "source": [
    "work_type = {}\n",
    "\n",
    "for i in range(len(Wallet.type_names)):\n",
    "    work_type[Wallet.type_names[i]] = Wallet.type_price[i]"
   ]
  },
  {
   "cell_type": "code",
   "execution_count": 456,
   "id": "b76c5bb8",
   "metadata": {},
   "outputs": [
    {
     "name": "stdout",
     "output_type": "stream",
     "text": [
      "{'serving': 50000, 'teaching': 100000, 'hard_work': 150000, 'alba': 30000, 'youtube': 1000000}\n"
     ]
    }
   ],
   "source": [
    "print(work_type)"
   ]
  },
  {
   "cell_type": "code",
   "execution_count": null,
   "id": "8903cf02",
   "metadata": {},
   "outputs": [],
   "source": []
  }
 ],
 "metadata": {
  "kernelspec": {
   "display_name": "Python 3",
   "language": "python",
   "name": "python3"
  },
  "language_info": {
   "codemirror_mode": {
    "name": "ipython",
    "version": 3
   },
   "file_extension": ".py",
   "mimetype": "text/x-python",
   "name": "python",
   "nbconvert_exporter": "python",
   "pygments_lexer": "ipython3",
   "version": "3.9.13"
  }
 },
 "nbformat": 4,
 "nbformat_minor": 5
}
