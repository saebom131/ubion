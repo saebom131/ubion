{
 "cells": [
  {
   "cell_type": "markdown",
   "id": "939664cf",
   "metadata": {},
   "source": [
    "### <class 선언>\n",
    "- 첫 번째 class : 유저의 정보를 저장하는 클래스\n",
    "    - 이름은 User\n",
    "    - 유저의 정보를 저장, 해당 정보를 출력\n",
    "    - 매개변수 3개\n",
    "        - 유저의 이름 (name)\n",
    "        - 유저의 생년월일 (birth)\n",
    "        - 유저의 거주지역 (addr)\n",
    "    - 함수 : 유저의 정보를 출력하는 함수\n",
    "        - print()를 이용해 유저의 정보 출력 \n",
    "- 두 번째 class : 지갑 클래스\n",
    "    - 이름은 Wallet\n",
    "        - 매개변수 4개\n",
    "            - 유저의 이름 (name)\n",
    "            - 유저의 생년월일 (birth)\n",
    "            - 유저의 거주지역 (addr)\n",
    "            - 지갑의 잔액 (balance)\n",
    "        - 생성자 함수\n",
    "            - 부모 클래스의 생성자 함수 호출\n",
    "            - self 변수 (item_list) 생성하여 빈 리스트 대입\n",
    "                - 물건 구매 성공 시 구매 목록 출력\n",
    "        - work() 함수 생성 => 일하면 잔액이 증가\n",
    "            - 매개변수 1개 : type\n",
    "                - type이 'serving'이라면 -> 현재 지갑의 잔액(balance) 50000 증가\n",
    "                - type이 'teaching'이라면 -> 100000원 증가\n",
    "                - type이 'hard_work'이라면 -> 150000원 증가\n",
    "                - 이외의 경우에는 'type이 잘못되었습니다' 출력\n",
    "        - buy() 함수 생성 => 구매하면 잔액 차감\n",
    "            - 매개변수 1개 : item_name\n",
    "                - item_name이 '맥스튜디오'라면 -> 800000원 차감\n",
    "                - item_name이 '디카'라면 -> 1500000원 차감\n",
    "                - item_name이 '스탠마이미'라면 -> 1000000원 차감\n",
    "                - 이외의 경우에는 'item_name이 잘못되었습니다' 출력\n",
    "                - 구매하려는 물건 가격이 현재 잔액보다 크다면 -> 구매 실패\n",
    "                - 아니라면 잔액은 차감하고 item_list에 해당 물건 추가\n",
    "        - 정보 출력하는 함수\n",
    "            - 유저 이름, 잔액, 구매 물건 목록 출력\n",
    "            "
   ]
  },
  {
   "cell_type": "code",
   "execution_count": 164,
   "id": "5e8e6a00",
   "metadata": {},
   "outputs": [],
   "source": [
    "# 부모 클래스 선언\n",
    "class User:\n",
    "    def __init__(self, _name, _bitrh, _addr):\n",
    "        self.name = _name\n",
    "        self.birth = _bitrh\n",
    "        self.addr = _addr\n",
    "    \n",
    "    def view_info(self):\n",
    "        print(f\"유저 이름은 {self.name}, 생년월일은 {self.birth}, 거주지역은 {self.addr}입니다.\")\n",
    "        \n",
    "# 부모(User) 클래스를 상속받는 Wallet 클래스 선언\n",
    "class Wallet(User):\n",
    "    def __init__(self, _name, _birth, _addr, _balance):\n",
    "        # User 클래스의 생성자 함수를 호출\n",
    "        # 부모클래스 -> super()\n",
    "        super().__init__(_name, _birth, _addr)\n",
    "        self.balance = _balance\n",
    "        self.item_list = []\n",
    "\n",
    "    def work(self, _type):\n",
    "        if _type == 'serving':\n",
    "            self.balance += 50000\n",
    "        elif _type == 'teaching':\n",
    "            self.balance += 100000\n",
    "        elif _type == 'hard_work':\n",
    "            self.balance += 150000\n",
    "        else:\n",
    "            print(\"일의 종류가 잘못되었습니다.\")\n",
    "            return 'type error'\n",
    "        print(f\"{_type} 일을 성공! 잔액은 {self.balance}원 입니다.\")\n",
    "\n",
    "    def buy(self, item_name):\n",
    "        if item_name == '맥스튜디오':\n",
    "            if self.balance > 800000:\n",
    "                self.balance -= 800000\n",
    "                self.item_list.append(item_name)\n",
    "                print(f'{item_name} 구매 성공! 잔액은 {self.balance}원')\n",
    "            else:\n",
    "                print('잔액이 부족합니다.')\n",
    "        elif item_name == '디카':\n",
    "            if self.balance > 1500000:\n",
    "                self.balance -= 1500000\n",
    "                self.item_list.append(item_name)\n",
    "                print(f'{item_name} 구매 성공! 잔액은 {self.balance}원')\n",
    "            else:\n",
    "                print('잔액이 부족합니다.')\n",
    "        elif item_name == '스탠바이미':\n",
    "            if self.balance > 1000000:\n",
    "                self.balance -= 1000000\n",
    "                self.item_list.append(item_name)\n",
    "                print(f'{item_name} 구매 성공! 잔액은 {self.balance}원')\n",
    "            else:\n",
    "                print('잔액이 부족합니다.')\n",
    "        else:\n",
    "            print('물건의 이름이 잘못되었습니다.')\n",
    "            return 'type error'\n",
    "\n",
    "    def user_info(self):\n",
    "        print(f'''이름은 {self.name}\n",
    "              생년월일은 {self.birth}\n",
    "              잔액은 {self.balance}\n",
    "              구매 물건은 {self.item_list}입니다.''')"
   ]
  },
  {
   "cell_type": "code",
   "execution_count": 165,
   "id": "a0636665",
   "metadata": {},
   "outputs": [],
   "source": [
    "test_1 = Wallet('kim', '010131', 'seoul', 500000)"
   ]
  },
  {
   "cell_type": "code",
   "execution_count": 166,
   "id": "a6a3b7d5",
   "metadata": {},
   "outputs": [
    {
     "name": "stdout",
     "output_type": "stream",
     "text": [
      "유저 이름은 kim, 생년월일은 010131, 거주지역은 seoul입니다.\n"
     ]
    }
   ],
   "source": [
    "test_1.view_info()"
   ]
  },
  {
   "cell_type": "code",
   "execution_count": 167,
   "id": "bc052474",
   "metadata": {},
   "outputs": [
    {
     "name": "stdout",
     "output_type": "stream",
     "text": [
      "serving 일을 성공! 잔액은 550000원 입니다.\n"
     ]
    }
   ],
   "source": [
    "test_1.work('serving')"
   ]
  },
  {
   "cell_type": "code",
   "execution_count": 168,
   "id": "8fd4e652",
   "metadata": {},
   "outputs": [
    {
     "name": "stdout",
     "output_type": "stream",
     "text": [
      "hard_work 일을 성공! 잔액은 700000원 입니다.\n"
     ]
    }
   ],
   "source": [
    "test_1.work('hard_work')"
   ]
  },
  {
   "cell_type": "code",
   "execution_count": 169,
   "id": "7b2ca6e9",
   "metadata": {},
   "outputs": [
    {
     "name": "stdout",
     "output_type": "stream",
     "text": [
      "hard_work 일을 성공! 잔액은 850000원 입니다.\n"
     ]
    }
   ],
   "source": [
    "test_1.work('hard_work')"
   ]
  },
  {
   "cell_type": "code",
   "execution_count": 170,
   "id": "dd4b6996",
   "metadata": {},
   "outputs": [
    {
     "name": "stdout",
     "output_type": "stream",
     "text": [
      "일의 종류가 잘못되었습니다.\n"
     ]
    },
    {
     "data": {
      "text/plain": [
       "'type error'"
      ]
     },
     "execution_count": 170,
     "metadata": {},
     "output_type": "execute_result"
    }
   ],
   "source": [
    "test_1.work('alba')"
   ]
  },
  {
   "cell_type": "code",
   "execution_count": 171,
   "id": "ed2cea58",
   "metadata": {},
   "outputs": [
    {
     "name": "stdout",
     "output_type": "stream",
     "text": [
      "잔액이 부족합니다.\n"
     ]
    }
   ],
   "source": [
    "test_1.buy('디카')"
   ]
  },
  {
   "cell_type": "code",
   "execution_count": 172,
   "id": "b607ad4d",
   "metadata": {},
   "outputs": [
    {
     "name": "stdout",
     "output_type": "stream",
     "text": [
      "맥스튜디오 구매 성공! 잔액은 50000원\n"
     ]
    }
   ],
   "source": [
    "test_1.buy('맥스튜디오')"
   ]
  },
  {
   "cell_type": "code",
   "execution_count": 173,
   "id": "d93908fa",
   "metadata": {},
   "outputs": [
    {
     "name": "stdout",
     "output_type": "stream",
     "text": [
      "hard_work 일을 성공! 잔액은 200000원 입니다.\n",
      "hard_work 일을 성공! 잔액은 350000원 입니다.\n",
      "hard_work 일을 성공! 잔액은 500000원 입니다.\n",
      "hard_work 일을 성공! 잔액은 650000원 입니다.\n",
      "hard_work 일을 성공! 잔액은 800000원 입니다.\n",
      "hard_work 일을 성공! 잔액은 950000원 입니다.\n",
      "hard_work 일을 성공! 잔액은 1100000원 입니다.\n",
      "hard_work 일을 성공! 잔액은 1250000원 입니다.\n",
      "hard_work 일을 성공! 잔액은 1400000원 입니다.\n",
      "hard_work 일을 성공! 잔액은 1550000원 입니다.\n"
     ]
    }
   ],
   "source": [
    "for i in range(10):\n",
    "    test_1.work('hard_work')"
   ]
  },
  {
   "cell_type": "code",
   "execution_count": 174,
   "id": "6b9806b6",
   "metadata": {},
   "outputs": [
    {
     "name": "stdout",
     "output_type": "stream",
     "text": [
      "스탠바이미 구매 성공! 잔액은 550000원\n"
     ]
    }
   ],
   "source": [
    "test_1.buy('스탠바이미')"
   ]
  },
  {
   "cell_type": "code",
   "execution_count": 175,
   "id": "34ae4b26",
   "metadata": {},
   "outputs": [
    {
     "data": {
      "text/plain": [
       "['맥스튜디오', '스탠바이미']"
      ]
     },
     "execution_count": 175,
     "metadata": {},
     "output_type": "execute_result"
    }
   ],
   "source": [
    "test_1.item_list"
   ]
  },
  {
   "cell_type": "code",
   "execution_count": 176,
   "id": "37998fe7",
   "metadata": {},
   "outputs": [
    {
     "name": "stdout",
     "output_type": "stream",
     "text": [
      "이름은 kim\n",
      "              생년월일은 010131\n",
      "              잔액은 550000\n",
      "              구매 물건은 ['맥스튜디오', '스탠바이미']입니다.\n"
     ]
    }
   ],
   "source": [
    "test_1.user_info()"
   ]
  },
  {
   "cell_type": "code",
   "execution_count": null,
   "id": "a11a8df8",
   "metadata": {},
   "outputs": [],
   "source": []
  }
 ],
 "metadata": {
  "kernelspec": {
   "display_name": "Python 3",
   "language": "python",
   "name": "python3"
  },
  "language_info": {
   "codemirror_mode": {
    "name": "ipython",
    "version": 3
   },
   "file_extension": ".py",
   "mimetype": "text/x-python",
   "name": "python",
   "nbconvert_exporter": "python",
   "pygments_lexer": "ipython3",
   "version": "3.9.13"
  }
 },
 "nbformat": 4,
 "nbformat_minor": 5
}
