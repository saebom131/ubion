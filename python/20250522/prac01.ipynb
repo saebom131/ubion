{
 "cells": [
  {
   "cell_type": "code",
   "execution_count": 2,
   "id": "2b987a98",
   "metadata": {},
   "outputs": [],
   "source": [
    "x=10\n",
    "def case1(_val):\n",
    "    result = x+_val\n",
    "    return result"
   ]
  },
  {
   "cell_type": "code",
   "execution_count": 3,
   "id": "84a23f46",
   "metadata": {},
   "outputs": [
    {
     "name": "stdout",
     "output_type": "stream",
     "text": [
      "15\n",
      "10\n"
     ]
    }
   ],
   "source": [
    "print(case1(5))\n",
    "print(x)"
   ]
  },
  {
   "cell_type": "code",
   "execution_count": 5,
   "id": "5bd7e364",
   "metadata": {},
   "outputs": [
    {
     "data": {
      "text/plain": [
       "10"
      ]
     },
     "execution_count": 5,
     "metadata": {},
     "output_type": "execute_result"
    }
   ],
   "source": [
    "x"
   ]
  },
  {
   "cell_type": "code",
   "execution_count": 6,
   "id": "eaef2900",
   "metadata": {},
   "outputs": [],
   "source": [
    "x = 10\n",
    "def case2(_val):\n",
    "    globals()['x'] = x + _val\n",
    "case2(5)"
   ]
  },
  {
   "cell_type": "code",
   "execution_count": 7,
   "id": "94a2b578",
   "metadata": {},
   "outputs": [
    {
     "data": {
      "text/plain": [
       "15"
      ]
     },
     "execution_count": 7,
     "metadata": {},
     "output_type": "execute_result"
    }
   ],
   "source": [
    "x"
   ]
  },
  {
   "cell_type": "code",
   "execution_count": 8,
   "id": "a0f692f8",
   "metadata": {},
   "outputs": [],
   "source": [
    "x=10\n",
    "def case3(_val, inplace=False):\n",
    "    if inplace:\n",
    "        globals()['x'] = x + _val\n",
    "    else:\n",
    "        result = x + _val\n",
    "        return result\n",
    "    "
   ]
  },
  {
   "cell_type": "code",
   "execution_count": 9,
   "id": "90d9e931",
   "metadata": {},
   "outputs": [
    {
     "name": "stdout",
     "output_type": "stream",
     "text": [
      "15\n",
      "10\n",
      "None\n",
      "15\n"
     ]
    }
   ],
   "source": [
    "print(case3(5))\n",
    "print(x)\n",
    "print(case3(5, inplace=True))\n",
    "print(x)"
   ]
  },
  {
   "cell_type": "code",
   "execution_count": 10,
   "id": "f0bcd9a7",
   "metadata": {},
   "outputs": [],
   "source": [
    "class InplaceTest:\n",
    "    def __init__(self, _data):\n",
    "        self.data = _data\n",
    "    def add(self, _val, inplace = False):\n",
    "        if inplace:\n",
    "            self.data+= _val\n",
    "        else:\n",
    "            result = self.data + _val\n",
    "            return result\n",
    "        "
   ]
  },
  {
   "cell_type": "code",
   "execution_count": 11,
   "id": "09d9099c",
   "metadata": {},
   "outputs": [],
   "source": [
    "inplace_1 = InplaceTest(10)"
   ]
  },
  {
   "cell_type": "code",
   "execution_count": 12,
   "id": "ffd4b910",
   "metadata": {},
   "outputs": [
    {
     "name": "stdout",
     "output_type": "stream",
     "text": [
      "15\n"
     ]
    }
   ],
   "source": [
    "print(inplace_1.add(5))"
   ]
  },
  {
   "cell_type": "code",
   "execution_count": 13,
   "id": "b8c6bdf7",
   "metadata": {},
   "outputs": [],
   "source": [
    "inplace_1.data = inplace_1.add(5)"
   ]
  },
  {
   "cell_type": "code",
   "execution_count": 14,
   "id": "5052975b",
   "metadata": {},
   "outputs": [
    {
     "name": "stdout",
     "output_type": "stream",
     "text": [
      "15\n"
     ]
    }
   ],
   "source": [
    "print(inplace_1.data)"
   ]
  },
  {
   "cell_type": "code",
   "execution_count": 15,
   "id": "fdfc1c92",
   "metadata": {},
   "outputs": [],
   "source": [
    "inplace_1.add(5, inplace=True)"
   ]
  },
  {
   "cell_type": "code",
   "execution_count": 16,
   "id": "d0644fd5",
   "metadata": {},
   "outputs": [],
   "source": [
    "inplace_1.data = inplace_1.add(5, inplace=True)"
   ]
  },
  {
   "cell_type": "code",
   "execution_count": 17,
   "id": "04ed5bbf",
   "metadata": {},
   "outputs": [],
   "source": [
    "inplace_1.data"
   ]
  },
  {
   "cell_type": "code",
   "execution_count": 18,
   "id": "e33f3507",
   "metadata": {},
   "outputs": [],
   "source": [
    "class A:\n",
    "    def __init__(self, _name, _birth):\n",
    "        self.name = _name\n",
    "        self.birth = _birth\n",
    "    def view_info(self):\n",
    "        print(f'등록된 이름은 {self.name}, 생년월일은 {self.birth}입니다.')"
   ]
  },
  {
   "cell_type": "code",
   "execution_count": 19,
   "id": "aee46629",
   "metadata": {},
   "outputs": [],
   "source": [
    "test_1 = A('kim', '900227')"
   ]
  },
  {
   "cell_type": "code",
   "execution_count": 21,
   "id": "30e4bf43",
   "metadata": {},
   "outputs": [
    {
     "name": "stdout",
     "output_type": "stream",
     "text": [
      "등록된 이름은 kim, 생년월일은 900227입니다.\n"
     ]
    }
   ],
   "source": [
    "test_1.view_info()"
   ]
  },
  {
   "cell_type": "code",
   "execution_count": 25,
   "id": "bbd86e11",
   "metadata": {},
   "outputs": [],
   "source": [
    "class B(A):\n",
    "    def __init__(self, _name, _birth, _loc, _phone):\n",
    "        super().__init__(_name, _birth)\n",
    "        self.loc = _loc\n",
    "        self.phone = _phone\n",
    "    def user_info(self):\n",
    "        print(f'''이름은 {self.name},\n",
    "              생년월일은 {self.birth},\n",
    "              지역은 {self.loc},\n",
    "              휴대폰번호는 {self.phone}입니다.''')"
   ]
  },
  {
   "cell_type": "code",
   "execution_count": 26,
   "id": "e630a554",
   "metadata": {},
   "outputs": [],
   "source": [
    "test_2 = B('park', '010522', 'seoul', '01043523412')"
   ]
  },
  {
   "cell_type": "code",
   "execution_count": 27,
   "id": "93a1f981",
   "metadata": {},
   "outputs": [
    {
     "name": "stdout",
     "output_type": "stream",
     "text": [
      "등록된 이름은 park, 생년월일은 010522입니다.\n"
     ]
    }
   ],
   "source": [
    "test_2.view_info()"
   ]
  },
  {
   "cell_type": "code",
   "execution_count": 28,
   "id": "c4298ecc",
   "metadata": {},
   "outputs": [
    {
     "name": "stdout",
     "output_type": "stream",
     "text": [
      "이름은 park,\n",
      "              생년월일은 010522,\n",
      "              지역은 seoul,\n",
      "              휴대폰번호는 01043523412입니다.\n"
     ]
    }
   ],
   "source": [
    "test_2.user_info()"
   ]
  },
  {
   "cell_type": "code",
   "execution_count": 47,
   "id": "5070d993",
   "metadata": {},
   "outputs": [],
   "source": [
    "class User:\n",
    "    def __init__(self, _name, _birth, _addr):\n",
    "        self.name = _name\n",
    "        self.birth = _birth\n",
    "        self.addr = _addr\n",
    "    \n",
    "    def view_info(self):\n",
    "        print(f'유저 이름은 {self.name}, 생년월일은 {self.birth}, 주소는 {self.addr}입니다.')\n",
    "\n",
    "class Wallet(User):\n",
    "    def __init__(self, _name, _birth, _addr, _balance):\n",
    "        super().__init__(_name, _birth, _addr)\n",
    "        self.balance = _balance\n",
    "        self.item_list = []\n",
    "\n",
    "    def work(self, type):\n",
    "        if type=='serving':\n",
    "            price = 50000\n",
    "        elif type=='teaching':\n",
    "            price = 100000\n",
    "        elif type=='hard_work':\n",
    "            price = 150000\n",
    "        else:\n",
    "            print('잘못된 일의 종류입니다.')\n",
    "            return 'type error'\n",
    "        self.balance += price\n",
    "        print(f'{type} 일 성공, 현재 잔액은 {self.balance}원')\n",
    "    \n",
    "    def buy(self, item_name):\n",
    "        if item_name=='맥스튜디오':\n",
    "            price = 5000000\n",
    "        elif item_name=='디카':\n",
    "            price = 1500000\n",
    "        elif item_name=='스탠바이미':\n",
    "            price = 1000000\n",
    "        else:\n",
    "            print('잘못된 물건 이름')\n",
    "            return 'item_name error'\n",
    "        if self.balance >= price:\n",
    "            self.balance -= price\n",
    "            self.item_list.append(item_name)\n",
    "            print(f'{item_name} 물건 구매 성공, 잔액은 {self.balance}원')\n",
    "        else:\n",
    "            print(f'{item_name} 물건 구매 실패! 돈이 {price-self.balance}원 부족')\n",
    "    "
   ]
  },
  {
   "cell_type": "code",
   "execution_count": 48,
   "id": "ea8d78dc",
   "metadata": {},
   "outputs": [],
   "source": [
    "wallet1 = Wallet('han','010131','kyonggi',3000000)"
   ]
  },
  {
   "cell_type": "code",
   "execution_count": 49,
   "id": "956af0c6",
   "metadata": {},
   "outputs": [
    {
     "name": "stdout",
     "output_type": "stream",
     "text": [
      "유저 이름은 han, 생년월일은 010131, 주소는 kyonggi입니다.\n"
     ]
    }
   ],
   "source": [
    "wallet1.view_info()"
   ]
  },
  {
   "cell_type": "code",
   "execution_count": 50,
   "id": "c4bbd91c",
   "metadata": {},
   "outputs": [
    {
     "name": "stdout",
     "output_type": "stream",
     "text": [
      "teaching 일 성공, 현재 잔액은 3100000원\n"
     ]
    }
   ],
   "source": [
    "wallet1.work('teaching')"
   ]
  },
  {
   "cell_type": "code",
   "execution_count": 51,
   "id": "99a0930a",
   "metadata": {},
   "outputs": [
    {
     "name": "stdout",
     "output_type": "stream",
     "text": [
      "잘못된 일의 종류입니다.\n"
     ]
    },
    {
     "data": {
      "text/plain": [
       "'type error'"
      ]
     },
     "execution_count": 51,
     "metadata": {},
     "output_type": "execute_result"
    }
   ],
   "source": [
    "wallet1.work('teach')"
   ]
  },
  {
   "cell_type": "code",
   "execution_count": 52,
   "id": "2744f84a",
   "metadata": {},
   "outputs": [
    {
     "name": "stdout",
     "output_type": "stream",
     "text": [
      "hard_work 일 성공, 현재 잔액은 3250000원\n"
     ]
    }
   ],
   "source": [
    "wallet1.work('hard_work')"
   ]
  },
  {
   "cell_type": "code",
   "execution_count": 53,
   "id": "712198fb",
   "metadata": {},
   "outputs": [
    {
     "name": "stdout",
     "output_type": "stream",
     "text": [
      "잘못된 물건 이름\n"
     ]
    },
    {
     "data": {
      "text/plain": [
       "'item_name error'"
      ]
     },
     "execution_count": 53,
     "metadata": {},
     "output_type": "execute_result"
    }
   ],
   "source": [
    "wallet1.buy('tb')"
   ]
  },
  {
   "cell_type": "code",
   "execution_count": 54,
   "id": "d87b60bb",
   "metadata": {},
   "outputs": [
    {
     "name": "stdout",
     "output_type": "stream",
     "text": [
      "맥스튜디오 물건 구매 실패! 돈이 1750000원 부족\n"
     ]
    }
   ],
   "source": [
    "wallet1.buy('맥스튜디오')"
   ]
  },
  {
   "cell_type": "code",
   "execution_count": 55,
   "id": "033fe0f6",
   "metadata": {},
   "outputs": [
    {
     "name": "stdout",
     "output_type": "stream",
     "text": [
      "스탠바이미 물건 구매 성공, 잔액은 2250000원\n"
     ]
    }
   ],
   "source": [
    "wallet1.buy('스탠바이미')"
   ]
  },
  {
   "cell_type": "code",
   "execution_count": 56,
   "id": "1040456c",
   "metadata": {},
   "outputs": [
    {
     "name": "stdout",
     "output_type": "stream",
     "text": [
      "디카 물건 구매 성공, 잔액은 750000원\n"
     ]
    }
   ],
   "source": [
    "wallet1.buy('디카')"
   ]
  },
  {
   "cell_type": "code",
   "execution_count": 57,
   "id": "bfa9b257",
   "metadata": {},
   "outputs": [
    {
     "data": {
      "text/plain": [
       "['스탠바이미', '디카']"
      ]
     },
     "execution_count": 57,
     "metadata": {},
     "output_type": "execute_result"
    }
   ],
   "source": [
    "wallet1.item_list"
   ]
  },
  {
   "cell_type": "code",
   "execution_count": 58,
   "id": "b38a221f",
   "metadata": {},
   "outputs": [],
   "source": [
    "class User:\n",
    "    def __init__(self, _name, _birth, _addr):\n",
    "        self.name = _name\n",
    "        self.birth = _birth\n",
    "        self.addr = _addr\n",
    "    \n",
    "    def view_info(self):\n",
    "        print(f'유저 이름은 {self.name}, 생년월일은 {self.birth}, 주소는 {self.addr}입니다.')\n",
    "\n",
    "class Wallet(User):\n",
    "    type_names = ['serving', 'teaching', 'hard_work']\n",
    "    type_price = [50000, 100000, 150000]\n",
    "    item_info = {\n",
    "        '맥스튜디오' : 8000000,\n",
    "        '디카' : 1500000,\n",
    "        '스탠바이미' : 1000000\n",
    "    }\n",
    "    def __init__(self, _name, _birth, _addr, _balance):\n",
    "        super().__init__(_name, _birth, _addr)\n",
    "        self.balance = _balance\n",
    "        self.item_list = []\n",
    "\n",
    "    def work(self, type):\n",
    "        if type in Wallet.type_names:\n",
    "            idx = Wallet.type_names.index(type)\n",
    "            price = Wallet.type_price[idx]\n",
    "        else:\n",
    "            print('잘못된 일의 종류입니다.')\n",
    "            return 'type error'\n",
    "        self.balance += price\n",
    "        print(f'{type} 일 성공, 현재 잔액은 {self.balance}원')\n",
    "    \n",
    "    def buy(self, item_name):\n",
    "        try:\n",
    "            price = Wallet.item_info[item_name]\n",
    "        except:\n",
    "            print('잘못된 물건 이름')\n",
    "            return 'item_name error'\n",
    "        if self.balance >= price:\n",
    "            self.balance -= price\n",
    "            self.item_list.append(item_name)\n",
    "            print(f'{item_name} 물건 구매 성공, 잔액은 {self.balance}원')\n",
    "        else:\n",
    "            print(f'{item_name} 물건 구매 실패! 돈이 {price-self.balance}원 부족')\n",
    "    "
   ]
  },
  {
   "cell_type": "code",
   "execution_count": 59,
   "id": "ff5515f8",
   "metadata": {},
   "outputs": [],
   "source": [
    "wallet2 = Wallet('bom', '030212', 'seoul', 1500000)"
   ]
  },
  {
   "cell_type": "code",
   "execution_count": 61,
   "id": "051982db",
   "metadata": {},
   "outputs": [
    {
     "name": "stdout",
     "output_type": "stream",
     "text": [
      "유저 이름은 bom, 생년월일은 030212, 주소는 seoul입니다.\n"
     ]
    }
   ],
   "source": [
    "wallet2.view_info()"
   ]
  },
  {
   "cell_type": "code",
   "execution_count": 64,
   "id": "5cab437a",
   "metadata": {},
   "outputs": [
    {
     "name": "stdout",
     "output_type": "stream",
     "text": [
      "hard_work 일 성공, 현재 잔액은 1950000원\n"
     ]
    }
   ],
   "source": [
    "wallet2.work('hard_work')"
   ]
  },
  {
   "cell_type": "code",
   "execution_count": 65,
   "id": "72dc798a",
   "metadata": {},
   "outputs": [
    {
     "name": "stdout",
     "output_type": "stream",
     "text": [
      "잘못된 일의 종류입니다.\n"
     ]
    },
    {
     "data": {
      "text/plain": [
       "'type error'"
      ]
     },
     "execution_count": 65,
     "metadata": {},
     "output_type": "execute_result"
    }
   ],
   "source": [
    "wallet2.work('alba')"
   ]
  },
  {
   "cell_type": "code",
   "execution_count": 66,
   "id": "f2e910d1",
   "metadata": {},
   "outputs": [
    {
     "name": "stdout",
     "output_type": "stream",
     "text": [
      "맥스튜디오 물건 구매 실패! 돈이 6050000원 부족\n"
     ]
    }
   ],
   "source": [
    "wallet2.buy('맥스튜디오')"
   ]
  },
  {
   "cell_type": "code",
   "execution_count": 67,
   "id": "d4a28721",
   "metadata": {},
   "outputs": [
    {
     "name": "stdout",
     "output_type": "stream",
     "text": [
      "스탠바이미 물건 구매 성공, 잔액은 950000원\n"
     ]
    }
   ],
   "source": [
    "wallet2.buy('스탠바이미')"
   ]
  },
  {
   "cell_type": "code",
   "execution_count": 68,
   "id": "0c152880",
   "metadata": {},
   "outputs": [
    {
     "data": {
      "text/plain": [
       "['스탠바이미']"
      ]
     },
     "execution_count": 68,
     "metadata": {},
     "output_type": "execute_result"
    }
   ],
   "source": [
    "wallet2.item_list"
   ]
  },
  {
   "cell_type": "code",
   "execution_count": null,
   "id": "2c6380c8",
   "metadata": {},
   "outputs": [],
   "source": [
    "class User:\n",
    "    def __init__(self, _name, _birth, _addr):\n",
    "        self.name = _name\n",
    "        self.birth = _birth\n",
    "        self.addr = _addr\n",
    "    \n",
    "    def view_info(self):\n",
    "        print(f'유저 이름은 {self.name}, 생년월일은 {self.birth}, 주소는 {self.addr}입니다.')\n",
    "\n",
    "class Wallet(User):\n",
    "    type_names = ['serving', 'teaching', 'hard_work']\n",
    "    type_price = [50000, 100000, 150000]\n",
    "    item_info = {\n",
    "        '맥스튜디오' : 8000000,\n",
    "        '디카' : 1500000,\n",
    "        '스탠바이미' : 1000000\n",
    "    }\n",
    "    def __init__(self, _name, _birth, _addr, _balance):\n",
    "        super().__init__(_name, _birth, _addr)\n",
    "        self.balance = _balance\n",
    "        self.item_list = []\n",
    "\n",
    "    def work(self, type):\n",
    "        if type in Wallet.type_names:\n",
    "            idx = Wallet.type_names.index(type)\n",
    "            price = Wallet.type_price[idx]\n",
    "        else:\n",
    "            print('잘못된 일의 종류입니다.')\n",
    "            return 'type error'\n",
    "        self.balance += price\n",
    "        print(f'{type} 일 성공, 현재 잔액은 {self.balance}원')\n",
    "    \n",
    "    def buy(self, item_name):\n",
    "        try:\n",
    "            price = Wallet.item_info[item_name]\n",
    "        except:\n",
    "            print('잘못된 물건 이름')\n",
    "            return 'item_name error'\n",
    "        if self.balance >= price:\n",
    "            self.balance -= price\n",
    "            self.item_list.append(item_name)\n",
    "            print(f'{item_name} 물건 구매 성공, 잔액은 {self.balance}원')\n",
    "        else:\n",
    "            print(f'{item_name} 물건 구매 실패! 돈이 {price-self.balance}원 부족')\n",
    "    \n",
    "    def append(self, cate, name, price):\n",
    "        if cate == 'work':\n",
    "            if name not in Wallet.type_names:\n",
    "                Wallet.type_names.append(name)\n",
    "                Wallet.type_price.append(price)\n",
    "            else:\n",
    "                print(f'{name} 일은 이미 존재합니다')\n",
    "                return 'error'\n",
    "        elif cate == 'item':\n",
    "            if name not in Wallet.item_info.keys():\n",
    "                Wallet.item_info[name] = price\n",
    "            else:\n",
    "                print(f'{name} 물건은 이미 존재합니다.')\n",
    "                return 'error'\n",
    "        else:\n",
    "            print(f'잘못된 카테고리를 입력하셨습니다(work/item)')\n",
    "            return 'error'"
   ]
  },
  {
   "cell_type": "code",
   "execution_count": 70,
   "id": "32aee6f7",
   "metadata": {},
   "outputs": [],
   "source": [
    "wallet3 = Wallet('lee', '010123', 'busan', 2500000)"
   ]
  },
  {
   "cell_type": "code",
   "execution_count": 72,
   "id": "0f5c2994",
   "metadata": {},
   "outputs": [
    {
     "name": "stdout",
     "output_type": "stream",
     "text": [
      "유저 이름은 lee, 생년월일은 010123, 주소는 busan입니다.\n"
     ]
    }
   ],
   "source": [
    "wallet3.view_info()"
   ]
  },
  {
   "cell_type": "code",
   "execution_count": 77,
   "id": "3b3c5367",
   "metadata": {},
   "outputs": [
    {
     "name": "stdout",
     "output_type": "stream",
     "text": [
      "serving 일 성공, 현재 잔액은 2750000원\n"
     ]
    }
   ],
   "source": [
    "wallet3.work('serving')"
   ]
  },
  {
   "cell_type": "code",
   "execution_count": 78,
   "id": "e93b7593",
   "metadata": {},
   "outputs": [
    {
     "name": "stdout",
     "output_type": "stream",
     "text": [
      "스탠바이미 물건 구매 성공, 잔액은 1750000원\n"
     ]
    }
   ],
   "source": [
    "wallet3.buy('스탠바이미')"
   ]
  },
  {
   "cell_type": "code",
   "execution_count": 79,
   "id": "8c807935",
   "metadata": {},
   "outputs": [
    {
     "name": "stdout",
     "output_type": "stream",
     "text": [
      "디카 물건 구매 성공, 잔액은 250000원\n"
     ]
    }
   ],
   "source": [
    "wallet3.buy('디카')"
   ]
  },
  {
   "cell_type": "code",
   "execution_count": 80,
   "id": "f6a16832",
   "metadata": {},
   "outputs": [
    {
     "name": "stdout",
     "output_type": "stream",
     "text": [
      "디카 물건 구매 실패! 돈이 1250000원 부족\n"
     ]
    }
   ],
   "source": [
    "wallet3.buy('디카')"
   ]
  },
  {
   "cell_type": "code",
   "execution_count": 92,
   "id": "7c20081f",
   "metadata": {},
   "outputs": [
    {
     "name": "stdout",
     "output_type": "stream",
     "text": [
      "hard_work 일 성공, 현재 잔액은 2050000원\n"
     ]
    }
   ],
   "source": [
    "wallet3.work('hard_work')"
   ]
  },
  {
   "cell_type": "code",
   "execution_count": 93,
   "id": "f7689ef2",
   "metadata": {},
   "outputs": [
    {
     "name": "stdout",
     "output_type": "stream",
     "text": [
      "디카 물건 구매 성공, 잔액은 550000원\n"
     ]
    }
   ],
   "source": [
    "wallet3.buy('디카')"
   ]
  },
  {
   "cell_type": "code",
   "execution_count": 94,
   "id": "27d12cd0",
   "metadata": {},
   "outputs": [
    {
     "data": {
      "text/plain": [
       "['스탠바이미', '디카', '디카']"
      ]
     },
     "execution_count": 94,
     "metadata": {},
     "output_type": "execute_result"
    }
   ],
   "source": [
    "wallet3.item_list"
   ]
  },
  {
   "cell_type": "code",
   "execution_count": 95,
   "id": "a18994a4",
   "metadata": {},
   "outputs": [
    {
     "name": "stdout",
     "output_type": "stream",
     "text": [
      "serving 일은 이미 존재합니다\n"
     ]
    },
    {
     "data": {
      "text/plain": [
       "'error'"
      ]
     },
     "execution_count": 95,
     "metadata": {},
     "output_type": "execute_result"
    }
   ],
   "source": [
    "wallet3.append('work', 'serving', 200000)"
   ]
  },
  {
   "cell_type": "code",
   "execution_count": 97,
   "id": "1f3bb62c",
   "metadata": {},
   "outputs": [
    {
     "name": "stdout",
     "output_type": "stream",
     "text": [
      "잘못된 alba를 입력하셨습니다(work/item)\n"
     ]
    },
    {
     "data": {
      "text/plain": [
       "'error'"
      ]
     },
     "execution_count": 97,
     "metadata": {},
     "output_type": "execute_result"
    }
   ],
   "source": [
    "wallet3.append('alba', 50000, 30000)"
   ]
  },
  {
   "cell_type": "code",
   "execution_count": 98,
   "id": "4459ac39",
   "metadata": {},
   "outputs": [],
   "source": [
    "wallet3.append('work','alba',50000)"
   ]
  },
  {
   "cell_type": "code",
   "execution_count": 99,
   "id": "bc2c1988",
   "metadata": {},
   "outputs": [
    {
     "data": {
      "text/plain": [
       "['serving', 'teaching', 'hard_work', 'alba']"
      ]
     },
     "execution_count": 99,
     "metadata": {},
     "output_type": "execute_result"
    }
   ],
   "source": [
    "Wallet.type_names"
   ]
  },
  {
   "cell_type": "code",
   "execution_count": 100,
   "id": "6727d489",
   "metadata": {},
   "outputs": [
    {
     "name": "stdout",
     "output_type": "stream",
     "text": [
      "alba 일 성공, 현재 잔액은 600000원\n"
     ]
    }
   ],
   "source": [
    "wallet3.work('alba')"
   ]
  },
  {
   "cell_type": "code",
   "execution_count": 101,
   "id": "db00af98",
   "metadata": {},
   "outputs": [],
   "source": [
    "wallet3.append('item', '노트북', 900000)"
   ]
  },
  {
   "cell_type": "code",
   "execution_count": 102,
   "id": "86919a85",
   "metadata": {},
   "outputs": [
    {
     "name": "stdout",
     "output_type": "stream",
     "text": [
      "노트북 물건 구매 실패! 돈이 300000원 부족\n"
     ]
    }
   ],
   "source": [
    "wallet3.buy('노트북')"
   ]
  },
  {
   "cell_type": "code",
   "execution_count": null,
   "id": "5a757d51",
   "metadata": {},
   "outputs": [],
   "source": []
  }
 ],
 "metadata": {
  "kernelspec": {
   "display_name": "Python 3",
   "language": "python",
   "name": "python3"
  },
  "language_info": {
   "codemirror_mode": {
    "name": "ipython",
    "version": 3
   },
   "file_extension": ".py",
   "mimetype": "text/x-python",
   "name": "python",
   "nbconvert_exporter": "python",
   "pygments_lexer": "ipython3",
   "version": "3.9.13"
  }
 },
 "nbformat": 4,
 "nbformat_minor": 5
}
