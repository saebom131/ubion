{
 "cells": [
  {
   "cell_type": "markdown",
   "id": "66a049d8",
   "metadata": {},
   "source": [
    "- func_11() 함수 & custom_sort() 함수 함께 사용\n",
    "    - func_11() : min, max 입력받아 해당 값 출력하는 함수\n",
    "    - custom_sort() : 오름차순/내림차순 정렬 함수"
   ]
  },
  {
   "cell_type": "code",
   "execution_count": 41,
   "id": "72dd3caf",
   "metadata": {},
   "outputs": [],
   "source": [
    "# 함수 생성\n",
    "# 첫 번째 매개변수는 인자의 개수가 가변인 형태\n",
    "# 두 번째 매개변수는 첫번째 매개변수에 데이터들 중\n",
    "# 최댓값, 최솟값, 평균을 보여줄지 지정하는 변수 (기본값 max)\n",
    "\n",
    "def func_11( _datas, _type='max' ):\n",
    "    # _type이 max인 경우\n",
    "    if _type == 'max':\n",
    "        # _datas에서 가장 큰 값 저장\n",
    "        result = _datas[0]\n",
    "        # _datas의 2번째 데이터부터 마지막 데이터까지 result와 비교하여\n",
    "        # 큰 데이터를 result에 대입\n",
    "        for i in range (1, len(_datas), 1):\n",
    "            if result < _datas[i]:\n",
    "                result = _datas[i]\n",
    "    # _type이 min인 경우\n",
    "    elif _type == 'min':\n",
    "        result = _datas[0]\n",
    "        for i in range(1, len(_datas), 1):\n",
    "            if result > _datas[i]:\n",
    "                result = _datas[i]\n",
    "    # _type이 mean인 경우\n",
    "    elif _type == 'mean':\n",
    "        # _datas의 누적합 result\n",
    "        result = 0\n",
    "        # range 이용한 for문\n",
    "        # for i in range(0, len(_datas), 1):\n",
    "        #     result = result + _datas[i]\n",
    "\n",
    "        # 튜플 그대로 for문\n",
    "        for i in _datas:\n",
    "            result += i\n",
    "        result /= len(_datas)   # 평균 = 누적합 / 데이터의 개수(_datas의 길이)\n",
    "    else:\n",
    "        print('_type 매개변수에는 max, min, mean만 가능합니다.')\n",
    "    \n",
    "    return result"
   ]
  },
  {
   "cell_type": "code",
   "execution_count": null,
   "id": "5c8ef5be",
   "metadata": {},
   "outputs": [],
   "source": [
    "# list 안에 내장된 sort() 함수를 구현해보자\n",
    "\n",
    "min(1,2,3,4,5)\n",
    "min([1,2,3,4,5])\n",
    "\n",
    "# min(), max() 함수 그대로 사용\n",
    "\n",
    "# 매개변수 2개\n",
    "    # datas : 인자의 개수가 가변인 형태\n",
    "    # ascending : 기본값이 True\n",
    "def custom_sort(*datas, ascending=True):\n",
    "    # datas 타입? tuple 형태 -> 수정이 불가능\n",
    "    datas = list(datas)\n",
    "    # result : datas에 있는 최댓값이나 최솟값 대입하는 공간\n",
    "    result = []\n",
    "\n",
    "    # 반복 실행의 횟수 : datas의 길이\n",
    "    for i in range(len(datas)):\n",
    "        # i의 의미: index (해당 반복문에서는 큰 의미X)\n",
    "        # 만약 ascending==True <-> if ascending:과 같은 의미\n",
    "        if ascending:       # 오름차순 (작은수 -> 큰수)\n",
    "            # datas에서 가장 작은 값 data에 저장\n",
    "            data = func_11(datas, 'min')\n",
    "            # data를 result에 추가\n",
    "            result.append(data)\n",
    "            # datas에서 data를 제거\n",
    "            datas.remove(data)\n",
    "        else:\n",
    "            data = func_11(datas, 'max')\n",
    "            result.append(data)\n",
    "            datas.remove(data)\n",
    "    return result"
   ]
  },
  {
   "cell_type": "code",
   "execution_count": 43,
   "id": "afb368b7",
   "metadata": {},
   "outputs": [
    {
     "data": {
      "text/plain": [
       "[1, 2, 3, 4, 5, 7]"
      ]
     },
     "execution_count": 43,
     "metadata": {},
     "output_type": "execute_result"
    }
   ],
   "source": [
    "custom_sort(1,3,2,5,7,4)"
   ]
  },
  {
   "cell_type": "code",
   "execution_count": 44,
   "id": "0ff3537d",
   "metadata": {},
   "outputs": [
    {
     "data": {
      "text/plain": [
       "[7, 5, 4, 3, 2, 1]"
      ]
     },
     "execution_count": 44,
     "metadata": {},
     "output_type": "execute_result"
    }
   ],
   "source": [
    "custom_sort(1,3,2,5,7,4, ascending=0)"
   ]
  },
  {
   "cell_type": "markdown",
   "id": "4fb648d2",
   "metadata": {},
   "source": [
    "- custom_sort() 함수만\n",
    "    - min(), max() 함수 그대로 사용"
   ]
  },
  {
   "cell_type": "code",
   "execution_count": null,
   "id": "9afbfac4",
   "metadata": {},
   "outputs": [],
   "source": [
    "# list 안에 내장된 sort() 함수를 구현해보자\n",
    "\n",
    "min(1,2,3,4,5)\n",
    "min([1,2,3,4,5])\n",
    "\n",
    "# min(), max() 함수 그대로 사용\n",
    "\n",
    "# 매개변수 2개\n",
    "    # datas : 인자의 개수가 가변인 형태\n",
    "    # ascending : 기본값이 True\n",
    "def custom_sort(*datas, ascending=True):\n",
    "    # datas 타입? tuple 형태 -> 수정이 불가능\n",
    "    datas = list(datas)\n",
    "    # result : datas에 있는 최댓값이나 최솟값 대입하는 공간\n",
    "    result = []\n",
    "\n",
    "    # 반복 실행의 횟수 : datas의 길이\n",
    "    for i in range(len(datas)):\n",
    "        # i의 의미: index (해당 반복문에서는 큰 의미X)\n",
    "        # 만약 ascending==True <-> if ascending:과 같은 의미\n",
    "        if ascending:       # 오름차순 (작은수 -> 큰수)\n",
    "            # datas에서 가장 작은 값 data에 저장\n",
    "            data = min(datas)\n",
    "            # data를 result에 추가\n",
    "            result.append(data)\n",
    "            # datas에서 data를 제거\n",
    "            datas.remove(data)\n",
    "        else:\n",
    "            data = max(datas)\n",
    "            result.append(data)\n",
    "            datas.remove(data)\n",
    "    return result"
   ]
  },
  {
   "cell_type": "code",
   "execution_count": null,
   "id": "89acefeb",
   "metadata": {},
   "outputs": [],
   "source": []
  }
 ],
 "metadata": {
  "kernelspec": {
   "display_name": "Python 3",
   "language": "python",
   "name": "python3"
  },
  "language_info": {
   "codemirror_mode": {
    "name": "ipython",
    "version": 3
   },
   "file_extension": ".py",
   "mimetype": "text/x-python",
   "name": "python",
   "nbconvert_exporter": "python",
   "pygments_lexer": "ipython3",
   "version": "3.9.13"
  }
 },
 "nbformat": 4,
 "nbformat_minor": 5
}
