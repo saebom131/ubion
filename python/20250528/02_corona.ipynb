{
 "cells": [
  {
   "cell_type": "code",
   "execution_count": 1,
   "id": "6acb2827",
   "metadata": {},
   "outputs": [],
   "source": [
    "import pandas as pd\n",
    "import matplotlib.pyplot as plt"
   ]
  },
  {
   "cell_type": "code",
   "execution_count": 2,
   "id": "5d452eae",
   "metadata": {},
   "outputs": [],
   "source": [
    "# 현재 경로의 corona.csv 파일 불러오기\n",
    "corona = pd.read_csv('corona.csv')"
   ]
  },
  {
   "cell_type": "code",
   "execution_count": 3,
   "id": "643bdc0c",
   "metadata": {},
   "outputs": [
    {
     "data": {
      "text/html": [
       "<div>\n",
       "<style scoped>\n",
       "    .dataframe tbody tr th:only-of-type {\n",
       "        vertical-align: middle;\n",
       "    }\n",
       "\n",
       "    .dataframe tbody tr th {\n",
       "        vertical-align: top;\n",
       "    }\n",
       "\n",
       "    .dataframe thead th {\n",
       "        text-align: right;\n",
       "    }\n",
       "</style>\n",
       "<table border=\"1\" class=\"dataframe\">\n",
       "  <thead>\n",
       "    <tr style=\"text-align: right;\">\n",
       "      <th></th>\n",
       "      <th>등록일시</th>\n",
       "      <th>총사망자</th>\n",
       "      <th>총확진자</th>\n",
       "      <th>기준일</th>\n",
       "      <th>기준시간</th>\n",
       "      <th>수정일시</th>\n",
       "      <th>누적의심자</th>\n",
       "      <th>누적확진율</th>\n",
       "      <th>일일사망자</th>\n",
       "      <th>일일확진자</th>\n",
       "    </tr>\n",
       "  </thead>\n",
       "  <tbody>\n",
       "    <tr>\n",
       "      <th>0</th>\n",
       "      <td>2020-03-10 00:00:00.000</td>\n",
       "      <td>54</td>\n",
       "      <td>7513</td>\n",
       "      <td>20200310</td>\n",
       "      <td>00:00</td>\n",
       "      <td>2021-10-07 10:30:51.51</td>\n",
       "      <td>210144.0</td>\n",
       "      <td>3.919308</td>\n",
       "      <td>0.0</td>\n",
       "      <td>0.0</td>\n",
       "    </tr>\n",
       "    <tr>\n",
       "      <th>1</th>\n",
       "      <td>2020-03-11 00:00:00.000</td>\n",
       "      <td>60</td>\n",
       "      <td>7755</td>\n",
       "      <td>20200311</td>\n",
       "      <td>00:00</td>\n",
       "      <td>2021-10-07 10:30:51.51</td>\n",
       "      <td>222395.0</td>\n",
       "      <td>3.804175</td>\n",
       "      <td>6.0</td>\n",
       "      <td>242.0</td>\n",
       "    </tr>\n",
       "    <tr>\n",
       "      <th>2</th>\n",
       "      <td>2020-03-12 00:00:00.000</td>\n",
       "      <td>66</td>\n",
       "      <td>7869</td>\n",
       "      <td>20200312</td>\n",
       "      <td>00:00</td>\n",
       "      <td>2021-10-07 10:30:51.51</td>\n",
       "      <td>234998.0</td>\n",
       "      <td>3.621744</td>\n",
       "      <td>6.0</td>\n",
       "      <td>114.0</td>\n",
       "    </tr>\n",
       "    <tr>\n",
       "      <th>3</th>\n",
       "      <td>2020-03-13 00:00:00.000</td>\n",
       "      <td>67</td>\n",
       "      <td>7979</td>\n",
       "      <td>20200313</td>\n",
       "      <td>00:00</td>\n",
       "      <td>2021-10-07 10:30:51.51</td>\n",
       "      <td>248647.0</td>\n",
       "      <td>3.458499</td>\n",
       "      <td>1.0</td>\n",
       "      <td>110.0</td>\n",
       "    </tr>\n",
       "    <tr>\n",
       "      <th>4</th>\n",
       "      <td>2020-03-14 00:00:00.000</td>\n",
       "      <td>72</td>\n",
       "      <td>8086</td>\n",
       "      <td>20200314</td>\n",
       "      <td>00:00</td>\n",
       "      <td>2021-10-07 10:30:51.51</td>\n",
       "      <td>261335.0</td>\n",
       "      <td>3.318000</td>\n",
       "      <td>5.0</td>\n",
       "      <td>107.0</td>\n",
       "    </tr>\n",
       "    <tr>\n",
       "      <th>...</th>\n",
       "      <td>...</td>\n",
       "      <td>...</td>\n",
       "      <td>...</td>\n",
       "      <td>...</td>\n",
       "      <td>...</td>\n",
       "      <td>...</td>\n",
       "      <td>...</td>\n",
       "      <td>...</td>\n",
       "      <td>...</td>\n",
       "      <td>...</td>\n",
       "    </tr>\n",
       "    <tr>\n",
       "      <th>815</th>\n",
       "      <td>2022-06-04 08:56:49.219</td>\n",
       "      <td>24238</td>\n",
       "      <td>18153814</td>\n",
       "      <td>20220604</td>\n",
       "      <td>00:00</td>\n",
       "      <td>2022-06-08 09:11:26.303</td>\n",
       "      <td>NaN</td>\n",
       "      <td>NaN</td>\n",
       "      <td>9.0</td>\n",
       "      <td>12039.0</td>\n",
       "    </tr>\n",
       "    <tr>\n",
       "      <th>816</th>\n",
       "      <td>2022-06-05 08:53:19.426</td>\n",
       "      <td>24258</td>\n",
       "      <td>18163648</td>\n",
       "      <td>20220605</td>\n",
       "      <td>00:00</td>\n",
       "      <td>2022-06-08 09:11:04.758</td>\n",
       "      <td>NaN</td>\n",
       "      <td>NaN</td>\n",
       "      <td>20.0</td>\n",
       "      <td>9834.0</td>\n",
       "    </tr>\n",
       "    <tr>\n",
       "      <th>817</th>\n",
       "      <td>2022-06-06 09:00:06.734</td>\n",
       "      <td>24279</td>\n",
       "      <td>18168670</td>\n",
       "      <td>20220606</td>\n",
       "      <td>00:00</td>\n",
       "      <td>2022-06-08 09:10:50.441</td>\n",
       "      <td>NaN</td>\n",
       "      <td>NaN</td>\n",
       "      <td>21.0</td>\n",
       "      <td>5022.0</td>\n",
       "    </tr>\n",
       "    <tr>\n",
       "      <th>818</th>\n",
       "      <td>2022-06-07 09:09:00.897</td>\n",
       "      <td>24299</td>\n",
       "      <td>18174842</td>\n",
       "      <td>20220607</td>\n",
       "      <td>00:00</td>\n",
       "      <td>2022-06-08 09:10:36.846</td>\n",
       "      <td>NaN</td>\n",
       "      <td>NaN</td>\n",
       "      <td>20.0</td>\n",
       "      <td>6172.0</td>\n",
       "    </tr>\n",
       "    <tr>\n",
       "      <th>819</th>\n",
       "      <td>2022-06-08 09:09:05.982</td>\n",
       "      <td>24305</td>\n",
       "      <td>18188200</td>\n",
       "      <td>20220608</td>\n",
       "      <td>00:00</td>\n",
       "      <td>NaN</td>\n",
       "      <td>NaN</td>\n",
       "      <td>NaN</td>\n",
       "      <td>6.0</td>\n",
       "      <td>13358.0</td>\n",
       "    </tr>\n",
       "  </tbody>\n",
       "</table>\n",
       "<p>820 rows × 10 columns</p>\n",
       "</div>"
      ],
      "text/plain": [
       "                        등록일시   총사망자      총확진자       기준일   기준시간  \\\n",
       "0    2020-03-10 00:00:00.000     54      7513  20200310  00:00   \n",
       "1    2020-03-11 00:00:00.000     60      7755  20200311  00:00   \n",
       "2    2020-03-12 00:00:00.000     66      7869  20200312  00:00   \n",
       "3    2020-03-13 00:00:00.000     67      7979  20200313  00:00   \n",
       "4    2020-03-14 00:00:00.000     72      8086  20200314  00:00   \n",
       "..                       ...    ...       ...       ...    ...   \n",
       "815  2022-06-04 08:56:49.219  24238  18153814  20220604  00:00   \n",
       "816  2022-06-05 08:53:19.426  24258  18163648  20220605  00:00   \n",
       "817  2022-06-06 09:00:06.734  24279  18168670  20220606  00:00   \n",
       "818  2022-06-07 09:09:00.897  24299  18174842  20220607  00:00   \n",
       "819  2022-06-08 09:09:05.982  24305  18188200  20220608  00:00   \n",
       "\n",
       "                        수정일시     누적의심자     누적확진율  일일사망자    일일확진자  \n",
       "0     2021-10-07 10:30:51.51  210144.0  3.919308    0.0      0.0  \n",
       "1     2021-10-07 10:30:51.51  222395.0  3.804175    6.0    242.0  \n",
       "2     2021-10-07 10:30:51.51  234998.0  3.621744    6.0    114.0  \n",
       "3     2021-10-07 10:30:51.51  248647.0  3.458499    1.0    110.0  \n",
       "4     2021-10-07 10:30:51.51  261335.0  3.318000    5.0    107.0  \n",
       "..                       ...       ...       ...    ...      ...  \n",
       "815  2022-06-08 09:11:26.303       NaN       NaN    9.0  12039.0  \n",
       "816  2022-06-08 09:11:04.758       NaN       NaN   20.0   9834.0  \n",
       "817  2022-06-08 09:10:50.441       NaN       NaN   21.0   5022.0  \n",
       "818  2022-06-08 09:10:36.846       NaN       NaN   20.0   6172.0  \n",
       "819                      NaN       NaN       NaN    6.0  13358.0  \n",
       "\n",
       "[820 rows x 10 columns]"
      ]
     },
     "execution_count": 3,
     "metadata": {},
     "output_type": "execute_result"
    }
   ],
   "source": [
    "corona"
   ]
  },
  {
   "cell_type": "code",
   "execution_count": 4,
   "id": "c31620ee",
   "metadata": {},
   "outputs": [
    {
     "name": "stdout",
     "output_type": "stream",
     "text": [
      "<class 'pandas.core.frame.DataFrame'>\n",
      "RangeIndex: 820 entries, 0 to 819\n",
      "Data columns (total 10 columns):\n",
      " #   Column  Non-Null Count  Dtype  \n",
      "---  ------  --------------  -----  \n",
      " 0   등록일시    820 non-null    object \n",
      " 1   총사망자    820 non-null    int64  \n",
      " 2   총확진자    820 non-null    int64  \n",
      " 3   기준일     820 non-null    int64  \n",
      " 4   기준시간    820 non-null    object \n",
      " 5   수정일시    817 non-null    object \n",
      " 6   누적의심자   692 non-null    float64\n",
      " 7   누적확진율   623 non-null    float64\n",
      " 8   일일사망자   820 non-null    float64\n",
      " 9   일일확진자   820 non-null    float64\n",
      "dtypes: float64(4), int64(3), object(3)\n",
      "memory usage: 64.2+ KB\n"
     ]
    }
   ],
   "source": [
    "corona.info()"
   ]
  },
  {
   "cell_type": "markdown",
   "id": "ea7d227b",
   "metadata": {},
   "source": [
    "### <요일별 일일확진자 수의 평균이 어떠한가>\n",
    "1. 요일이라는 데이터가 존재하지 않는다면 -> 요일 컬럼 생성 필요\n",
    "    - 등록일시, 기준일 중 하나를 시계열 데이터로 변환 (등록일시 선택)\n",
    "    - 시계열 데이터에서 요일 데이터 추출하여 새로운 컬럼 생성 : 파생변수 생성\n",
    "2. 요일을 기준으로 데이터프레임을 그룹화 -> 일일확진자의 평균을 그룹화연산\n",
    "3. 그룹화 데이터를 이용해 그래프로 시각화 (막대 그래프 생성)"
   ]
  },
  {
   "cell_type": "code",
   "execution_count": 5,
   "id": "176a84cb",
   "metadata": {},
   "outputs": [],
   "source": [
    "from datetime import datetime"
   ]
  },
  {
   "cell_type": "code",
   "execution_count": 6,
   "id": "bcea55b5",
   "metadata": {},
   "outputs": [],
   "source": [
    "# 등록일시를 시계열 데이터로 변환 (to_datetime)\n",
    "# pandas 내의 to_datetime 사용\n",
    "corona['등록일시'] = pd.to_datetime(corona['등록일시'])"
   ]
  },
  {
   "cell_type": "code",
   "execution_count": 7,
   "id": "bb7f6137",
   "metadata": {},
   "outputs": [
    {
     "data": {
      "text/plain": [
       "0     2020-03-10 00:00:00.000\n",
       "1     2020-03-11 00:00:00.000\n",
       "2     2020-03-12 00:00:00.000\n",
       "3     2020-03-13 00:00:00.000\n",
       "4     2020-03-14 00:00:00.000\n",
       "                ...          \n",
       "815   2022-06-04 08:56:49.219\n",
       "816   2022-06-05 08:53:19.426\n",
       "817   2022-06-06 09:00:06.734\n",
       "818   2022-06-07 09:09:00.897\n",
       "819   2022-06-08 09:09:05.982\n",
       "Name: 등록일시, Length: 820, dtype: datetime64[ns]"
      ]
     },
     "execution_count": 7,
     "metadata": {},
     "output_type": "execute_result"
    }
   ],
   "source": [
    "corona['등록일시']"
   ]
  },
  {
   "cell_type": "code",
   "execution_count": 8,
   "id": "0f75fc1d",
   "metadata": {},
   "outputs": [],
   "source": [
    "# 시계열 데이터에서 요일 데이터 추출\n",
    "# 시계열 데이터에서 특정 데이터 추출 : 시계열에서 문자로 변환 strftime()\n",
    "# strftime() 함수는 datetime 안에 존재하는 함수\n",
    "# Series에서 해당 함수를 사용하려면 datetime에 접근할 수 있는 method가 필요 -> dt\n",
    "\n",
    "corona['요일'] = corona['등록일시'].dt.strftime('%w')        # 요일을 숫자로 표시 : %w"
   ]
  },
  {
   "cell_type": "code",
   "execution_count": 9,
   "id": "cdae489b",
   "metadata": {},
   "outputs": [],
   "source": [
    "corona['요일2'] = corona['등록일시'].dt.strftime('%a')"
   ]
  },
  {
   "cell_type": "code",
   "execution_count": 10,
   "id": "3a6442e3",
   "metadata": {},
   "outputs": [
    {
     "data": {
      "text/html": [
       "<div>\n",
       "<style scoped>\n",
       "    .dataframe tbody tr th:only-of-type {\n",
       "        vertical-align: middle;\n",
       "    }\n",
       "\n",
       "    .dataframe tbody tr th {\n",
       "        vertical-align: top;\n",
       "    }\n",
       "\n",
       "    .dataframe thead th {\n",
       "        text-align: right;\n",
       "    }\n",
       "</style>\n",
       "<table border=\"1\" class=\"dataframe\">\n",
       "  <thead>\n",
       "    <tr style=\"text-align: right;\">\n",
       "      <th></th>\n",
       "      <th>등록일시</th>\n",
       "      <th>총사망자</th>\n",
       "      <th>총확진자</th>\n",
       "      <th>기준일</th>\n",
       "      <th>기준시간</th>\n",
       "      <th>수정일시</th>\n",
       "      <th>누적의심자</th>\n",
       "      <th>누적확진율</th>\n",
       "      <th>일일사망자</th>\n",
       "      <th>일일확진자</th>\n",
       "      <th>요일</th>\n",
       "      <th>요일2</th>\n",
       "    </tr>\n",
       "  </thead>\n",
       "  <tbody>\n",
       "    <tr>\n",
       "      <th>0</th>\n",
       "      <td>2020-03-10</td>\n",
       "      <td>54</td>\n",
       "      <td>7513</td>\n",
       "      <td>20200310</td>\n",
       "      <td>00:00</td>\n",
       "      <td>2021-10-07 10:30:51.51</td>\n",
       "      <td>210144.0</td>\n",
       "      <td>3.919308</td>\n",
       "      <td>0.0</td>\n",
       "      <td>0.0</td>\n",
       "      <td>2</td>\n",
       "      <td>Tue</td>\n",
       "    </tr>\n",
       "    <tr>\n",
       "      <th>1</th>\n",
       "      <td>2020-03-11</td>\n",
       "      <td>60</td>\n",
       "      <td>7755</td>\n",
       "      <td>20200311</td>\n",
       "      <td>00:00</td>\n",
       "      <td>2021-10-07 10:30:51.51</td>\n",
       "      <td>222395.0</td>\n",
       "      <td>3.804175</td>\n",
       "      <td>6.0</td>\n",
       "      <td>242.0</td>\n",
       "      <td>3</td>\n",
       "      <td>Wed</td>\n",
       "    </tr>\n",
       "    <tr>\n",
       "      <th>2</th>\n",
       "      <td>2020-03-12</td>\n",
       "      <td>66</td>\n",
       "      <td>7869</td>\n",
       "      <td>20200312</td>\n",
       "      <td>00:00</td>\n",
       "      <td>2021-10-07 10:30:51.51</td>\n",
       "      <td>234998.0</td>\n",
       "      <td>3.621744</td>\n",
       "      <td>6.0</td>\n",
       "      <td>114.0</td>\n",
       "      <td>4</td>\n",
       "      <td>Thu</td>\n",
       "    </tr>\n",
       "    <tr>\n",
       "      <th>3</th>\n",
       "      <td>2020-03-13</td>\n",
       "      <td>67</td>\n",
       "      <td>7979</td>\n",
       "      <td>20200313</td>\n",
       "      <td>00:00</td>\n",
       "      <td>2021-10-07 10:30:51.51</td>\n",
       "      <td>248647.0</td>\n",
       "      <td>3.458499</td>\n",
       "      <td>1.0</td>\n",
       "      <td>110.0</td>\n",
       "      <td>5</td>\n",
       "      <td>Fri</td>\n",
       "    </tr>\n",
       "    <tr>\n",
       "      <th>4</th>\n",
       "      <td>2020-03-14</td>\n",
       "      <td>72</td>\n",
       "      <td>8086</td>\n",
       "      <td>20200314</td>\n",
       "      <td>00:00</td>\n",
       "      <td>2021-10-07 10:30:51.51</td>\n",
       "      <td>261335.0</td>\n",
       "      <td>3.318000</td>\n",
       "      <td>5.0</td>\n",
       "      <td>107.0</td>\n",
       "      <td>6</td>\n",
       "      <td>Sat</td>\n",
       "    </tr>\n",
       "  </tbody>\n",
       "</table>\n",
       "</div>"
      ],
      "text/plain": [
       "        등록일시  총사망자  총확진자       기준일   기준시간                    수정일시     누적의심자  \\\n",
       "0 2020-03-10    54  7513  20200310  00:00  2021-10-07 10:30:51.51  210144.0   \n",
       "1 2020-03-11    60  7755  20200311  00:00  2021-10-07 10:30:51.51  222395.0   \n",
       "2 2020-03-12    66  7869  20200312  00:00  2021-10-07 10:30:51.51  234998.0   \n",
       "3 2020-03-13    67  7979  20200313  00:00  2021-10-07 10:30:51.51  248647.0   \n",
       "4 2020-03-14    72  8086  20200314  00:00  2021-10-07 10:30:51.51  261335.0   \n",
       "\n",
       "      누적확진율  일일사망자  일일확진자 요일  요일2  \n",
       "0  3.919308    0.0    0.0  2  Tue  \n",
       "1  3.804175    6.0  242.0  3  Wed  \n",
       "2  3.621744    6.0  114.0  4  Thu  \n",
       "3  3.458499    1.0  110.0  5  Fri  \n",
       "4  3.318000    5.0  107.0  6  Sat  "
      ]
     },
     "execution_count": 10,
     "metadata": {},
     "output_type": "execute_result"
    }
   ],
   "source": [
    "corona.head()"
   ]
  },
  {
   "cell_type": "code",
   "execution_count": 11,
   "id": "bdebf230",
   "metadata": {},
   "outputs": [],
   "source": [
    "# 요일을 기준으로 그룹화\n",
    "# 그룹화연산 -> 일일확진자의 평균\n",
    "group_data = corona.groupby('요일')['일일확진자'].mean()"
   ]
  },
  {
   "cell_type": "code",
   "execution_count": 12,
   "id": "5f047a37",
   "metadata": {},
   "outputs": [
    {
     "data": {
      "text/plain": [
       "요일\n",
       "0    20801.384615\n",
       "1    14739.230769\n",
       "2    21783.652542\n",
       "3    26994.550847\n",
       "4    25776.267241\n",
       "5    22542.854701\n",
       "6    22555.948718\n",
       "Name: 일일확진자, dtype: float64"
      ]
     },
     "execution_count": 12,
     "metadata": {},
     "output_type": "execute_result"
    }
   ],
   "source": [
    "group_data"
   ]
  },
  {
   "cell_type": "code",
   "execution_count": 13,
   "id": "08ddc977",
   "metadata": {},
   "outputs": [],
   "source": [
    "group_data2 = corona.groupby('요일2')['일일사망자'].mean()"
   ]
  },
  {
   "cell_type": "code",
   "execution_count": 14,
   "id": "3817f8bc",
   "metadata": {},
   "outputs": [],
   "source": [
    "# 폰트 변경\n",
    "import platform\n",
    "\n",
    "if platform.system() == 'Darwin':\n",
    "    plt.rc('font', family = 'AppleGothic')\n",
    "else:\n",
    "    plt.rc('font', family = 'Malgun Gothic')"
   ]
  },
  {
   "cell_type": "code",
   "execution_count": 29,
   "id": "600826ec",
   "metadata": {},
   "outputs": [
    {
     "data": {
      "image/png": "[encoded data removed]",
      "text/plain": [
       "<Figure size 640x480 with 1 Axes>"
      ]
     },
     "metadata": {},
     "output_type": "display_data"
    }
   ],
   "source": [
    "# 요일별 평균 일일확진자의 수를 막대 그래프로 표시\n",
    "# 그래프의 이름, x축, y축 이름을 한글로 사용\n",
    "# x축 데이터들도 한글 요일명으로 변경\n",
    "\n",
    "# x축 데이터는 group_data의 인덱스 값\n",
    "# y축 데이터는 group_data의 values 값\n",
    "\n",
    "plt.bar(group_data.index, group_data)\n",
    "plt.xlabel('요일')\n",
    "plt.ylabel('평균 일일 확진자')\n",
    "plt.title('요일별 평균 일일 확진자')\n",
    "plt.xticks(group_data.index, ['일', '월', '화', '수', '목', '금', '토'])\n",
    "\n",
    "plt.show()"
   ]
  },
  {
   "cell_type": "code",
   "execution_count": 45,
   "id": "7ef859a2",
   "metadata": {},
   "outputs": [
    {
     "data": {
      "image/png": "[encoded data removed]",
      "text/plain": [
       "<Figure size 640x480 with 1 Axes>"
      ]
     },
     "metadata": {},
     "output_type": "display_data"
    }
   ],
   "source": [
    "# 요일별 평균 일일 사망자의 수가 높은 순서로 막대 그래프 생성\n",
    "# group_data2 일일 사망자 수 내림차순 정렬로 변경\n",
    "group_data2.sort_values(ascending=False, inplace=True)\n",
    "\n",
    "plt.bar(group_data2.index, group_data2)\n",
    "plt.show()"
   ]
  },
  {
   "cell_type": "code",
   "execution_count": null,
   "id": "3bfdb987",
   "metadata": {},
   "outputs": [],
   "source": []
  }
 ],
 "metadata": {
  "kernelspec": {
   "display_name": "Python 3",
   "language": "python",
   "name": "python3"
  },
  "language_info": {
   "codemirror_mode": {
    "name": "ipython",
    "version": 3
   },
   "file_extension": ".py",
   "mimetype": "text/x-python",
   "name": "python",
   "nbconvert_exporter": "python",
   "pygments_lexer": "ipython3",
   "version": "3.9.13"
  }
 },
 "nbformat": 4,
 "nbformat_minor": 5
}
