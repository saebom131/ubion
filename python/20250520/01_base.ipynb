{
 "cells": [
  {
   "cell_type": "code",
   "execution_count": 4,
   "id": "82dc540d",
   "metadata": {},
   "outputs": [
    {
     "name": "stdout",
     "output_type": "stream",
     "text": [
      "text\n",
      "<class 'str'>\n"
     ]
    }
   ],
   "source": [
    "# 변수 생성\n",
    "# 변수명 = 데이터\n",
    "a = \"text\"\n",
    "# a 변수를 출력\n",
    "print(a)\n",
    "# a의 데이터 타입 출력\n",
    "print(type(a))"
   ]
  },
  {
   "cell_type": "code",
   "execution_count": null,
   "id": "c654c5ee",
   "metadata": {},
   "outputs": [
    {
     "name": "stdout",
     "output_type": "stream",
     "text": [
      "13\n",
      "7\n",
      "30\n",
      "3.3333333333333335\n",
      "3\n",
      "1\n",
      "1000\n"
     ]
    }
   ],
   "source": [
    "# 산술연산자\n",
    "x =10\n",
    "y = 3\n",
    "\n",
    "# 사칙연산\n",
    "print(x + y)\n",
    "print(x - y)\n",
    "print(x * y)\n",
    "print(x / y)\n",
    "# 나눈 값의 몫 출력\n",
    "print(x // y)\n",
    "# 나눈 값의 나머지 출력\n",
    "print(x % y)\n",
    "# 지수 승\n",
    "print(x ** y)"
   ]
  },
  {
   "cell_type": "code",
   "execution_count": 15,
   "id": "578d7139",
   "metadata": {},
   "outputs": [
    {
     "name": "stdout",
     "output_type": "stream",
     "text": [
      "11\n"
     ]
    }
   ],
   "source": [
    "# 대입연산자\n",
    "a = 10\n",
    "a += 1  # a = a + 1\n",
    "# a는 11\n",
    "print(a) "
   ]
  },
  {
   "cell_type": "code",
   "execution_count": null,
   "id": "2f9384ee",
   "metadata": {},
   "outputs": [
    {
     "name": "stdout",
     "output_type": "stream",
     "text": [
      "22\n"
     ]
    }
   ],
   "source": [
    "a *= 2\n",
    "\n",
    "print(a)"
   ]
  },
  {
   "cell_type": "code",
   "execution_count": 17,
   "id": "ca940e79",
   "metadata": {},
   "outputs": [
    {
     "name": "stdout",
     "output_type": "stream",
     "text": [
      "False\n",
      "True\n"
     ]
    }
   ],
   "source": [
    "# 비교연산자 => 값을 비교하여 결과 True / False\n",
    "data_1 = 'A'\n",
    "data_2 = 'a'\n",
    "\n",
    "print(data_1 == data_2)\n",
    "print(data_1 != data_2)"
   ]
  },
  {
   "cell_type": "markdown",
   "id": "083b30f9",
   "metadata": {},
   "source": [
    "# 제목1\n",
    "## 제목2\n",
    "### 제목3\n",
    "#### 제목4"
   ]
  },
  {
   "cell_type": "markdown",
   "id": "1d2cb263",
   "metadata": {},
   "source": [
    "#### 리스트 형태 데이터\n",
    "### 순서형 리스트\n",
    "1. list1\n",
    "2. list2\n",
    "3. list3\n",
    "3. list4\n",
    "\n",
    "### 비순서형 리스트\n",
    "- list1\n",
    "- list2\n",
    "- list3\n",
    "\n",
    "#### 리스트 안에 리스트 생성\n",
    "1. list1\n",
    "    1. sub_list1\n",
    "    2. sub_list2"
   ]
  },
  {
   "cell_type": "markdown",
   "id": "abec6947",
   "metadata": {},
   "source": [
    "### <자료형 데이터>\n",
    "- 여러개의 데이터를 하나씩 변수에 저장시키는 형태\n",
    "- R에서는 벡터데이터와 리스트 데이터\n",
    "\n",
    "- tuple\n",
    "    - 자료형 데이터에서 가장 기본적인 형태\n",
    "    - 소괄호 ()를 이용해 데이터 생성\n",
    "    - 한번 생성되면 수정이 불가능\n",
    "- list\n",
    "    - 대괄호 []를 이용해 데이터 생성\n",
    "    - tuple과는 다르게 각 원소들을 수정, 추가, 삭제 가능\n",
    "    - 위의 작업들은 list 안에 내장된 함수 이용 \n",
    "    - 원소의 개수가 **0개**부터 생성 가능\n",
    "- dict\n",
    "    - 중괄호 {}를 이용해 데이터 생성\n",
    "    - key : value 형태의 데이터 구조\n",
    "    - tuple, list는 위치를 기준으로 데이터를 추출한다면, dict는 key를 기준으로 데이터 추출\n",
    "    - 원소의 개수는 0개부터 생성 가능"
   ]
  },
  {
   "cell_type": "code",
   "execution_count": 18,
   "id": "330b27a3",
   "metadata": {},
   "outputs": [
    {
     "name": "stdout",
     "output_type": "stream",
     "text": [
      "(1, 'Hello')\n",
      "(3, 3.14)\n",
      "<class 'tuple'>\n",
      "<class 'tuple'>\n"
     ]
    }
   ],
   "source": [
    "# tuple 데이터 생성\n",
    "# 원소 타입 달라고 생성 가능\n",
    "tuple_a = (1, 'Hello')\n",
    "tuple_b = (3, 3.14)\n",
    "print(tuple_a)\n",
    "print(tuple_b)\n",
    "print(type(tuple_a))\n",
    "print(type(tuple_b))"
   ]
  },
  {
   "cell_type": "code",
   "execution_count": 19,
   "id": "8e2ec94a",
   "metadata": {},
   "outputs": [
    {
     "name": "stdout",
     "output_type": "stream",
     "text": [
      "1\n",
      "3.14\n"
     ]
    }
   ],
   "source": [
    "# tuple에서 위치 기준 데이터 추출\n",
    "# 파이썬에서는 위치가 0부터 시작\n",
    "print(tuple_a[0])\n",
    "print(tuple_b[1])"
   ]
  },
  {
   "cell_type": "code",
   "execution_count": null,
   "id": "82e20b66",
   "metadata": {},
   "outputs": [
    {
     "name": "stdout",
     "output_type": "stream",
     "text": [
      "(1, 'Hello', 3, 3.14)\n",
      "<class 'tuple'>\n"
     ]
    }
   ],
   "source": [
    "# tuple끼리의 합\n",
    "print(tuple_a+tuple_b)\n",
    "# 두 튜플이 연결 => 새로운 튜플\n",
    "print(type(tuple_a+tuple_b))"
   ]
  },
  {
   "cell_type": "code",
   "execution_count": 24,
   "id": "00dbd3a5",
   "metadata": {},
   "outputs": [
    {
     "name": "stdout",
     "output_type": "stream",
     "text": [
      "[20, 10, 30, 40]\n",
      "['abc', 'fi', 'be']\n",
      "<class 'list'>\n",
      "<class 'list'>\n"
     ]
    }
   ],
   "source": [
    "# list 데이터 생성\n",
    "list_a = [20, 10, 30, 40]\n",
    "list_b = ['abc', 'fi', 'be']\n",
    "print(list_a)\n",
    "print(list_b)\n",
    "print(type(list_a))\n",
    "print(type(list_b))"
   ]
  },
  {
   "cell_type": "code",
   "execution_count": null,
   "id": "a47dab2d",
   "metadata": {},
   "outputs": [
    {
     "data": {
      "text/plain": [
       "[10, 20, 30, 40]"
      ]
     },
     "execution_count": 27,
     "metadata": {},
     "output_type": "execute_result"
    }
   ],
   "source": [
    "# list는 수정, 추가, 삭제 가능\n",
    "# list의 내장함수\n",
    "# 정렬을 변경 : sort() -> 기본 오름차수 정렬로 변경\n",
    "# list(list_a) 안에(.) 있는 sort() 함수 호출\n",
    "list_a.sort()\n",
    "list_a\n",
    "# [20, 10, 30, 40] -> [10, 20, 30, 40]으로 순서 변경(정렬)"
   ]
  },
  {
   "cell_type": "code",
   "execution_count": null,
   "id": "6a684a8e",
   "metadata": {},
   "outputs": [
    {
     "data": {
      "text/plain": [
       "['fi', 'be', 'abc']"
      ]
     },
     "execution_count": 31,
     "metadata": {},
     "output_type": "execute_result"
    }
   ],
   "source": [
    "# 내림차순 정렬\n",
    "# sort() 함수에는 reverse 매개변수가 존재\n",
    "# reverse = False가 기본값(오름차순)\n",
    "# 내림차순 정렬 : sort(reverse = True)\n",
    "list_b.sort(reverse=1)\n",
    "list_b\n"
   ]
  },
  {
   "cell_type": "code",
   "execution_count": null,
   "id": "6d6d4b44",
   "metadata": {},
   "outputs": [
    {
     "data": {
      "text/plain": [
       "[40, 30, 20, 10]"
      ]
     },
     "execution_count": 35,
     "metadata": {},
     "output_type": "execute_result"
    }
   ],
   "source": [
    "# 순서를 역순으로 변경하는 함수\n",
    "# reverse()\n",
    "list_a.reverse()"
   ]
  },
  {
   "cell_type": "code",
   "execution_count": 36,
   "id": "db9bf45a",
   "metadata": {},
   "outputs": [
    {
     "data": {
      "text/plain": [
       "[40, 30, 20, 10]"
      ]
     },
     "execution_count": 36,
     "metadata": {},
     "output_type": "execute_result"
    }
   ],
   "source": [
    "list_a"
   ]
  },
  {
   "cell_type": "code",
   "execution_count": null,
   "id": "a38224cc",
   "metadata": {},
   "outputs": [],
   "source": [
    "# 리스트에 원소 추가하는 함수\n",
    "# append() : 리스트의 마지막에 원소 추가\n",
    "list_a.append(33)\n",
    "# insert() : 특정 위치에 원소 추가\n",
    "# insert(index, data)\n",
    "list_a.insert(2, 15)"
   ]
  },
  {
   "cell_type": "code",
   "execution_count": 38,
   "id": "ea9d46cb",
   "metadata": {},
   "outputs": [
    {
     "data": {
      "text/plain": [
       "[40, 30, 15, 20, 10, 33]"
      ]
     },
     "execution_count": 38,
     "metadata": {},
     "output_type": "execute_result"
    }
   ],
   "source": [
    "list_a"
   ]
  },
  {
   "cell_type": "code",
   "execution_count": 39,
   "id": "0b8c3488",
   "metadata": {},
   "outputs": [
    {
     "data": {
      "text/plain": [
       "33"
      ]
     },
     "execution_count": 39,
     "metadata": {},
     "output_type": "execute_result"
    }
   ],
   "source": [
    "# list에서 원소 제거하는 방법\n",
    "# 가장 마지막 원소 제거 -> pop()\n",
    "list_a.pop()"
   ]
  },
  {
   "cell_type": "code",
   "execution_count": 40,
   "id": "fef0f268",
   "metadata": {},
   "outputs": [
    {
     "data": {
      "text/plain": [
       "[40, 30, 15, 20, 10]"
      ]
     },
     "execution_count": 40,
     "metadata": {},
     "output_type": "execute_result"
    }
   ],
   "source": [
    "list_a"
   ]
  },
  {
   "cell_type": "code",
   "execution_count": 41,
   "id": "29676e4f",
   "metadata": {},
   "outputs": [],
   "source": [
    "# list에서 특정 값을 제거 : remove(data)\n",
    "list_a.remove(20)"
   ]
  },
  {
   "cell_type": "code",
   "execution_count": 42,
   "id": "2ebfac4f",
   "metadata": {},
   "outputs": [
    {
     "data": {
      "text/plain": [
       "[40, 30, 15, 10]"
      ]
     },
     "execution_count": 42,
     "metadata": {},
     "output_type": "execute_result"
    }
   ],
   "source": [
    "list_a"
   ]
  },
  {
   "cell_type": "code",
   "execution_count": 43,
   "id": "96702b53",
   "metadata": {},
   "outputs": [
    {
     "data": {
      "text/plain": [
       "[40, 30, 15, 10, 40]"
      ]
     },
     "execution_count": 43,
     "metadata": {},
     "output_type": "execute_result"
    }
   ],
   "source": [
    "list_a.append(40)\n",
    "list_a"
   ]
  },
  {
   "cell_type": "code",
   "execution_count": null,
   "id": "50003070",
   "metadata": {},
   "outputs": [],
   "source": [
    "# 같은 값이 여러 개 있을 때 remove() 데이터 삭제\n",
    "# 해당하는 여러 값 중 맨 처음 값만 제거\n",
    "list_a.remove(40)"
   ]
  },
  {
   "cell_type": "code",
   "execution_count": 51,
   "id": "09322a35",
   "metadata": {},
   "outputs": [
    {
     "data": {
      "text/plain": [
       "[30, 15, 10, 40]"
      ]
     },
     "execution_count": 51,
     "metadata": {},
     "output_type": "execute_result"
    }
   ],
   "source": [
    "list_a"
   ]
  },
  {
   "cell_type": "code",
   "execution_count": 52,
   "id": "f2b0f5d7",
   "metadata": {},
   "outputs": [
    {
     "data": {
      "text/plain": [
       "[30, 15, 40]"
      ]
     },
     "execution_count": 52,
     "metadata": {},
     "output_type": "execute_result"
    }
   ],
   "source": [
    "# 특정 위치의 데이터 제거 : del\n",
    "del list_a[2]\n",
    "list_a"
   ]
  },
  {
   "cell_type": "code",
   "execution_count": null,
   "id": "66c653bf",
   "metadata": {},
   "outputs": [],
   "source": [
    "# = 복사 -> 두 값이 같은 위치 : 한 리스트가 변경 시 =로 생성한 리스트도 똑같이 변경\n",
    "list_a_clone = list_a"
   ]
  },
  {
   "cell_type": "code",
   "execution_count": 54,
   "id": "d4bed835",
   "metadata": {},
   "outputs": [
    {
     "data": {
      "text/plain": [
       "[30, 15, 40]"
      ]
     },
     "execution_count": 54,
     "metadata": {},
     "output_type": "execute_result"
    }
   ],
   "source": [
    "list_a"
   ]
  },
  {
   "cell_type": "code",
   "execution_count": 55,
   "id": "3540401f",
   "metadata": {},
   "outputs": [
    {
     "data": {
      "text/plain": [
       "[30, 15, 40]"
      ]
     },
     "execution_count": 55,
     "metadata": {},
     "output_type": "execute_result"
    }
   ],
   "source": [
    "list_a_clone"
   ]
  },
  {
   "cell_type": "code",
   "execution_count": null,
   "id": "8b57af27",
   "metadata": {},
   "outputs": [],
   "source": [
    "# list_a_clone 리스트에 값 55 추가 -> list_a 리스트에도 똑같이 55가 추가됨\n",
    "list_a_clone.append(55)"
   ]
  },
  {
   "cell_type": "code",
   "execution_count": 58,
   "id": "905e9652",
   "metadata": {},
   "outputs": [
    {
     "data": {
      "text/plain": [
       "[30, 15, 40, 55]"
      ]
     },
     "execution_count": 58,
     "metadata": {},
     "output_type": "execute_result"
    }
   ],
   "source": [
    "list_a_clone"
   ]
  },
  {
   "cell_type": "code",
   "execution_count": 59,
   "id": "cb654088",
   "metadata": {},
   "outputs": [
    {
     "data": {
      "text/plain": [
       "[30, 15, 40, 55]"
      ]
     },
     "execution_count": 59,
     "metadata": {},
     "output_type": "execute_result"
    }
   ],
   "source": [
    "list_a"
   ]
  },
  {
   "cell_type": "code",
   "execution_count": null,
   "id": "8a21fb64",
   "metadata": {},
   "outputs": [],
   "source": [
    "# copy() : 복사\n",
    "# list_a_copy 리스트는 list_a 리스트와 다른 주소에 생성\n",
    "list_a_copy = list_a.copy()"
   ]
  },
  {
   "cell_type": "code",
   "execution_count": 61,
   "id": "b4b7cf03",
   "metadata": {},
   "outputs": [
    {
     "data": {
      "text/plain": [
       "[30, 15, 40, 55]"
      ]
     },
     "execution_count": 61,
     "metadata": {},
     "output_type": "execute_result"
    }
   ],
   "source": [
    "list_a_copy"
   ]
  },
  {
   "cell_type": "code",
   "execution_count": null,
   "id": "7908dfc1",
   "metadata": {},
   "outputs": [
    {
     "data": {
      "text/plain": [
       "55"
      ]
     },
     "execution_count": 62,
     "metadata": {},
     "output_type": "execute_result"
    }
   ],
   "source": [
    "# copy 데이터 수정 => list_a_copy 리스트만 변경\n",
    "list_a_copy.pop()"
   ]
  },
  {
   "cell_type": "code",
   "execution_count": 64,
   "id": "d3656054",
   "metadata": {},
   "outputs": [
    {
     "data": {
      "text/plain": [
       "[30, 15, 40]"
      ]
     },
     "execution_count": 64,
     "metadata": {},
     "output_type": "execute_result"
    }
   ],
   "source": [
    "list_a_copy"
   ]
  },
  {
   "cell_type": "code",
   "execution_count": 65,
   "id": "001d9035",
   "metadata": {},
   "outputs": [
    {
     "data": {
      "text/plain": [
       "[30, 15, 40, 55]"
      ]
     },
     "execution_count": 65,
     "metadata": {},
     "output_type": "execute_result"
    }
   ],
   "source": [
    "list_a_clone"
   ]
  },
  {
   "cell_type": "code",
   "execution_count": null,
   "id": "805c98d9",
   "metadata": {},
   "outputs": [
    {
     "data": {
      "text/plain": [
       "1"
      ]
     },
     "execution_count": 66,
     "metadata": {},
     "output_type": "execute_result"
    }
   ],
   "source": [
    "# index() : 특정 데이터의 위치 출력 함수\n",
    "# 해당 데이터 존재X -> 에러 발생\n",
    "list_a.index(15)"
   ]
  },
  {
   "cell_type": "code",
   "execution_count": null,
   "id": "37966e62",
   "metadata": {},
   "outputs": [
    {
     "ename": "ValueError",
     "evalue": "50 is not in list",
     "output_type": "error",
     "traceback": [
      "\u001b[1;31m---------------------------------------------------------------------------\u001b[0m",
      "\u001b[1;31mValueError\u001b[0m                                Traceback (most recent call last)",
      "Cell \u001b[1;32mIn[67], line 1\u001b[0m\n\u001b[1;32m----> 1\u001b[0m \u001b[43mlist_a\u001b[49m\u001b[38;5;241;43m.\u001b[39;49m\u001b[43mindex\u001b[49m\u001b[43m(\u001b[49m\u001b[38;5;241;43m50\u001b[39;49m\u001b[43m)\u001b[49m\n",
      "\u001b[1;31mValueError\u001b[0m: 50 is not in list"
     ]
    }
   ],
   "source": [
    "list_a.index(50)    # 리스트에 찾는 값이 없음 -> Error "
   ]
  },
  {
   "cell_type": "code",
   "execution_count": null,
   "id": "1f80377c",
   "metadata": {},
   "outputs": [
    {
     "data": {
      "text/plain": [
       "-1"
      ]
     },
     "execution_count": 70,
     "metadata": {},
     "output_type": "execute_result"
    }
   ],
   "source": [
    "# 문자열에서는 찾는 데이터X => -1 반환\n",
    "text_a = 'abcd'\n",
    "text_a.find('e')"
   ]
  },
  {
   "cell_type": "code",
   "execution_count": null,
   "id": "95406c70",
   "metadata": {},
   "outputs": [
    {
     "data": {
      "text/plain": [
       "[15, 30, 40, 55]"
      ]
     },
     "execution_count": 71,
     "metadata": {},
     "output_type": "execute_result"
    }
   ],
   "source": [
    "# sort() : 정렬을 오름차순으로 변경하고 데이터 저장\n",
    "    # list에 내장된 함수\n",
    "    # 리스트명.sort()\n",
    "# sorted() : 리스트의 데이터를 오름차순으로 변경\n",
    "    # 정렬된 순서가 저장되지는 않음\n",
    "    # python base에서 제공하는 함수\n",
    "    # sorted(리스트명)\n",
    "sorted(list_a)"
   ]
  },
  {
   "cell_type": "code",
   "execution_count": 72,
   "id": "78312793",
   "metadata": {},
   "outputs": [
    {
     "data": {
      "text/plain": [
       "[30, 15, 40, 55]"
      ]
     },
     "execution_count": 72,
     "metadata": {},
     "output_type": "execute_result"
    }
   ],
   "source": [
    "list_a"
   ]
  },
  {
   "cell_type": "code",
   "execution_count": 73,
   "id": "e46422ba",
   "metadata": {},
   "outputs": [],
   "source": [
    "# dict 데이터 생성\n",
    "# key : value 형태의 구조\n",
    "dict_a = {\n",
    "    'id' : 'test',\n",
    "    'age' : 20,\n",
    "    'phone' : '01012345678'\n",
    "}"
   ]
  },
  {
   "cell_type": "code",
   "execution_count": 74,
   "id": "d835de75",
   "metadata": {},
   "outputs": [
    {
     "data": {
      "text/plain": [
       "{'id': 'test', 'age': 20, 'phone': '01012345678'}"
      ]
     },
     "execution_count": 74,
     "metadata": {},
     "output_type": "execute_result"
    }
   ],
   "source": [
    "dict_a"
   ]
  },
  {
   "cell_type": "code",
   "execution_count": 78,
   "id": "7e745776",
   "metadata": {},
   "outputs": [
    {
     "data": {
      "text/plain": [
       "20"
      ]
     },
     "execution_count": 78,
     "metadata": {},
     "output_type": "execute_result"
    }
   ],
   "source": [
    "# dict_a 데이터에서 20이라는 데이터를 추출하려면?\n",
    "dict_a['age']"
   ]
  },
  {
   "cell_type": "code",
   "execution_count": null,
   "id": "f86bcd73",
   "metadata": {},
   "outputs": [
    {
     "ename": "KeyError",
     "evalue": "1",
     "output_type": "error",
     "traceback": [
      "\u001b[1;31m---------------------------------------------------------------------------\u001b[0m",
      "\u001b[1;31mKeyError\u001b[0m                                  Traceback (most recent call last)",
      "Cell \u001b[1;32mIn[82], line 2\u001b[0m\n\u001b[0;32m      1\u001b[0m \u001b[38;5;66;03m# dict 데이터는 위치 대신 key값 기준으로 데이터 추출 => 아래의 경우는 Error 발생\u001b[39;00m\n\u001b[1;32m----> 2\u001b[0m \u001b[43mdict_a\u001b[49m\u001b[43m[\u001b[49m\u001b[38;5;241;43m1\u001b[39;49m\u001b[43m]\u001b[49m\n",
      "\u001b[1;31mKeyError\u001b[0m: 1"
     ]
    }
   ],
   "source": [
    "# dict 데이터는 위치 대신 key값 기준으로 데이터 추출 \n",
    "# 1이라는 key 존재X -> 아래의 경우는 Error 발생\n",
    "dict_a[1]"
   ]
  },
  {
   "cell_type": "code",
   "execution_count": 83,
   "id": "984022f6",
   "metadata": {},
   "outputs": [],
   "source": [
    "# dict에 새로운 데이터 추가하려면 -> key : value 형태로 추가\n",
    "dict_a['loc'] = 'seoul'"
   ]
  },
  {
   "cell_type": "code",
   "execution_count": 84,
   "id": "851d0b38",
   "metadata": {},
   "outputs": [
    {
     "data": {
      "text/plain": [
       "{'id': 'test', 'age': 20, 'phone': '01012345678', 'loc': 'seoul'}"
      ]
     },
     "execution_count": 84,
     "metadata": {},
     "output_type": "execute_result"
    }
   ],
   "source": [
    "dict_a"
   ]
  },
  {
   "cell_type": "code",
   "execution_count": null,
   "id": "6b553e36",
   "metadata": {},
   "outputs": [],
   "source": [
    "# del 딕셔너리명[키값] => 해당 키값에 해당하는 key:value 모두 삭제\n",
    "del dict_a['phone']"
   ]
  },
  {
   "cell_type": "code",
   "execution_count": 86,
   "id": "a6b55ad2",
   "metadata": {},
   "outputs": [
    {
     "data": {
      "text/plain": [
       "{'id': 'test', 'age': 20, 'loc': 'seoul'}"
      ]
     },
     "execution_count": 86,
     "metadata": {},
     "output_type": "execute_result"
    }
   ],
   "source": [
    "dict_a"
   ]
  },
  {
   "cell_type": "code",
   "execution_count": 87,
   "id": "609463f3",
   "metadata": {},
   "outputs": [
    {
     "data": {
      "text/plain": [
       "{'id': ['test', 'test2', 'test3', 'test4'],\n",
       " 'password': ['1111', '2222', '3333', '4444'],\n",
       " 'name': ['Kim', 'Park', 'Lee', 'Choi']}"
      ]
     },
     "execution_count": 87,
     "metadata": {},
     "output_type": "execute_result"
    }
   ],
   "source": [
    "# 일반적인 open api에서 데이터를 받아올 때\n",
    "# DB에서 데이터를 가져올 때\n",
    "sample_data = {\n",
    "    'id' : ['test', 'test2', 'test3', 'test4'],\n",
    "    'password' : ['1111', '2222', '3333', '4444'],\n",
    "    'name' : ['Kim', 'Park', 'Lee', 'Choi']\n",
    "}\n",
    "sample_data"
   ]
  },
  {
   "cell_type": "code",
   "execution_count": 88,
   "id": "dc80705c",
   "metadata": {},
   "outputs": [
    {
     "name": "stdout",
     "output_type": "stream",
     "text": [
      "{'id': ['test', 'test2', 'test3', 'test4'], 'password': ['1111', '2222', '3333', '4444'], 'name': ['Kim', 'Park', 'Lee', 'Choi']}\n"
     ]
    }
   ],
   "source": [
    "print(sample_data)"
   ]
  },
  {
   "cell_type": "code",
   "execution_count": 96,
   "id": "aaecf48e",
   "metadata": {},
   "outputs": [
    {
     "name": "stdout",
     "output_type": "stream",
     "text": [
      "['Kim', 'Park', 'Lee', 'Choi']\n",
      "Lee\n"
     ]
    }
   ],
   "source": [
    "# sample_data의 type은 dict -> key값 이용해 추출\n",
    "# 'Lee'는 name key값에 존재\n",
    "print(sample_data['name'])\n",
    "# sample_data['name']의 type은 list -> index 이용해 추출\n",
    "# 'Lee' 문자열은 3번째 위치에 존재(index = 2)\n",
    "print(sample_data['name'][2])"
   ]
  },
  {
   "cell_type": "code",
   "execution_count": null,
   "id": "4ff994d8",
   "metadata": {},
   "outputs": [],
   "source": [
    "# list 데이터 내에 dict 데이터\n",
    "sample_data2 = [\n",
    "    {\n",
    "        'id' : 'test',\n",
    "        'password' : '1111',\n",
    "        'name' : 'Kim'\n",
    "    },\n",
    "    {\n",
    "        'id' : 'test2',\n",
    "        'password' : '2222',\n",
    "        'name' : 'Park'\n",
    "    },\n",
    "    {\n",
    "        'id' : 'test3',\n",
    "        'password' : '3333',\n",
    "        'name' : 'Lee'\n",
    "    }\n",
    "]"
   ]
  },
  {
   "cell_type": "code",
   "execution_count": 98,
   "id": "16df9f29",
   "metadata": {},
   "outputs": [
    {
     "name": "stdout",
     "output_type": "stream",
     "text": [
      "[{'id': 'test', 'password': '1111', 'name': 'Kim'}, {'id': 'test2', 'password': '2222', 'name': 'Park'}, {'id': 'test3', 'password': '3333', 'name': 'Lee'}]\n"
     ]
    }
   ],
   "source": [
    "print(sample_data2)"
   ]
  },
  {
   "cell_type": "code",
   "execution_count": null,
   "id": "244374f5",
   "metadata": {},
   "outputs": [
    {
     "name": "stdout",
     "output_type": "stream",
     "text": [
      "test2\n"
     ]
    }
   ],
   "source": [
    "# sample_data2에서 test2 추출하려면\n",
    "# test2는 sample_data2에서 index=1에 위치\n",
    "# test2는 index=1의 딕셔너리에 'id'라는 key값에 위치\n",
    "print(sample_data2[1]['id'])"
   ]
  },
  {
   "cell_type": "code",
   "execution_count": 101,
   "id": "0e6b8069",
   "metadata": {},
   "outputs": [
    {
     "data": {
      "text/plain": [
       "dict_keys(['id', 'password', 'name'])"
      ]
     },
     "execution_count": 101,
     "metadata": {},
     "output_type": "execute_result"
    }
   ],
   "source": [
    "# dict 데이터에서 key 값들만 확인\n",
    "sample_data.keys()"
   ]
  },
  {
   "cell_type": "code",
   "execution_count": 102,
   "id": "24fabb4d",
   "metadata": {},
   "outputs": [
    {
     "data": {
      "text/plain": [
       "dict_values([['test', 'test2', 'test3', 'test4'], ['1111', '2222', '3333', '4444'], ['Kim', 'Park', 'Lee', 'Choi']])"
      ]
     },
     "execution_count": 102,
     "metadata": {},
     "output_type": "execute_result"
    }
   ],
   "source": [
    "# dict 데이터에서 value 값들만 확인\n",
    "sample_data.values()"
   ]
  },
  {
   "cell_type": "code",
   "execution_count": null,
   "id": "0ce67d02",
   "metadata": {},
   "outputs": [
    {
     "data": {
      "text/plain": [
       "dict_items([('id', ['test', 'test2', 'test3', 'test4']), ('password', ['1111', '2222', '3333', '4444']), ('name', ['Kim', 'Park', 'Lee', 'Choi'])])"
      ]
     },
     "execution_count": 103,
     "metadata": {},
     "output_type": "execute_result"
    }
   ],
   "source": [
    "# dict 데이터에서 튜플(key, value) 형태로 데이터를 묶어 출력\n",
    "# 3차원 데이터 => 괄호의 개수 = 차원\n",
    "sample_data.items()"
   ]
  },
  {
   "cell_type": "code",
   "execution_count": 107,
   "id": "d488143f",
   "metadata": {},
   "outputs": [
    {
     "name": "stdout",
     "output_type": "stream",
     "text": [
      "a는 5보다 크다\n",
      "프로그램 종료\n"
     ]
    }
   ],
   "source": [
    "# 조건문\n",
    "# 조건식이 참인 경우 실행할 코드와 거짓인 경우 실행할 코드를 나눠서 작성\n",
    "# if ~ else문\n",
    "a = 10\n",
    "if (a > 5):\n",
    "    # a가 5보다 큰 경우 실행할 코드\n",
    "    print('a는 5보다 크다')\n",
    "else:\n",
    "    # a가 5보다 작거나 같은 경우 실행할 코드\n",
    "    print('a는 5보다 작거나 같다')\n",
    "\n",
    "print('프로그램 종료')"
   ]
  },
  {
   "cell_type": "code",
   "execution_count": 117,
   "id": "8472c2f6",
   "metadata": {},
   "outputs": [
    {
     "name": "stdout",
     "output_type": "stream",
     "text": [
      "점수: 75\n",
      "C\n"
     ]
    }
   ],
   "source": [
    "# 다중 조건문\n",
    "# if ~ elif ~ else문\n",
    "# int() : 데이터를 숫자로 변경\n",
    "# input() : 데이터를 입력하는 공간을 생성하여 입력한 값을 문자로 되돌려준다\n",
    "score = int( input('점수를 입력하시오: ') )\n",
    "print('점수:',score)\n",
    "\n",
    "if (score >= 90):\n",
    "    print('A')\n",
    "elif (score >= 80):\n",
    "    print('B')\n",
    "elif (score >= 70):\n",
    "    print('C')\n",
    "else:\n",
    "    print('F')"
   ]
  },
  {
   "cell_type": "code",
   "execution_count": null,
   "id": "ac5750ae",
   "metadata": {},
   "outputs": [
    {
     "name": "stdout",
     "output_type": "stream",
     "text": [
      "range(1, 10)\n",
      "[1, 2, 3, 4, 5, 6, 7, 8, 9]\n"
     ]
    }
   ],
   "source": [
    "# 반복문\n",
    "# for문\n",
    "# for문의 기본 형태 => for i in range(시작값, 종료값, 증가값)\n",
    "# range() 함수\n",
    "# 시작값=0, 증가값=1이 기본값\n",
    "# 종료값만 지정해도 됨\n",
    "print(range(1, 10, 1))\n",
    "print(\n",
    "    list(\n",
    "        range(1, 10, 1)\n",
    "        )\n",
    "    )"
   ]
  },
  {
   "cell_type": "code",
   "execution_count": 121,
   "id": "7c21f122",
   "metadata": {},
   "outputs": [
    {
     "name": "stdout",
     "output_type": "stream",
     "text": [
      "1\n",
      "2\n",
      "3\n",
      "4\n"
     ]
    }
   ],
   "source": [
    "for i in range(1, 5, 1):\n",
    "    # 몇 번 반복? => 4번 (1, 2, 3, 4)\n",
    "    print(i)"
   ]
  },
  {
   "cell_type": "code",
   "execution_count": 124,
   "id": "ff622bf7",
   "metadata": {},
   "outputs": [
    {
     "name": "stdout",
     "output_type": "stream",
     "text": [
      "반복\n",
      "반복\n",
      "반복\n",
      "반복\n",
      "반복\n"
     ]
    }
   ],
   "source": [
    "for i in range(5):\n",
    "    # 몇 번 반복? => 5번 (0, 1, 2, 3, 4)\n",
    "    print('반복')"
   ]
  },
  {
   "cell_type": "code",
   "execution_count": 125,
   "id": "f46b904f",
   "metadata": {},
   "outputs": [],
   "source": [
    "tuple_data = (3, 6, 1)\n",
    "list_data = [8, 5, 1]\n",
    "dict_data = {\n",
    "    'id' : 'test',\n",
    "    'pass' : '1111'\n",
    "}"
   ]
  },
  {
   "cell_type": "code",
   "execution_count": 126,
   "id": "0a86f779",
   "metadata": {},
   "outputs": [
    {
     "name": "stdout",
     "output_type": "stream",
     "text": [
      "3\n",
      "6\n",
      "1\n"
     ]
    }
   ],
   "source": [
    "for i in tuple_data:\n",
    "    print(i)"
   ]
  },
  {
   "cell_type": "code",
   "execution_count": 127,
   "id": "92fdc3fd",
   "metadata": {},
   "outputs": [
    {
     "name": "stdout",
     "output_type": "stream",
     "text": [
      "8\n",
      "5\n",
      "1\n"
     ]
    }
   ],
   "source": [
    "for i in list_data:\n",
    "    print(i)"
   ]
  },
  {
   "cell_type": "code",
   "execution_count": 138,
   "id": "195f3f14",
   "metadata": {},
   "outputs": [
    {
     "name": "stdout",
     "output_type": "stream",
     "text": [
      "0 8\n",
      "1 5\n",
      "2 1\n"
     ]
    }
   ],
   "source": [
    "# len() 함수 이용 -> list_data의 값들을 하나씩 출력\n",
    "for i in range( len(list_data) ):\n",
    "    # i에는 0, 1, 2 => list_data의 index값\n",
    "    print(i, list_data[i])"
   ]
  },
  {
   "cell_type": "code",
   "execution_count": 135,
   "id": "29692810",
   "metadata": {},
   "outputs": [
    {
     "name": "stdout",
     "output_type": "stream",
     "text": [
      "id test\n",
      "pass 1111\n"
     ]
    }
   ],
   "source": [
    "for i in dict_data:\n",
    "    # i에는 dict_data의 key값 대입\n",
    "    print(i, dict_data[i])"
   ]
  },
  {
   "cell_type": "code",
   "execution_count": 139,
   "id": "88921ea7",
   "metadata": {},
   "outputs": [
    {
     "name": "stdout",
     "output_type": "stream",
     "text": [
      "0\n",
      "1\n",
      "2\n",
      "3\n",
      "4\n",
      "5\n",
      "6\n",
      "7\n",
      "8\n",
      "9\n"
     ]
    }
   ],
   "source": [
    "# while문\n",
    "# 조건식이 거짓이 될 때까지 반복 실행하는 구문\n",
    "\n",
    "# 초기값 지정\n",
    "i = 0\n",
    "\n",
    "while i < 10:\n",
    "    print(i)\n",
    "    i += 1"
   ]
  },
  {
   "cell_type": "code",
   "execution_count": 140,
   "id": "5e0ad1a6",
   "metadata": {},
   "outputs": [
    {
     "name": "stdout",
     "output_type": "stream",
     "text": [
      "1\n",
      "2\n",
      "3\n",
      "4\n"
     ]
    }
   ],
   "source": [
    "# 반복문 강제 종료 => break\n",
    "for i in range(1, 100, 1):\n",
    "    # i에는 1~99까지 1씩 증가하며 값 대입\n",
    "    if i == 5:\n",
    "        break\n",
    "    print(i)"
   ]
  },
  {
   "cell_type": "code",
   "execution_count": 141,
   "id": "1c3f62fb",
   "metadata": {},
   "outputs": [
    {
     "name": "stdout",
     "output_type": "stream",
     "text": [
      "[3, 6, 9, 12, 15, 18, 21, 24, 27, 30, 33, 36, 39, 42, 45, 48, 51, 54, 57, 60, 63, 66, 69, 72, 75, 78, 81, 84, 87, 90, 93, 96, 99]\n"
     ]
    }
   ],
   "source": [
    "# 리스트 데이터는 원소의 개수 0개부터 생성 가능\n",
    "# 1부터 100까지(range(1, 101, 1))의 숫자 중 3의 배수(3으로 나눴을 때 나머지=0)\n",
    "# 하나의 리스트로 생성\n",
    "list_data = []\n",
    "\n",
    "for i in range(1, 101, 1):\n",
    "    # 3의 배수 조건식\n",
    "    if i % 3 == 0:\n",
    "        list_data.append(i)\n",
    "    \n",
    "print(list_data)"
   ]
  },
  {
   "cell_type": "code",
   "execution_count": 142,
   "id": "b961efe8",
   "metadata": {},
   "outputs": [
    {
     "name": "stdout",
     "output_type": "stream",
     "text": [
      "55\n"
     ]
    }
   ],
   "source": [
    "# 1부터 10까지의 합계\n",
    "\n",
    "# 누적합을 할 수 있는 공간\n",
    "result = 0\n",
    "\n",
    "for i in range(1, 11, 1):\n",
    "    result += i\n",
    "print(result)"
   ]
  },
  {
   "cell_type": "code",
   "execution_count": null,
   "id": "9ff592f3",
   "metadata": {},
   "outputs": [
    {
     "name": "stdout",
     "output_type": "stream",
     "text": [
      "55\n",
      "11\n"
     ]
    }
   ],
   "source": [
    "# 1부터 10까지의 합계 => while문\n",
    "# 누적합 0 \n",
    "result = 0\n",
    "# 초기값 1\n",
    "i = 1\n",
    "while i<11:\n",
    "    result += i\n",
    "    i += 1\n",
    "print(result)\n",
    "print(i)"
   ]
  },
  {
   "cell_type": "code",
   "execution_count": 144,
   "id": "d9b7c8a6",
   "metadata": {},
   "outputs": [
    {
     "name": "stdout",
     "output_type": "stream",
     "text": [
      "5\n",
      "6\n",
      "7\n",
      "8\n",
      "9\n"
     ]
    }
   ],
   "source": [
    "# continue : 반복문으로 되돌아감\n",
    "for i in range(1, 10, 1):\n",
    "    # i는 1, 2, 3, 4, 5, 6, 7, 8, 9까지 대입\n",
    "    if i < 5:\n",
    "        # i가 5보다 작은 경우 continue 실행\n",
    "        continue\n",
    "    print(i)\n"
   ]
  },
  {
   "cell_type": "code",
   "execution_count": 146,
   "id": "7dd948a1",
   "metadata": {},
   "outputs": [
    {
     "name": "stdout",
     "output_type": "stream",
     "text": [
      "[3, 6, 9, 12, 15, 18, 21, 24, 27, 30, 33, 36, 39, 42, 45, 48, 51, 54, 57, 60, 63, 66, 69, 72, 75, 78, 81, 84, 87, 90, 93, 96, 99]\n"
     ]
    }
   ],
   "source": [
    "# continue 사용해 1~100까지 숫자 중 3의 배수만 출력\n",
    "list_data = []\n",
    "for i in range(1, 101, 1):\n",
    "    if i % 3 != 0:\n",
    "        continue\n",
    "    list_data.append(i)\n",
    "    \n",
    "print(list_data)"
   ]
  },
  {
   "cell_type": "code",
   "execution_count": 147,
   "id": "1b70c1c7",
   "metadata": {},
   "outputs": [],
   "source": [
    "# 2차원 리스트 데이터를 반복문 이용해 원소 출력\n",
    "list_data2 = [\n",
    "    [10, 20, 30, 40],\n",
    "    [15, 25, 35, 45],\n",
    "    [100, 200, 300, 400]\n",
    "]"
   ]
  },
  {
   "cell_type": "code",
   "execution_count": 150,
   "id": "4969df2b",
   "metadata": {},
   "outputs": [
    {
     "name": "stdout",
     "output_type": "stream",
     "text": [
      "[10, 20, 30, 40]\n",
      "[15, 25, 35, 45]\n",
      "[100, 200, 300, 400]\n"
     ]
    }
   ],
   "source": [
    "for i in list_data2:\n",
    "    print(i)"
   ]
  },
  {
   "cell_type": "code",
   "execution_count": null,
   "id": "c742c38e",
   "metadata": {},
   "outputs": [
    {
     "name": "stdout",
     "output_type": "stream",
     "text": [
      "10\n",
      "20\n",
      "30\n",
      "40\n",
      "15\n",
      "25\n",
      "35\n",
      "45\n",
      "100\n",
      "200\n",
      "300\n",
      "400\n"
     ]
    }
   ],
   "source": [
    "# 다중 반복문\n",
    "\n",
    "for i in list_data2:\n",
    "    # i에 대입되는 값 -> list_data2의 첫번째, 두번째, 세번째 데이터\n",
    "    # i의 데이터 타입 -> list 타입 => 반복문 사용 가능\n",
    "    # print(i)\n",
    "    for j in i:\n",
    "        # j에 대입되는 값 -> i의 첫번째~마지막 하나씩 대입\n",
    "        print(j)"
   ]
  },
  {
   "cell_type": "code",
   "execution_count": null,
   "id": "08bf3f43",
   "metadata": {},
   "outputs": [
    {
     "data": {
      "text/plain": [
       "['fi', 'be', 'abc']"
      ]
     },
     "execution_count": 153,
     "metadata": {},
     "output_type": "execute_result"
    }
   ],
   "source": [
    "list_data = [30, 40, 20, 10]\n",
    "list_data_sort = []\n",
    "\n",
    "# 첫번째 원소(index=0)와 두번째 원소 비교 -> 세번째와 비교 -> 네번째와 비교\n",
    "min_data = list_data[0]     # 첫째 원소가 가장 작은 데이터라고 가정\n",
    "\n",
    "if min_data > list_data[1]:\n",
    "    min_data = list_data[1]\n",
    "\n",
    "if min_data > list_data[2]:\n",
    "    min_data = list_data[2]\n",
    "\n",
    "if min_data > list_data[3]:\n",
    "    min_data = list_data[3]\n",
    "\n",
    "list_data_sort.append(min_data)\n",
    "list_data.remove(min_data)\n",
    "\n",
    "print(list_data_sort)\n",
    "\n",
    "\n"
   ]
  },
  {
   "cell_type": "code",
   "execution_count": 173,
   "id": "dce45e2a",
   "metadata": {},
   "outputs": [
    {
     "name": "stdout",
     "output_type": "stream",
     "text": [
      "[10, 20, 30, 40]\n",
      "[]\n"
     ]
    }
   ],
   "source": [
    "list_data = [30, 40, 20, 10]\n",
    "sort_data = []\n",
    "\n",
    "while list_data:\n",
    "\n",
    "    min_data = list_data[0]  \n",
    "\n",
    "    for i in range(1, len(list_data), 1):\n",
    "        if min_data > list_data[i]:\n",
    "            min_data = list_data[i]\n",
    "\n",
    "    # list_data에서 가장 작은 값을 sort_data에 추가\n",
    "    sort_data.append(min_data)\n",
    "    # list_data에서 가장 작은 값 제거\n",
    "    list_data.remove(min_data)\n",
    "\n",
    "print(sort_data)\n",
    "print(list_data)"
   ]
  },
  {
   "cell_type": "code",
   "execution_count": 165,
   "id": "fd290931",
   "metadata": {},
   "outputs": [
    {
     "name": "stdout",
     "output_type": "stream",
     "text": [
      "sort_data:  [10]\n",
      "list_data:  [30, 40, 20]\n",
      "sort_data:  [10, 20]\n",
      "list_data:  [30, 40]\n",
      "sort_data:  [10, 20, 30]\n",
      "list_data:  [40]\n",
      "sort_data:  [10, 20, 30, 40]\n",
      "list_data:  []\n"
     ]
    }
   ],
   "source": [
    "list_data = [30, 40, 20, 10]\n",
    "sort_data = []\n",
    "\n",
    "for i in range(len(list_data)):\n",
    "\n",
    "    min_data = list_data[0]  \n",
    "\n",
    "    for i in range(1, len(list_data), 1):\n",
    "        if min_data > list_data[i]:\n",
    "            min_data = list_data[i]\n",
    "\n",
    "    # list_data에서 가장 작은 값을 sort_data에 추가\n",
    "    sort_data.append(min_data)\n",
    "    # list_data에서 가장 작은 값 제거\n",
    "    list_data.remove(min_data)\n",
    "\n",
    "    print(\"sort_data: \", sort_data)\n",
    "    print(\"list_data: \", list_data)"
   ]
  },
  {
   "cell_type": "code",
   "execution_count": 180,
   "id": "3aef126f",
   "metadata": {},
   "outputs": [
    {
     "data": {
      "text/plain": [
       "' Hello world '"
      ]
     },
     "execution_count": 180,
     "metadata": {},
     "output_type": "execute_result"
    }
   ],
   "source": [
    "# 문자열 내장 함수\n",
    "str_data = ' Hello world '\n",
    "str_data"
   ]
  },
  {
   "cell_type": "code",
   "execution_count": 181,
   "id": "431289d5",
   "metadata": {},
   "outputs": [
    {
     "data": {
      "text/plain": [
       "' HELLO WORLD '"
      ]
     },
     "execution_count": 181,
     "metadata": {},
     "output_type": "execute_result"
    }
   ],
   "source": [
    "# 문자를 모두 대문자로 변경 : upper()\n",
    "str_data.upper()"
   ]
  },
  {
   "cell_type": "code",
   "execution_count": 182,
   "id": "da71af0a",
   "metadata": {},
   "outputs": [
    {
     "data": {
      "text/plain": [
       "' hello world '"
      ]
     },
     "execution_count": 182,
     "metadata": {},
     "output_type": "execute_result"
    }
   ],
   "source": [
    "# 문자를 모두 소문자로 변경 : lower()\n",
    "str_data.lower()"
   ]
  },
  {
   "cell_type": "code",
   "execution_count": 183,
   "id": "8dcae327",
   "metadata": {},
   "outputs": [
    {
     "data": {
      "text/plain": [
       "' hELLO WORLD '"
      ]
     },
     "execution_count": 183,
     "metadata": {},
     "output_type": "execute_result"
    }
   ],
   "source": [
    "# 대문자 -> 소문자로, 소문자 -> 대문자로 변경 : swapcase()\n",
    "str_data.swapcase() "
   ]
  },
  {
   "cell_type": "code",
   "execution_count": 184,
   "id": "99e1e047",
   "metadata": {},
   "outputs": [
    {
     "data": {
      "text/plain": [
       "' Hello World '"
      ]
     },
     "execution_count": 184,
     "metadata": {},
     "output_type": "execute_result"
    }
   ],
   "source": [
    "# 단어의 첫 글자만 대문자로 변경 : title()\n",
    "str_data.title()"
   ]
  },
  {
   "cell_type": "code",
   "execution_count": 185,
   "id": "985c29e3",
   "metadata": {},
   "outputs": [
    {
     "data": {
      "text/plain": [
       "True"
      ]
     },
     "execution_count": 185,
     "metadata": {},
     "output_type": "execute_result"
    }
   ],
   "source": [
    "'Hello' == 'hello'.title()"
   ]
  },
  {
   "cell_type": "code",
   "execution_count": 187,
   "id": "ce86701e",
   "metadata": {},
   "outputs": [
    {
     "data": {
      "text/plain": [
       "'Hello world'"
      ]
     },
     "execution_count": 187,
     "metadata": {},
     "output_type": "execute_result"
    }
   ],
   "source": [
    "# strip() : 문자열 시작과 끝에 있는 공백 제거\n",
    "# lstrip() : 문자열 왼쪽(시작)에 있는 공백 제거\n",
    "# rstrip() : 문자열 오른쪽(끝)에 있는 공백 제거\n",
    "\n",
    "str_data.strip()"
   ]
  },
  {
   "cell_type": "code",
   "execution_count": 188,
   "id": "f88b7cb8",
   "metadata": {},
   "outputs": [
    {
     "data": {
      "text/plain": [
       "'Hello world '"
      ]
     },
     "execution_count": 188,
     "metadata": {},
     "output_type": "execute_result"
    }
   ],
   "source": [
    "str_data.lstrip()"
   ]
  },
  {
   "cell_type": "code",
   "execution_count": 189,
   "id": "06256fa1",
   "metadata": {},
   "outputs": [
    {
     "data": {
      "text/plain": [
       "' Hello world'"
      ]
     },
     "execution_count": 189,
     "metadata": {},
     "output_type": "execute_result"
    }
   ],
   "source": [
    "str_data.rstrip()"
   ]
  },
  {
   "cell_type": "code",
   "execution_count": null,
   "id": "f3d09493",
   "metadata": {},
   "outputs": [
    {
     "name": "stdout",
     "output_type": "stream",
     "text": [
      " Hello world \n"
     ]
    }
   ],
   "source": [
    "print(str_data)\n",
    "# 실제 출력에서는 공백이 잘 보이지 않음\n",
    "# 확인하려면 드래그"
   ]
  },
  {
   "cell_type": "code",
   "execution_count": null,
   "id": "92d4d8f9",
   "metadata": {},
   "outputs": [
    {
     "name": "stdout",
     "output_type": "stream",
     "text": [
      "10$20$\n"
     ]
    }
   ],
   "source": [
    "# strip() 함수에 인자 대입 -> 해당 문자 제거\n",
    "price1 = '10$'\n",
    "price2 = '20$'\n",
    "\n",
    "print(price1 + price2)"
   ]
  },
  {
   "cell_type": "code",
   "execution_count": null,
   "id": "7d568da1",
   "metadata": {},
   "outputs": [
    {
     "data": {
      "text/plain": [
       "30"
      ]
     },
     "execution_count": 196,
     "metadata": {},
     "output_type": "execute_result"
    }
   ],
   "source": [
    "# price을 숫자형 데이터로 변환 : int()\n",
    "# price 내의 $ 문자 제거 -> price.strip('$')\n",
    "int(price1.strip('$')) + int(price2.strip('$'))"
   ]
  },
  {
   "cell_type": "code",
   "execution_count": null,
   "id": "e6ffd21b",
   "metadata": {},
   "outputs": [
    {
     "data": {
      "text/plain": [
       "'10000'"
      ]
     },
     "execution_count": 206,
     "metadata": {},
     "output_type": "execute_result"
    }
   ],
   "source": [
    "price = '10,000원'\n",
    "price.strip('원')\n",
    "# strip() 함수는 문자열 중간의 데이터 변경은 불가능\n",
    "# 특정 문자를 찾아 다른 문자로 대체 : replace(특정 문자, 대체할 문자)\n",
    "price.strip('원').replace(',', '')"
   ]
  },
  {
   "cell_type": "code",
   "execution_count": null,
   "id": "eb3a8850",
   "metadata": {},
   "outputs": [
    {
     "data": {
      "text/plain": [
       "11000"
      ]
     },
     "execution_count": 207,
     "metadata": {},
     "output_type": "execute_result"
    }
   ],
   "source": [
    "int(price.strip('원').replace(',','')) + 1000"
   ]
  },
  {
   "cell_type": "code",
   "execution_count": 209,
   "id": "08ccb254",
   "metadata": {},
   "outputs": [],
   "source": [
    "item_1 = '상품A'\n",
    "item_2 = '상 품 A'\n",
    "item_3 = '상 품 a'"
   ]
  },
  {
   "cell_type": "code",
   "execution_count": null,
   "id": "a46075cf",
   "metadata": {},
   "outputs": [
    {
     "data": {
      "text/plain": [
       "True"
      ]
     },
     "execution_count": 215,
     "metadata": {},
     "output_type": "execute_result"
    }
   ],
   "source": [
    "# item_1과 item_2 그리고 item_3이 같다 라는 비교연산자 사용할 때 True 나오게 하려면?\n",
    "# 모든 문자는 대문자로 변경 : upper()\n",
    "# 문자열 사이의 공백 모두 제거 (공백 -> 빈텍스트로 대체) : replace()\n",
    "\n",
    "item_1.upper().replace(' ', '') == item_2.upper().replace(' ', '') == item_3.upper().replace(' ', '')"
   ]
  },
  {
   "cell_type": "code",
   "execution_count": 219,
   "id": "454516a6",
   "metadata": {},
   "outputs": [
    {
     "name": "stdout",
     "output_type": "stream",
     "text": [
      "True\n",
      "True\n",
      "True\n"
     ]
    }
   ],
   "source": [
    "item_3 = item_3.upper()\n",
    "item_2 = item_2.replace(' ', '')\n",
    "item_3 = item_3.replace(' ', '')\n",
    "\n",
    "print(item_1 == item_2)\n",
    "print(item_1 == item_3)\n",
    "\n",
    "print(item_1 == item_2 == item_3)"
   ]
  },
  {
   "cell_type": "code",
   "execution_count": 220,
   "id": "390d395e",
   "metadata": {},
   "outputs": [
    {
     "data": {
      "text/plain": [
       "['Hello', 'World']"
      ]
     },
     "execution_count": 220,
     "metadata": {},
     "output_type": "execute_result"
    }
   ],
   "source": [
    "# 문자열을 나눠주는 함수 : split()\n",
    "# 문자열 공백 기준으로 문자 나눠줌 => 결과 list 형태\n",
    "\n",
    "str_data = 'Hello World'\n",
    "str_data.split()"
   ]
  },
  {
   "cell_type": "code",
   "execution_count": 224,
   "id": "6c0e3d71",
   "metadata": {},
   "outputs": [
    {
     "data": {
      "text/plain": [
       "['a', 'b', 'c', 'd']"
      ]
     },
     "execution_count": 224,
     "metadata": {},
     "output_type": "execute_result"
    }
   ],
   "source": [
    "str_data2 = 'ammbmmcmmd'\n",
    "str_data2.split('mm')"
   ]
  },
  {
   "cell_type": "code",
   "execution_count": 239,
   "id": "bbdcd10e",
   "metadata": {},
   "outputs": [],
   "source": [
    "sql_data = 'select * from table'\n",
    "sql_data2 = 'SELECT * FROM table'\n",
    "# sql_data가 select로 시작하는가? => ㅇㅇ\n",
    "\n",
    "data = 'select'"
   ]
  },
  {
   "cell_type": "code",
   "execution_count": 243,
   "id": "a5ed084f",
   "metadata": {},
   "outputs": [
    {
     "name": "stdout",
     "output_type": "stream",
     "text": [
      "True\n",
      "True\n",
      "True\n",
      "True\n",
      "True\n",
      "True\n"
     ]
    }
   ],
   "source": [
    "for i in range(6):\n",
    "    print(sql_data[i].lower() == sql_data2[i].lower())\n"
   ]
  },
  {
   "cell_type": "code",
   "execution_count": 240,
   "id": "596638f0",
   "metadata": {},
   "outputs": [
    {
     "data": {
      "text/plain": [
       "True"
      ]
     },
     "execution_count": 240,
     "metadata": {},
     "output_type": "execute_result"
    }
   ],
   "source": [
    "# sql_data에서 첫번째 문자(index=0)부터 6번째 문자(7번째 전까지, index=6)까지 출력\n",
    "sql_data[0:len(data)] == data"
   ]
  },
  {
   "cell_type": "code",
   "execution_count": 241,
   "id": "7dc5682f",
   "metadata": {},
   "outputs": [
    {
     "data": {
      "text/plain": [
       "True"
      ]
     },
     "execution_count": 241,
     "metadata": {},
     "output_type": "execute_result"
    }
   ],
   "source": [
    "sql_data2[:len(data)].lower() == data"
   ]
  },
  {
   "cell_type": "code",
   "execution_count": 246,
   "id": "33aed409",
   "metadata": {},
   "outputs": [
    {
     "data": {
      "text/plain": [
       "True"
      ]
     },
     "execution_count": 246,
     "metadata": {},
     "output_type": "execute_result"
    }
   ],
   "source": [
    "sql_data.split(' ')[0] == data"
   ]
  },
  {
   "cell_type": "code",
   "execution_count": 248,
   "id": "3d7255a4",
   "metadata": {},
   "outputs": [
    {
     "data": {
      "text/plain": [
       "True"
      ]
     },
     "execution_count": 248,
     "metadata": {},
     "output_type": "execute_result"
    }
   ],
   "source": [
    "sql_data2.split(' ')[0].lower() == data"
   ]
  },
  {
   "cell_type": "code",
   "execution_count": 249,
   "id": "acdb03f7",
   "metadata": {},
   "outputs": [
    {
     "data": {
      "text/plain": [
       "True"
      ]
     },
     "execution_count": 249,
     "metadata": {},
     "output_type": "execute_result"
    }
   ],
   "source": [
    "# 문자의 시작이 특정 문자와 같은가? : startswith() => 결과 T/F\n",
    "sql_data.startswith(data)\n"
   ]
  },
  {
   "cell_type": "code",
   "execution_count": null,
   "id": "f5185dfd",
   "metadata": {},
   "outputs": [
    {
     "data": {
      "text/plain": [
       "True"
      ]
     },
     "execution_count": 253,
     "metadata": {},
     "output_type": "execute_result"
    }
   ],
   "source": [
    "# 문자의 마지막이 특정 문자와 같은가? : endswith()\n",
    "sql_data.endswith('table')"
   ]
  },
  {
   "cell_type": "code",
   "execution_count": 254,
   "id": "621e0798",
   "metadata": {},
   "outputs": [],
   "source": [
    "file_list = [\n",
    "    '/csv/a.csv',\n",
    "    '/csv/b.csv',\n",
    "    '/csv/c.xlsx',\n",
    "    '/csv/d.json'\n",
    "]"
   ]
  },
  {
   "cell_type": "code",
   "execution_count": 256,
   "id": "76d020de",
   "metadata": {},
   "outputs": [
    {
     "name": "stdout",
     "output_type": "stream",
     "text": [
      "/csv/a.csv\n",
      "/csv/b.csv\n"
     ]
    }
   ],
   "source": [
    "# file_list에서 확장자가 csv인 파일만 출력?\n",
    "for i in file_list:\n",
    "    if i.endswith('csv'):\n",
    "        print(i)"
   ]
  },
  {
   "cell_type": "code",
   "execution_count": null,
   "id": "15b46504",
   "metadata": {},
   "outputs": [],
   "source": []
  }
 ],
 "metadata": {
  "kernelspec": {
   "display_name": "Python 3",
   "language": "python",
   "name": "python3"
  },
  "language_info": {
   "codemirror_mode": {
    "name": "ipython",
    "version": 3
   },
   "file_extension": ".py",
   "mimetype": "text/x-python",
   "name": "python",
   "nbconvert_exporter": "python",
   "pygments_lexer": "ipython3",
   "version": "3.9.13"
  }
 },
 "nbformat": 4,
 "nbformat_minor": 5
}
