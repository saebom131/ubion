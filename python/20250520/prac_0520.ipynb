{
 "cells": [
  {
   "cell_type": "code",
   "execution_count": 1,
   "id": "911d43a3",
   "metadata": {},
   "outputs": [
    {
     "name": "stdout",
     "output_type": "stream",
     "text": [
      "(1, 'Hello')\n",
      "(3, 3.14)\n",
      "<class 'tuple'>\n",
      "<class 'tuple'>\n"
     ]
    }
   ],
   "source": [
    "tuple_a=(1, 'Hello')\n",
    "tuple_b=(3, 3.14)\n",
    "print(tuple_a)\n",
    "print(tuple_b)\n",
    "print(type(tuple_a))\n",
    "print(type(tuple_b))"
   ]
  },
  {
   "cell_type": "code",
   "execution_count": 2,
   "id": "84c29dbf",
   "metadata": {},
   "outputs": [
    {
     "name": "stdout",
     "output_type": "stream",
     "text": [
      "1\n",
      "3.14\n"
     ]
    }
   ],
   "source": [
    "print(tuple_a[0])\n",
    "print(tuple_b[1])"
   ]
  },
  {
   "cell_type": "code",
   "execution_count": 3,
   "id": "acba0c48",
   "metadata": {},
   "outputs": [
    {
     "name": "stdout",
     "output_type": "stream",
     "text": [
      "(1, 'Hello', 3, 3.14)\n"
     ]
    }
   ],
   "source": [
    "print(tuple_a+tuple_b)"
   ]
  },
  {
   "cell_type": "code",
   "execution_count": 7,
   "id": "59a26216",
   "metadata": {},
   "outputs": [
    {
     "name": "stdout",
     "output_type": "stream",
     "text": [
      "[20, 10, 30, 40]\n",
      "['abc', 'fi', 'be']\n",
      "<class 'list'>\n",
      "<class 'list'>\n"
     ]
    }
   ],
   "source": [
    "list_a=[20,10,30,40]\n",
    "list_b=['abc','fi','be']\n",
    "print(list_a)\n",
    "print(list_b)\n",
    "print(type(list_a))\n",
    "print(type(list_b))\n"
   ]
  },
  {
   "cell_type": "code",
   "execution_count": 8,
   "id": "b903503e",
   "metadata": {},
   "outputs": [],
   "source": [
    "list_a.sort()"
   ]
  },
  {
   "cell_type": "code",
   "execution_count": 9,
   "id": "445790dd",
   "metadata": {},
   "outputs": [
    {
     "data": {
      "text/plain": [
       "[10, 20, 30, 40]"
      ]
     },
     "execution_count": 9,
     "metadata": {},
     "output_type": "execute_result"
    }
   ],
   "source": [
    "list_a"
   ]
  },
  {
   "cell_type": "code",
   "execution_count": 10,
   "id": "317729d6",
   "metadata": {},
   "outputs": [],
   "source": [
    "list_b.sort(reverse=True)"
   ]
  },
  {
   "cell_type": "code",
   "execution_count": 11,
   "id": "57cbdb2d",
   "metadata": {},
   "outputs": [
    {
     "data": {
      "text/plain": [
       "['fi', 'be', 'abc']"
      ]
     },
     "execution_count": 11,
     "metadata": {},
     "output_type": "execute_result"
    }
   ],
   "source": [
    "list_b"
   ]
  },
  {
   "cell_type": "code",
   "execution_count": 12,
   "id": "d52dcc02",
   "metadata": {},
   "outputs": [],
   "source": [
    "list_a.reverse()"
   ]
  },
  {
   "cell_type": "code",
   "execution_count": 13,
   "id": "09547dc0",
   "metadata": {},
   "outputs": [
    {
     "data": {
      "text/plain": [
       "[40, 30, 20, 10]"
      ]
     },
     "execution_count": 13,
     "metadata": {},
     "output_type": "execute_result"
    }
   ],
   "source": [
    "list_a"
   ]
  },
  {
   "cell_type": "code",
   "execution_count": 14,
   "id": "6a5d11c3",
   "metadata": {},
   "outputs": [],
   "source": [
    "list_a.append(33)\n",
    "list_a.insert(2,15)"
   ]
  },
  {
   "cell_type": "code",
   "execution_count": 15,
   "id": "6bfc3e2e",
   "metadata": {},
   "outputs": [
    {
     "data": {
      "text/plain": [
       "[40, 30, 15, 20, 10, 33]"
      ]
     },
     "execution_count": 15,
     "metadata": {},
     "output_type": "execute_result"
    }
   ],
   "source": [
    "list_a"
   ]
  },
  {
   "cell_type": "code",
   "execution_count": 16,
   "id": "ddda7eeb",
   "metadata": {},
   "outputs": [
    {
     "data": {
      "text/plain": [
       "33"
      ]
     },
     "execution_count": 16,
     "metadata": {},
     "output_type": "execute_result"
    }
   ],
   "source": [
    "list_a.pop()"
   ]
  },
  {
   "cell_type": "code",
   "execution_count": 17,
   "id": "a3d3fe35",
   "metadata": {},
   "outputs": [
    {
     "data": {
      "text/plain": [
       "[40, 30, 15, 20, 10]"
      ]
     },
     "execution_count": 17,
     "metadata": {},
     "output_type": "execute_result"
    }
   ],
   "source": [
    "list_a"
   ]
  },
  {
   "cell_type": "code",
   "execution_count": 18,
   "id": "2b6a4270",
   "metadata": {},
   "outputs": [],
   "source": [
    "list_a.remove(20)"
   ]
  },
  {
   "cell_type": "code",
   "execution_count": 19,
   "id": "8909d313",
   "metadata": {},
   "outputs": [
    {
     "data": {
      "text/plain": [
       "[40, 30, 15, 10]"
      ]
     },
     "execution_count": 19,
     "metadata": {},
     "output_type": "execute_result"
    }
   ],
   "source": [
    "list_a"
   ]
  },
  {
   "cell_type": "code",
   "execution_count": 20,
   "id": "f7b1cc15",
   "metadata": {},
   "outputs": [
    {
     "data": {
      "text/plain": [
       "[40, 30, 15, 10, 40]"
      ]
     },
     "execution_count": 20,
     "metadata": {},
     "output_type": "execute_result"
    }
   ],
   "source": [
    "list_a.append(40)\n",
    "list_a"
   ]
  },
  {
   "cell_type": "code",
   "execution_count": 21,
   "id": "d93de207",
   "metadata": {},
   "outputs": [
    {
     "data": {
      "text/plain": [
       "[30, 15, 10, 40]"
      ]
     },
     "execution_count": 21,
     "metadata": {},
     "output_type": "execute_result"
    }
   ],
   "source": [
    "list_a.remove(40)\n",
    "list_a"
   ]
  },
  {
   "cell_type": "code",
   "execution_count": 22,
   "id": "aca6a41d",
   "metadata": {},
   "outputs": [
    {
     "data": {
      "text/plain": [
       "[30, 15, 40]"
      ]
     },
     "execution_count": 22,
     "metadata": {},
     "output_type": "execute_result"
    }
   ],
   "source": [
    "del list_a[2]\n",
    "list_a"
   ]
  },
  {
   "cell_type": "code",
   "execution_count": 23,
   "id": "1580c335",
   "metadata": {},
   "outputs": [],
   "source": [
    "list_a_clone = list_a"
   ]
  },
  {
   "cell_type": "code",
   "execution_count": 24,
   "id": "02949869",
   "metadata": {},
   "outputs": [
    {
     "data": {
      "text/plain": [
       "[30, 15, 40]"
      ]
     },
     "execution_count": 24,
     "metadata": {},
     "output_type": "execute_result"
    }
   ],
   "source": [
    "list_a"
   ]
  },
  {
   "cell_type": "code",
   "execution_count": 25,
   "id": "5e0f2a3e",
   "metadata": {},
   "outputs": [
    {
     "data": {
      "text/plain": [
       "[30, 15, 40]"
      ]
     },
     "execution_count": 25,
     "metadata": {},
     "output_type": "execute_result"
    }
   ],
   "source": [
    "list_a_clone"
   ]
  },
  {
   "cell_type": "code",
   "execution_count": 26,
   "id": "c815dab9",
   "metadata": {},
   "outputs": [
    {
     "data": {
      "text/plain": [
       "[30, 15, 40, 55]"
      ]
     },
     "execution_count": 26,
     "metadata": {},
     "output_type": "execute_result"
    }
   ],
   "source": [
    "list_a_clone.append(55)\n",
    "list_a_clone"
   ]
  },
  {
   "cell_type": "code",
   "execution_count": 27,
   "id": "aa6d8162",
   "metadata": {},
   "outputs": [
    {
     "data": {
      "text/plain": [
       "[30, 15, 40, 55]"
      ]
     },
     "execution_count": 27,
     "metadata": {},
     "output_type": "execute_result"
    }
   ],
   "source": [
    "list_a"
   ]
  },
  {
   "cell_type": "code",
   "execution_count": 28,
   "id": "91c1f049",
   "metadata": {},
   "outputs": [],
   "source": [
    "list_a_copy=list_a.copy()"
   ]
  },
  {
   "cell_type": "code",
   "execution_count": 29,
   "id": "049a09ad",
   "metadata": {},
   "outputs": [
    {
     "data": {
      "text/plain": [
       "[30, 15, 40, 55]"
      ]
     },
     "execution_count": 29,
     "metadata": {},
     "output_type": "execute_result"
    }
   ],
   "source": [
    "list_a_copy"
   ]
  },
  {
   "cell_type": "code",
   "execution_count": 30,
   "id": "3a079f81",
   "metadata": {},
   "outputs": [
    {
     "data": {
      "text/plain": [
       "[30, 15, 40, 55]"
      ]
     },
     "execution_count": 30,
     "metadata": {},
     "output_type": "execute_result"
    }
   ],
   "source": [
    "list_a"
   ]
  },
  {
   "cell_type": "code",
   "execution_count": 31,
   "id": "9cc489a3",
   "metadata": {},
   "outputs": [
    {
     "data": {
      "text/plain": [
       "[30, 15, 40, 55]"
      ]
     },
     "execution_count": 31,
     "metadata": {},
     "output_type": "execute_result"
    }
   ],
   "source": [
    "list_a_clone"
   ]
  },
  {
   "cell_type": "code",
   "execution_count": 32,
   "id": "5a2b08ae",
   "metadata": {},
   "outputs": [
    {
     "data": {
      "text/plain": [
       "55"
      ]
     },
     "execution_count": 32,
     "metadata": {},
     "output_type": "execute_result"
    }
   ],
   "source": [
    "list_a_copy.pop()"
   ]
  },
  {
   "cell_type": "code",
   "execution_count": 33,
   "id": "c8903648",
   "metadata": {},
   "outputs": [
    {
     "data": {
      "text/plain": [
       "[30, 15, 40]"
      ]
     },
     "execution_count": 33,
     "metadata": {},
     "output_type": "execute_result"
    }
   ],
   "source": [
    "list_a_copy"
   ]
  },
  {
   "cell_type": "code",
   "execution_count": 34,
   "id": "eed34312",
   "metadata": {},
   "outputs": [
    {
     "data": {
      "text/plain": [
       "[30, 15, 40, 55]"
      ]
     },
     "execution_count": 34,
     "metadata": {},
     "output_type": "execute_result"
    }
   ],
   "source": [
    "list_a"
   ]
  },
  {
   "cell_type": "code",
   "execution_count": 35,
   "id": "d1f291b0",
   "metadata": {},
   "outputs": [
    {
     "data": {
      "text/plain": [
       "[30, 15, 40, 55]"
      ]
     },
     "execution_count": 35,
     "metadata": {},
     "output_type": "execute_result"
    }
   ],
   "source": [
    "list_a_clone"
   ]
  },
  {
   "cell_type": "code",
   "execution_count": 36,
   "id": "48f28d19",
   "metadata": {},
   "outputs": [
    {
     "data": {
      "text/plain": [
       "1"
      ]
     },
     "execution_count": 36,
     "metadata": {},
     "output_type": "execute_result"
    }
   ],
   "source": [
    "list_a.index(15)"
   ]
  },
  {
   "cell_type": "code",
   "execution_count": 37,
   "id": "b625ef3d",
   "metadata": {},
   "outputs": [],
   "source": [
    "text_a='abcd'"
   ]
  },
  {
   "cell_type": "code",
   "execution_count": 38,
   "id": "b562869c",
   "metadata": {},
   "outputs": [
    {
     "ename": "AttributeError",
     "evalue": "'str' object has no attribute 'fine'",
     "output_type": "error",
     "traceback": [
      "\u001b[1;31m---------------------------------------------------------------------------\u001b[0m",
      "\u001b[1;31mAttributeError\u001b[0m                            Traceback (most recent call last)",
      "Cell \u001b[1;32mIn[38], line 1\u001b[0m\n\u001b[1;32m----> 1\u001b[0m \u001b[43mtext_a\u001b[49m\u001b[38;5;241;43m.\u001b[39;49m\u001b[43mfine\u001b[49m(\u001b[38;5;124m'\u001b[39m\u001b[38;5;124me\u001b[39m\u001b[38;5;124m'\u001b[39m)\n",
      "\u001b[1;31mAttributeError\u001b[0m: 'str' object has no attribute 'fine'"
     ]
    }
   ],
   "source": [
    "text_a.fine('e')"
   ]
  },
  {
   "cell_type": "code",
   "execution_count": 39,
   "id": "b5c52025",
   "metadata": {},
   "outputs": [
    {
     "data": {
      "text/plain": [
       "[15, 30, 40, 55]"
      ]
     },
     "execution_count": 39,
     "metadata": {},
     "output_type": "execute_result"
    }
   ],
   "source": [
    "sorted(list_a)"
   ]
  },
  {
   "cell_type": "code",
   "execution_count": 40,
   "id": "484aa263",
   "metadata": {},
   "outputs": [
    {
     "data": {
      "text/plain": [
       "[30, 15, 40, 55]"
      ]
     },
     "execution_count": 40,
     "metadata": {},
     "output_type": "execute_result"
    }
   ],
   "source": [
    "list_a"
   ]
  },
  {
   "cell_type": "code",
   "execution_count": 41,
   "id": "3c0a813b",
   "metadata": {},
   "outputs": [],
   "source": [
    "dict_a = {\n",
    "    'id':'test',\n",
    "    'age':20,\n",
    "    'phone':'01012345678'\n",
    "}"
   ]
  },
  {
   "cell_type": "code",
   "execution_count": 42,
   "id": "42d05aba",
   "metadata": {},
   "outputs": [
    {
     "data": {
      "text/plain": [
       "{'id': 'test', 'age': 20, 'phone': '01012345678'}"
      ]
     },
     "execution_count": 42,
     "metadata": {},
     "output_type": "execute_result"
    }
   ],
   "source": [
    "dict_a"
   ]
  },
  {
   "cell_type": "code",
   "execution_count": 43,
   "id": "d6889875",
   "metadata": {},
   "outputs": [
    {
     "data": {
      "text/plain": [
       "20"
      ]
     },
     "execution_count": 43,
     "metadata": {},
     "output_type": "execute_result"
    }
   ],
   "source": [
    "dict_a['age']"
   ]
  },
  {
   "cell_type": "code",
   "execution_count": 44,
   "id": "9738ae95",
   "metadata": {},
   "outputs": [],
   "source": [
    "dict_a['loc'] = 'seoul'"
   ]
  },
  {
   "cell_type": "code",
   "execution_count": 45,
   "id": "64d27c1d",
   "metadata": {},
   "outputs": [
    {
     "data": {
      "text/plain": [
       "{'id': 'test', 'age': 20, 'phone': '01012345678', 'loc': 'seoul'}"
      ]
     },
     "execution_count": 45,
     "metadata": {},
     "output_type": "execute_result"
    }
   ],
   "source": [
    "dict_a"
   ]
  },
  {
   "cell_type": "code",
   "execution_count": 46,
   "id": "3edac587",
   "metadata": {},
   "outputs": [],
   "source": [
    "del dict_a['phone']"
   ]
  },
  {
   "cell_type": "code",
   "execution_count": 47,
   "id": "6a5353d8",
   "metadata": {},
   "outputs": [
    {
     "data": {
      "text/plain": [
       "{'id': 'test', 'age': 20, 'loc': 'seoul'}"
      ]
     },
     "execution_count": 47,
     "metadata": {},
     "output_type": "execute_result"
    }
   ],
   "source": [
    "dict_a"
   ]
  },
  {
   "cell_type": "code",
   "execution_count": 48,
   "id": "bb808dff",
   "metadata": {},
   "outputs": [],
   "source": [
    "sample_data = {\n",
    "    'id' : ['test','test2','test3','test4'],\n",
    "    'password' : ['1111','2222','3333','4444'],\n",
    "    'name' : ['Kim','Park','Lee','Choi']\n",
    "}"
   ]
  },
  {
   "cell_type": "code",
   "execution_count": 49,
   "id": "4f9475b0",
   "metadata": {},
   "outputs": [
    {
     "name": "stdout",
     "output_type": "stream",
     "text": [
      "{'id': ['test', 'test2', 'test3', 'test4'], 'password': ['1111', '2222', '3333', '4444'], 'name': ['Kim', 'Park', 'Lee', 'Choi']}\n"
     ]
    }
   ],
   "source": [
    "print(sample_data)"
   ]
  },
  {
   "cell_type": "code",
   "execution_count": 50,
   "id": "9e6f525e",
   "metadata": {},
   "outputs": [
    {
     "name": "stdout",
     "output_type": "stream",
     "text": [
      "['Kim', 'Park', 'Lee', 'Choi']\n"
     ]
    }
   ],
   "source": [
    "print(sample_data['name'])"
   ]
  },
  {
   "cell_type": "code",
   "execution_count": 51,
   "id": "52d57ceb",
   "metadata": {},
   "outputs": [
    {
     "name": "stdout",
     "output_type": "stream",
     "text": [
      "Lee\n"
     ]
    }
   ],
   "source": [
    "print(sample_data['name'][2])"
   ]
  },
  {
   "cell_type": "code",
   "execution_count": 52,
   "id": "3f8b6796",
   "metadata": {},
   "outputs": [],
   "source": [
    "sample_data2 = [\n",
    "    {\n",
    "        'id':'test','password':'1111','name':'Kim'\n",
    "    },\n",
    "    {\n",
    "        'id':'test2','password':'2222','name':'Park'\n",
    "    },\n",
    "    {\n",
    "        'id':'test3','password':'3333','name':'Lee'\n",
    "    }\n",
    "]"
   ]
  },
  {
   "cell_type": "code",
   "execution_count": 53,
   "id": "6fb2c536",
   "metadata": {},
   "outputs": [
    {
     "data": {
      "text/plain": [
       "[{'id': 'test', 'password': '1111', 'name': 'Kim'},\n",
       " {'id': 'test2', 'password': '2222', 'name': 'Park'},\n",
       " {'id': 'test3', 'password': '3333', 'name': 'Lee'}]"
      ]
     },
     "execution_count": 53,
     "metadata": {},
     "output_type": "execute_result"
    }
   ],
   "source": [
    "sample_data2"
   ]
  },
  {
   "cell_type": "code",
   "execution_count": 54,
   "id": "e39d7860",
   "metadata": {},
   "outputs": [
    {
     "name": "stdout",
     "output_type": "stream",
     "text": [
      "{'id': 'test2', 'password': '2222', 'name': 'Park'}\n"
     ]
    }
   ],
   "source": [
    "print(sample_data2[1])"
   ]
  },
  {
   "cell_type": "code",
   "execution_count": 55,
   "id": "675e72b2",
   "metadata": {},
   "outputs": [
    {
     "name": "stdout",
     "output_type": "stream",
     "text": [
      "test2\n"
     ]
    }
   ],
   "source": [
    "print(sample_data2[1]['id'])"
   ]
  },
  {
   "cell_type": "code",
   "execution_count": 56,
   "id": "ca91c8fa",
   "metadata": {},
   "outputs": [
    {
     "data": {
      "text/plain": [
       "dict_keys(['id', 'password', 'name'])"
      ]
     },
     "execution_count": 56,
     "metadata": {},
     "output_type": "execute_result"
    }
   ],
   "source": [
    "sample_data.keys()"
   ]
  },
  {
   "cell_type": "code",
   "execution_count": 57,
   "id": "700ef8dc",
   "metadata": {},
   "outputs": [
    {
     "data": {
      "text/plain": [
       "dict_values([['test', 'test2', 'test3', 'test4'], ['1111', '2222', '3333', '4444'], ['Kim', 'Park', 'Lee', 'Choi']])"
      ]
     },
     "execution_count": 57,
     "metadata": {},
     "output_type": "execute_result"
    }
   ],
   "source": [
    "sample_data.values()"
   ]
  },
  {
   "cell_type": "code",
   "execution_count": 58,
   "id": "f7550f8b",
   "metadata": {},
   "outputs": [
    {
     "data": {
      "text/plain": [
       "dict_items([('id', ['test', 'test2', 'test3', 'test4']), ('password', ['1111', '2222', '3333', '4444']), ('name', ['Kim', 'Park', 'Lee', 'Choi'])])"
      ]
     },
     "execution_count": 58,
     "metadata": {},
     "output_type": "execute_result"
    }
   ],
   "source": [
    "sample_data.items()"
   ]
  },
  {
   "cell_type": "code",
   "execution_count": 59,
   "id": "2e6aafc5",
   "metadata": {},
   "outputs": [
    {
     "name": "stdout",
     "output_type": "stream",
     "text": [
      "[1, 3, 5, 7, 9]\n"
     ]
    }
   ],
   "source": [
    "print(\n",
    "    list(\n",
    "        range(1,10,2)\n",
    "    )\n",
    ")"
   ]
  },
  {
   "cell_type": "code",
   "execution_count": 67,
   "id": "7a98308e",
   "metadata": {},
   "outputs": [],
   "source": [
    "tuple_data = (3,6,1)\n",
    "list_data = [8,5,1]\n",
    "dict_data = {\n",
    "    'id':'test', 'password':'1111'\n",
    "}"
   ]
  },
  {
   "cell_type": "code",
   "execution_count": 68,
   "id": "3492e72b",
   "metadata": {},
   "outputs": [
    {
     "name": "stdout",
     "output_type": "stream",
     "text": [
      "3\n",
      "6\n",
      "1\n"
     ]
    }
   ],
   "source": [
    "for i in tuple_data:\n",
    "    print(i)"
   ]
  },
  {
   "cell_type": "code",
   "execution_count": 69,
   "id": "bed9314c",
   "metadata": {},
   "outputs": [
    {
     "name": "stdout",
     "output_type": "stream",
     "text": [
      "8\n",
      "5\n",
      "1\n"
     ]
    }
   ],
   "source": [
    "for i in list_data:\n",
    "    print(i)"
   ]
  },
  {
   "cell_type": "code",
   "execution_count": 72,
   "id": "3c14954f",
   "metadata": {},
   "outputs": [
    {
     "name": "stdout",
     "output_type": "stream",
     "text": [
      "id test\n",
      "password 1111\n"
     ]
    }
   ],
   "source": [
    "for i in dict_data:\n",
    "    print(i, dict_data[i])"
   ]
  },
  {
   "cell_type": "code",
   "execution_count": 73,
   "id": "b4353bd3",
   "metadata": {},
   "outputs": [],
   "source": [
    "list_data2 = [\n",
    "    [10,20,30,40],\n",
    "    [15,25,35,45],\n",
    "    [100,200,300,400]\n",
    "]"
   ]
  },
  {
   "cell_type": "code",
   "execution_count": 74,
   "id": "db1985e5",
   "metadata": {},
   "outputs": [
    {
     "name": "stdout",
     "output_type": "stream",
     "text": [
      "10\n",
      "20\n",
      "30\n",
      "40\n",
      "15\n",
      "25\n",
      "35\n",
      "45\n",
      "100\n",
      "200\n",
      "300\n",
      "400\n"
     ]
    }
   ],
   "source": [
    "for i in list_data2:\n",
    "    for j in i:\n",
    "        print(j)"
   ]
  },
  {
   "cell_type": "code",
   "execution_count": 75,
   "id": "56542632",
   "metadata": {},
   "outputs": [],
   "source": [
    "list_data=[30,40,20,10]"
   ]
  },
  {
   "cell_type": "code",
   "execution_count": 76,
   "id": "ce2854dd",
   "metadata": {},
   "outputs": [
    {
     "name": "stdout",
     "output_type": "stream",
     "text": [
      "[10]\n",
      "[30, 40, 20]\n",
      "[10, 20]\n",
      "[30, 40]\n",
      "[10, 20, 30]\n",
      "[40]\n",
      "[10, 20, 30, 40]\n",
      "[]\n"
     ]
    }
   ],
   "source": [
    "sort_data=[]\n",
    "\n",
    "for c in range(len(list_data)):\n",
    "    min_data=list_data[0]\n",
    "    for i in range(1, len(list_data), 1):\n",
    "        if min_data > list_data[i]:\n",
    "            min_data = list_data[i]\n",
    "    \n",
    "    sort_data.append(min_data)\n",
    "    list_data.remove(min_data)\n",
    "\n",
    "    print(sort_data)\n",
    "    print(list_data)"
   ]
  },
  {
   "cell_type": "code",
   "execution_count": null,
   "id": "cacfc3f3",
   "metadata": {},
   "outputs": [],
   "source": []
  }
 ],
 "metadata": {
  "kernelspec": {
   "display_name": "Python 3",
   "language": "python",
   "name": "python3"
  },
  "language_info": {
   "codemirror_mode": {
    "name": "ipython",
    "version": 3
   },
   "file_extension": ".py",
   "mimetype": "text/x-python",
   "name": "python",
   "nbconvert_exporter": "python",
   "pygments_lexer": "ipython3",
   "version": "3.9.13"
  }
 },
 "nbformat": 4,
 "nbformat_minor": 5
}
