{
 "cells": [
  {
   "cell_type": "markdown",
   "id": "16715327",
   "metadata": {},
   "source": [
    "### <상대 모멘텀>"
   ]
  },
  {
   "cell_type": "code",
   "execution_count": 1,
   "id": "9be51f82",
   "metadata": {},
   "outputs": [],
   "source": [
    "from datetime import datetime\n",
    "import pandas as pd\n",
    "import numpy as np\n",
    "import os \n",
    "from glob import glob\n",
    "import warnings"
   ]
  },
  {
   "cell_type": "code",
   "execution_count": 2,
   "id": "0c4a8f30",
   "metadata": {},
   "outputs": [],
   "source": [
    "# 경고 메시지 출력 필터\n",
    "warnings.filterwarnings('ignore')"
   ]
  },
  {
   "cell_type": "code",
   "execution_count": null,
   "id": "02a1b911",
   "metadata": {},
   "outputs": [],
   "source": [
    "# 기준 년월 컬럼과 월별 수익률 컬럼을 생성하는 함수\n",
    "# 매개변수 5개\n",
    "\t# 데이터프레임\n",
    "\t# ticker\n",
    "\t# 투자의 시작시간\n",
    "\t# 투자의 종료시간\n",
    "\t# 기준이 되는 컬럼\n",
    "def create_1m_rtn(\n",
    "\t\t_df, \n",
    "\t\t_ticker, \n",
    "\t\t_start='2010-01-01', \n",
    "\t\t_end=datetime.now(), \n",
    "\t\t_col='Adj Close'):\n",
    "\t\n",
    "\tdf = _df.copy()\n",
    "\tif 'Date' in df.columns:\n",
    "\t\tdf.set_index('Date', inplace=True)\n",
    "\tdf.index = pd.to_datetime(df.index)\n",
    "\tdf = df.loc[_start : _end, [_col]]\n",
    "\tdf['STD-YM'] = df.index.strftime('%Y-%m')\n",
    "\tdf['1m_rtn'] = 0\n",
    "\tdf['CODE'] = _ticker\n",
    "\tym_list = df['STD-YM'].unique()\n",
    "\treturn df, ym_list"
   ]
  },
  {
   "cell_type": "code",
   "execution_count": null,
   "id": "4aec533b",
   "metadata": {},
   "outputs": [],
   "source": [
    "# 기준 년월 컬럼과 월별 수익률 컬럼을 생성하는 함수\n",
    "# 매개변수 5개\n",
    "\t# 데이터프레임\n",
    "\t# ticker\n",
    "\t# 투자의 시작시간\n",
    "\t# 투자의 종료시간\n",
    "\t# 기준이 되는 컬럼\n",
    "def create_1m_rtn(_df, _ticker, _start = '2010-01-01', _end = datetime.now(), _col = 'Adj Close'):\n",
    "\t\n",
    "\t# 복사본 생성\n",
    "\tdf = _df.copy()\n",
    "\t# 'Date'가 컬럼에 존재하면 인덱스로 변환\n",
    "\tif 'Date' in df.columns:\n",
    "\t\tdf.set_index('Date', inplace=True)\n",
    "\t# 인덱스를 시계열로 변환\n",
    "\tdf.index = pd.to_datetime(df.index)\n",
    "\t\n",
    "\t# 투자의 시작시간과 종료시간으로 인덱스 필터링\n",
    "\t# 기준이 되는 컬럼으로 컬럼 필터링\n",
    "\tdf = df.loc[_start : _end, [_col]]\n",
    "\t# 기준년월 컬럼 생성해 인덱스에서 년도-월 추출\n",
    "\tdf['STD-YM'] = df.index.strftime('%Y-%m')\n",
    "\t# 월별 수익률 컬럼 생성\n",
    "\tdf['1m_rtn'] = 0\n",
    "\t# ticker를 컬럼에 대입\n",
    "\tdf['CODE'] = _ticker\n",
    "\t# 기준년월의 유니크값 생성\n",
    "\tym_list = df['STD-YM'].unique()\n",
    "\t\n",
    "\treturn df, ym_list"
   ]
  },
  {
   "cell_type": "code",
   "execution_count": null,
   "id": "4c9333ef",
   "metadata": {},
   "outputs": [],
   "source": []
  },
  {
   "cell_type": "code",
   "execution_count": 5,
   "id": "17274326",
   "metadata": {},
   "outputs": [],
   "source": [
    "aapl = pd.read_csv('data/AAPL.csv')"
   ]
  },
  {
   "cell_type": "code",
   "execution_count": 6,
   "id": "ecf29bdb",
   "metadata": {},
   "outputs": [],
   "source": [
    "aapl_df, ym_list = create_1m_rtn(aapl, 'AAPL')"
   ]
  },
  {
   "cell_type": "code",
   "execution_count": 7,
   "id": "05f881e5",
   "metadata": {},
   "outputs": [
    {
     "data": {
      "text/html": [
       "<div>\n",
       "<style scoped>\n",
       "    .dataframe tbody tr th:only-of-type {\n",
       "        vertical-align: middle;\n",
       "    }\n",
       "\n",
       "    .dataframe tbody tr th {\n",
       "        vertical-align: top;\n",
       "    }\n",
       "\n",
       "    .dataframe thead th {\n",
       "        text-align: right;\n",
       "    }\n",
       "</style>\n",
       "<table border=\"1\" class=\"dataframe\">\n",
       "  <thead>\n",
       "    <tr style=\"text-align: right;\">\n",
       "      <th></th>\n",
       "      <th>Date</th>\n",
       "      <th>Open</th>\n",
       "      <th>High</th>\n",
       "      <th>Low</th>\n",
       "      <th>Close</th>\n",
       "      <th>Adj Close</th>\n",
       "      <th>Volume</th>\n",
       "    </tr>\n",
       "  </thead>\n",
       "  <tbody>\n",
       "    <tr>\n",
       "      <th>0</th>\n",
       "      <td>1980-12-12</td>\n",
       "      <td>0.513393</td>\n",
       "      <td>0.515625</td>\n",
       "      <td>0.513393</td>\n",
       "      <td>0.513393</td>\n",
       "      <td>0.410525</td>\n",
       "      <td>117258400.0</td>\n",
       "    </tr>\n",
       "    <tr>\n",
       "      <th>1</th>\n",
       "      <td>1980-12-15</td>\n",
       "      <td>0.488839</td>\n",
       "      <td>0.488839</td>\n",
       "      <td>0.486607</td>\n",
       "      <td>0.486607</td>\n",
       "      <td>0.389106</td>\n",
       "      <td>43971200.0</td>\n",
       "    </tr>\n",
       "    <tr>\n",
       "      <th>2</th>\n",
       "      <td>1980-12-16</td>\n",
       "      <td>0.453125</td>\n",
       "      <td>0.453125</td>\n",
       "      <td>0.450893</td>\n",
       "      <td>0.450893</td>\n",
       "      <td>0.360548</td>\n",
       "      <td>26432000.0</td>\n",
       "    </tr>\n",
       "    <tr>\n",
       "      <th>3</th>\n",
       "      <td>1980-12-17</td>\n",
       "      <td>0.462054</td>\n",
       "      <td>0.464286</td>\n",
       "      <td>0.462054</td>\n",
       "      <td>0.462054</td>\n",
       "      <td>0.369472</td>\n",
       "      <td>21610400.0</td>\n",
       "    </tr>\n",
       "    <tr>\n",
       "      <th>4</th>\n",
       "      <td>1980-12-18</td>\n",
       "      <td>0.475446</td>\n",
       "      <td>0.477679</td>\n",
       "      <td>0.475446</td>\n",
       "      <td>0.475446</td>\n",
       "      <td>0.380182</td>\n",
       "      <td>18362400.0</td>\n",
       "    </tr>\n",
       "    <tr>\n",
       "      <th>...</th>\n",
       "      <td>...</td>\n",
       "      <td>...</td>\n",
       "      <td>...</td>\n",
       "      <td>...</td>\n",
       "      <td>...</td>\n",
       "      <td>...</td>\n",
       "      <td>...</td>\n",
       "    </tr>\n",
       "    <tr>\n",
       "      <th>9710</th>\n",
       "      <td>2019-06-18</td>\n",
       "      <td>196.050003</td>\n",
       "      <td>200.289993</td>\n",
       "      <td>195.210007</td>\n",
       "      <td>198.449997</td>\n",
       "      <td>198.449997</td>\n",
       "      <td>26551000.0</td>\n",
       "    </tr>\n",
       "    <tr>\n",
       "      <th>9711</th>\n",
       "      <td>2019-06-19</td>\n",
       "      <td>199.679993</td>\n",
       "      <td>199.880005</td>\n",
       "      <td>197.309998</td>\n",
       "      <td>197.869995</td>\n",
       "      <td>197.869995</td>\n",
       "      <td>21124200.0</td>\n",
       "    </tr>\n",
       "    <tr>\n",
       "      <th>9712</th>\n",
       "      <td>2019-06-20</td>\n",
       "      <td>200.369995</td>\n",
       "      <td>200.610001</td>\n",
       "      <td>198.029999</td>\n",
       "      <td>199.460007</td>\n",
       "      <td>199.460007</td>\n",
       "      <td>21514000.0</td>\n",
       "    </tr>\n",
       "    <tr>\n",
       "      <th>9713</th>\n",
       "      <td>2019-06-21</td>\n",
       "      <td>198.800003</td>\n",
       "      <td>200.850006</td>\n",
       "      <td>198.149994</td>\n",
       "      <td>198.779999</td>\n",
       "      <td>198.779999</td>\n",
       "      <td>47735300.0</td>\n",
       "    </tr>\n",
       "    <tr>\n",
       "      <th>9714</th>\n",
       "      <td>2019-06-24</td>\n",
       "      <td>198.539993</td>\n",
       "      <td>200.160004</td>\n",
       "      <td>198.169998</td>\n",
       "      <td>199.169998</td>\n",
       "      <td>199.169998</td>\n",
       "      <td>9025362.0</td>\n",
       "    </tr>\n",
       "  </tbody>\n",
       "</table>\n",
       "<p>9715 rows × 7 columns</p>\n",
       "</div>"
      ],
      "text/plain": [
       "            Date        Open        High         Low       Close   Adj Close  \\\n",
       "0     1980-12-12    0.513393    0.515625    0.513393    0.513393    0.410525   \n",
       "1     1980-12-15    0.488839    0.488839    0.486607    0.486607    0.389106   \n",
       "2     1980-12-16    0.453125    0.453125    0.450893    0.450893    0.360548   \n",
       "3     1980-12-17    0.462054    0.464286    0.462054    0.462054    0.369472   \n",
       "4     1980-12-18    0.475446    0.477679    0.475446    0.475446    0.380182   \n",
       "...          ...         ...         ...         ...         ...         ...   \n",
       "9710  2019-06-18  196.050003  200.289993  195.210007  198.449997  198.449997   \n",
       "9711  2019-06-19  199.679993  199.880005  197.309998  197.869995  197.869995   \n",
       "9712  2019-06-20  200.369995  200.610001  198.029999  199.460007  199.460007   \n",
       "9713  2019-06-21  198.800003  200.850006  198.149994  198.779999  198.779999   \n",
       "9714  2019-06-24  198.539993  200.160004  198.169998  199.169998  199.169998   \n",
       "\n",
       "           Volume  \n",
       "0     117258400.0  \n",
       "1      43971200.0  \n",
       "2      26432000.0  \n",
       "3      21610400.0  \n",
       "4      18362400.0  \n",
       "...           ...  \n",
       "9710   26551000.0  \n",
       "9711   21124200.0  \n",
       "9712   21514000.0  \n",
       "9713   47735300.0  \n",
       "9714    9025362.0  \n",
       "\n",
       "[9715 rows x 7 columns]"
      ]
     },
     "execution_count": 7,
     "metadata": {},
     "output_type": "execute_result"
    }
   ],
   "source": [
    "aapl"
   ]
  },
  {
   "cell_type": "code",
   "execution_count": 8,
   "id": "51e55970",
   "metadata": {},
   "outputs": [
    {
     "data": {
      "text/plain": [
       "array(['2010-01', '2010-02', '2010-03', '2010-04', '2010-05', '2010-06',\n",
       "       '2010-07', '2010-08', '2010-09', '2010-10', '2010-11', '2010-12',\n",
       "       '2011-01', '2011-02', '2011-03', '2011-04', '2011-05', '2011-06',\n",
       "       '2011-07', '2011-08', '2011-09', '2011-10', '2011-11', '2011-12',\n",
       "       '2012-01', '2012-02', '2012-03', '2012-04', '2012-05', '2012-06',\n",
       "       '2012-07', '2012-08', '2012-09', '2012-10', '2012-11', '2012-12',\n",
       "       '2013-01', '2013-02', '2013-03', '2013-04', '2013-05', '2013-06',\n",
       "       '2013-07', '2013-08', '2013-09', '2013-10', '2013-11', '2013-12',\n",
       "       '2014-01', '2014-02', '2014-03', '2014-04', '2014-05', '2014-06',\n",
       "       '2014-07', '2014-08', '2014-09', '2014-10', '2014-11', '2014-12',\n",
       "       '2015-01', '2015-02', '2015-03', '2015-04', '2015-05', '2015-06',\n",
       "       '2015-07', '2015-08', '2015-09', '2015-10', '2015-11', '2015-12',\n",
       "       '2016-01', '2016-02', '2016-03', '2016-04', '2016-05', '2016-06',\n",
       "       '2016-07', '2016-08', '2016-09', '2016-10', '2016-11', '2016-12',\n",
       "       '2017-01', '2017-02', '2017-03', '2017-04', '2017-05', '2017-06',\n",
       "       '2017-07', '2017-08', '2017-09', '2017-10', '2017-11', '2017-12',\n",
       "       '2018-01', '2018-02', '2018-03', '2018-04', '2018-05', '2018-06',\n",
       "       '2018-07', '2018-08', '2018-09', '2018-10', '2018-11', '2018-12',\n",
       "       '2019-01', '2019-02', '2019-03', '2019-04', '2019-05', '2019-06'],\n",
       "      dtype=object)"
      ]
     },
     "execution_count": 8,
     "metadata": {},
     "output_type": "execute_result"
    }
   ],
   "source": [
    "ym_list"
   ]
  },
  {
   "cell_type": "code",
   "execution_count": 9,
   "id": "5688b991",
   "metadata": {},
   "outputs": [
    {
     "data": {
      "text/plain": [
       "np.float64(0.9862889302942967)"
      ]
     },
     "execution_count": 9,
     "metadata": {},
     "output_type": "execute_result"
    }
   ],
   "source": [
    "aapl_df.loc[ym_list[0], ].iloc[-1, 0] / aapl_df.loc[ym_list[1], ].iloc[0, 0]"
   ]
  },
  {
   "cell_type": "code",
   "execution_count": 10,
   "id": "5ce0683b",
   "metadata": {},
   "outputs": [
    {
     "data": {
      "text/plain": [
       "['AAPL.csv',\n",
       " 'AMZN.csv',\n",
       " 'BND.csv',\n",
       " 'GDX.csv',\n",
       " 'GLD.csv',\n",
       " 'GM.csv',\n",
       " 'MSFT.csv',\n",
       " 'SLV.csv',\n",
       " 'SPY.csv',\n",
       " 'USM.csv']"
      ]
     },
     "execution_count": 10,
     "metadata": {},
     "output_type": "execute_result"
    }
   ],
   "source": [
    "# 특정 위치의 파일 목록 로드 (파일명만)\n",
    "os.listdir('./data')"
   ]
  },
  {
   "cell_type": "code",
   "execution_count": 11,
   "id": "838ff833",
   "metadata": {},
   "outputs": [],
   "source": [
    "# 파일경로 + 파일명 로드\n",
    "files = glob('./data/*.csv')"
   ]
  },
  {
   "cell_type": "markdown",
   "id": "93961cc9",
   "metadata": {},
   "source": [
    "### 반복문 이용\n",
    "1. data 폴더에 있는 파일 로드\n",
    "2. create_1m_rtn() 함수에 대입 (데이터프레임, 파일명)\n",
    "\t- price_df, ym_list 변수에 대입\n",
    "3. price_df를 새로운 데이터프레임(stock_df)에 단순 행결합\n",
    "4. 기준년월의 유니크 값을 이용해 반복문 생성\n",
    "\t- 기준년월의 데이터를 이용해 인덱스 필터링해 월초, 월말의 데이터를 이용해 월별 수익률 계산\n",
    "\t- price_df에 월별 수익률 대입\n",
    "\t- price_df에 월말의 행을 새로운 데이터프레임(month_last_df)에 단순 행결합"
   ]
  }
 ],
 "metadata": {
  "kernelspec": {
   "display_name": "Python 3",
   "language": "python",
   "name": "python3"
  },
  "language_info": {
   "codemirror_mode": {
    "name": "ipython",
    "version": 3
   },
   "file_extension": ".py",
   "mimetype": "text/x-python",
   "name": "python",
   "nbconvert_exporter": "python",
   "pygments_lexer": "ipython3",
   "version": "3.9.13"
  }
 },
 "nbformat": 4,
 "nbformat_minor": 5
}
