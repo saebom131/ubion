{
 "cells": [
  {
   "cell_type": "markdown",
   "id": "298851c7",
   "metadata": {},
   "source": [
    "#### 특정 경로에 있는 파일의 목록 확인\n",
    "1. 일반적으로 경로를 설정하고 파일의 이름을 지정하는 방법\n",
    "    - 상대경로\n",
    "    - 절대경로\n",
    "2. 특정 경로에 존재하는 파일의 목록을 확인해서 read_xxx 함수 이용\n",
    "    - os 라이브러리 이용\n",
    "    - glob 라이브러리 이용\n",
    "3. 파일 목록이 정상적으로 불러와진다면 반복문을 이용해 여러 개의 파일을 로드"
   ]
  },
  {
   "cell_type": "code",
   "execution_count": 1,
   "id": "3480013c",
   "metadata": {},
   "outputs": [],
   "source": [
    "import os\n",
    "from glob import glob\n",
    "import pandas as pd"
   ]
  },
  {
   "cell_type": "code",
   "execution_count": 2,
   "id": "4134da5d",
   "metadata": {},
   "outputs": [
    {
     "data": {
      "text/plain": [
       "['2014.csv',\n",
       " '2017',\n",
       " '2018',\n",
       " '2019',\n",
       " '2020',\n",
       " '2021',\n",
       " '2022',\n",
       " 'AAPL.csv',\n",
       " 'AMZN.csv',\n",
       " 'BND.csv',\n",
       " 'campaign_master.csv',\n",
       " 'class_master.csv',\n",
       " 'corona.csv',\n",
       " 'csv_exam.csv',\n",
       " 'customer_master.csv',\n",
       " 'dept.csv',\n",
       " 'drinks.csv',\n",
       " 'emp.csv',\n",
       " 'example.csv',\n",
       " 'GDX.csv',\n",
       " 'GLD.csv',\n",
       " 'GM.csv',\n",
       " 'item_master.csv',\n",
       " 'Koweps.sav',\n",
       " 'Koweps_Codebook.xlsx',\n",
       " 'Koweps_hpc10_2015_beta1.sav',\n",
       " 'MSFT.csv',\n",
       " 'num_1',\n",
       " 'num_2',\n",
       " 'num_3',\n",
       " 'Sales Records.csv',\n",
       " 'SLV.csv',\n",
       " 'SPY.csv',\n",
       " 'test_csv',\n",
       " 'tran_1.csv',\n",
       " 'tran_2.csv',\n",
       " 'tran_d_1.csv',\n",
       " 'tran_d_2.csv',\n",
       " 'uriage.csv',\n",
       " 'use_log.csv',\n",
       " 'USM.csv',\n",
       " '주민등록.csv']"
      ]
     },
     "execution_count": 2,
     "metadata": {},
     "output_type": "execute_result"
    }
   ],
   "source": [
    "# os 라이브러리를 이용해 특정 경로에 존재하는 파일 목록 확인\n",
    "# dir -> 현재 경로의 파일 목록 불러오는 명령어\n",
    "# list -> 1차원 리스트 데이터\n",
    "# csv 폴더에 존재하는 파일 목록 확인\n",
    "os.listdir('../../csv/')"
   ]
  },
  {
   "cell_type": "code",
   "execution_count": 3,
   "id": "3508ebf0",
   "metadata": {},
   "outputs": [
    {
     "data": {
      "text/plain": [
       "['201701_expense_list.csv',\n",
       " '201702_expense_list.csv',\n",
       " '201703_expense_list.csv',\n",
       " '201704_expense_list.csv',\n",
       " '201705_expense_list.csv',\n",
       " '201706_expense_list.csv',\n",
       " '201707_expense_list.csv',\n",
       " '201708_expense_list.csv',\n",
       " '201709_expense_list.csv',\n",
       " '201710_expense_list.csv',\n",
       " '201711_expense_list.csv',\n",
       " '201712_expense_list.csv']"
      ]
     },
     "execution_count": 3,
     "metadata": {},
     "output_type": "execute_result"
    }
   ],
   "source": [
    "# csv 폴더 안의 2017 폴더의 파일 목록 확인\n",
    "os.listdir('../../csv/2017')"
   ]
  },
  {
   "cell_type": "code",
   "execution_count": 4,
   "id": "34af2c70",
   "metadata": {},
   "outputs": [
    {
     "data": {
      "text/plain": [
       "'201701_expense_list.csv'"
      ]
     },
     "execution_count": 4,
     "metadata": {},
     "output_type": "execute_result"
    }
   ],
   "source": [
    "os.listdir('../../csv/2017')[0]"
   ]
  },
  {
   "cell_type": "code",
   "execution_count": 5,
   "id": "807b459a",
   "metadata": {},
   "outputs": [
    {
     "name": "stdout",
     "output_type": "stream",
     "text": [
      "<class 'pandas.core.frame.DataFrame'>\n",
      "RangeIndex: 5517 entries, 0 to 5516\n",
      "Data columns (total 20 columns):\n",
      " #   Column             Non-Null Count  Dtype  \n",
      "---  ------             --------------  -----  \n",
      " 0   nid                5517 non-null   int64  \n",
      " 1   title              5517 non-null   object \n",
      " 2   url                5517 non-null   object \n",
      " 3   dept_nm_lvl_1      5517 non-null   object \n",
      " 4   dept_nm_lvl_2      5517 non-null   object \n",
      " 5   dept_nm_lvl_3      4842 non-null   object \n",
      " 6   dept_nm_lvl_4      1350 non-null   object \n",
      " 7   dept_nm_lvl_5      252 non-null    object \n",
      " 8   exec_yr            5517 non-null   int64  \n",
      " 9   exec_month         5517 non-null   int64  \n",
      " 10  expense_budget     274 non-null    float64\n",
      " 11  expense_execution  202 non-null    float64\n",
      " 12  category           115 non-null    object \n",
      " 13  dept_nm_full       5517 non-null   object \n",
      " 14  exec_dt            5517 non-null   object \n",
      " 15  exec_loc           5467 non-null   object \n",
      " 16  exec_purpose       5516 non-null   object \n",
      " 17  target_nm          5486 non-null   object \n",
      " 18  payment_method     5514 non-null   object \n",
      " 19  exec_amount        5517 non-null   int64  \n",
      "dtypes: float64(2), int64(4), object(14)\n",
      "memory usage: 862.2+ KB\n"
     ]
    }
   ],
   "source": [
    "pd.read_csv('../../csv/2017/201701_expense_list.csv').info()"
   ]
  },
  {
   "cell_type": "code",
   "execution_count": 6,
   "id": "415517fa",
   "metadata": {},
   "outputs": [
    {
     "name": "stdout",
     "output_type": "stream",
     "text": [
      "<class 'pandas.core.frame.DataFrame'>\n",
      "RangeIndex: 5768 entries, 0 to 5767\n",
      "Data columns (total 20 columns):\n",
      " #   Column             Non-Null Count  Dtype  \n",
      "---  ------             --------------  -----  \n",
      " 0   nid                5768 non-null   int64  \n",
      " 1   title              5768 non-null   object \n",
      " 2   url                5768 non-null   object \n",
      " 3   dept_nm_lvl_1      5768 non-null   object \n",
      " 4   dept_nm_lvl_2      5746 non-null   object \n",
      " 5   dept_nm_lvl_3      5060 non-null   object \n",
      " 6   dept_nm_lvl_4      1364 non-null   object \n",
      " 7   dept_nm_lvl_5      246 non-null    object \n",
      " 8   exec_yr            5768 non-null   int64  \n",
      " 9   exec_month         5768 non-null   int64  \n",
      " 10  expense_budget     291 non-null    float64\n",
      " 11  expense_execution  240 non-null    float64\n",
      " 12  category           85 non-null     object \n",
      " 13  dept_nm_full       5768 non-null   object \n",
      " 14  exec_dt            5768 non-null   object \n",
      " 15  exec_loc           5722 non-null   object \n",
      " 16  exec_purpose       5757 non-null   object \n",
      " 17  target_nm          5740 non-null   object \n",
      " 18  payment_method     5715 non-null   object \n",
      " 19  exec_amount        5768 non-null   int64  \n",
      "dtypes: float64(2), int64(4), object(14)\n",
      "memory usage: 901.4+ KB\n"
     ]
    }
   ],
   "source": [
    "pd.read_csv('../../csv/2017/201702_expense_list.csv').info()"
   ]
  },
  {
   "cell_type": "code",
   "execution_count": 7,
   "id": "0a818a2f",
   "metadata": {},
   "outputs": [
    {
     "data": {
      "text/plain": [
       "['201701_expense_list.csv',\n",
       " '201702_expense_list.csv',\n",
       " '201703_expense_list.csv',\n",
       " '201704_expense_list.csv',\n",
       " '201705_expense_list.csv',\n",
       " '201706_expense_list.csv',\n",
       " '201707_expense_list.csv',\n",
       " '201708_expense_list.csv',\n",
       " '201709_expense_list.csv',\n",
       " '201710_expense_list.csv',\n",
       " '201711_expense_list.csv',\n",
       " '201712_expense_list.csv']"
      ]
     },
     "execution_count": 7,
     "metadata": {},
     "output_type": "execute_result"
    }
   ],
   "source": [
    "file_list = os.listdir('../../csv/2017')\n",
    "file_list"
   ]
  },
  {
   "cell_type": "code",
   "execution_count": 8,
   "id": "bb1dc12a",
   "metadata": {},
   "outputs": [
    {
     "name": "stdout",
     "output_type": "stream",
     "text": [
      "../../csv/2017/201701_expense_list.csv\n",
      "../../csv/2017/201702_expense_list.csv\n",
      "../../csv/2017/201703_expense_list.csv\n",
      "../../csv/2017/201704_expense_list.csv\n",
      "../../csv/2017/201705_expense_list.csv\n",
      "../../csv/2017/201706_expense_list.csv\n",
      "../../csv/2017/201707_expense_list.csv\n",
      "../../csv/2017/201708_expense_list.csv\n",
      "../../csv/2017/201709_expense_list.csv\n",
      "../../csv/2017/201710_expense_list.csv\n",
      "../../csv/2017/201711_expense_list.csv\n",
      "../../csv/2017/201712_expense_list.csv\n"
     ]
    }
   ],
   "source": [
    "for file in file_list:\n",
    "    # file변수 -> file_list 원소(파일명)가 하나씩 대입\n",
    "    print('../../csv/2017/'+file)"
   ]
  },
  {
   "cell_type": "code",
   "execution_count": 9,
   "id": "f023ff5b",
   "metadata": {},
   "outputs": [],
   "source": [
    "# 함수화 하기 위해 코드 수정\n",
    "# 경로를 변수에 저장 -> 함수에서 매개변수로 사용\n",
    "file_path = '../../csv/2017/'\n",
    "\n",
    "file_list = os.listdir(file_path)\n",
    "\n",
    "# file_list를 오름차순 정렬 변경\n",
    "file_list.sort()\n",
    "\n",
    "# 비어있는 데이터프레임 생성 ->\n",
    "    # 반복문에서 로드가 되는 데이터프레임을 빈 데이터프레임에 누적 결합\n",
    "result = pd.DataFrame()\n",
    "\n",
    "for file in file_list:\n",
    "    # print(file_path + file)\n",
    "    df = pd.read_csv(file_path + file)\n",
    "    # df를 어딘가에(result) 결합(단순 행 결합) -> concat()\n",
    "    result = pd.concat([result, df])\n",
    "    # 반복 횟수 1회\n",
    "        # file -> 201701.csv\n",
    "        # df -> 201701 데이터프레임\n",
    "        # 이 때 result -> 빈 데이터프레임\n",
    "        # result -> 빈 데이터프레임과 201701 데이터프레임이 행결합 -> result에 대입\n",
    "        # 결과 result -> 201701 데이터프레임\n",
    "    # 반복 횟수 2회\n",
    "        # 결과 result -> 201701 + 201702 행결합된 데이터프레임\n"
   ]
  },
  {
   "cell_type": "code",
   "execution_count": 10,
   "id": "9454fc73",
   "metadata": {},
   "outputs": [
    {
     "name": "stdout",
     "output_type": "stream",
     "text": [
      "<class 'pandas.core.frame.DataFrame'>\n",
      "Index: 70132 entries, 0 to 7285\n",
      "Data columns (total 20 columns):\n",
      " #   Column             Non-Null Count  Dtype  \n",
      "---  ------             --------------  -----  \n",
      " 0   nid                70132 non-null  int64  \n",
      " 1   title              70132 non-null  object \n",
      " 2   url                70132 non-null  object \n",
      " 3   dept_nm_lvl_1      70132 non-null  object \n",
      " 4   dept_nm_lvl_2      70074 non-null  object \n",
      " 5   dept_nm_lvl_3      61262 non-null  object \n",
      " 6   dept_nm_lvl_4      17939 non-null  object \n",
      " 7   dept_nm_lvl_5      3474 non-null   object \n",
      " 8   exec_yr            70132 non-null  int64  \n",
      " 9   exec_month         70132 non-null  int64  \n",
      " 10  expense_budget     3108 non-null   float64\n",
      " 11  expense_execution  2805 non-null   float64\n",
      " 12  category           1259 non-null   object \n",
      " 13  dept_nm_full       70053 non-null  object \n",
      " 14  exec_dt            70132 non-null  object \n",
      " 15  exec_loc           69360 non-null  object \n",
      " 16  exec_purpose       70110 non-null  object \n",
      " 17  target_nm          69597 non-null  object \n",
      " 18  payment_method     69929 non-null  object \n",
      " 19  exec_amount        70132 non-null  int64  \n",
      "dtypes: float64(2), int64(4), object(14)\n",
      "memory usage: 11.2+ MB\n"
     ]
    }
   ],
   "source": [
    "result.info()"
   ]
  },
  {
   "cell_type": "code",
   "execution_count": 11,
   "id": "6fbdf22b",
   "metadata": {},
   "outputs": [
    {
     "data": {
      "text/html": [
       "<div>\n",
       "<style scoped>\n",
       "    .dataframe tbody tr th:only-of-type {\n",
       "        vertical-align: middle;\n",
       "    }\n",
       "\n",
       "    .dataframe tbody tr th {\n",
       "        vertical-align: top;\n",
       "    }\n",
       "\n",
       "    .dataframe thead th {\n",
       "        text-align: right;\n",
       "    }\n",
       "</style>\n",
       "<table border=\"1\" class=\"dataframe\">\n",
       "  <thead>\n",
       "    <tr style=\"text-align: right;\">\n",
       "      <th></th>\n",
       "      <th>nid</th>\n",
       "      <th>title</th>\n",
       "      <th>url</th>\n",
       "      <th>dept_nm_lvl_1</th>\n",
       "      <th>dept_nm_lvl_2</th>\n",
       "      <th>dept_nm_lvl_3</th>\n",
       "      <th>dept_nm_lvl_4</th>\n",
       "      <th>dept_nm_lvl_5</th>\n",
       "      <th>exec_yr</th>\n",
       "      <th>exec_month</th>\n",
       "      <th>expense_budget</th>\n",
       "      <th>expense_execution</th>\n",
       "      <th>category</th>\n",
       "      <th>dept_nm_full</th>\n",
       "      <th>exec_dt</th>\n",
       "      <th>exec_loc</th>\n",
       "      <th>exec_purpose</th>\n",
       "      <th>target_nm</th>\n",
       "      <th>payment_method</th>\n",
       "      <th>exec_amount</th>\n",
       "    </tr>\n",
       "  </thead>\n",
       "  <tbody>\n",
       "    <tr>\n",
       "      <th>7285</th>\n",
       "      <td>14292506</td>\n",
       "      <td>2017년 12월 사업소_은평병원_원무과 업무추진비 내역</td>\n",
       "      <td>http://opengov.seoul.go.kr/public/14292506</td>\n",
       "      <td>사업소</td>\n",
       "      <td>은평병원</td>\n",
       "      <td>원무과</td>\n",
       "      <td>NaN</td>\n",
       "      <td>NaN</td>\n",
       "      <td>2017</td>\n",
       "      <td>12</td>\n",
       "      <td>NaN</td>\n",
       "      <td>NaN</td>\n",
       "      <td>NaN</td>\n",
       "      <td>원무과</td>\n",
       "      <td>2017-12-06 18:00</td>\n",
       "      <td>스타벅스(응암동 96-1)</td>\n",
       "      <td>전문의 및 전공의 격려 다과회</td>\n",
       "      <td>병원장 외 11명</td>\n",
       "      <td>카드</td>\n",
       "      <td>440000</td>\n",
       "    </tr>\n",
       "  </tbody>\n",
       "</table>\n",
       "</div>"
      ],
      "text/plain": [
       "           nid                            title  \\\n",
       "7285  14292506  2017년 12월 사업소_은평병원_원무과 업무추진비 내역   \n",
       "\n",
       "                                             url dept_nm_lvl_1 dept_nm_lvl_2  \\\n",
       "7285  http://opengov.seoul.go.kr/public/14292506           사업소          은평병원   \n",
       "\n",
       "     dept_nm_lvl_3 dept_nm_lvl_4 dept_nm_lvl_5  exec_yr  exec_month  \\\n",
       "7285           원무과           NaN           NaN     2017          12   \n",
       "\n",
       "      expense_budget  expense_execution category dept_nm_full  \\\n",
       "7285             NaN                NaN      NaN          원무과   \n",
       "\n",
       "               exec_dt        exec_loc      exec_purpose  target_nm  \\\n",
       "7285  2017-12-06 18:00  스타벅스(응암동 96-1)  전문의 및 전공의 격려 다과회  병원장 외 11명   \n",
       "\n",
       "     payment_method  exec_amount  \n",
       "7285             카드       440000  "
      ]
     },
     "execution_count": 11,
     "metadata": {},
     "output_type": "execute_result"
    }
   ],
   "source": [
    "result.tail(1)"
   ]
  },
  {
   "cell_type": "code",
   "execution_count": null,
   "id": "4037c65c",
   "metadata": {},
   "outputs": [],
   "source": [
    "\n"
   ]
  },
  {
   "cell_type": "code",
   "execution_count": 12,
   "id": "f8872b72",
   "metadata": {},
   "outputs": [
    {
     "name": "stdout",
     "output_type": "stream",
     "text": [
      "<class 'pandas.core.frame.DataFrame'>\n",
      "Index: 72218 entries, 0 to 7704\n",
      "Data columns (total 20 columns):\n",
      " #   Column             Non-Null Count  Dtype  \n",
      "---  ------             --------------  -----  \n",
      " 0   nid                72218 non-null  int64  \n",
      " 1   title              72218 non-null  object \n",
      " 2   url                72218 non-null  object \n",
      " 3   dept_nm_lvl_1      72218 non-null  object \n",
      " 4   dept_nm_lvl_2      72082 non-null  object \n",
      " 5   dept_nm_lvl_3      62830 non-null  object \n",
      " 6   dept_nm_lvl_4      19754 non-null  object \n",
      " 7   dept_nm_lvl_5      3400 non-null   object \n",
      " 8   exec_yr            72218 non-null  int64  \n",
      " 9   exec_month         72218 non-null  int64  \n",
      " 10  expense_budget     2893 non-null   float64\n",
      " 11  expense_execution  2210 non-null   float64\n",
      " 12  category           1726 non-null   object \n",
      " 13  dept_nm_full       72218 non-null  object \n",
      " 14  exec_dt            72218 non-null  object \n",
      " 15  exec_loc           71523 non-null  object \n",
      " 16  exec_purpose       72218 non-null  object \n",
      " 17  target_nm          71997 non-null  object \n",
      " 18  payment_method     72218 non-null  object \n",
      " 19  exec_amount        72218 non-null  int64  \n",
      "dtypes: float64(2), int64(4), object(14)\n",
      "memory usage: 11.6+ MB\n"
     ]
    }
   ],
   "source": [
    "# 2018년도 폴더의 파일들을 모두 결합하여 하나의 데이터프레임 생성\n",
    "# result_2018\n",
    "file_path = '../../csv/2018/'\n",
    "\n",
    "file_list = os.listdir(file_path)\n",
    "file_list.sort()\n",
    "\n",
    "result_2018 = pd.DataFrame()\n",
    "\n",
    "for file in file_list:\n",
    "    df = pd.read_csv(file_path + file)\n",
    "    result_2018 = pd.concat([result_2018, df])\n",
    "\n",
    "result_2018.info()"
   ]
  },
  {
   "cell_type": "code",
   "execution_count": null,
   "id": "b9acb6e2",
   "metadata": {},
   "outputs": [
    {
     "name": "stdout",
     "output_type": "stream",
     "text": [
      "<class 'pandas.core.frame.DataFrame'>\n",
      "Index: 74207 entries, 0 to 7843\n",
      "Data columns (total 20 columns):\n",
      " #   Column             Non-Null Count  Dtype  \n",
      "---  ------             --------------  -----  \n",
      " 0   nid                74207 non-null  int64  \n",
      " 1   title              74207 non-null  object \n",
      " 2   url                74207 non-null  object \n",
      " 3   dept_nm_lvl_1      74207 non-null  object \n",
      " 4   dept_nm_lvl_2      74207 non-null  object \n",
      " 5   dept_nm_lvl_3      74207 non-null  object \n",
      " 6   dept_nm_lvl_4      74207 non-null  object \n",
      " 7   dept_nm_lvl_5      74207 non-null  object \n",
      " 8   exec_yr            74207 non-null  int64  \n",
      " 9   exec_month         74207 non-null  int64  \n",
      " 10  expense_budget     2075 non-null   float64\n",
      " 11  expense_execution  1598 non-null   float64\n",
      " 12  category           74028 non-null  object \n",
      " 13  dept_nm_full       74207 non-null  object \n",
      " 14  exec_dt            74207 non-null  object \n",
      " 15  exec_loc           74207 non-null  object \n",
      " 16  exec_purpose       74207 non-null  object \n",
      " 17  target_nm          74207 non-null  object \n",
      " 18  payment_method     74207 non-null  object \n",
      " 19  exec_amount        74207 non-null  int64  \n",
      "dtypes: float64(2), int64(4), object(14)\n",
      "memory usage: 11.9+ MB\n"
     ]
    }
   ],
   "source": [
    "# result_2019\n",
    "# json 파일 .json\n",
    "file_path = '../../csv/2019/'\n",
    "\n",
    "file_list = os.listdir(file_path)\n",
    "file_list.sort()\n",
    "\n",
    "result_2019 = pd.DataFrame()\n",
    "\n",
    "for file in file_list:\n",
    "    df = pd.read_json(file_path + file)\n",
    "    result_2019 = pd.concat([result_2019, df])\n",
    "\n",
    "result_2019.info()"
   ]
  },
  {
   "cell_type": "code",
   "execution_count": null,
   "id": "40c2ed1d",
   "metadata": {},
   "outputs": [
    {
     "name": "stdout",
     "output_type": "stream",
     "text": [
      "<class 'pandas.core.frame.DataFrame'>\n",
      "Index: 70862 entries, 0 to 7814\n",
      "Data columns (total 21 columns):\n",
      " #   Column             Non-Null Count  Dtype  \n",
      "---  ------             --------------  -----  \n",
      " 0   nid                70862 non-null  int64  \n",
      " 1   title              70862 non-null  object \n",
      " 2   url                70862 non-null  object \n",
      " 3   dept_nm_lvl_1      70862 non-null  object \n",
      " 4   dept_nm_lvl_2      70862 non-null  object \n",
      " 5   dept_nm_lvl_3      55593 non-null  object \n",
      " 6   dept_nm_lvl_4      18992 non-null  object \n",
      " 7   dept_nm_lvl_5      1601 non-null   object \n",
      " 8   exec_yr            70862 non-null  int64  \n",
      " 9   exec_month         70862 non-null  int64  \n",
      " 10  expense_budget     1823 non-null   float64\n",
      " 11  expense_execution  1338 non-null   float64\n",
      " 12  category           2123 non-null   object \n",
      " 13  dept_nm_full       70862 non-null  object \n",
      " 14  exec_dt            70862 non-null  object \n",
      " 15  exec_loc           70278 non-null  object \n",
      " 16  exec_purpose       70862 non-null  object \n",
      " 17  target_nm          70488 non-null  object \n",
      " 18  payment_method     70862 non-null  object \n",
      " 19  exec_amount        70862 non-null  int64  \n",
      " 20  bimok              283 non-null    object \n",
      "dtypes: float64(2), int64(4), object(15)\n",
      "memory usage: 11.9+ MB\n"
     ]
    }
   ],
   "source": [
    "# result_2020\n",
    "# 엑셀 파일 .xlsx\n",
    "file_path = '../../csv/2020/'\n",
    "\n",
    "file_list = os.listdir(file_path)\n",
    "file_list.sort()\n",
    "\n",
    "result_2020 = pd.DataFrame()\n",
    "\n",
    "for file in file_list:\n",
    "    df = pd.read_excel(file_path + file)\n",
    "    result_2020 = pd.concat([result_2020, df])\n",
    "\n",
    "result_2020.info()"
   ]
  },
  {
   "cell_type": "code",
   "execution_count": 21,
   "id": "4e7c55e9",
   "metadata": {},
   "outputs": [
    {
     "name": "stdout",
     "output_type": "stream",
     "text": [
      "<class 'pandas.core.frame.DataFrame'>\n",
      "Index: 83819 entries, 0 to 10343\n",
      "Data columns (total 21 columns):\n",
      " #   Column             Non-Null Count  Dtype  \n",
      "---  ------             --------------  -----  \n",
      " 0   nid                83819 non-null  int64  \n",
      " 1   title              83819 non-null  object \n",
      " 2   url                83819 non-null  object \n",
      " 3   dept_nm_lvl_1      83819 non-null  object \n",
      " 4   dept_nm_lvl_2      83819 non-null  object \n",
      " 5   dept_nm_lvl_3      67930 non-null  object \n",
      " 6   dept_nm_lvl_4      24831 non-null  object \n",
      " 7   dept_nm_lvl_5      1473 non-null   object \n",
      " 8   exec_yr            83819 non-null  int64  \n",
      " 9   exec_month         83819 non-null  int64  \n",
      " 10  expense_budget     60524 non-null  float64\n",
      " 11  expense_execution  60524 non-null  float64\n",
      " 12  category           980 non-null    object \n",
      " 13  dept_nm_full       83819 non-null  object \n",
      " 14  exec_dt            83819 non-null  object \n",
      " 15  exec_loc           83185 non-null  object \n",
      " 16  exec_purpose       83819 non-null  object \n",
      " 17  target_nm          83467 non-null  object \n",
      " 18  payment_method     83819 non-null  object \n",
      " 19  exec_amount        83819 non-null  int64  \n",
      " 20  bimok              18427 non-null  object \n",
      "dtypes: float64(2), int64(4), object(15)\n",
      "memory usage: 14.1+ MB\n"
     ]
    }
   ],
   "source": [
    "# result_2021\n",
    "# csv, json, xml, xlsx 파일이 섞여 들어있는 폴더\n",
    "file_path = '../../csv/2021/'\n",
    "\n",
    "file_list = os.listdir(file_path)\n",
    "file_list.sort()\n",
    "\n",
    "result_2021 = pd.DataFrame()\n",
    "file_tail = 'csv'\n",
    "\n",
    "# csv 파일만 따로 리스트에 저장\n",
    "file_csv = []\n",
    "for file in file_list:\n",
    "    # 조건: 확장자가 file_tail과 같다면\n",
    "    # 확장자 확인 방법: 문자열에서 마지막의 문자와 같은가?\n",
    "    # endswith()\n",
    "    if file.endswith(file_tail):\n",
    "        file_csv.append(file)\n",
    "file_csv\n",
    "\n",
    "for file in file_csv:\n",
    "    df = pd.read_csv(file_path + file)\n",
    "    result_2021 = pd.concat([result_2021, df])\n",
    "\n",
    "result_2021.info()"
   ]
  },
  {
   "cell_type": "code",
   "execution_count": 22,
   "id": "bc5ebb3e",
   "metadata": {},
   "outputs": [
    {
     "name": "stdout",
     "output_type": "stream",
     "text": [
      "<class 'pandas.core.frame.DataFrame'>\n",
      "Index: 83819 entries, 0 to 10343\n",
      "Data columns (total 21 columns):\n",
      " #   Column             Non-Null Count  Dtype  \n",
      "---  ------             --------------  -----  \n",
      " 0   nid                83819 non-null  int64  \n",
      " 1   title              83819 non-null  object \n",
      " 2   url                83819 non-null  object \n",
      " 3   dept_nm_lvl_1      83819 non-null  object \n",
      " 4   dept_nm_lvl_2      83819 non-null  object \n",
      " 5   dept_nm_lvl_3      83819 non-null  object \n",
      " 6   dept_nm_lvl_4      83819 non-null  object \n",
      " 7   dept_nm_lvl_5      83819 non-null  object \n",
      " 8   exec_yr            83819 non-null  int64  \n",
      " 9   exec_month         83819 non-null  int64  \n",
      " 10  expense_budget     60524 non-null  float64\n",
      " 11  expense_execution  60524 non-null  float64\n",
      " 12  category           83819 non-null  object \n",
      " 13  dept_nm_full       83819 non-null  object \n",
      " 14  exec_dt            83819 non-null  object \n",
      " 15  exec_loc           83819 non-null  object \n",
      " 16  exec_purpose       83819 non-null  object \n",
      " 17  target_nm          83819 non-null  object \n",
      " 18  payment_method     83819 non-null  object \n",
      " 19  exec_amount        83819 non-null  int64  \n",
      " 20  bimok              19411 non-null  object \n",
      "dtypes: float64(2), int64(4), object(15)\n",
      "memory usage: 14.1+ MB\n"
     ]
    }
   ],
   "source": [
    "# result_2021\n",
    "# csv, json, xml, xlsx 파일이 섞여 들어있는 폴더\n",
    "file_path = '../../csv/2021/'\n",
    "\n",
    "file_list = os.listdir(file_path)\n",
    "file_list.sort()\n",
    "\n",
    "result_2021 = pd.DataFrame()\n",
    "file_tail = 'json'\n",
    "\n",
    "# csv 파일만 따로 리스트에 저장\n",
    "file_json = []\n",
    "for file in file_list:\n",
    "    # split() 함수를 이용해 확장자 확인\n",
    "    # ex) 'a.json' -> split('.') -> ['a', 'json']\n",
    "    # 인덱스 -1 사용\n",
    "    if file.split('.')[-1] == file_tail:\n",
    "        file_json.append(file)\n",
    "file_json\n",
    "\n",
    "for file in file_json:\n",
    "    df = pd.read_json(file_path + file)\n",
    "    result_2021 = pd.concat([result_2021, df])\n",
    "\n",
    "result_2021.info()"
   ]
  },
  {
   "cell_type": "code",
   "execution_count": null,
   "id": "d4030bfb",
   "metadata": {},
   "outputs": [
    {
     "data": {
      "text/plain": [
       "['202101_expense_list.xlsx',\n",
       " '202102_expense_list.xlsx',\n",
       " '202103_expense_list.xlsx',\n",
       " '202104_expense_list.xlsx',\n",
       " '202105_expense_list.xlsx',\n",
       " '202106_expense_list.xlsx',\n",
       " '202107_expense_list.xlsx',\n",
       " '202108_expense_list.xlsx',\n",
       " '202109_expense_list.xlsx',\n",
       " '202110_expense_list.xlsx',\n",
       " '202111_expense_list.xlsx',\n",
       " '202112_expense_list.xlsx']"
      ]
     },
     "execution_count": 26,
     "metadata": {},
     "output_type": "execute_result"
    }
   ],
   "source": [
    "# file_test에서 특정 확장자를 제외하고 제거(remove())\n",
    "\n",
    "file_tail = 'xlsx'\n",
    "# file_list 복사본 생성\n",
    "file_list2 = file_list.copy()\n",
    "\n",
    "for file in file_list:      # file_list2를 사용하면 밑의 remove 시 건너뛰는 리스트 원소 생김\n",
    "    if file.split('.')[-1] != file_tail:\n",
    "        file_list2.remove(file)\n",
    "file_list2"
   ]
  },
  {
   "cell_type": "code",
   "execution_count": null,
   "id": "e04c4520",
   "metadata": {},
   "outputs": [],
   "source": [
    "# 특정 경로에 존재하는 데이터 파일을 로드하여 하나의 데이터프레임으로 생성해주는 함수\n",
    "# 매개변수 2개 -> 파일의 경로, 파일 확장자, 인코딩엔진(기본값: utf-8)\n",
    "def dir_data_df(file_path, file_tail, engine = 'utf-8'):\n",
    "    # file_path의 마지막에 '/' 없으면 에러 발생 -> '/' 임의로 추가\n",
    "    file_path = file_path + '/'\n",
    "    # 인자로 전달받은 file_path를 기준으로 파일 목록 생성\n",
    "    file_list = os.listdir(file_path)\n",
    "    file_list.sort()\n",
    "\n",
    "    result = pd.DataFrame()\n",
    "\n",
    "    # 확장자가 file_path인 파일만 따로 리스트에 저장\n",
    "    new_list = []\n",
    "    for file in file_list:\n",
    "        # 조건: 확장자가 file_tail과 같다면\n",
    "        # 확장자 확인 방법: 문자열에서 마지막의 문자와 같은가?\n",
    "        # endswith()\n",
    "        if file.endswith(file_tail):\n",
    "            new_list.append(file)\n",
    "\n",
    "    for file2 in new_list:\n",
    "        # file_tail에 따라 read 함수 변경\n",
    "        if file_tail == 'csv':\n",
    "            df = pd.read_csv(file_path + file2, encoding=engine)\n",
    "        elif file_tail == 'json':\n",
    "            df = pd.read_json(file_path + file2, encoding=engine)\n",
    "        elif file_tail == 'xml':\n",
    "            df = pd.read_xml(file_path + file2, encoding=engine)\n",
    "        # elif (file_tail == 'xlsx') | (file_tail == 'xls'):\n",
    "        elif file_tail in ['xlsx', 'xls']:\n",
    "            df = pd.read_excel(file_path + file2)       # 엑셀은 인코딩 엔진 없음\n",
    "        else:\n",
    "            print('확장자명 잘못 입력(csv, json, xml, excel 사용 가능)')\n",
    "            return \"\"\n",
    "        \n",
    "        # result에 누적 행 결합\n",
    "        result = pd.concat([result, df])\n",
    "        print(f'{file2} 데이터 행결합 완료')    # 각 파일 정상 로드 확인\n",
    "    # 인덱스 초기화, 기존 인덱스 제거\n",
    "    result.reset_index(drop=True, inplace=True)\n",
    "    \n",
    "    return result"
   ]
  },
  {
   "cell_type": "code",
   "execution_count": null,
   "id": "cc970dc4",
   "metadata": {},
   "outputs": [
    {
     "name": "stdout",
     "output_type": "stream",
     "text": [
      "201701_expense_list.csv 데이터 행결합 완료\n",
      "201702_expense_list.csv 데이터 행결합 완료\n",
      "201703_expense_list.csv 데이터 행결합 완료\n",
      "201704_expense_list.csv 데이터 행결합 완료\n",
      "201705_expense_list.csv 데이터 행결합 완료\n",
      "201706_expense_list.csv 데이터 행결합 완료\n",
      "201707_expense_list.csv 데이터 행결합 완료\n",
      "201708_expense_list.csv 데이터 행결합 완료\n",
      "201709_expense_list.csv 데이터 행결합 완료\n",
      "201710_expense_list.csv 데이터 행결합 완료\n",
      "201711_expense_list.csv 데이터 행결합 완료\n",
      "201712_expense_list.csv 데이터 행결합 완료\n",
      "<class 'pandas.core.frame.DataFrame'>\n",
      "RangeIndex: 70132 entries, 0 to 70131\n",
      "Data columns (total 20 columns):\n",
      " #   Column             Non-Null Count  Dtype  \n",
      "---  ------             --------------  -----  \n",
      " 0   nid                70132 non-null  int64  \n",
      " 1   title              70132 non-null  object \n",
      " 2   url                70132 non-null  object \n",
      " 3   dept_nm_lvl_1      70132 non-null  object \n",
      " 4   dept_nm_lvl_2      70074 non-null  object \n",
      " 5   dept_nm_lvl_3      61262 non-null  object \n",
      " 6   dept_nm_lvl_4      17939 non-null  object \n",
      " 7   dept_nm_lvl_5      3474 non-null   object \n",
      " 8   exec_yr            70132 non-null  int64  \n",
      " 9   exec_month         70132 non-null  int64  \n",
      " 10  expense_budget     3108 non-null   float64\n",
      " 11  expense_execution  2805 non-null   float64\n",
      " 12  category           1259 non-null   object \n",
      " 13  dept_nm_full       70053 non-null  object \n",
      " 14  exec_dt            70132 non-null  object \n",
      " 15  exec_loc           69360 non-null  object \n",
      " 16  exec_purpose       70110 non-null  object \n",
      " 17  target_nm          69597 non-null  object \n",
      " 18  payment_method     69929 non-null  object \n",
      " 19  exec_amount        70132 non-null  int64  \n",
      "dtypes: float64(2), int64(4), object(14)\n",
      "memory usage: 10.7+ MB\n"
     ]
    }
   ],
   "source": [
    "dir_data_df('../../csv/2017', 'csv').info()"
   ]
  }
 ],
 "metadata": {
  "kernelspec": {
   "display_name": "Python 3",
   "language": "python",
   "name": "python3"
  },
  "language_info": {
   "codemirror_mode": {
    "name": "ipython",
    "version": 3
   },
   "file_extension": ".py",
   "mimetype": "text/x-python",
   "name": "python",
   "nbconvert_exporter": "python",
   "pygments_lexer": "ipython3",
   "version": "3.9.13"
  }
 },
 "nbformat": 4,
 "nbformat_minor": 5
}
