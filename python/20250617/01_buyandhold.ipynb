{
 "cells": [
  {
   "cell_type": "code",
   "execution_count": 114,
   "id": "98944760",
   "metadata": {},
   "outputs": [],
   "source": [
    "import pandas as pd\n",
    "from datetime import datetime\n",
    "import numpy as np"
   ]
  },
  {
   "cell_type": "code",
   "execution_count": 115,
   "id": "80c725fb",
   "metadata": {},
   "outputs": [],
   "source": [
    "df = pd.read_csv('../../csv/AMZN.csv', index_col=0)"
   ]
  },
  {
   "cell_type": "code",
   "execution_count": 116,
   "id": "cc330eda",
   "metadata": {},
   "outputs": [],
   "source": [
    "# 결측치, 양의 무한대, 음의 무한대 제거\n",
    "flag = df.isin( [np.nan, np.inf, -np.inf] ).any(axis=1)\n",
    "df = df.loc[~flag, ]"
   ]
  },
  {
   "cell_type": "code",
   "execution_count": 117,
   "id": "0182427a",
   "metadata": {},
   "outputs": [
    {
     "data": {
      "text/html": [
       "<div>\n",
       "<style scoped>\n",
       "    .dataframe tbody tr th:only-of-type {\n",
       "        vertical-align: middle;\n",
       "    }\n",
       "\n",
       "    .dataframe tbody tr th {\n",
       "        vertical-align: top;\n",
       "    }\n",
       "\n",
       "    .dataframe thead th {\n",
       "        text-align: right;\n",
       "    }\n",
       "</style>\n",
       "<table border=\"1\" class=\"dataframe\">\n",
       "  <thead>\n",
       "    <tr style=\"text-align: right;\">\n",
       "      <th></th>\n",
       "      <th>Open</th>\n",
       "      <th>High</th>\n",
       "      <th>Low</th>\n",
       "      <th>Close</th>\n",
       "      <th>Adj Close</th>\n",
       "      <th>Volume</th>\n",
       "    </tr>\n",
       "    <tr>\n",
       "      <th>Date</th>\n",
       "      <th></th>\n",
       "      <th></th>\n",
       "      <th></th>\n",
       "      <th></th>\n",
       "      <th></th>\n",
       "      <th></th>\n",
       "    </tr>\n",
       "  </thead>\n",
       "  <tbody>\n",
       "    <tr>\n",
       "      <th>1997-05-15</th>\n",
       "      <td>2.437500</td>\n",
       "      <td>2.500000</td>\n",
       "      <td>1.927083</td>\n",
       "      <td>1.958333</td>\n",
       "      <td>1.958333</td>\n",
       "      <td>72156000</td>\n",
       "    </tr>\n",
       "    <tr>\n",
       "      <th>1997-05-16</th>\n",
       "      <td>1.968750</td>\n",
       "      <td>1.979167</td>\n",
       "      <td>1.708333</td>\n",
       "      <td>1.729167</td>\n",
       "      <td>1.729167</td>\n",
       "      <td>14700000</td>\n",
       "    </tr>\n",
       "    <tr>\n",
       "      <th>1997-05-19</th>\n",
       "      <td>1.760417</td>\n",
       "      <td>1.770833</td>\n",
       "      <td>1.625000</td>\n",
       "      <td>1.708333</td>\n",
       "      <td>1.708333</td>\n",
       "      <td>6106800</td>\n",
       "    </tr>\n",
       "    <tr>\n",
       "      <th>1997-05-20</th>\n",
       "      <td>1.729167</td>\n",
       "      <td>1.750000</td>\n",
       "      <td>1.635417</td>\n",
       "      <td>1.635417</td>\n",
       "      <td>1.635417</td>\n",
       "      <td>5467200</td>\n",
       "    </tr>\n",
       "    <tr>\n",
       "      <th>1997-05-21</th>\n",
       "      <td>1.635417</td>\n",
       "      <td>1.645833</td>\n",
       "      <td>1.375000</td>\n",
       "      <td>1.427083</td>\n",
       "      <td>1.427083</td>\n",
       "      <td>18853200</td>\n",
       "    </tr>\n",
       "  </tbody>\n",
       "</table>\n",
       "</div>"
      ],
      "text/plain": [
       "                Open      High       Low     Close  Adj Close    Volume\n",
       "Date                                                                   \n",
       "1997-05-15  2.437500  2.500000  1.927083  1.958333   1.958333  72156000\n",
       "1997-05-16  1.968750  1.979167  1.708333  1.729167   1.729167  14700000\n",
       "1997-05-19  1.760417  1.770833  1.625000  1.708333   1.708333   6106800\n",
       "1997-05-20  1.729167  1.750000  1.635417  1.635417   1.635417   5467200\n",
       "1997-05-21  1.635417  1.645833  1.375000  1.427083   1.427083  18853200"
      ]
     },
     "execution_count": 117,
     "metadata": {},
     "output_type": "execute_result"
    }
   ],
   "source": [
    "df.head()"
   ]
  },
  {
   "cell_type": "code",
   "execution_count": 118,
   "id": "26c07c01",
   "metadata": {},
   "outputs": [
    {
     "data": {
      "text/plain": [
       "False"
      ]
     },
     "execution_count": 118,
     "metadata": {},
     "output_type": "execute_result"
    }
   ],
   "source": [
    "'Date' in df.columns"
   ]
  },
  {
   "cell_type": "code",
   "execution_count": 119,
   "id": "9e465842",
   "metadata": {},
   "outputs": [],
   "source": [
    "# 인덱스가 Date가 아니라면 Date 컬럼을 인덱스로 변경\n",
    "# 조건식: 컬럼들 중 Date가 존재한다면\n",
    "if 'Date' in df.columns:\n",
    "    df.set_index('Date', inplace=True)"
   ]
  },
  {
   "cell_type": "markdown",
   "id": "371bbdb1",
   "metadata": {},
   "source": [
    "- 인덱스를 시계열 데이터로 변경\n",
    "    1. pandas의 to_datetime() 함수 이용\n",
    "    2. datetime의 strptime() 함수 & map 함수 이용"
   ]
  },
  {
   "cell_type": "code",
   "execution_count": 120,
   "id": "f8cf4db9",
   "metadata": {},
   "outputs": [
    {
     "data": {
      "text/plain": [
       "DatetimeIndex(['1997-05-15', '1997-05-16', '1997-05-19', '1997-05-20',\n",
       "               '1997-05-21', '1997-05-22', '1997-05-23', '1997-05-27',\n",
       "               '1997-05-28', '1997-05-29',\n",
       "               ...\n",
       "               '2019-06-11', '2019-06-12', '2019-06-13', '2019-06-14',\n",
       "               '2019-06-17', '2019-06-18', '2019-06-19', '2019-06-20',\n",
       "               '2019-06-21', '2019-06-24'],\n",
       "              dtype='datetime64[ns]', name='Date', length=5563, freq=None)"
      ]
     },
     "execution_count": 120,
     "metadata": {},
     "output_type": "execute_result"
    }
   ],
   "source": [
    "# index를 시계열데이터로 변경\n",
    "# pandas에 내장된 to_datetime() 함수 이용\n",
    "pd.to_datetime(df.index)"
   ]
  },
  {
   "cell_type": "code",
   "execution_count": 121,
   "id": "64f3378a",
   "metadata": {},
   "outputs": [
    {
     "data": {
      "text/plain": [
       "datetime.datetime(1997, 5, 15, 0, 0)"
      ]
     },
     "execution_count": 121,
     "metadata": {},
     "output_type": "execute_result"
    }
   ],
   "source": [
    "# datetime 라이브러리 안에 있는 strptime() 함수 이용\n",
    "datetime.strptime(df.index[0], '%Y-%m-%d')"
   ]
  },
  {
   "cell_type": "code",
   "execution_count": 122,
   "id": "0ac7458b",
   "metadata": {},
   "outputs": [],
   "source": [
    "# strptime() 함수와 map 함수 사용\n",
    "df.index = df.index.map(\n",
    "    lambda x : datetime.strptime(x, '%Y-%m-%d')\n",
    ")"
   ]
  },
  {
   "cell_type": "code",
   "execution_count": 123,
   "id": "d59f311c",
   "metadata": {},
   "outputs": [],
   "source": [
    "# 투자의 시작 시간과 종료 시간을 통해서 df의 인덱스를 필터링\n",
    "start = '2010-01-01'\n",
    "end = '2015-01-01'\n",
    "t_s = datetime.strptime(start, '%Y-%m-%d')\n",
    "t_e = datetime.strptime(end, '%Y-%m-%d')"
   ]
  },
  {
   "cell_type": "code",
   "execution_count": 124,
   "id": "fbf1da89",
   "metadata": {},
   "outputs": [
    {
     "data": {
      "text/html": [
       "<div>\n",
       "<style scoped>\n",
       "    .dataframe tbody tr th:only-of-type {\n",
       "        vertical-align: middle;\n",
       "    }\n",
       "\n",
       "    .dataframe tbody tr th {\n",
       "        vertical-align: top;\n",
       "    }\n",
       "\n",
       "    .dataframe thead th {\n",
       "        text-align: right;\n",
       "    }\n",
       "</style>\n",
       "<table border=\"1\" class=\"dataframe\">\n",
       "  <thead>\n",
       "    <tr style=\"text-align: right;\">\n",
       "      <th></th>\n",
       "      <th>Open</th>\n",
       "      <th>High</th>\n",
       "      <th>Low</th>\n",
       "      <th>Close</th>\n",
       "      <th>Adj Close</th>\n",
       "      <th>Volume</th>\n",
       "    </tr>\n",
       "    <tr>\n",
       "      <th>Date</th>\n",
       "      <th></th>\n",
       "      <th></th>\n",
       "      <th></th>\n",
       "      <th></th>\n",
       "      <th></th>\n",
       "      <th></th>\n",
       "    </tr>\n",
       "  </thead>\n",
       "  <tbody>\n",
       "    <tr>\n",
       "      <th>2010-01-04</th>\n",
       "      <td>136.250000</td>\n",
       "      <td>136.610001</td>\n",
       "      <td>133.139999</td>\n",
       "      <td>133.899994</td>\n",
       "      <td>133.899994</td>\n",
       "      <td>7599900</td>\n",
       "    </tr>\n",
       "    <tr>\n",
       "      <th>2010-01-05</th>\n",
       "      <td>133.429993</td>\n",
       "      <td>135.479996</td>\n",
       "      <td>131.809998</td>\n",
       "      <td>134.690002</td>\n",
       "      <td>134.690002</td>\n",
       "      <td>8851900</td>\n",
       "    </tr>\n",
       "    <tr>\n",
       "      <th>2010-01-06</th>\n",
       "      <td>134.600006</td>\n",
       "      <td>134.729996</td>\n",
       "      <td>131.649994</td>\n",
       "      <td>132.250000</td>\n",
       "      <td>132.250000</td>\n",
       "      <td>7178800</td>\n",
       "    </tr>\n",
       "    <tr>\n",
       "      <th>2010-01-07</th>\n",
       "      <td>132.009995</td>\n",
       "      <td>132.320007</td>\n",
       "      <td>128.800003</td>\n",
       "      <td>130.000000</td>\n",
       "      <td>130.000000</td>\n",
       "      <td>11030200</td>\n",
       "    </tr>\n",
       "    <tr>\n",
       "      <th>2010-01-08</th>\n",
       "      <td>130.559998</td>\n",
       "      <td>133.679993</td>\n",
       "      <td>129.029999</td>\n",
       "      <td>133.520004</td>\n",
       "      <td>133.520004</td>\n",
       "      <td>9830500</td>\n",
       "    </tr>\n",
       "    <tr>\n",
       "      <th>...</th>\n",
       "      <td>...</td>\n",
       "      <td>...</td>\n",
       "      <td>...</td>\n",
       "      <td>...</td>\n",
       "      <td>...</td>\n",
       "      <td>...</td>\n",
       "    </tr>\n",
       "    <tr>\n",
       "      <th>2014-12-24</th>\n",
       "      <td>306.380005</td>\n",
       "      <td>307.000000</td>\n",
       "      <td>302.880005</td>\n",
       "      <td>303.029999</td>\n",
       "      <td>303.029999</td>\n",
       "      <td>1513800</td>\n",
       "    </tr>\n",
       "    <tr>\n",
       "      <th>2014-12-26</th>\n",
       "      <td>305.000000</td>\n",
       "      <td>310.779999</td>\n",
       "      <td>303.809998</td>\n",
       "      <td>309.089996</td>\n",
       "      <td>309.089996</td>\n",
       "      <td>2893800</td>\n",
       "    </tr>\n",
       "    <tr>\n",
       "      <th>2014-12-29</th>\n",
       "      <td>307.850006</td>\n",
       "      <td>314.269989</td>\n",
       "      <td>306.579987</td>\n",
       "      <td>312.040009</td>\n",
       "      <td>312.040009</td>\n",
       "      <td>3009000</td>\n",
       "    </tr>\n",
       "    <tr>\n",
       "      <th>2014-12-30</th>\n",
       "      <td>309.910004</td>\n",
       "      <td>313.940002</td>\n",
       "      <td>309.339996</td>\n",
       "      <td>310.299988</td>\n",
       "      <td>310.299988</td>\n",
       "      <td>2093000</td>\n",
       "    </tr>\n",
       "    <tr>\n",
       "      <th>2014-12-31</th>\n",
       "      <td>311.549988</td>\n",
       "      <td>312.980011</td>\n",
       "      <td>310.010010</td>\n",
       "      <td>310.350006</td>\n",
       "      <td>310.350006</td>\n",
       "      <td>2048000</td>\n",
       "    </tr>\n",
       "  </tbody>\n",
       "</table>\n",
       "<p>1258 rows × 6 columns</p>\n",
       "</div>"
      ],
      "text/plain": [
       "                  Open        High         Low       Close   Adj Close  \\\n",
       "Date                                                                     \n",
       "2010-01-04  136.250000  136.610001  133.139999  133.899994  133.899994   \n",
       "2010-01-05  133.429993  135.479996  131.809998  134.690002  134.690002   \n",
       "2010-01-06  134.600006  134.729996  131.649994  132.250000  132.250000   \n",
       "2010-01-07  132.009995  132.320007  128.800003  130.000000  130.000000   \n",
       "2010-01-08  130.559998  133.679993  129.029999  133.520004  133.520004   \n",
       "...                ...         ...         ...         ...         ...   \n",
       "2014-12-24  306.380005  307.000000  302.880005  303.029999  303.029999   \n",
       "2014-12-26  305.000000  310.779999  303.809998  309.089996  309.089996   \n",
       "2014-12-29  307.850006  314.269989  306.579987  312.040009  312.040009   \n",
       "2014-12-30  309.910004  313.940002  309.339996  310.299988  310.299988   \n",
       "2014-12-31  311.549988  312.980011  310.010010  310.350006  310.350006   \n",
       "\n",
       "              Volume  \n",
       "Date                  \n",
       "2010-01-04   7599900  \n",
       "2010-01-05   8851900  \n",
       "2010-01-06   7178800  \n",
       "2010-01-07  11030200  \n",
       "2010-01-08   9830500  \n",
       "...              ...  \n",
       "2014-12-24   1513800  \n",
       "2014-12-26   2893800  \n",
       "2014-12-29   3009000  \n",
       "2014-12-30   2093000  \n",
       "2014-12-31   2048000  \n",
       "\n",
       "[1258 rows x 6 columns]"
      ]
     },
     "execution_count": 124,
     "metadata": {},
     "output_type": "execute_result"
    }
   ],
   "source": [
    "df.loc[t_s : t_e, ]"
   ]
  },
  {
   "cell_type": "code",
   "execution_count": 125,
   "id": "eebb08ae",
   "metadata": {},
   "outputs": [],
   "source": [
    "price_df = df.loc[start : end, ['Adj Close']]"
   ]
  },
  {
   "cell_type": "code",
   "execution_count": 126,
   "id": "c5d63023",
   "metadata": {},
   "outputs": [
    {
     "data": {
      "text/plain": [
       "np.float64(2.317774607219176)"
      ]
     },
     "execution_count": 126,
     "metadata": {},
     "output_type": "execute_result"
    }
   ],
   "source": [
    "# 첫날(구매)의 수정종가, 마지막날(판매)의 수정종가\n",
    "price_df.iloc[-1, 0]  / price_df.iloc[0, 0]     # 마지막날 / 첫날"
   ]
  },
  {
   "cell_type": "code",
   "execution_count": 127,
   "id": "cffab8c3",
   "metadata": {},
   "outputs": [],
   "source": [
    "# pct_change(): 일별 수익률(전일대비 수익률)\n",
    "price_df['rtn'] = (price_df['Adj Close'].pct_change() + 1).fillna(1)"
   ]
  },
  {
   "cell_type": "code",
   "execution_count": 128,
   "id": "f5fb3710",
   "metadata": {},
   "outputs": [
    {
     "name": "stderr",
     "output_type": "stream",
     "text": [
      "C:\\Users\\toqha\\AppData\\Local\\Temp\\ipykernel_17012\\121289533.py:2: FutureWarning: Series.__getitem__ treating keys as positions is deprecated. In a future version, integer keys will always be treated as labels (consistent with DataFrame behavior). To access a value by position, use `ser.iloc[pos]`\n",
      "  price_df['rtn'].cumprod()[-1]\n"
     ]
    },
    {
     "data": {
      "text/plain": [
       "np.float64(2.317774607219178)"
      ]
     },
     "execution_count": 128,
     "metadata": {},
     "output_type": "execute_result"
    }
   ],
   "source": [
    "# 최종 누적 수익률\n",
    "price_df['rtn'].cumprod()[-1]"
   ]
  },
  {
   "cell_type": "markdown",
   "id": "2dbdaf96",
   "metadata": {},
   "source": [
    "#### Buy and Hold 함수화\n",
    "- 매개변수 개수는 4개\n",
    "    - _df : 데이터프레임 -> 필수\n",
    "    - _start : 투자 시작 시간(매수) -> '2010-01-01' 기본값 설정\n",
    "    - _end : 투자 종료 시간(매도) -> 현재 시간 datetime의 now() 기본값 설정\n",
    "    - _col : 특정 컬럼 선택 -> 'Adj Close'(수정종가) 기본값 설정\n",
    "1. _df의 복사본 생성 (df 변수 생성) -> 원본 데이터 유지 위해\n",
    "2. 컬럼 중 'Date'가 존재한다면 Date 컬럼을 인덱스로 변경\n",
    "3. 인덱스를 시계열 데이터로 변경\n",
    "4. 결측치와 양의 무한대, 음의 무한대 데이터 제거\n",
    "5. _start와 _end를 기준으로 인덱스 필터링, _col을 기준으로 컬럼 필터링\n",
    "    - 시도하고 문제가 발생한다면 '인자값이 잘못되었다' 출력하고 함수 종료\n",
    "6. 일별 수익률(rtn)을 생성하여 pct_change() + 1 데이터 대입\n",
    "7. 누적 수익률을 계산하여 새로운 컬럼 (acc_rtn)에 대입\n",
    "8. 만들어진 데이터프레임과 최종 누적수익률 반환"
   ]
  },
  {
   "cell_type": "code",
   "execution_count": 129,
   "id": "64d291bb",
   "metadata": {},
   "outputs": [
    {
     "data": {
      "text/plain": [
       "datetime.datetime(2025, 6, 17, 11, 25, 45, 903776)"
      ]
     },
     "execution_count": 129,
     "metadata": {},
     "output_type": "execute_result"
    }
   ],
   "source": [
    "datetime.now()"
   ]
  },
  {
   "cell_type": "code",
   "execution_count": 130,
   "id": "8fbf5a5c",
   "metadata": {},
   "outputs": [],
   "source": [
    "def bnh(_df, _start='2010-01-01', _end=datetime.now(), _col='Adj Close'):\n",
    "    df = _df.copy()\n",
    "    # try:\n",
    "    #     _start = datetime.strptime(_start, '%Y-%m-%d')\n",
    "    #     # 만약 _end 타입이 문자라면\n",
    "    #     if type(_end) == 'str':\n",
    "    #         _end = datetime.strptime(_start, '%y-%m-%d')\n",
    "    # except:\n",
    "    #     print('시간 포맷이 맞지 않습니다, (YYYY-mm-dd)')\n",
    "    #     return\n",
    "    \n",
    "    # Date가 컬럼에 존재한다면 Date를 인덱스로 변경\n",
    "    if 'Date' in df.columns:\n",
    "        df.set_index('Date', inplace=True)\n",
    "\n",
    "    # 인덱스 -> 시계열데이터로 변경\n",
    "    df.index = pd.to_datetime(df.index)\n",
    "    \n",
    "    # 결측치, 양의 무한대, 음의 무한대 제거\n",
    "    flag = df.isin( [np.nan, np.inf, -np.inf] ).any(axis=1)\n",
    "    df = df.loc[~flag, ]\n",
    "    \n",
    "    try: \n",
    "       df = df.loc[_start : _end, [_col]]\n",
    "    except Exception as e:\n",
    "        print(e)\n",
    "        print('인자값이 잘못되었습니다')\n",
    "        return \"\"\n",
    "    \n",
    "    # 일별 수익률 컬럼 생성\n",
    "    df['rtn'] = (df[_col].pct_change() + 1).fillna(1)\n",
    "    # 누적 수익률 컬럼 생성\n",
    "    df['acc_rtn'] = df['rtn'].cumprod()\n",
    "    # 최종 누적 수익률\n",
    "    final_acc_rtn = df.iloc[-1, -1]\n",
    "\n",
    "    # 결과 데이터프레임과 최종 누적수익률 반환\n",
    "    return df, final_acc_rtn"
   ]
  },
  {
   "cell_type": "code",
   "execution_count": 131,
   "id": "be2acc27",
   "metadata": {},
   "outputs": [],
   "source": [
    "test_df = pd.read_csv('../../csv/MSFT.csv')"
   ]
  },
  {
   "cell_type": "code",
   "execution_count": 132,
   "id": "32e7833d",
   "metadata": {},
   "outputs": [
    {
     "data": {
      "text/plain": [
       "(                 Close       rtn   acc_rtn\n",
       " Date                                      \n",
       " 2015-01-02   46.759998  1.000000  1.000000\n",
       " 2015-01-05   46.330002  0.990804  0.990804\n",
       " 2015-01-06   45.650002  0.985323  0.976262\n",
       " 2015-01-07   46.230000  1.012705  0.988666\n",
       " 2015-01-08   47.590000  1.029418  1.017750\n",
       " ...                ...       ...       ...\n",
       " 2019-06-18  135.160004  1.017388  2.890505\n",
       " 2019-06-19  135.690002  1.003921  2.901839\n",
       " 2019-06-20  136.949997  1.009286  2.928785\n",
       " 2019-06-21  136.970001  1.000146  2.929213\n",
       " 2019-06-24  138.289993  1.009637  2.957442\n",
       " \n",
       " [1126 rows x 3 columns],\n",
       " np.float64(2.9574422351344074))"
      ]
     },
     "execution_count": 132,
     "metadata": {},
     "output_type": "execute_result"
    }
   ],
   "source": [
    "bnh(test_df, _start='2015-01-01', _col='Close')"
   ]
  },
  {
   "cell_type": "code",
   "execution_count": 133,
   "id": "77713b2b",
   "metadata": {},
   "outputs": [],
   "source": [
    "msft, far = bnh(test_df, _start='2015-01-01', _col='Close')"
   ]
  },
  {
   "cell_type": "code",
   "execution_count": 134,
   "id": "09d8f489",
   "metadata": {},
   "outputs": [
    {
     "data": {
      "text/html": [
       "<div>\n",
       "<style scoped>\n",
       "    .dataframe tbody tr th:only-of-type {\n",
       "        vertical-align: middle;\n",
       "    }\n",
       "\n",
       "    .dataframe tbody tr th {\n",
       "        vertical-align: top;\n",
       "    }\n",
       "\n",
       "    .dataframe thead th {\n",
       "        text-align: right;\n",
       "    }\n",
       "</style>\n",
       "<table border=\"1\" class=\"dataframe\">\n",
       "  <thead>\n",
       "    <tr style=\"text-align: right;\">\n",
       "      <th></th>\n",
       "      <th>Close</th>\n",
       "      <th>rtn</th>\n",
       "      <th>acc_rtn</th>\n",
       "    </tr>\n",
       "    <tr>\n",
       "      <th>Date</th>\n",
       "      <th></th>\n",
       "      <th></th>\n",
       "      <th></th>\n",
       "    </tr>\n",
       "  </thead>\n",
       "  <tbody>\n",
       "    <tr>\n",
       "      <th>2015-01-02</th>\n",
       "      <td>46.759998</td>\n",
       "      <td>1.000000</td>\n",
       "      <td>1.000000</td>\n",
       "    </tr>\n",
       "    <tr>\n",
       "      <th>2015-01-05</th>\n",
       "      <td>46.330002</td>\n",
       "      <td>0.990804</td>\n",
       "      <td>0.990804</td>\n",
       "    </tr>\n",
       "    <tr>\n",
       "      <th>2015-01-06</th>\n",
       "      <td>45.650002</td>\n",
       "      <td>0.985323</td>\n",
       "      <td>0.976262</td>\n",
       "    </tr>\n",
       "    <tr>\n",
       "      <th>2015-01-07</th>\n",
       "      <td>46.230000</td>\n",
       "      <td>1.012705</td>\n",
       "      <td>0.988666</td>\n",
       "    </tr>\n",
       "    <tr>\n",
       "      <th>2015-01-08</th>\n",
       "      <td>47.590000</td>\n",
       "      <td>1.029418</td>\n",
       "      <td>1.017750</td>\n",
       "    </tr>\n",
       "    <tr>\n",
       "      <th>...</th>\n",
       "      <td>...</td>\n",
       "      <td>...</td>\n",
       "      <td>...</td>\n",
       "    </tr>\n",
       "    <tr>\n",
       "      <th>2019-06-18</th>\n",
       "      <td>135.160004</td>\n",
       "      <td>1.017388</td>\n",
       "      <td>2.890505</td>\n",
       "    </tr>\n",
       "    <tr>\n",
       "      <th>2019-06-19</th>\n",
       "      <td>135.690002</td>\n",
       "      <td>1.003921</td>\n",
       "      <td>2.901839</td>\n",
       "    </tr>\n",
       "    <tr>\n",
       "      <th>2019-06-20</th>\n",
       "      <td>136.949997</td>\n",
       "      <td>1.009286</td>\n",
       "      <td>2.928785</td>\n",
       "    </tr>\n",
       "    <tr>\n",
       "      <th>2019-06-21</th>\n",
       "      <td>136.970001</td>\n",
       "      <td>1.000146</td>\n",
       "      <td>2.929213</td>\n",
       "    </tr>\n",
       "    <tr>\n",
       "      <th>2019-06-24</th>\n",
       "      <td>138.289993</td>\n",
       "      <td>1.009637</td>\n",
       "      <td>2.957442</td>\n",
       "    </tr>\n",
       "  </tbody>\n",
       "</table>\n",
       "<p>1126 rows × 3 columns</p>\n",
       "</div>"
      ],
      "text/plain": [
       "                 Close       rtn   acc_rtn\n",
       "Date                                      \n",
       "2015-01-02   46.759998  1.000000  1.000000\n",
       "2015-01-05   46.330002  0.990804  0.990804\n",
       "2015-01-06   45.650002  0.985323  0.976262\n",
       "2015-01-07   46.230000  1.012705  0.988666\n",
       "2015-01-08   47.590000  1.029418  1.017750\n",
       "...                ...       ...       ...\n",
       "2019-06-18  135.160004  1.017388  2.890505\n",
       "2019-06-19  135.690002  1.003921  2.901839\n",
       "2019-06-20  136.949997  1.009286  2.928785\n",
       "2019-06-21  136.970001  1.000146  2.929213\n",
       "2019-06-24  138.289993  1.009637  2.957442\n",
       "\n",
       "[1126 rows x 3 columns]"
      ]
     },
     "execution_count": 134,
     "metadata": {},
     "output_type": "execute_result"
    }
   ],
   "source": [
    "msft"
   ]
  },
  {
   "cell_type": "code",
   "execution_count": 135,
   "id": "fd56dbb6",
   "metadata": {},
   "outputs": [
    {
     "data": {
      "text/plain": [
       "np.float64(2.9574422351344074)"
      ]
     },
     "execution_count": 135,
     "metadata": {},
     "output_type": "execute_result"
    }
   ],
   "source": [
    "far"
   ]
  }
 ],
 "metadata": {
  "kernelspec": {
   "display_name": "Python 3",
   "language": "python",
   "name": "python3"
  },
  "language_info": {
   "codemirror_mode": {
    "name": "ipython",
    "version": 3
   },
   "file_extension": ".py",
   "mimetype": "text/x-python",
   "name": "python",
   "nbconvert_exporter": "python",
   "pygments_lexer": "ipython3",
   "version": "3.9.13"
  }
 },
 "nbformat": 4,
 "nbformat_minor": 5
}
