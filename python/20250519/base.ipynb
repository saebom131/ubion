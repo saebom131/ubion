{
 "cells": [
  {
   "cell_type": "code",
   "execution_count": 2,
   "id": "12a32717",
   "metadata": {},
   "outputs": [],
   "source": [
    "a = 1"
   ]
  },
  {
   "cell_type": "code",
   "execution_count": 7,
   "id": "6a6f1a98",
   "metadata": {},
   "outputs": [
    {
     "name": "stdout",
     "output_type": "stream",
     "text": [
      "55\n"
     ]
    }
   ],
   "source": [
    "res=0\n",
    "for i in range(1,11,1) :\n",
    "    res = res + i\n",
    "print(res)"
   ]
  },
  {
   "cell_type": "code",
   "execution_count": 2,
   "id": "95156945",
   "metadata": {},
   "outputs": [],
   "source": [
    "# 제목1\n",
    "## 제목2\n",
    "### 제목3\n",
    "#### 제목4"
   ]
  },
  {
   "cell_type": "markdown",
   "id": "923289e9",
   "metadata": {},
   "source": [
    "#### 리스트 형태 데이터\n",
    "### 순서형 리스트\n",
    "1. list1\n",
    "2. list2\n",
    "3. list3\n",
    "3. list4\n",
    "\n",
    "### 비순서형 리스트\n",
    "- list1\n",
    "- list2\n",
    "- list3\n",
    "\n",
    "#### 리스트 안에 리스트 생성\n",
    "1. list1\n",
    "    1. sub_list1\n",
    "    2. sub_list2"
   ]
  },
  {
   "cell_type": "markdown",
   "id": "54ad2340",
   "metadata": {},
   "source": []
  }
 ],
 "metadata": {
  "kernelspec": {
   "display_name": "Python 3",
   "language": "python",
   "name": "python3"
  },
  "language_info": {
   "codemirror_mode": {
    "name": "ipython",
    "version": 3
   },
   "file_extension": ".py",
   "mimetype": "text/x-python",
   "name": "python",
   "nbconvert_exporter": "python",
   "pygments_lexer": "ipython3",
   "version": "3.9.13"
  }
 },
 "nbformat": 4,
 "nbformat_minor": 5
}
