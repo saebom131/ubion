{
 "cells": [
  {
   "cell_type": "markdown",
   "id": "70c2ce82",
   "metadata": {},
   "source": [
    "#### <시계열 데이터>\n",
    "- 여러개의 데이터들을 하나로 모아서 시간 데이터 생성\n",
    "\n",
    "- type(format)\n",
    "    - 년도 표시(4자리수) : %Y\n",
    "    - 년도 표시(2자리수) : %y\n",
    "    - 월을 숫자로 표시 : %m (소문자)\n",
    "    - 월을 이름으로 표시 : %B\n",
    "    - 월의 이름을 축약해서 표시 : %b\n",
    "    - 일을 숫자로 표시 : %d\n",
    "    - 시를 24시 기준으로 표시 : %H\n",
    "    - 시를 12시 기준으로 표시 : %I\n",
    "    - AM/PM 표시 : %p\n",
    "    - 분을 표시 : %M\n",
    "    - 초릂 표시 : %S\n",
    "    - 요일을 이름으로 표시 : %A\n",
    "    - 요일을 숫자로 표시 : %w (0: 일, 1: 월, ... , 6: 토)\n",
    "    - 요일을 축약해서 표시 : %a"
   ]
  },
  {
   "cell_type": "code",
   "execution_count": 1,
   "id": "e79f83ea",
   "metadata": {},
   "outputs": [],
   "source": [
    "# 시계열 데이터를 사용할 수 있는 라이브러리 호출\n",
    "from datetime import datetime"
   ]
  },
  {
   "cell_type": "code",
   "execution_count": 2,
   "id": "6788aac4",
   "metadata": {},
   "outputs": [],
   "source": [
    "time_str = '2025-05-27'"
   ]
  },
  {
   "cell_type": "code",
   "execution_count": 6,
   "id": "c5d94536",
   "metadata": {},
   "outputs": [
    {
     "name": "stdout",
     "output_type": "stream",
     "text": [
      "2025-05-27\n"
     ]
    },
    {
     "data": {
      "text/plain": [
       "str"
      ]
     },
     "execution_count": 6,
     "metadata": {},
     "output_type": "execute_result"
    }
   ],
   "source": [
    "print(time_str)\n",
    "type(time_str)"
   ]
  },
  {
   "cell_type": "code",
   "execution_count": null,
   "id": "be378974",
   "metadata": {},
   "outputs": [],
   "source": [
    "# 문자열 데이터를 시계열 데이터로 변환\n",
    "# 라이브러리에서 함수 호출\n",
    "# datetime 안에 있는 함수 호출\n",
    "# strptime() 함수 : 문자열데이터를 시계열데이터로 변환\n",
    "    # 필수 인자(입력값) 2개 \n",
    "        # 문자열 데이터(시계열로 변경시킬 데이터)\n",
    "        # 해당 문자열의 형식(format)"
   ]
  },
  {
   "cell_type": "code",
   "execution_count": 12,
   "id": "c397a302",
   "metadata": {},
   "outputs": [],
   "source": [
    "time_data = datetime.strptime(time_str, '%Y-%m-%d')"
   ]
  },
  {
   "cell_type": "code",
   "execution_count": 21,
   "id": "9d036204",
   "metadata": {},
   "outputs": [
    {
     "name": "stdout",
     "output_type": "stream",
     "text": [
      "2025-05-27 00:00:00\n"
     ]
    },
    {
     "data": {
      "text/plain": [
       "datetime.datetime(2025, 5, 27, 0, 0)"
      ]
     },
     "execution_count": 21,
     "metadata": {},
     "output_type": "execute_result"
    }
   ],
   "source": [
    "print(time_data)\n",
    "time_data"
   ]
  },
  {
   "cell_type": "code",
   "execution_count": 15,
   "id": "dbb4be19",
   "metadata": {},
   "outputs": [
    {
     "data": {
      "text/plain": [
       "datetime.datetime"
      ]
     },
     "execution_count": 15,
     "metadata": {},
     "output_type": "execute_result"
    }
   ],
   "source": [
    "type(time_data)"
   ]
  },
  {
   "cell_type": "code",
   "execution_count": 28,
   "id": "462855c1",
   "metadata": {},
   "outputs": [
    {
     "data": {
      "text/plain": [
       "'Tuesday'"
      ]
     },
     "execution_count": 28,
     "metadata": {},
     "output_type": "execute_result"
    }
   ],
   "source": [
    "# 시간 데이터 -> 문자열로\n",
    "time_data.strftime('%A')"
   ]
  },
  {
   "cell_type": "code",
   "execution_count": 32,
   "id": "841fb392",
   "metadata": {},
   "outputs": [
    {
     "data": {
      "text/plain": [
       "'05/27/2025'"
      ]
     },
     "execution_count": 32,
     "metadata": {},
     "output_type": "execute_result"
    }
   ],
   "source": [
    "datetime.strftime(time_data, '%m/%d/%Y')\n",
    "# 시간 데이터 지정 필요"
   ]
  },
  {
   "cell_type": "markdown",
   "id": "c808a99d",
   "metadata": {},
   "source": [
    "#### pandas에서의 시계열 데이터\n",
    "- Timestamp()\n",
    "- to_datetime()"
   ]
  },
  {
   "cell_type": "code",
   "execution_count": 33,
   "id": "32348069",
   "metadata": {},
   "outputs": [],
   "source": [
    "import pandas as pd"
   ]
  },
  {
   "cell_type": "code",
   "execution_count": 46,
   "id": "9b5da1af",
   "metadata": {},
   "outputs": [
    {
     "data": {
      "text/plain": [
       "Timestamp('1970-01-01 00:00:00.001000')"
      ]
     },
     "execution_count": 46,
     "metadata": {},
     "output_type": "execute_result"
    }
   ],
   "source": [
    "# pandas 라이브러리에서 시계열 데이터를 생성\n",
    "# Timestamp(): 1970-01-01 시작 시간에서 나노초만큼 지난 시간 생성\n",
    "pd.Timestamp(1000000)"
   ]
  },
  {
   "cell_type": "code",
   "execution_count": null,
   "id": "11f9d984",
   "metadata": {},
   "outputs": [
    {
     "data": {
      "text/plain": [
       "Timestamp('1970-04-11 00:00:00')"
      ]
     },
     "execution_count": 47,
     "metadata": {},
     "output_type": "execute_result"
    }
   ],
   "source": [
    "# Timestamp()에 추가할 단위 설정\n",
    "pd.Timestamp(100, unit='D')"
   ]
  },
  {
   "cell_type": "code",
   "execution_count": 52,
   "id": "a44977df",
   "metadata": {},
   "outputs": [
    {
     "data": {
      "text/plain": [
       "Timestamp('2025-05-27 00:00:00')"
      ]
     },
     "execution_count": 52,
     "metadata": {},
     "output_type": "execute_result"
    }
   ],
   "source": [
    "pd.Timestamp('2025-05-27')"
   ]
  },
  {
   "cell_type": "code",
   "execution_count": 68,
   "id": "be787594",
   "metadata": {},
   "outputs": [
    {
     "data": {
      "text/plain": [
       "Timestamp('2025-05-27 00:00:00')"
      ]
     },
     "execution_count": 68,
     "metadata": {},
     "output_type": "execute_result"
    }
   ],
   "source": [
    "pd.Timestamp('05-27-2025')"
   ]
  },
  {
   "cell_type": "code",
   "execution_count": 54,
   "id": "5c490b38",
   "metadata": {},
   "outputs": [
    {
     "data": {
      "text/plain": [
       "Timestamp('2025-05-27 00:00:00')"
      ]
     },
     "execution_count": 54,
     "metadata": {},
     "output_type": "execute_result"
    }
   ],
   "source": [
    "pd.Timestamp('20250527')"
   ]
  },
  {
   "cell_type": "code",
   "execution_count": 69,
   "id": "25fff5bc",
   "metadata": {},
   "outputs": [
    {
     "data": {
      "text/plain": [
       "Timestamp('2025-05-27 00:00:00')"
      ]
     },
     "execution_count": 69,
     "metadata": {},
     "output_type": "execute_result"
    }
   ],
   "source": [
    "pd.Timestamp('2025/5/27')"
   ]
  },
  {
   "cell_type": "code",
   "execution_count": 83,
   "id": "4dea2192",
   "metadata": {},
   "outputs": [
    {
     "data": {
      "text/plain": [
       "Timestamp('2025-05-27 00:00:00')"
      ]
     },
     "execution_count": 83,
     "metadata": {},
     "output_type": "execute_result"
    }
   ],
   "source": [
    "pd.to_datetime('20250527')"
   ]
  },
  {
   "cell_type": "code",
   "execution_count": 97,
   "id": "07e1b947",
   "metadata": {},
   "outputs": [
    {
     "data": {
      "text/plain": [
       "Timedelta('15 days 00:00:00')"
      ]
     },
     "execution_count": 97,
     "metadata": {},
     "output_type": "execute_result"
    }
   ],
   "source": [
    "# Timedelta() -> 시간 데이터의 계산에 활용\n",
    "pd.Timedelta(15, unit='D')"
   ]
  },
  {
   "cell_type": "code",
   "execution_count": 84,
   "id": "f156f846",
   "metadata": {},
   "outputs": [],
   "source": [
    "now_date = pd.to_datetime('2025년5월27일', format='%Y년%m월%d일')"
   ]
  },
  {
   "cell_type": "code",
   "execution_count": 93,
   "id": "6face516",
   "metadata": {},
   "outputs": [
    {
     "data": {
      "text/plain": [
       "Timestamp('2025-06-11 00:00:00')"
      ]
     },
     "execution_count": 93,
     "metadata": {},
     "output_type": "execute_result"
    }
   ],
   "source": [
    "# 오늘로부터 15일 뒤\n",
    "now_date + pd.Timedelta(15, unit='D')"
   ]
  },
  {
   "cell_type": "code",
   "execution_count": null,
   "id": "4a41b76c",
   "metadata": {},
   "outputs": [
    {
     "data": {
      "text/plain": [
       "type"
      ]
     },
     "execution_count": 108,
     "metadata": {},
     "output_type": "execute_result"
    }
   ],
   "source": [
    "pd.Timedelta"
   ]
  },
  {
   "cell_type": "code",
   "execution_count": null,
   "id": "1166573b",
   "metadata": {},
   "outputs": [],
   "source": []
  }
 ],
 "metadata": {
  "kernelspec": {
   "display_name": "Python 3",
   "language": "python",
   "name": "python3"
  },
  "language_info": {
   "codemirror_mode": {
    "name": "ipython",
    "version": 3
   },
   "file_extension": ".py",
   "mimetype": "text/x-python",
   "name": "python",
   "nbconvert_exporter": "python",
   "pygments_lexer": "ipython3",
   "version": "3.9.13"
  }
 },
 "nbformat": 4,
 "nbformat_minor": 5
}
