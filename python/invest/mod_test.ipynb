{
 "cells": [
  {
   "cell_type": "code",
   "execution_count": null,
   "id": "9ec00a19",
   "metadata": {},
   "outputs": [],
   "source": [
    "# 같은 경로 상에 존재하는 모듈 가져오기\n",
    "import buyandhold\n",
    "import bollinger"
   ]
  },
  {
   "cell_type": "code",
   "execution_count": 2,
   "id": "4b673dc4",
   "metadata": {},
   "outputs": [],
   "source": [
    "import pandas as pd"
   ]
  },
  {
   "cell_type": "code",
   "execution_count": 3,
   "id": "786fd9f9",
   "metadata": {},
   "outputs": [],
   "source": [
    "df = pd.read_csv('../../csv/GM.csv')"
   ]
  },
  {
   "cell_type": "code",
   "execution_count": 4,
   "id": "525f2011",
   "metadata": {},
   "outputs": [],
   "source": [
    "# 바이앤홀드로 수익률 확인\n",
    "bnh_df, bnh_rtn = buyandhold.bnh(df, _start = '2015-01-01')"
   ]
  },
  {
   "cell_type": "code",
   "execution_count": 5,
   "id": "309b4e01",
   "metadata": {},
   "outputs": [
    {
     "data": {
      "text/plain": [
       "np.float64(1.291093673328708)"
      ]
     },
     "execution_count": 5,
     "metadata": {},
     "output_type": "execute_result"
    }
   ],
   "source": [
    "bnh_rtn"
   ]
  },
  {
   "cell_type": "code",
   "execution_count": 7,
   "id": "bdd07163",
   "metadata": {},
   "outputs": [
    {
     "name": "stdout",
     "output_type": "stream",
     "text": [
      "매수일: 2015-04-07 00:00:00, 매수가: 29.483093\n",
      "매도일: 2015-05-28 00:00:00, 매도가: 30.027704, 수익률: 1.018471976464613\n",
      "매수일: 2015-06-26 00:00:00, 매수가: 28.662933\n",
      "매도일: 2015-10-07 00:00:00, 매도가: 27.893112, 수익률: 0.9731422810080183\n",
      "매수일: 2015-12-11 00:00:00, 매수가: 29.159061\n",
      "매도일: 2016-03-03 00:00:00, 매도가: 26.498234, 수익률: 0.9087478502822844\n",
      "매수일: 2016-04-04 00:00:00, 매수가: 25.820202\n",
      "매도일: 2016-04-21 00:00:00, 매도가: 28.203611, 수익률: 1.0923079145546577\n",
      "매수일: 2016-06-03 00:00:00, 매수가: 25.561138\n",
      "매도일: 2016-07-12 00:00:00, 매도가: 26.761086, 수익률: 1.0469442322951348\n",
      "매수일: 2016-09-09 00:00:00, 매수가: 26.975273\n",
      "매도일: 2016-09-22 00:00:00, 매도가: 28.665657, 수익률: 1.0626642036208493\n",
      "매수일: 2017-02-07 00:00:00, 매수가: 31.401024\n",
      "매도일: 2017-06-29 00:00:00, 매도가: 31.857004, 수익률: 1.0145211824939213\n",
      "매수일: 2017-10-31 00:00:00, 매수가: 40.086929\n",
      "매도일: 2018-01-04 00:00:00, 매도가: 41.543377, 수익률: 1.0363322418636758\n",
      "매수일: 2018-02-02 00:00:00, 매수가: 38.588093\n",
      "매도일: 2018-05-31 00:00:00, 매도가: 40.596851, 수익률: 1.0520564206165877\n",
      "매수일: 2018-07-25 00:00:00, 매수가: 36.107922\n"
     ]
    },
    {
     "name": "stderr",
     "output_type": "stream",
     "text": [
      "c:\\ubion\\python\\invest\\bollinger.py:97: FutureWarning: Setting an item of incompatible dtype is deprecated and will raise an error in a future version of pandas. Value '1.018471976464613' has dtype incompatible with int64, please explicitly cast to a compatible dtype first.\n",
      "  df.loc[idx, 'rtn'] = rtn\n"
     ]
    },
    {
     "name": "stdout",
     "output_type": "stream",
     "text": [
      "매도일: 2018-10-31 00:00:00, 매도가: 35.473309, 수익률: 0.9824245493828196\n",
      "매수일: 2018-12-21 00:00:00, 매수가: 32.309677\n",
      "매도일: 2019-01-11 00:00:00, 매도가: 36.424309, 수익률: 1.1273498339212737\n",
      "매수일: 2019-03-20 00:00:00, 매수가: 36.6077\n"
     ]
    }
   ],
   "source": [
    "# 볼린저밴드로 수익률 확인\n",
    "band_df = bollinger.create_band(df, _start = '2015-01-01')\n",
    "trade_df = bollinger.create_trade(band_df)\n",
    "boll_df, boll_rtn = bollinger.create_rtn(trade_df)"
   ]
  },
  {
   "cell_type": "code",
   "execution_count": 8,
   "id": "93da1770",
   "metadata": {},
   "outputs": [
    {
     "data": {
      "text/plain": [
       "np.float64(1.3408820430735293)"
      ]
     },
     "execution_count": 8,
     "metadata": {},
     "output_type": "execute_result"
    }
   ],
   "source": [
    "boll_rtn"
   ]
  }
 ],
 "metadata": {
  "kernelspec": {
   "display_name": "Python 3",
   "language": "python",
   "name": "python3"
  },
  "language_info": {
   "codemirror_mode": {
    "name": "ipython",
    "version": 3
   },
   "file_extension": ".py",
   "mimetype": "text/x-python",
   "name": "python",
   "nbconvert_exporter": "python",
   "pygments_lexer": "ipython3",
   "version": "3.9.13"
  }
 },
 "nbformat": 4,
 "nbformat_minor": 5
}
