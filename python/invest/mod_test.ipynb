{
 "cells": [
  {
   "cell_type": "code",
   "execution_count": 5,
   "id": "9ec00a19",
   "metadata": {},
   "outputs": [],
   "source": [
    "# 같은 경로 상에 존재하는 모듈 가져오기\n",
    "import buyandhold as bnh\n",
    "import bollinger as boll\n",
    "import halloween as hal\n",
    "import momentum as mm"
   ]
  },
  {
   "cell_type": "code",
   "execution_count": 2,
   "id": "4b673dc4",
   "metadata": {},
   "outputs": [],
   "source": [
    "import pandas as pd"
   ]
  },
  {
   "cell_type": "code",
   "execution_count": 7,
   "id": "786fd9f9",
   "metadata": {},
   "outputs": [],
   "source": [
    "df = pd.read_csv('../../csv/GM.csv')"
   ]
  },
  {
   "cell_type": "code",
   "execution_count": 8,
   "id": "525f2011",
   "metadata": {},
   "outputs": [],
   "source": [
    "# 바이앤홀드로 수익률 확인\n",
    "bnh_df, bnh_rtn = bnh.bnh(df, _start = '2015-01-01')"
   ]
  },
  {
   "cell_type": "code",
   "execution_count": 9,
   "id": "309b4e01",
   "metadata": {},
   "outputs": [
    {
     "data": {
      "text/plain": [
       "np.float64(1.291093673328708)"
      ]
     },
     "execution_count": 9,
     "metadata": {},
     "output_type": "execute_result"
    }
   ],
   "source": [
    "bnh_rtn"
   ]
  },
  {
   "cell_type": "code",
   "execution_count": 10,
   "id": "bdd07163",
   "metadata": {},
   "outputs": [
    {
     "name": "stdout",
     "output_type": "stream",
     "text": [
      "매수일: 2015-04-07 00:00:00, 매수가: 29.483093\n",
      "매도일: 2015-05-28 00:00:00, 매도가: 30.027704, 수익률: 1.018471976464613\n",
      "매수일: 2015-06-26 00:00:00, 매수가: 28.662933\n",
      "매도일: 2015-10-07 00:00:00, 매도가: 27.893112, 수익률: 0.9731422810080183\n",
      "매수일: 2015-12-11 00:00:00, 매수가: 29.159061\n",
      "매도일: 2016-03-03 00:00:00, 매도가: 26.498234, 수익률: 0.9087478502822844\n",
      "매수일: 2016-04-04 00:00:00, 매수가: 25.820202\n",
      "매도일: 2016-04-21 00:00:00, 매도가: 28.203611, 수익률: 1.0923079145546577\n",
      "매수일: 2016-06-03 00:00:00, 매수가: 25.561138\n",
      "매도일: 2016-07-12 00:00:00, 매도가: 26.761086, 수익률: 1.0469442322951348\n",
      "매수일: 2016-09-09 00:00:00, 매수가: 26.975273\n",
      "매도일: 2016-09-22 00:00:00, 매도가: 28.665657, 수익률: 1.0626642036208493\n",
      "매수일: 2017-02-07 00:00:00, 매수가: 31.401024\n",
      "매도일: 2017-06-29 00:00:00, 매도가: 31.857004, 수익률: 1.0145211824939213\n",
      "매수일: 2017-10-31 00:00:00, 매수가: 40.086929\n",
      "매도일: 2018-01-04 00:00:00, 매도가: 41.543377, 수익률: 1.0363322418636758\n",
      "매수일: 2018-02-02 00:00:00, 매수가: 38.588093\n",
      "매도일: 2018-05-31 00:00:00, 매도가: 40.596851, 수익률: 1.0520564206165877\n",
      "매수일: 2018-07-25 00:00:00, 매수가: 36.107922\n",
      "매도일: 2018-10-31 00:00:00, 매도가: 35.473309, 수익률: 0.9824245493828196\n",
      "매수일: 2018-12-21 00:00:00, 매수가: 32.309677\n",
      "매도일: 2019-01-11 00:00:00, 매도가: 36.424309, 수익률: 1.1273498339212737\n",
      "매수일: 2019-03-20 00:00:00, 매수가: 36.6077\n"
     ]
    },
    {
     "name": "stderr",
     "output_type": "stream",
     "text": [
      "c:\\ubion\\python\\invest\\bollinger.py:97: FutureWarning: Setting an item of incompatible dtype is deprecated and will raise an error in a future version of pandas. Value '1.018471976464613' has dtype incompatible with int64, please explicitly cast to a compatible dtype first.\n",
      "  df.loc[idx, 'rtn'] = rtn\n"
     ]
    }
   ],
   "source": [
    "# 볼린저밴드로 수익률 확인\n",
    "band_df = boll.create_band(df, _start = '2015-01-01')\n",
    "trade_df = boll.create_trade(band_df)\n",
    "boll_df, boll_rtn = boll.create_rtn(trade_df)"
   ]
  },
  {
   "cell_type": "code",
   "execution_count": 11,
   "id": "93da1770",
   "metadata": {},
   "outputs": [
    {
     "data": {
      "text/plain": [
       "np.float64(1.3408820430735293)"
      ]
     },
     "execution_count": 11,
     "metadata": {},
     "output_type": "execute_result"
    }
   ],
   "source": [
    "boll_rtn"
   ]
  },
  {
   "cell_type": "code",
   "execution_count": 12,
   "id": "cf6c1225",
   "metadata": {},
   "outputs": [
    {
     "name": "stderr",
     "output_type": "stream",
     "text": [
      "c:\\ubion\\python\\invest\\halloween.py:52: FutureWarning: Setting an item of incompatible dtype is deprecated and will raise an error in a future version of pandas. Value '0.9147582912071174' has dtype incompatible with int64, please explicitly cast to a compatible dtype first.\n",
      "  result.iloc[idx, -1] = rtn\n"
     ]
    }
   ],
   "source": [
    "hal_df, hal_rtn = hal.six_month(df, _start = '2015-01-01')"
   ]
  },
  {
   "cell_type": "code",
   "execution_count": 13,
   "id": "4194b03d",
   "metadata": {},
   "outputs": [
    {
     "data": {
      "text/plain": [
       "np.float64(0.9728528468420603)"
      ]
     },
     "execution_count": 13,
     "metadata": {},
     "output_type": "execute_result"
    }
   ],
   "source": [
    "hal_rtn"
   ]
  },
  {
   "cell_type": "code",
   "execution_count": 14,
   "id": "e1d05316",
   "metadata": {},
   "outputs": [
    {
     "name": "stderr",
     "output_type": "stream",
     "text": [
      "c:\\ubion\\python\\invest\\momentum.py:42: SettingWithCopyWarning: \n",
      "A value is trying to be set on a copy of a slice from a DataFrame.\n",
      "Try using .loc[row_indexer,col_indexer] = value instead\n",
      "\n",
      "See the caveats in the documentation: https://pandas.pydata.org/pandas-docs/stable/user_guide/indexing.html#returning-a-view-versus-a-copy\n",
      "  df['BF1'] = df.shift(1)[col].fillna(0)\n",
      "c:\\ubion\\python\\invest\\momentum.py:44: SettingWithCopyWarning: \n",
      "A value is trying to be set on a copy of a slice from a DataFrame.\n",
      "Try using .loc[row_indexer,col_indexer] = value instead\n",
      "\n",
      "See the caveats in the documentation: https://pandas.pydata.org/pandas-docs/stable/user_guide/indexing.html#returning-a-view-versus-a-copy\n",
      "  df['BF2'] = df.shift(_momentum)[col].fillna(0)\n"
     ]
    }
   ],
   "source": [
    "ym_df = mm.create_YM(df)\n",
    "bf_df = mm.create_last_month(ym_df)"
   ]
  },
  {
   "cell_type": "code",
   "execution_count": 15,
   "id": "1bcc5eaf",
   "metadata": {},
   "outputs": [
    {
     "name": "stderr",
     "output_type": "stream",
     "text": [
      "c:\\ubion\\python\\invest\\momentum.py:64: RuntimeWarning: invalid value encountered in scalar divide\n",
      "  (_df2.loc[idx, 'BF1'] / _df2.loc[idx, 'BF2']) - _score\n",
      "c:\\ubion\\python\\invest\\momentum.py:64: RuntimeWarning: divide by zero encountered in scalar divide\n",
      "  (_df2.loc[idx, 'BF1'] / _df2.loc[idx, 'BF2']) - _score\n",
      "c:\\ubion\\python\\invest\\momentum.py:64: RuntimeWarning: divide by zero encountered in scalar divide\n",
      "  (_df2.loc[idx, 'BF1'] / _df2.loc[idx, 'BF2']) - _score\n",
      "c:\\ubion\\python\\invest\\momentum.py:64: RuntimeWarning: divide by zero encountered in scalar divide\n",
      "  (_df2.loc[idx, 'BF1'] / _df2.loc[idx, 'BF2']) - _score\n",
      "c:\\ubion\\python\\invest\\momentum.py:64: RuntimeWarning: divide by zero encountered in scalar divide\n",
      "  (_df2.loc[idx, 'BF1'] / _df2.loc[idx, 'BF2']) - _score\n",
      "c:\\ubion\\python\\invest\\momentum.py:64: RuntimeWarning: divide by zero encountered in scalar divide\n",
      "  (_df2.loc[idx, 'BF1'] / _df2.loc[idx, 'BF2']) - _score\n",
      "c:\\ubion\\python\\invest\\momentum.py:64: RuntimeWarning: divide by zero encountered in scalar divide\n",
      "  (_df2.loc[idx, 'BF1'] / _df2.loc[idx, 'BF2']) - _score\n",
      "c:\\ubion\\python\\invest\\momentum.py:64: RuntimeWarning: divide by zero encountered in scalar divide\n",
      "  (_df2.loc[idx, 'BF1'] / _df2.loc[idx, 'BF2']) - _score\n",
      "c:\\ubion\\python\\invest\\momentum.py:64: RuntimeWarning: divide by zero encountered in scalar divide\n",
      "  (_df2.loc[idx, 'BF1'] / _df2.loc[idx, 'BF2']) - _score\n",
      "c:\\ubion\\python\\invest\\momentum.py:64: RuntimeWarning: divide by zero encountered in scalar divide\n",
      "  (_df2.loc[idx, 'BF1'] / _df2.loc[idx, 'BF2']) - _score\n",
      "c:\\ubion\\python\\invest\\momentum.py:64: RuntimeWarning: divide by zero encountered in scalar divide\n",
      "  (_df2.loc[idx, 'BF1'] / _df2.loc[idx, 'BF2']) - _score\n",
      "c:\\ubion\\python\\invest\\momentum.py:64: RuntimeWarning: divide by zero encountered in scalar divide\n",
      "  (_df2.loc[idx, 'BF1'] / _df2.loc[idx, 'BF2']) - _score\n"
     ]
    },
    {
     "name": "stdout",
     "output_type": "stream",
     "text": [
      "매수일: 2012-09-28 00:00:00, 매수가: 17.983875\n",
      "매도일: 2012-10-31 00:00:00, 매도가: 20.157753, 수익률: 1.120879287695227\n",
      "매수일: 2012-11-30 00:00:00, 매수가: 20.458145\n",
      "매도일: 2014-09-30 00:00:00, 매도가: 25.909971, 수익률: 1.2664868197972006\n",
      "매수일: 2015-01-30 00:00:00, 매수가: 26.697641\n",
      "매도일: 2015-02-27 00:00:00, 매도가: 30.536148, 수익률: 1.143777010111118\n"
     ]
    },
    {
     "name": "stderr",
     "output_type": "stream",
     "text": [
      "c:\\ubion\\python\\invest\\momentum.py:89: FutureWarning: Setting an item of incompatible dtype is deprecated and will raise an error in a future version of pandas. Value '1.120879287695227' has dtype incompatible with int64, please explicitly cast to a compatible dtype first.\n",
      "  df.loc[idx, 'rtn'] = rtn\n"
     ]
    },
    {
     "name": "stdout",
     "output_type": "stream",
     "text": [
      "매수일: 2015-03-31 00:00:00, 매수가: 30.943636\n",
      "매도일: 2015-08-31 00:00:00, 매도가: 24.544407, 수익률: 0.7931972506398407\n",
      "매수일: 2015-11-30 00:00:00, 매수가: 30.551601\n",
      "매도일: 2016-02-29 00:00:00, 매도가: 25.108086, 수익률: 0.8218255403374769\n",
      "매수일: 2016-08-31 00:00:00, 매수가: 27.915483\n",
      "매도일: 2016-10-31 00:00:00, 매도가: 27.966494, 수익률: 1.001827337180589\n",
      "매수일: 2016-12-30 00:00:00, 매수가: 31.16843\n",
      "매도일: 2018-09-28 00:00:00, 매도가: 32.642426, 수익률: 1.0472913136786164\n",
      "매수일: 2019-02-28 00:00:00, 매수가: 38.677559\n",
      "매도일: 2019-05-31 00:00:00, 매도가: 32.986507, 수익률: 0.8528590700359349\n"
     ]
    }
   ],
   "source": [
    "mm_df, mm_rtn = mm.create_rtn(ym_df, bf_df)"
   ]
  },
  {
   "cell_type": "code",
   "execution_count": 16,
   "id": "ff279408",
   "metadata": {},
   "outputs": [
    {
     "data": {
      "text/plain": [
       "np.float64(0.9471077009899062)"
      ]
     },
     "execution_count": 16,
     "metadata": {},
     "output_type": "execute_result"
    }
   ],
   "source": [
    "mm_rtn"
   ]
  },
  {
   "cell_type": "code",
   "execution_count": null,
   "id": "cdc0e555",
   "metadata": {},
   "outputs": [],
   "source": []
  }
 ],
 "metadata": {
  "kernelspec": {
   "display_name": "Python 3",
   "language": "python",
   "name": "python3"
  },
  "language_info": {
   "codemirror_mode": {
    "name": "ipython",
    "version": 3
   },
   "file_extension": ".py",
   "mimetype": "text/x-python",
   "name": "python",
   "nbconvert_exporter": "python",
   "pygments_lexer": "ipython3",
   "version": "3.9.13"
  }
 },
 "nbformat": 4,
 "nbformat_minor": 5
}
