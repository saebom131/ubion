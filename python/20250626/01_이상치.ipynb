{
 "cells": [
  {
   "cell_type": "markdown",
   "id": "4039516e",
   "metadata": {},
   "source": [
    "## 이상치\n",
    "- 결측치, 범위에서 크게 벗어나는 데이터\n",
    "- 분석 모델의 성능을 떨어뜨리거나 결과에 악영향을 미치는 경우 발생\n",
    "- 이상치를 발견하면 확인 작업 후 특정한 값으로 대체, 삭제\n",
    "- 극단치 -> IQR 방식\n",
    "\t- matplotlib에서 boxplot 함수를 이용해 극단치 확인\n",
    "\t- Q3(3사분위수)와 Q1(1사분위수)를 이용해 범위 지정\n",
    "\t- IQR = Q3 - Q1\n",
    "\t- 극단치의 경계 (Q3 + 1.5*IQR), (Q1 - 1.5*IQR)\n",
    "\t- 해당 경계값을 loc를 이용하여 확인\n",
    "\t- 1.5 값을 조절하여 극단치 범위 변경"
   ]
  },
  {
   "cell_type": "code",
   "execution_count": null,
   "id": "88e3b483",
   "metadata": {},
   "outputs": [
    {
     "name": "stdout",
     "output_type": "stream",
     "text": [
      "Requirement already satisfied: scikit-learn in c:\\users\\toqha\\appdata\\local\\programs\\python\\python39\\lib\\site-packages (1.5.2)\n",
      "Requirement already satisfied: numpy>=1.19.5 in c:\\users\\toqha\\appdata\\local\\programs\\python\\python39\\lib\\site-packages (from scikit-learn) (2.0.2)\n",
      "Requirement already satisfied: scipy>=1.6.0 in c:\\users\\toqha\\appdata\\local\\programs\\python\\python39\\lib\\site-packages (from scikit-learn) (1.13.1)\n",
      "Requirement already satisfied: joblib>=1.2.0 in c:\\users\\toqha\\appdata\\local\\programs\\python\\python39\\lib\\site-packages (from scikit-learn) (1.5.1)\n",
      "Requirement already satisfied: threadpoolctl>=3.1.0 in c:\\users\\toqha\\appdata\\local\\programs\\python\\python39\\lib\\site-packages (from scikit-learn) (3.6.0)\n"
     ]
    }
   ],
   "source": [
    "# 사이킷런 라이브러리 설치\n",
    "# !pip install scikit-learn"
   ]
  },
  {
   "cell_type": "code",
   "execution_count": 3,
   "id": "9ffba9a0",
   "metadata": {},
   "outputs": [],
   "source": [
    "import pandas as pd\n",
    "import numpy as np\n",
    "import matplotlib.pyplot as plt\n",
    "from sklearn.datasets import load_wine"
   ]
  },
  {
   "cell_type": "code",
   "execution_count": 4,
   "id": "c47ded3c",
   "metadata": {},
   "outputs": [],
   "source": [
    "# 데이터셋 로드\n",
    "wine_load = load_wine()"
   ]
  },
  {
   "cell_type": "code",
   "execution_count": null,
   "id": "74b9ef69",
   "metadata": {},
   "outputs": [
    {
     "data": {
      "text/plain": [
       "{'data': array([[1.423e+01, 1.710e+00, 2.430e+00, ..., 1.040e+00, 3.920e+00,\n",
       "         1.065e+03],\n",
       "        [1.320e+01, 1.780e+00, 2.140e+00, ..., 1.050e+00, 3.400e+00,\n",
       "         1.050e+03],\n",
       "        [1.316e+01, 2.360e+00, 2.670e+00, ..., 1.030e+00, 3.170e+00,\n",
       "         1.185e+03],\n",
       "        ...,\n",
       "        [1.327e+01, 4.280e+00, 2.260e+00, ..., 5.900e-01, 1.560e+00,\n",
       "         8.350e+02],\n",
       "        [1.317e+01, 2.590e+00, 2.370e+00, ..., 6.000e-01, 1.620e+00,\n",
       "         8.400e+02],\n",
       "        [1.413e+01, 4.100e+00, 2.740e+00, ..., 6.100e-01, 1.600e+00,\n",
       "         5.600e+02]]),\n",
       " 'target': array([0, 0, 0, 0, 0, 0, 0, 0, 0, 0, 0, 0, 0, 0, 0, 0, 0, 0, 0, 0, 0, 0,\n",
       "        0, 0, 0, 0, 0, 0, 0, 0, 0, 0, 0, 0, 0, 0, 0, 0, 0, 0, 0, 0, 0, 0,\n",
       "        0, 0, 0, 0, 0, 0, 0, 0, 0, 0, 0, 0, 0, 0, 0, 1, 1, 1, 1, 1, 1, 1,\n",
       "        1, 1, 1, 1, 1, 1, 1, 1, 1, 1, 1, 1, 1, 1, 1, 1, 1, 1, 1, 1, 1, 1,\n",
       "        1, 1, 1, 1, 1, 1, 1, 1, 1, 1, 1, 1, 1, 1, 1, 1, 1, 1, 1, 1, 1, 1,\n",
       "        1, 1, 1, 1, 1, 1, 1, 1, 1, 1, 1, 1, 1, 1, 1, 1, 1, 1, 1, 1, 2, 2,\n",
       "        2, 2, 2, 2, 2, 2, 2, 2, 2, 2, 2, 2, 2, 2, 2, 2, 2, 2, 2, 2, 2, 2,\n",
       "        2, 2, 2, 2, 2, 2, 2, 2, 2, 2, 2, 2, 2, 2, 2, 2, 2, 2, 2, 2, 2, 2,\n",
       "        2, 2]),\n",
       " 'frame': None,\n",
       " 'target_names': array(['class_0', 'class_1', 'class_2'], dtype='<U7'),\n",
       " 'DESCR': '.. _wine_dataset:\\n\\nWine recognition dataset\\n------------------------\\n\\n**Data Set Characteristics:**\\n\\n:Number of Instances: 178\\n:Number of Attributes: 13 numeric, predictive attributes and the class\\n:Attribute Information:\\n    - Alcohol\\n    - Malic acid\\n    - Ash\\n    - Alcalinity of ash\\n    - Magnesium\\n    - Total phenols\\n    - Flavanoids\\n    - Nonflavanoid phenols\\n    - Proanthocyanins\\n    - Color intensity\\n    - Hue\\n    - OD280/OD315 of diluted wines\\n    - Proline\\n    - class:\\n        - class_0\\n        - class_1\\n        - class_2\\n\\n:Summary Statistics:\\n\\n============================= ==== ===== ======= =====\\n                                Min   Max   Mean     SD\\n============================= ==== ===== ======= =====\\nAlcohol:                      11.0  14.8    13.0   0.8\\nMalic Acid:                   0.74  5.80    2.34  1.12\\nAsh:                          1.36  3.23    2.36  0.27\\nAlcalinity of Ash:            10.6  30.0    19.5   3.3\\nMagnesium:                    70.0 162.0    99.7  14.3\\nTotal Phenols:                0.98  3.88    2.29  0.63\\nFlavanoids:                   0.34  5.08    2.03  1.00\\nNonflavanoid Phenols:         0.13  0.66    0.36  0.12\\nProanthocyanins:              0.41  3.58    1.59  0.57\\nColour Intensity:              1.3  13.0     5.1   2.3\\nHue:                          0.48  1.71    0.96  0.23\\nOD280/OD315 of diluted wines: 1.27  4.00    2.61  0.71\\nProline:                       278  1680     746   315\\n============================= ==== ===== ======= =====\\n\\n:Missing Attribute Values: None\\n:Class Distribution: class_0 (59), class_1 (71), class_2 (48)\\n:Creator: R.A. Fisher\\n:Donor: Michael Marshall (MARSHALL%PLU@io.arc.nasa.gov)\\n:Date: July, 1988\\n\\nThis is a copy of UCI ML Wine recognition datasets.\\nhttps://archive.ics.uci.edu/ml/machine-learning-databases/wine/wine.data\\n\\nThe data is the results of a chemical analysis of wines grown in the same\\nregion in Italy by three different cultivators. There are thirteen different\\nmeasurements taken for different constituents found in the three types of\\nwine.\\n\\nOriginal Owners:\\n\\nForina, M. et al, PARVUS -\\nAn Extendible Package for Data Exploration, Classification and Correlation.\\nInstitute of Pharmaceutical and Food Analysis and Technologies,\\nVia Brigata Salerno, 16147 Genoa, Italy.\\n\\nCitation:\\n\\nLichman, M. (2013). UCI Machine Learning Repository\\n[https://archive.ics.uci.edu/ml]. Irvine, CA: University of California,\\nSchool of Information and Computer Science.\\n\\n.. dropdown:: References\\n\\n    (1) S. Aeberhard, D. Coomans and O. de Vel,\\n    Comparison of Classifiers in High Dimensional Settings,\\n    Tech. Rep. no. 92-02, (1992), Dept. of Computer Science and Dept. of\\n    Mathematics and Statistics, James Cook University of North Queensland.\\n    (Also submitted to Technometrics).\\n\\n    The data was used with many others for comparing various\\n    classifiers. The classes are separable, though only RDA\\n    has achieved 100% correct classification.\\n    (RDA : 100%, QDA 99.4%, LDA 98.9%, 1NN 96.1% (z-transformed data))\\n    (All results using the leave-one-out technique)\\n\\n    (2) S. Aeberhard, D. Coomans and O. de Vel,\\n    \"THE CLASSIFICATION PERFORMANCE OF RDA\"\\n    Tech. Rep. no. 92-01, (1992), Dept. of Computer Science and Dept. of\\n    Mathematics and Statistics, James Cook University of North Queensland.\\n    (Also submitted to Journal of Chemometrics).\\n',\n",
       " 'feature_names': ['alcohol',\n",
       "  'malic_acid',\n",
       "  'ash',\n",
       "  'alcalinity_of_ash',\n",
       "  'magnesium',\n",
       "  'total_phenols',\n",
       "  'flavanoids',\n",
       "  'nonflavanoid_phenols',\n",
       "  'proanthocyanins',\n",
       "  'color_intensity',\n",
       "  'hue',\n",
       "  'od280/od315_of_diluted_wines',\n",
       "  'proline']}"
      ]
     },
     "execution_count": 12,
     "metadata": {},
     "output_type": "execute_result"
    }
   ],
   "source": [
    "wine_load"
   ]
  },
  {
   "cell_type": "code",
   "execution_count": 13,
   "id": "7cb40c9c",
   "metadata": {},
   "outputs": [
    {
     "data": {
      "text/plain": [
       "dict_keys(['data', 'target', 'frame', 'target_names', 'DESCR', 'feature_names'])"
      ]
     },
     "execution_count": 13,
     "metadata": {},
     "output_type": "execute_result"
    }
   ],
   "source": [
    "wine_load.keys()"
   ]
  },
  {
   "cell_type": "code",
   "execution_count": 14,
   "id": "60343c0b",
   "metadata": {},
   "outputs": [],
   "source": [
    "# data, feature_names를 이용해 데이터프레임 생성\n",
    "wine = pd.DataFrame( wine_load['data'], columns=wine_load['feature_names'])"
   ]
  },
  {
   "cell_type": "code",
   "execution_count": 16,
   "id": "be070c5e",
   "metadata": {},
   "outputs": [
    {
     "data": {
      "text/html": [
       "<div>\n",
       "<style scoped>\n",
       "    .dataframe tbody tr th:only-of-type {\n",
       "        vertical-align: middle;\n",
       "    }\n",
       "\n",
       "    .dataframe tbody tr th {\n",
       "        vertical-align: top;\n",
       "    }\n",
       "\n",
       "    .dataframe thead th {\n",
       "        text-align: right;\n",
       "    }\n",
       "</style>\n",
       "<table border=\"1\" class=\"dataframe\">\n",
       "  <thead>\n",
       "    <tr style=\"text-align: right;\">\n",
       "      <th></th>\n",
       "      <th>alcohol</th>\n",
       "      <th>malic_acid</th>\n",
       "      <th>ash</th>\n",
       "      <th>alcalinity_of_ash</th>\n",
       "      <th>magnesium</th>\n",
       "      <th>total_phenols</th>\n",
       "      <th>flavanoids</th>\n",
       "      <th>nonflavanoid_phenols</th>\n",
       "      <th>proanthocyanins</th>\n",
       "      <th>color_intensity</th>\n",
       "      <th>hue</th>\n",
       "      <th>od280/od315_of_diluted_wines</th>\n",
       "      <th>proline</th>\n",
       "    </tr>\n",
       "  </thead>\n",
       "  <tbody>\n",
       "    <tr>\n",
       "      <th>0</th>\n",
       "      <td>14.23</td>\n",
       "      <td>1.71</td>\n",
       "      <td>2.43</td>\n",
       "      <td>15.6</td>\n",
       "      <td>127.0</td>\n",
       "      <td>2.80</td>\n",
       "      <td>3.06</td>\n",
       "      <td>0.28</td>\n",
       "      <td>2.29</td>\n",
       "      <td>5.64</td>\n",
       "      <td>1.04</td>\n",
       "      <td>3.92</td>\n",
       "      <td>1065.0</td>\n",
       "    </tr>\n",
       "    <tr>\n",
       "      <th>1</th>\n",
       "      <td>13.20</td>\n",
       "      <td>1.78</td>\n",
       "      <td>2.14</td>\n",
       "      <td>11.2</td>\n",
       "      <td>100.0</td>\n",
       "      <td>2.65</td>\n",
       "      <td>2.76</td>\n",
       "      <td>0.26</td>\n",
       "      <td>1.28</td>\n",
       "      <td>4.38</td>\n",
       "      <td>1.05</td>\n",
       "      <td>3.40</td>\n",
       "      <td>1050.0</td>\n",
       "    </tr>\n",
       "    <tr>\n",
       "      <th>2</th>\n",
       "      <td>13.16</td>\n",
       "      <td>2.36</td>\n",
       "      <td>2.67</td>\n",
       "      <td>18.6</td>\n",
       "      <td>101.0</td>\n",
       "      <td>2.80</td>\n",
       "      <td>3.24</td>\n",
       "      <td>0.30</td>\n",
       "      <td>2.81</td>\n",
       "      <td>5.68</td>\n",
       "      <td>1.03</td>\n",
       "      <td>3.17</td>\n",
       "      <td>1185.0</td>\n",
       "    </tr>\n",
       "    <tr>\n",
       "      <th>3</th>\n",
       "      <td>14.37</td>\n",
       "      <td>1.95</td>\n",
       "      <td>2.50</td>\n",
       "      <td>16.8</td>\n",
       "      <td>113.0</td>\n",
       "      <td>3.85</td>\n",
       "      <td>3.49</td>\n",
       "      <td>0.24</td>\n",
       "      <td>2.18</td>\n",
       "      <td>7.80</td>\n",
       "      <td>0.86</td>\n",
       "      <td>3.45</td>\n",
       "      <td>1480.0</td>\n",
       "    </tr>\n",
       "    <tr>\n",
       "      <th>4</th>\n",
       "      <td>13.24</td>\n",
       "      <td>2.59</td>\n",
       "      <td>2.87</td>\n",
       "      <td>21.0</td>\n",
       "      <td>118.0</td>\n",
       "      <td>2.80</td>\n",
       "      <td>2.69</td>\n",
       "      <td>0.39</td>\n",
       "      <td>1.82</td>\n",
       "      <td>4.32</td>\n",
       "      <td>1.04</td>\n",
       "      <td>2.93</td>\n",
       "      <td>735.0</td>\n",
       "    </tr>\n",
       "  </tbody>\n",
       "</table>\n",
       "</div>"
      ],
      "text/plain": [
       "   alcohol  malic_acid   ash  ...   hue  od280/od315_of_diluted_wines  proline\n",
       "0    14.23        1.71  2.43  ...  1.04                          3.92   1065.0\n",
       "1    13.20        1.78  2.14  ...  1.05                          3.40   1050.0\n",
       "2    13.16        2.36  2.67  ...  1.03                          3.17   1185.0\n",
       "3    14.37        1.95  2.50  ...  0.86                          3.45   1480.0\n",
       "4    13.24        2.59  2.87  ...  1.04                          2.93    735.0\n",
       "\n",
       "[5 rows x 13 columns]"
      ]
     },
     "execution_count": 16,
     "metadata": {},
     "output_type": "execute_result"
    }
   ],
   "source": [
    "wine.head()"
   ]
  },
  {
   "cell_type": "code",
   "execution_count": 18,
   "id": "63b7bb14",
   "metadata": {},
   "outputs": [],
   "source": [
    "# 종속변수인 target 데이터를 wine에 열 추가\n",
    "wine['class'] = wine_load['target']"
   ]
  },
  {
   "cell_type": "code",
   "execution_count": 20,
   "id": "0be47583",
   "metadata": {},
   "outputs": [
    {
     "data": {
      "text/plain": [
       "array(['class_0', 'class_1', 'class_2'], dtype='<U7')"
      ]
     },
     "execution_count": 20,
     "metadata": {},
     "output_type": "execute_result"
    }
   ],
   "source": [
    "wine_load['target_names']"
   ]
  },
  {
   "cell_type": "code",
   "execution_count": 22,
   "id": "f8ae62e8",
   "metadata": {},
   "outputs": [
    {
     "data": {
      "text/html": [
       "<div>\n",
       "<style scoped>\n",
       "    .dataframe tbody tr th:only-of-type {\n",
       "        vertical-align: middle;\n",
       "    }\n",
       "\n",
       "    .dataframe tbody tr th {\n",
       "        vertical-align: top;\n",
       "    }\n",
       "\n",
       "    .dataframe thead th {\n",
       "        text-align: right;\n",
       "    }\n",
       "</style>\n",
       "<table border=\"1\" class=\"dataframe\">\n",
       "  <thead>\n",
       "    <tr style=\"text-align: right;\">\n",
       "      <th></th>\n",
       "      <th>alcohol</th>\n",
       "      <th>malic_acid</th>\n",
       "      <th>ash</th>\n",
       "      <th>alcalinity_of_ash</th>\n",
       "      <th>magnesium</th>\n",
       "      <th>total_phenols</th>\n",
       "      <th>flavanoids</th>\n",
       "      <th>nonflavanoid_phenols</th>\n",
       "      <th>proanthocyanins</th>\n",
       "      <th>color_intensity</th>\n",
       "      <th>hue</th>\n",
       "      <th>od280/od315_of_diluted_wines</th>\n",
       "      <th>proline</th>\n",
       "      <th>class</th>\n",
       "    </tr>\n",
       "  </thead>\n",
       "  <tbody>\n",
       "    <tr>\n",
       "      <th>0</th>\n",
       "      <td>14.23</td>\n",
       "      <td>1.71</td>\n",
       "      <td>2.43</td>\n",
       "      <td>15.6</td>\n",
       "      <td>127.0</td>\n",
       "      <td>2.80</td>\n",
       "      <td>3.06</td>\n",
       "      <td>0.28</td>\n",
       "      <td>2.29</td>\n",
       "      <td>5.64</td>\n",
       "      <td>1.04</td>\n",
       "      <td>3.92</td>\n",
       "      <td>1065.0</td>\n",
       "      <td>0</td>\n",
       "    </tr>\n",
       "    <tr>\n",
       "      <th>1</th>\n",
       "      <td>13.20</td>\n",
       "      <td>1.78</td>\n",
       "      <td>2.14</td>\n",
       "      <td>11.2</td>\n",
       "      <td>100.0</td>\n",
       "      <td>2.65</td>\n",
       "      <td>2.76</td>\n",
       "      <td>0.26</td>\n",
       "      <td>1.28</td>\n",
       "      <td>4.38</td>\n",
       "      <td>1.05</td>\n",
       "      <td>3.40</td>\n",
       "      <td>1050.0</td>\n",
       "      <td>0</td>\n",
       "    </tr>\n",
       "    <tr>\n",
       "      <th>2</th>\n",
       "      <td>13.16</td>\n",
       "      <td>2.36</td>\n",
       "      <td>2.67</td>\n",
       "      <td>18.6</td>\n",
       "      <td>101.0</td>\n",
       "      <td>2.80</td>\n",
       "      <td>3.24</td>\n",
       "      <td>0.30</td>\n",
       "      <td>2.81</td>\n",
       "      <td>5.68</td>\n",
       "      <td>1.03</td>\n",
       "      <td>3.17</td>\n",
       "      <td>1185.0</td>\n",
       "      <td>0</td>\n",
       "    </tr>\n",
       "    <tr>\n",
       "      <th>3</th>\n",
       "      <td>14.37</td>\n",
       "      <td>1.95</td>\n",
       "      <td>2.50</td>\n",
       "      <td>16.8</td>\n",
       "      <td>113.0</td>\n",
       "      <td>3.85</td>\n",
       "      <td>3.49</td>\n",
       "      <td>0.24</td>\n",
       "      <td>2.18</td>\n",
       "      <td>7.80</td>\n",
       "      <td>0.86</td>\n",
       "      <td>3.45</td>\n",
       "      <td>1480.0</td>\n",
       "      <td>0</td>\n",
       "    </tr>\n",
       "    <tr>\n",
       "      <th>4</th>\n",
       "      <td>13.24</td>\n",
       "      <td>2.59</td>\n",
       "      <td>2.87</td>\n",
       "      <td>21.0</td>\n",
       "      <td>118.0</td>\n",
       "      <td>2.80</td>\n",
       "      <td>2.69</td>\n",
       "      <td>0.39</td>\n",
       "      <td>1.82</td>\n",
       "      <td>4.32</td>\n",
       "      <td>1.04</td>\n",
       "      <td>2.93</td>\n",
       "      <td>735.0</td>\n",
       "      <td>0</td>\n",
       "    </tr>\n",
       "  </tbody>\n",
       "</table>\n",
       "</div>"
      ],
      "text/plain": [
       "   alcohol  malic_acid   ash  ...  od280/od315_of_diluted_wines  proline  class\n",
       "0    14.23        1.71  2.43  ...                          3.92   1065.0      0\n",
       "1    13.20        1.78  2.14  ...                          3.40   1050.0      0\n",
       "2    13.16        2.36  2.67  ...                          3.17   1185.0      0\n",
       "3    14.37        1.95  2.50  ...                          3.45   1480.0      0\n",
       "4    13.24        2.59  2.87  ...                          2.93    735.0      0\n",
       "\n",
       "[5 rows x 14 columns]"
      ]
     },
     "execution_count": 22,
     "metadata": {},
     "output_type": "execute_result"
    }
   ],
   "source": [
    "wine.head()"
   ]
  },
  {
   "cell_type": "code",
   "execution_count": 23,
   "id": "f1927c3a",
   "metadata": {},
   "outputs": [
    {
     "data": {
      "image/png": "[encoded data removed]",
      "text/plain": [
       "<Figure size 640x480 with 1 Axes>"
      ]
     },
     "metadata": {},
     "output_type": "display_data"
    }
   ],
   "source": [
    "# color_intensity 데이터에 극단치가 존재하는가?\n",
    "# boxplot을 이용해 확인\n",
    "plt.boxplot(wine['color_intensity'])\n",
    "plt.show()"
   ]
  },
  {
   "cell_type": "code",
   "execution_count": 28,
   "id": "c5c478c1",
   "metadata": {},
   "outputs": [
    {
     "data": {
      "text/html": [
       "<div>\n",
       "<style scoped>\n",
       "    .dataframe tbody tr th:only-of-type {\n",
       "        vertical-align: middle;\n",
       "    }\n",
       "\n",
       "    .dataframe tbody tr th {\n",
       "        vertical-align: top;\n",
       "    }\n",
       "\n",
       "    .dataframe thead th {\n",
       "        text-align: right;\n",
       "    }\n",
       "</style>\n",
       "<table border=\"1\" class=\"dataframe\">\n",
       "  <thead>\n",
       "    <tr style=\"text-align: right;\">\n",
       "      <th></th>\n",
       "      <th>color_intensity</th>\n",
       "    </tr>\n",
       "  </thead>\n",
       "  <tbody>\n",
       "    <tr>\n",
       "      <th>count</th>\n",
       "      <td>178.000000</td>\n",
       "    </tr>\n",
       "    <tr>\n",
       "      <th>mean</th>\n",
       "      <td>5.058090</td>\n",
       "    </tr>\n",
       "    <tr>\n",
       "      <th>std</th>\n",
       "      <td>2.318286</td>\n",
       "    </tr>\n",
       "    <tr>\n",
       "      <th>min</th>\n",
       "      <td>1.280000</td>\n",
       "    </tr>\n",
       "    <tr>\n",
       "      <th>25%</th>\n",
       "      <td>3.220000</td>\n",
       "    </tr>\n",
       "    <tr>\n",
       "      <th>50%</th>\n",
       "      <td>4.690000</td>\n",
       "    </tr>\n",
       "    <tr>\n",
       "      <th>75%</th>\n",
       "      <td>6.200000</td>\n",
       "    </tr>\n",
       "    <tr>\n",
       "      <th>max</th>\n",
       "      <td>13.000000</td>\n",
       "    </tr>\n",
       "  </tbody>\n",
       "</table>\n",
       "</div>"
      ],
      "text/plain": [
       "       color_intensity\n",
       "count       178.000000\n",
       "mean          5.058090\n",
       "std           2.318286\n",
       "min           1.280000\n",
       "25%           3.220000\n",
       "50%           4.690000\n",
       "75%           6.200000\n",
       "max          13.000000"
      ]
     },
     "execution_count": 28,
     "metadata": {},
     "output_type": "execute_result"
    }
   ],
   "source": [
    "wine[['color_intensity']].describe()"
   ]
  },
  {
   "cell_type": "code",
   "execution_count": 32,
   "id": "cdd9e815",
   "metadata": {},
   "outputs": [
    {
     "data": {
      "text/plain": [
       "np.float64(3.2199999999999998)"
      ]
     },
     "execution_count": 32,
     "metadata": {},
     "output_type": "execute_result"
    }
   ],
   "source": [
    "wine['color_intensity'].describe()['25%']"
   ]
  },
  {
   "cell_type": "code",
   "execution_count": 36,
   "id": "2696764c",
   "metadata": {},
   "outputs": [
    {
     "name": "stdout",
     "output_type": "stream",
     "text": [
      "3.2199999999999998\n",
      "6.2\n"
     ]
    }
   ],
   "source": [
    "# numpy 라이브러리를 이용해 1사분위, 3사분위 수 저장, 출력\n",
    "q_1, q_3 = np.percentile(wine['color_intensity'], [25, 75])\n",
    "print(q_1)\n",
    "print(q_3)"
   ]
  },
  {
   "cell_type": "code",
   "execution_count": 37,
   "id": "318e0f5d",
   "metadata": {},
   "outputs": [
    {
     "name": "stdout",
     "output_type": "stream",
     "text": [
      "10.670000000000002 -1.2500000000000009\n"
     ]
    }
   ],
   "source": [
    "iqr = q_3 - q_1\n",
    "upper_whis = q_3 + (1.5 * iqr)\n",
    "lower_whis = q_1 - (1.5 * iqr)\n",
    "print(upper_whis, lower_whis)"
   ]
  },
  {
   "cell_type": "code",
   "execution_count": 41,
   "id": "36c78e58",
   "metadata": {},
   "outputs": [
    {
     "data": {
      "text/plain": [
       "0      False\n",
       "1      False\n",
       "2      False\n",
       "3      False\n",
       "4      False\n",
       "       ...  \n",
       "173    False\n",
       "174    False\n",
       "175    False\n",
       "176    False\n",
       "177    False\n",
       "Name: color_intensity, Length: 178, dtype: bool"
      ]
     },
     "execution_count": 41,
     "metadata": {},
     "output_type": "execute_result"
    }
   ],
   "source": [
    "flag = (wine['color_intensity'] > upper_whis) | (wine['color_intensity'] < lower_whis)\n",
    "flag"
   ]
  },
  {
   "cell_type": "code",
   "execution_count": null,
   "id": "1415c27f",
   "metadata": {},
   "outputs": [
    {
     "data": {
      "text/html": [
       "<div>\n",
       "<style scoped>\n",
       "    .dataframe tbody tr th:only-of-type {\n",
       "        vertical-align: middle;\n",
       "    }\n",
       "\n",
       "    .dataframe tbody tr th {\n",
       "        vertical-align: top;\n",
       "    }\n",
       "\n",
       "    .dataframe thead th {\n",
       "        text-align: right;\n",
       "    }\n",
       "</style>\n",
       "<table border=\"1\" class=\"dataframe\">\n",
       "  <thead>\n",
       "    <tr style=\"text-align: right;\">\n",
       "      <th></th>\n",
       "      <th>alcohol</th>\n",
       "      <th>malic_acid</th>\n",
       "      <th>ash</th>\n",
       "      <th>alcalinity_of_ash</th>\n",
       "      <th>magnesium</th>\n",
       "      <th>total_phenols</th>\n",
       "      <th>flavanoids</th>\n",
       "      <th>nonflavanoid_phenols</th>\n",
       "      <th>proanthocyanins</th>\n",
       "      <th>color_intensity</th>\n",
       "      <th>hue</th>\n",
       "      <th>od280/od315_of_diluted_wines</th>\n",
       "      <th>proline</th>\n",
       "      <th>class</th>\n",
       "    </tr>\n",
       "  </thead>\n",
       "  <tbody>\n",
       "    <tr>\n",
       "      <th>151</th>\n",
       "      <td>12.79</td>\n",
       "      <td>2.67</td>\n",
       "      <td>2.48</td>\n",
       "      <td>22.0</td>\n",
       "      <td>112.0</td>\n",
       "      <td>1.48</td>\n",
       "      <td>1.36</td>\n",
       "      <td>0.24</td>\n",
       "      <td>1.26</td>\n",
       "      <td>10.80</td>\n",
       "      <td>0.48</td>\n",
       "      <td>1.47</td>\n",
       "      <td>480.0</td>\n",
       "      <td>2</td>\n",
       "    </tr>\n",
       "    <tr>\n",
       "      <th>158</th>\n",
       "      <td>14.34</td>\n",
       "      <td>1.68</td>\n",
       "      <td>2.70</td>\n",
       "      <td>25.0</td>\n",
       "      <td>98.0</td>\n",
       "      <td>2.80</td>\n",
       "      <td>1.31</td>\n",
       "      <td>0.53</td>\n",
       "      <td>2.70</td>\n",
       "      <td>13.00</td>\n",
       "      <td>0.57</td>\n",
       "      <td>1.96</td>\n",
       "      <td>660.0</td>\n",
       "      <td>2</td>\n",
       "    </tr>\n",
       "    <tr>\n",
       "      <th>159</th>\n",
       "      <td>13.48</td>\n",
       "      <td>1.67</td>\n",
       "      <td>2.64</td>\n",
       "      <td>22.5</td>\n",
       "      <td>89.0</td>\n",
       "      <td>2.60</td>\n",
       "      <td>1.10</td>\n",
       "      <td>0.52</td>\n",
       "      <td>2.29</td>\n",
       "      <td>11.75</td>\n",
       "      <td>0.57</td>\n",
       "      <td>1.78</td>\n",
       "      <td>620.0</td>\n",
       "      <td>2</td>\n",
       "    </tr>\n",
       "    <tr>\n",
       "      <th>166</th>\n",
       "      <td>13.45</td>\n",
       "      <td>3.70</td>\n",
       "      <td>2.60</td>\n",
       "      <td>23.0</td>\n",
       "      <td>111.0</td>\n",
       "      <td>1.70</td>\n",
       "      <td>0.92</td>\n",
       "      <td>0.43</td>\n",
       "      <td>1.46</td>\n",
       "      <td>10.68</td>\n",
       "      <td>0.85</td>\n",
       "      <td>1.56</td>\n",
       "      <td>695.0</td>\n",
       "      <td>2</td>\n",
       "    </tr>\n",
       "  </tbody>\n",
       "</table>\n",
       "</div>"
      ],
      "text/plain": [
       "     alcohol  malic_acid   ash  ...  od280/od315_of_diluted_wines  proline  class\n",
       "151    12.79        2.67  2.48  ...                          1.47    480.0      2\n",
       "158    14.34        1.68  2.70  ...                          1.96    660.0      2\n",
       "159    13.48        1.67  2.64  ...                          1.78    620.0      2\n",
       "166    13.45        3.70  2.60  ...                          1.56    695.0      2\n",
       "\n",
       "[4 rows x 14 columns]"
      ]
     },
     "execution_count": 42,
     "metadata": {},
     "output_type": "execute_result"
    }
   ],
   "source": [
    "# 극단치 확인\n",
    "wine.loc[flag, ]"
   ]
  },
  {
   "cell_type": "code",
   "execution_count": null,
   "id": "79cae724",
   "metadata": {},
   "outputs": [
    {
     "data": {
      "text/plain": [
       "0.02247191011235955"
      ]
     },
     "execution_count": 44,
     "metadata": {},
     "output_type": "execute_result"
    }
   ],
   "source": [
    "# 극단치 확률\n",
    "len(wine.loc[flag, ]) / len(wine)"
   ]
  },
  {
   "cell_type": "markdown",
   "id": "265a3a8e",
   "metadata": {},
   "source": [
    "### iqr을 이용해 극단치를 판단하는 함수\n",
    "- 매개변수 3개\n",
    "\t- _df : 데이터프레임\n",
    "\t- _cols : 극단치를 판단하려고 하는 컬럼의 이름(가변)\n",
    "\t- _num : 신뢰구간 범위를 지정하는 수(기본값 3.5)\n",
    "- _cols 의 개수만큼 반복 실행\n",
    "\t- 컬럼의 데이터를 기준으로 1사분위수, 3사분위수 생성\n",
    "\t- 1사분위수와 3사분위수 이용해 iqr 생성\n",
    "\t- 1사분위수, 3사분위수, iqr을 이용해 극단치의 경계 생성\n",
    "\t- 데이터프레임에서 극단치의 경계를 이용해 극단치 데이터 확인\n",
    "\t- 해당 데이터프레임을 비어있는 딕셔너리에 key값은 컬럼명, value값은 데이터프레임으로 추가\n",
    "- 딕셔너리 반환"
   ]
  },
  {
   "cell_type": "code",
   "execution_count": 49,
   "id": "e6eb74de",
   "metadata": {},
   "outputs": [],
   "source": [
    "def outlier_iqr(_df, *_cols, _num = 1.5):\n",
    "    # 빈 딕셔너리 생성 -> 함수의 결과값\n",
    "    result = dict()\n",
    "    # _cols를 기준으로 반복 실행\n",
    "    for col in _cols:\n",
    "        # col의 데이터에서 1사분위, 3사분위 수 변수에 저장\n",
    "        q_1, q_3 = np.percentile(_df[col], [25, 75])\n",
    "        # iqr 생성\n",
    "        iqr = q_3 - q_1\n",
    "        # 상단 경계, 하단 경계 생성\n",
    "        upper_whis = q_3 + 1.5 * iqr\n",
    "        lower_whis = q_1 - 1.5 * iqr\n",
    "        print(f'''\n",
    "\t\t\t\t{col} 컬럼의 데이터에서\n",
    "                상단의 극단치 경계값은 {upper_whis}이고,\n",
    "                하단의 극단치 경계값은 {lower_whis}입니다.\n",
    "              ''')\n",
    "        # 조건식 생성\n",
    "        flag = (_df[col] > upper_whis) | (_df[col] < lower_whis)\n",
    "        # 극단치 값 확인\n",
    "        outlier = _df.loc[flag, ]\n",
    "        result[col] = outlier\n",
    "    return result"
   ]
  },
  {
   "cell_type": "code",
   "execution_count": 48,
   "id": "c1eb47c3",
   "metadata": {},
   "outputs": [],
   "source": [
    "cols = list(wine.columns[:3, ])"
   ]
  },
  {
   "cell_type": "code",
   "execution_count": 53,
   "id": "96b198e2",
   "metadata": {},
   "outputs": [],
   "source": [
    "# outlier_iqr(wine, cols)\n",
    "# 함수의 가변 인자값에 리스트 형태의 데이터 들어가면 오류"
   ]
  },
  {
   "cell_type": "code",
   "execution_count": 54,
   "id": "4d5d3d19",
   "metadata": {},
   "outputs": [
    {
     "name": "stdout",
     "output_type": "stream",
     "text": [
      "\n",
      "\t\t\t\talcohol 컬럼의 데이터에서\n",
      "                상단의 극단치 경계값은 15.650000000000002이고,\n",
      "                하단의 극단치 경계값은 10.389999999999997입니다.\n",
      "              \n",
      "\n",
      "\t\t\t\tmalic_acid 컬럼의 데이터에서\n",
      "                상단의 극단치 경계값은 5.3025이고,\n",
      "                하단의 극단치 경계값은 -0.6174999999999997입니다.\n",
      "              \n",
      "\n",
      "\t\t\t\tash 컬럼의 데이터에서\n",
      "                상단의 극단치 경계값은 3.0787500000000003이고,\n",
      "                하단의 극단치 경계값은 1.6887499999999998입니다.\n",
      "              \n"
     ]
    }
   ],
   "source": [
    "# wine과 cols를 이용해 함수에 입력값으로 대입\n",
    "# cols가 리스트 형태 -> 가변 매개변수인 _cols에 대입하려면?\n",
    "outliers = outlier_iqr(wine, *cols)"
   ]
  },
  {
   "cell_type": "code",
   "execution_count": 58,
   "id": "13834367",
   "metadata": {},
   "outputs": [
    {
     "data": {
      "text/html": [
       "<div>\n",
       "<style scoped>\n",
       "    .dataframe tbody tr th:only-of-type {\n",
       "        vertical-align: middle;\n",
       "    }\n",
       "\n",
       "    .dataframe tbody tr th {\n",
       "        vertical-align: top;\n",
       "    }\n",
       "\n",
       "    .dataframe thead th {\n",
       "        text-align: right;\n",
       "    }\n",
       "</style>\n",
       "<table border=\"1\" class=\"dataframe\">\n",
       "  <thead>\n",
       "    <tr style=\"text-align: right;\">\n",
       "      <th></th>\n",
       "      <th>alcohol</th>\n",
       "      <th>malic_acid</th>\n",
       "      <th>ash</th>\n",
       "      <th>alcalinity_of_ash</th>\n",
       "      <th>magnesium</th>\n",
       "      <th>total_phenols</th>\n",
       "      <th>flavanoids</th>\n",
       "      <th>nonflavanoid_phenols</th>\n",
       "      <th>proanthocyanins</th>\n",
       "      <th>color_intensity</th>\n",
       "      <th>hue</th>\n",
       "      <th>od280/od315_of_diluted_wines</th>\n",
       "      <th>proline</th>\n",
       "      <th>class</th>\n",
       "    </tr>\n",
       "  </thead>\n",
       "  <tbody>\n",
       "  </tbody>\n",
       "</table>\n",
       "</div>"
      ],
      "text/plain": [
       "Empty DataFrame\n",
       "Columns: [alcohol, malic_acid, ash, alcalinity_of_ash, magnesium, total_phenols, flavanoids, nonflavanoid_phenols, proanthocyanins, color_intensity, hue, od280/od315_of_diluted_wines, proline, class]\n",
       "Index: []"
      ]
     },
     "execution_count": 58,
     "metadata": {},
     "output_type": "execute_result"
    }
   ],
   "source": [
    "outliers['alcohol']"
   ]
  },
  {
   "cell_type": "code",
   "execution_count": 59,
   "id": "b298aee0",
   "metadata": {},
   "outputs": [
    {
     "data": {
      "text/html": [
       "<div>\n",
       "<style scoped>\n",
       "    .dataframe tbody tr th:only-of-type {\n",
       "        vertical-align: middle;\n",
       "    }\n",
       "\n",
       "    .dataframe tbody tr th {\n",
       "        vertical-align: top;\n",
       "    }\n",
       "\n",
       "    .dataframe thead th {\n",
       "        text-align: right;\n",
       "    }\n",
       "</style>\n",
       "<table border=\"1\" class=\"dataframe\">\n",
       "  <thead>\n",
       "    <tr style=\"text-align: right;\">\n",
       "      <th></th>\n",
       "      <th>alcohol</th>\n",
       "      <th>malic_acid</th>\n",
       "      <th>ash</th>\n",
       "      <th>alcalinity_of_ash</th>\n",
       "      <th>magnesium</th>\n",
       "      <th>total_phenols</th>\n",
       "      <th>flavanoids</th>\n",
       "      <th>nonflavanoid_phenols</th>\n",
       "      <th>proanthocyanins</th>\n",
       "      <th>color_intensity</th>\n",
       "      <th>hue</th>\n",
       "      <th>od280/od315_of_diluted_wines</th>\n",
       "      <th>proline</th>\n",
       "      <th>class</th>\n",
       "    </tr>\n",
       "  </thead>\n",
       "  <tbody>\n",
       "    <tr>\n",
       "      <th>123</th>\n",
       "      <td>13.05</td>\n",
       "      <td>5.80</td>\n",
       "      <td>2.13</td>\n",
       "      <td>21.5</td>\n",
       "      <td>86.0</td>\n",
       "      <td>2.62</td>\n",
       "      <td>2.65</td>\n",
       "      <td>0.30</td>\n",
       "      <td>2.01</td>\n",
       "      <td>2.6</td>\n",
       "      <td>0.73</td>\n",
       "      <td>3.10</td>\n",
       "      <td>380.0</td>\n",
       "      <td>1</td>\n",
       "    </tr>\n",
       "    <tr>\n",
       "      <th>137</th>\n",
       "      <td>12.53</td>\n",
       "      <td>5.51</td>\n",
       "      <td>2.64</td>\n",
       "      <td>25.0</td>\n",
       "      <td>96.0</td>\n",
       "      <td>1.79</td>\n",
       "      <td>0.60</td>\n",
       "      <td>0.63</td>\n",
       "      <td>1.10</td>\n",
       "      <td>5.0</td>\n",
       "      <td>0.82</td>\n",
       "      <td>1.69</td>\n",
       "      <td>515.0</td>\n",
       "      <td>2</td>\n",
       "    </tr>\n",
       "    <tr>\n",
       "      <th>173</th>\n",
       "      <td>13.71</td>\n",
       "      <td>5.65</td>\n",
       "      <td>2.45</td>\n",
       "      <td>20.5</td>\n",
       "      <td>95.0</td>\n",
       "      <td>1.68</td>\n",
       "      <td>0.61</td>\n",
       "      <td>0.52</td>\n",
       "      <td>1.06</td>\n",
       "      <td>7.7</td>\n",
       "      <td>0.64</td>\n",
       "      <td>1.74</td>\n",
       "      <td>740.0</td>\n",
       "      <td>2</td>\n",
       "    </tr>\n",
       "  </tbody>\n",
       "</table>\n",
       "</div>"
      ],
      "text/plain": [
       "     alcohol  malic_acid   ash  ...  od280/od315_of_diluted_wines  proline  class\n",
       "123    13.05        5.80  2.13  ...                          3.10    380.0      1\n",
       "137    12.53        5.51  2.64  ...                          1.69    515.0      2\n",
       "173    13.71        5.65  2.45  ...                          1.74    740.0      2\n",
       "\n",
       "[3 rows x 14 columns]"
      ]
     },
     "execution_count": 59,
     "metadata": {},
     "output_type": "execute_result"
    }
   ],
   "source": [
    "outliers['malic_acid']"
   ]
  },
  {
   "cell_type": "code",
   "execution_count": 57,
   "id": "2b6bab5e",
   "metadata": {},
   "outputs": [
    {
     "data": {
      "text/html": [
       "<div>\n",
       "<style scoped>\n",
       "    .dataframe tbody tr th:only-of-type {\n",
       "        vertical-align: middle;\n",
       "    }\n",
       "\n",
       "    .dataframe tbody tr th {\n",
       "        vertical-align: top;\n",
       "    }\n",
       "\n",
       "    .dataframe thead th {\n",
       "        text-align: right;\n",
       "    }\n",
       "</style>\n",
       "<table border=\"1\" class=\"dataframe\">\n",
       "  <thead>\n",
       "    <tr style=\"text-align: right;\">\n",
       "      <th></th>\n",
       "      <th>alcohol</th>\n",
       "      <th>malic_acid</th>\n",
       "      <th>ash</th>\n",
       "      <th>alcalinity_of_ash</th>\n",
       "      <th>magnesium</th>\n",
       "      <th>total_phenols</th>\n",
       "      <th>flavanoids</th>\n",
       "      <th>nonflavanoid_phenols</th>\n",
       "      <th>proanthocyanins</th>\n",
       "      <th>color_intensity</th>\n",
       "      <th>hue</th>\n",
       "      <th>od280/od315_of_diluted_wines</th>\n",
       "      <th>proline</th>\n",
       "      <th>class</th>\n",
       "    </tr>\n",
       "  </thead>\n",
       "  <tbody>\n",
       "    <tr>\n",
       "      <th>25</th>\n",
       "      <td>13.05</td>\n",
       "      <td>2.05</td>\n",
       "      <td>3.22</td>\n",
       "      <td>25.0</td>\n",
       "      <td>124.0</td>\n",
       "      <td>2.63</td>\n",
       "      <td>2.68</td>\n",
       "      <td>0.47</td>\n",
       "      <td>1.92</td>\n",
       "      <td>3.58</td>\n",
       "      <td>1.13</td>\n",
       "      <td>3.20</td>\n",
       "      <td>830.0</td>\n",
       "      <td>0</td>\n",
       "    </tr>\n",
       "    <tr>\n",
       "      <th>59</th>\n",
       "      <td>12.37</td>\n",
       "      <td>0.94</td>\n",
       "      <td>1.36</td>\n",
       "      <td>10.6</td>\n",
       "      <td>88.0</td>\n",
       "      <td>1.98</td>\n",
       "      <td>0.57</td>\n",
       "      <td>0.28</td>\n",
       "      <td>0.42</td>\n",
       "      <td>1.95</td>\n",
       "      <td>1.05</td>\n",
       "      <td>1.82</td>\n",
       "      <td>520.0</td>\n",
       "      <td>1</td>\n",
       "    </tr>\n",
       "    <tr>\n",
       "      <th>121</th>\n",
       "      <td>11.56</td>\n",
       "      <td>2.05</td>\n",
       "      <td>3.23</td>\n",
       "      <td>28.5</td>\n",
       "      <td>119.0</td>\n",
       "      <td>3.18</td>\n",
       "      <td>5.08</td>\n",
       "      <td>0.47</td>\n",
       "      <td>1.87</td>\n",
       "      <td>6.00</td>\n",
       "      <td>0.93</td>\n",
       "      <td>3.69</td>\n",
       "      <td>465.0</td>\n",
       "      <td>1</td>\n",
       "    </tr>\n",
       "  </tbody>\n",
       "</table>\n",
       "</div>"
      ],
      "text/plain": [
       "     alcohol  malic_acid   ash  ...  od280/od315_of_diluted_wines  proline  class\n",
       "25     13.05        2.05  3.22  ...                          3.20    830.0      0\n",
       "59     12.37        0.94  1.36  ...                          1.82    520.0      1\n",
       "121    11.56        2.05  3.23  ...                          3.69    465.0      1\n",
       "\n",
       "[3 rows x 14 columns]"
      ]
     },
     "execution_count": 57,
     "metadata": {},
     "output_type": "execute_result"
    }
   ],
   "source": [
    "outliers['ash']"
   ]
  },
  {
   "cell_type": "markdown",
   "id": "7f61d7a2",
   "metadata": {},
   "source": [
    "### 극단치의 정제\n",
    "1. 극단치를 제거\n",
    "\t- 데이터의 개수가 매우 많고 극단치가 존재하는 데이터의 개수가 전체 데이터에 비해 매우 작은 경우 제거\n",
    "\t- 극단치 제거 -> 데이터 개수 감소\n",
    "2. 극단치를 특정 데이터로 대체\n",
    "\t- 극단치의 값들을 다른 값으로 대체하는 경우는 데이터분석가에 따라 값들은 차이 발생"
   ]
  },
  {
   "cell_type": "code",
   "execution_count": 62,
   "id": "51689ffa",
   "metadata": {},
   "outputs": [],
   "source": [
    "df = wine.copy()"
   ]
  },
  {
   "cell_type": "code",
   "execution_count": 65,
   "id": "7ebe02c7",
   "metadata": {},
   "outputs": [],
   "source": [
    "# 극단치 제거 -> ash 컬럼에서 극단치 제거\n",
    "# drop() -> 조건에 따라 행을 제거할것인가 열을 제거할것인가 지정\n",
    "\t# 조건 -> outliers['ash']의 인덱스의 값\n",
    "\t# 행 제거 -> axis=0\n",
    "df.drop(outliers['ash'].index, axis=0, inplace=True)"
   ]
  },
  {
   "cell_type": "code",
   "execution_count": 72,
   "id": "298d5fcb",
   "metadata": {},
   "outputs": [
    {
     "name": "stdout",
     "output_type": "stream",
     "text": [
      "원본 데이터의 개수 : 178\n",
      "극단치가 제거된 데이터의 개수 : 175\n"
     ]
    }
   ],
   "source": [
    "print(f'원본 데이터의 개수 : {len(wine)}')\n",
    "print(f'극단치가 제거된 데이터의 개수 : {len(df)}')"
   ]
  },
  {
   "cell_type": "code",
   "execution_count": 73,
   "id": "40e52b54",
   "metadata": {},
   "outputs": [],
   "source": [
    "# 상단경계보다 높은 극단치의 데이터를 극단치를 제외한 max값으로 대체\n",
    "# 하단경계보다 낮은 극단치의 데이터를 극단치를 제외한 min값으로 대체\n",
    "max_value = df['ash'].max()\n",
    "min_value = df['ash'].min()"
   ]
  },
  {
   "cell_type": "code",
   "execution_count": 74,
   "id": "17ee4aad",
   "metadata": {},
   "outputs": [
    {
     "name": "stdout",
     "output_type": "stream",
     "text": [
      "2.92 1.7\n"
     ]
    }
   ],
   "source": [
    "print(max_value, min_value)"
   ]
  },
  {
   "cell_type": "code",
   "execution_count": 75,
   "id": "c05df5dc",
   "metadata": {},
   "outputs": [
    {
     "data": {
      "text/plain": [
       "np.float64(2.36)"
      ]
     },
     "execution_count": 75,
     "metadata": {},
     "output_type": "execute_result"
    }
   ],
   "source": [
    "# 중앙값 확인\n",
    "# df['ash'].median()\n",
    "center_value = np.percentile(df['ash'], 50)\n",
    "center_value"
   ]
  },
  {
   "cell_type": "code",
   "execution_count": 76,
   "id": "ce763d66",
   "metadata": {},
   "outputs": [],
   "source": [
    "df2 = wine.copy()"
   ]
  },
  {
   "cell_type": "code",
   "execution_count": 77,
   "id": "567b0edc",
   "metadata": {},
   "outputs": [],
   "source": [
    "# 상단경계보다 높은 극단치의 데이터를 극단치를 제외한 max 값으로 대체\n",
    "# 조건 -> outliers['ash']에서 center_value보다 큰 데이터의 index\n",
    "flag = outliers['ash']['ash'] > center_value"
   ]
  },
  {
   "cell_type": "code",
   "execution_count": 78,
   "id": "a98e6e96",
   "metadata": {},
   "outputs": [],
   "source": [
    "flag_index = []\n",
    "for i in flag.index:\n",
    "    if flag[i]:\n",
    "        flag_index.append(i)"
   ]
  },
  {
   "cell_type": "code",
   "execution_count": 79,
   "id": "45521104",
   "metadata": {},
   "outputs": [],
   "source": [
    "df2.loc[flag_index, 'ash'] = max_value"
   ]
  },
  {
   "cell_type": "code",
   "execution_count": 80,
   "id": "d9369058",
   "metadata": {},
   "outputs": [],
   "source": [
    "flag_index = []\n",
    "for i in flag.index:\n",
    "    if ~flag[i]:\n",
    "        flag_index.append(i)"
   ]
  },
  {
   "cell_type": "code",
   "execution_count": 81,
   "id": "5dabd58d",
   "metadata": {},
   "outputs": [
    {
     "data": {
      "text/plain": [
       "[59]"
      ]
     },
     "execution_count": 81,
     "metadata": {},
     "output_type": "execute_result"
    }
   ],
   "source": [
    "flag_index"
   ]
  },
  {
   "cell_type": "code",
   "execution_count": 82,
   "id": "f0f1e17c",
   "metadata": {},
   "outputs": [],
   "source": [
    "df2.loc[flag_index, 'ash'] = min_value"
   ]
  },
  {
   "cell_type": "code",
   "execution_count": 83,
   "id": "52eb641e",
   "metadata": {},
   "outputs": [],
   "source": [
    "df3 = wine.copy()"
   ]
  },
  {
   "cell_type": "code",
   "execution_count": 84,
   "id": "2b5120db",
   "metadata": {},
   "outputs": [
    {
     "data": {
      "text/plain": [
       "count    178.000000\n",
       "mean       2.366517\n",
       "std        0.274344\n",
       "min        1.360000\n",
       "25%        2.210000\n",
       "50%        2.360000\n",
       "75%        2.557500\n",
       "max        3.230000\n",
       "Name: ash, dtype: float64"
      ]
     },
     "execution_count": 84,
     "metadata": {},
     "output_type": "execute_result"
    }
   ],
   "source": [
    "df3['ash'].describe()"
   ]
  },
  {
   "cell_type": "code",
   "execution_count": null,
   "id": "08028db3",
   "metadata": {},
   "outputs": [],
   "source": [
    "flag = df3['ash'] > max_value\n",
    "df3.loc[flag, 'ash'] = max_value"
   ]
  },
  {
   "cell_type": "code",
   "execution_count": 86,
   "id": "b6b0a1b7",
   "metadata": {},
   "outputs": [],
   "source": [
    "flag = df3['ash'] < min_value\n",
    "df3.loc[flag, 'ash'] = min_value"
   ]
  },
  {
   "cell_type": "code",
   "execution_count": 87,
   "id": "94cc569d",
   "metadata": {},
   "outputs": [
    {
     "data": {
      "text/plain": [
       "count    178.000000\n",
       "mean       2.365000\n",
       "std        0.259195\n",
       "min        1.700000\n",
       "25%        2.210000\n",
       "50%        2.360000\n",
       "75%        2.557500\n",
       "max        2.920000\n",
       "Name: ash, dtype: float64"
      ]
     },
     "execution_count": 87,
     "metadata": {},
     "output_type": "execute_result"
    }
   ],
   "source": [
    "df3['ash'].describe()"
   ]
  },
  {
   "cell_type": "code",
   "execution_count": 88,
   "id": "8f447575",
   "metadata": {},
   "outputs": [],
   "source": [
    "# replace 함수 이용\n",
    "flag = outliers['ash']['ash'] > center_value"
   ]
  },
  {
   "cell_type": "code",
   "execution_count": 89,
   "id": "97750f29",
   "metadata": {},
   "outputs": [],
   "source": [
    "upper_data = outliers['ash'].loc[flag, 'ash']"
   ]
  },
  {
   "cell_type": "code",
   "execution_count": 90,
   "id": "5bce1c1f",
   "metadata": {},
   "outputs": [],
   "source": [
    "df4 = wine.copy()"
   ]
  },
  {
   "cell_type": "code",
   "execution_count": 92,
   "id": "3783c369",
   "metadata": {},
   "outputs": [
    {
     "name": "stderr",
     "output_type": "stream",
     "text": [
      "C:\\Users\\toqha\\AppData\\Local\\Temp\\ipykernel_21584\\2235018250.py:3: FutureWarning: A value is trying to be set on a copy of a DataFrame or Series through chained assignment using an inplace method.\n",
      "The behavior will change in pandas 3.0. This inplace method will never work because the intermediate object on which we are setting values always behaves as a copy.\n",
      "\n",
      "For example, when doing 'df[col].method(value, inplace=True)', try using 'df.method({col: value}, inplace=True)' or df[col] = df[col].method(value) instead, to perform the operation inplace on the original object.\n",
      "\n",
      "\n",
      "  df4['ash'].replace(i, max_value, inplace=True)\n"
     ]
    }
   ],
   "source": [
    "for i in upper_data:\n",
    "    # print(i)\n",
    "    df4['ash'].replace(i, max_value, inplace=True)"
   ]
  },
  {
   "cell_type": "code",
   "execution_count": 93,
   "id": "5f504984",
   "metadata": {},
   "outputs": [
    {
     "name": "stderr",
     "output_type": "stream",
     "text": [
      "C:\\Users\\toqha\\AppData\\Local\\Temp\\ipykernel_21584\\2827600498.py:3: FutureWarning: A value is trying to be set on a copy of a DataFrame or Series through chained assignment using an inplace method.\n",
      "The behavior will change in pandas 3.0. This inplace method will never work because the intermediate object on which we are setting values always behaves as a copy.\n",
      "\n",
      "For example, when doing 'df[col].method(value, inplace=True)', try using 'df.method({col: value}, inplace=True)' or df[col] = df[col].method(value) instead, to perform the operation inplace on the original object.\n",
      "\n",
      "\n",
      "  df4['ash'].replace(i, min_value, inplace=True)\n"
     ]
    }
   ],
   "source": [
    "lower_data = outliers['ash'].loc[~flag, 'ash']\n",
    "for i in lower_data:\n",
    "    df4['ash'].replace(i, min_value, inplace=True)"
   ]
  },
  {
   "cell_type": "code",
   "execution_count": 94,
   "id": "f63b0b5c",
   "metadata": {},
   "outputs": [
    {
     "data": {
      "text/plain": [
       "count    178.000000\n",
       "mean       2.365000\n",
       "std        0.259195\n",
       "min        1.700000\n",
       "25%        2.210000\n",
       "50%        2.360000\n",
       "75%        2.557500\n",
       "max        2.920000\n",
       "Name: ash, dtype: float64"
      ]
     },
     "execution_count": 94,
     "metadata": {},
     "output_type": "execute_result"
    }
   ],
   "source": [
    "df4['ash'].describe()"
   ]
  },
  {
   "cell_type": "markdown",
   "id": "786195f4",
   "metadata": {},
   "source": [
    "### 범주형 변수 처리\n",
    "- 수학적 연산으로 예측하는 모델이 대부분이기 때문에 범주형 변수를 직접적으로 사용하기 어려움\n",
    "\t- 더미 변수를 생성해 모델 학습\n",
    "\t- 범주형 데이터들을 컬럼으로 생성하여 0과 1로 데이터를 대입해 포함 여부를 만듦"
   ]
  },
  {
   "cell_type": "code",
   "execution_count": 95,
   "id": "550cc21f",
   "metadata": {},
   "outputs": [
    {
     "data": {
      "text/plain": [
       "array(['class_0', 'class_1', 'class_2'], dtype='<U7')"
      ]
     },
     "execution_count": 95,
     "metadata": {},
     "output_type": "execute_result"
    }
   ],
   "source": [
    "# wine 데이터프레임에서 class 컬럼의 데이터들을 target_names로 변경\n",
    "wine_load['target_names']"
   ]
  },
  {
   "cell_type": "code",
   "execution_count": 98,
   "id": "b856bceb",
   "metadata": {},
   "outputs": [
    {
     "name": "stderr",
     "output_type": "stream",
     "text": [
      "C:\\Users\\toqha\\AppData\\Local\\Temp\\ipykernel_21584\\3487616730.py:2: FutureWarning: Setting an item of incompatible dtype is deprecated and will raise an error in a future version of pandas. Value 'class_0' has dtype incompatible with int64, please explicitly cast to a compatible dtype first.\n",
      "  wine.loc[flag, 'class'] = 'class_0'\n"
     ]
    }
   ],
   "source": [
    "flag = wine['class'] == 0\n",
    "wine.loc[flag, 'class'] = 'class_0'"
   ]
  },
  {
   "cell_type": "code",
   "execution_count": 99,
   "id": "9fc6eba2",
   "metadata": {},
   "outputs": [
    {
     "data": {
      "text/plain": [
       "class\n",
       "1          71\n",
       "class_0    59\n",
       "2          48\n",
       "Name: count, dtype: int64"
      ]
     },
     "execution_count": 99,
     "metadata": {},
     "output_type": "execute_result"
    }
   ],
   "source": [
    "wine['class'].value_counts()"
   ]
  },
  {
   "cell_type": "code",
   "execution_count": null,
   "id": "e0d12f5b",
   "metadata": {},
   "outputs": [
    {
     "data": {
      "text/plain": [
       "0      class_0\n",
       "1      class_0\n",
       "2      class_0\n",
       "3      class_0\n",
       "4      class_0\n",
       "        ...   \n",
       "173    class_2\n",
       "174    class_2\n",
       "175    class_2\n",
       "176    class_2\n",
       "177    class_2\n",
       "Name: class, Length: 178, dtype: object"
      ]
     },
     "execution_count": 100,
     "metadata": {},
     "output_type": "execute_result"
    }
   ],
   "source": [
    "# map() 함수 이용 -> \n",
    "wine['class'].map(\n",
    "    {\n",
    "        'class_0' : 'class_0',\n",
    "        1 : 'class_1',\n",
    "        2 : 'class_2'\n",
    "\t}\n",
    ")"
   ]
  },
  {
   "cell_type": "code",
   "execution_count": 104,
   "id": "b18f75cb",
   "metadata": {},
   "outputs": [],
   "source": [
    "# lambda 사용\n",
    "# if문 한 줄로 표현 -> '참인경우데이터' if 조건식 '거짓인경우데이터'else 조건식\n",
    "wine['class'] = wine['class'].map(\n",
    "    lambda x : 'class_1' if x==1 else (\n",
    "        'class_2' if x==2 else 'class_0'\n",
    "\t)\n",
    ")"
   ]
  },
  {
   "cell_type": "code",
   "execution_count": 105,
   "id": "11321980",
   "metadata": {},
   "outputs": [
    {
     "data": {
      "text/plain": [
       "class\n",
       "class_1    71\n",
       "class_0    59\n",
       "class_2    48\n",
       "Name: count, dtype: int64"
      ]
     },
     "execution_count": 105,
     "metadata": {},
     "output_type": "execute_result"
    }
   ],
   "source": [
    "wine['class'].value_counts()"
   ]
  },
  {
   "cell_type": "code",
   "execution_count": 106,
   "id": "7f9c3041",
   "metadata": {},
   "outputs": [
    {
     "data": {
      "text/plain": [
       "14"
      ]
     },
     "execution_count": 106,
     "metadata": {},
     "output_type": "execute_result"
    }
   ],
   "source": [
    "len(wine.columns)"
   ]
  },
  {
   "cell_type": "code",
   "execution_count": 107,
   "id": "c5d29581",
   "metadata": {},
   "outputs": [],
   "source": [
    "# 범주형 데이터를 더미변수로 생성\n",
    "# get_dummies() 함수 이용 -> 판다스에 존재\n",
    "wine_dummy = pd.get_dummies(\n",
    "    wine,\n",
    "    columns=['class']    \n",
    ")"
   ]
  },
  {
   "cell_type": "code",
   "execution_count": 109,
   "id": "5d333a2e",
   "metadata": {},
   "outputs": [
    {
     "data": {
      "text/plain": [
       "16"
      ]
     },
     "execution_count": 109,
     "metadata": {},
     "output_type": "execute_result"
    }
   ],
   "source": [
    "len(wine_dummy.columns)"
   ]
  },
  {
   "cell_type": "code",
   "execution_count": 110,
   "id": "06679bc5",
   "metadata": {},
   "outputs": [
    {
     "data": {
      "text/plain": [
       "np.int64(71)"
      ]
     },
     "execution_count": 110,
     "metadata": {},
     "output_type": "execute_result"
    }
   ],
   "source": [
    "wine_dummy['class_class_1'].sum()"
   ]
  },
  {
   "cell_type": "markdown",
   "id": "0b4b01b3",
   "metadata": {},
   "source": [
    "### 데이터의 분할\n",
    "- 분석 모델을 학습하고 성과 확인을 위해 데이터를 train, test 데이터로 나누고 독립변수, 종속변수로 분리하는 작업\n",
    "- train, test 비율은 일반적으로 70:30\n",
    "- sklearn 라이브러리에서 train_test_split() 함수 사용\n",
    "\t- train_test_split(X, Y, test_size = None, random_state = None, shuffle = True, stratify = None)\n",
    "\t\t- X : 독립변수 데이터\n",
    "\t\t- Y : 종속변수 데이터\n",
    "\t\t- test_size : 테스트 데이터의 비율(0~1)\n",
    "\t\t- random_state : 임의의 번호 지정. 같은 데이터에서 같은 번호 입력시 같은 데이터 확인 가능\n",
    "\t\t- shuffle : True라면 데이터를 나누기 전에 섞어줌\n",
    "\t\t- stratify : None이 아닌 경우 데이터는 지정한 변수(특정 컬럼의 데이터)를 기준으로 계층화되어 해당 변수의 비율을 유지하도록 추출"
   ]
  },
  {
   "cell_type": "code",
   "execution_count": 111,
   "id": "bba1884e",
   "metadata": {},
   "outputs": [],
   "source": [
    "from sklearn.datasets import load_iris\n",
    "from sklearn.model_selection import train_test_split"
   ]
  },
  {
   "cell_type": "code",
   "execution_count": 112,
   "id": "4897face",
   "metadata": {},
   "outputs": [],
   "source": [
    "iris_load = load_iris()"
   ]
  },
  {
   "cell_type": "code",
   "execution_count": 114,
   "id": "c49555cc",
   "metadata": {},
   "outputs": [
    {
     "data": {
      "text/html": [
       "<div>\n",
       "<style scoped>\n",
       "    .dataframe tbody tr th:only-of-type {\n",
       "        vertical-align: middle;\n",
       "    }\n",
       "\n",
       "    .dataframe tbody tr th {\n",
       "        vertical-align: top;\n",
       "    }\n",
       "\n",
       "    .dataframe thead th {\n",
       "        text-align: right;\n",
       "    }\n",
       "</style>\n",
       "<table border=\"1\" class=\"dataframe\">\n",
       "  <thead>\n",
       "    <tr style=\"text-align: right;\">\n",
       "      <th></th>\n",
       "      <th>sepal length (cm)</th>\n",
       "      <th>sepal width (cm)</th>\n",
       "      <th>petal length (cm)</th>\n",
       "      <th>petal width (cm)</th>\n",
       "    </tr>\n",
       "  </thead>\n",
       "  <tbody>\n",
       "    <tr>\n",
       "      <th>0</th>\n",
       "      <td>5.1</td>\n",
       "      <td>3.5</td>\n",
       "      <td>1.4</td>\n",
       "      <td>0.2</td>\n",
       "    </tr>\n",
       "    <tr>\n",
       "      <th>1</th>\n",
       "      <td>4.9</td>\n",
       "      <td>3.0</td>\n",
       "      <td>1.4</td>\n",
       "      <td>0.2</td>\n",
       "    </tr>\n",
       "    <tr>\n",
       "      <th>2</th>\n",
       "      <td>4.7</td>\n",
       "      <td>3.2</td>\n",
       "      <td>1.3</td>\n",
       "      <td>0.2</td>\n",
       "    </tr>\n",
       "    <tr>\n",
       "      <th>3</th>\n",
       "      <td>4.6</td>\n",
       "      <td>3.1</td>\n",
       "      <td>1.5</td>\n",
       "      <td>0.2</td>\n",
       "    </tr>\n",
       "    <tr>\n",
       "      <th>4</th>\n",
       "      <td>5.0</td>\n",
       "      <td>3.6</td>\n",
       "      <td>1.4</td>\n",
       "      <td>0.2</td>\n",
       "    </tr>\n",
       "  </tbody>\n",
       "</table>\n",
       "</div>"
      ],
      "text/plain": [
       "   sepal length (cm)  sepal width (cm)  petal length (cm)  petal width (cm)\n",
       "0                5.1               3.5                1.4               0.2\n",
       "1                4.9               3.0                1.4               0.2\n",
       "2                4.7               3.2                1.3               0.2\n",
       "3                4.6               3.1                1.5               0.2\n",
       "4                5.0               3.6                1.4               0.2"
      ]
     },
     "execution_count": 114,
     "metadata": {},
     "output_type": "execute_result"
    }
   ],
   "source": [
    "iris = pd.DataFrame(iris_load['data'],\n",
    "                    columns=iris_load['feature_names'])\n",
    "iris.head()"
   ]
  },
  {
   "cell_type": "code",
   "execution_count": 116,
   "id": "b37b5834",
   "metadata": {},
   "outputs": [],
   "source": [
    "iris['class'] = iris_load['target']"
   ]
  },
  {
   "cell_type": "code",
   "execution_count": 117,
   "id": "08c3f84e",
   "metadata": {},
   "outputs": [
    {
     "data": {
      "text/html": [
       "<div>\n",
       "<style scoped>\n",
       "    .dataframe tbody tr th:only-of-type {\n",
       "        vertical-align: middle;\n",
       "    }\n",
       "\n",
       "    .dataframe tbody tr th {\n",
       "        vertical-align: top;\n",
       "    }\n",
       "\n",
       "    .dataframe thead th {\n",
       "        text-align: right;\n",
       "    }\n",
       "</style>\n",
       "<table border=\"1\" class=\"dataframe\">\n",
       "  <thead>\n",
       "    <tr style=\"text-align: right;\">\n",
       "      <th></th>\n",
       "      <th>sepal length (cm)</th>\n",
       "      <th>sepal width (cm)</th>\n",
       "      <th>petal length (cm)</th>\n",
       "      <th>petal width (cm)</th>\n",
       "      <th>class</th>\n",
       "    </tr>\n",
       "  </thead>\n",
       "  <tbody>\n",
       "    <tr>\n",
       "      <th>0</th>\n",
       "      <td>5.1</td>\n",
       "      <td>3.5</td>\n",
       "      <td>1.4</td>\n",
       "      <td>0.2</td>\n",
       "      <td>0</td>\n",
       "    </tr>\n",
       "    <tr>\n",
       "      <th>1</th>\n",
       "      <td>4.9</td>\n",
       "      <td>3.0</td>\n",
       "      <td>1.4</td>\n",
       "      <td>0.2</td>\n",
       "      <td>0</td>\n",
       "    </tr>\n",
       "    <tr>\n",
       "      <th>2</th>\n",
       "      <td>4.7</td>\n",
       "      <td>3.2</td>\n",
       "      <td>1.3</td>\n",
       "      <td>0.2</td>\n",
       "      <td>0</td>\n",
       "    </tr>\n",
       "    <tr>\n",
       "      <th>3</th>\n",
       "      <td>4.6</td>\n",
       "      <td>3.1</td>\n",
       "      <td>1.5</td>\n",
       "      <td>0.2</td>\n",
       "      <td>0</td>\n",
       "    </tr>\n",
       "    <tr>\n",
       "      <th>4</th>\n",
       "      <td>5.0</td>\n",
       "      <td>3.6</td>\n",
       "      <td>1.4</td>\n",
       "      <td>0.2</td>\n",
       "      <td>0</td>\n",
       "    </tr>\n",
       "  </tbody>\n",
       "</table>\n",
       "</div>"
      ],
      "text/plain": [
       "   sepal length (cm)  sepal width (cm)  ...  petal width (cm)  class\n",
       "0                5.1               3.5  ...               0.2      0\n",
       "1                4.9               3.0  ...               0.2      0\n",
       "2                4.7               3.2  ...               0.2      0\n",
       "3                4.6               3.1  ...               0.2      0\n",
       "4                5.0               3.6  ...               0.2      0\n",
       "\n",
       "[5 rows x 5 columns]"
      ]
     },
     "execution_count": 117,
     "metadata": {},
     "output_type": "execute_result"
    }
   ],
   "source": [
    "iris.head()"
   ]
  },
  {
   "cell_type": "code",
   "execution_count": 118,
   "id": "babd84f1",
   "metadata": {},
   "outputs": [],
   "source": [
    "iris['class'] = iris['class'].map(\n",
    "    {\n",
    "        0 : 'setosa',\n",
    "        1 : 'versicolor',\n",
    "        2 : 'vurginica'\n",
    "\t}\n",
    ")"
   ]
  },
  {
   "cell_type": "code",
   "execution_count": 120,
   "id": "e0e8056c",
   "metadata": {},
   "outputs": [
    {
     "data": {
      "text/plain": [
       "class\n",
       "setosa        50\n",
       "versicolor    50\n",
       "vurginica     50\n",
       "Name: count, dtype: int64"
      ]
     },
     "execution_count": 120,
     "metadata": {},
     "output_type": "execute_result"
    }
   ],
   "source": [
    "iris['class'].value_counts()"
   ]
  },
  {
   "cell_type": "code",
   "execution_count": null,
   "id": "15e535e8",
   "metadata": {},
   "outputs": [],
   "source": [
    "# train, test로 데이터를 분할\n",
    "x_train, x_test, y_train, y_test = train_test_split(\n",
    "    iris.drop('class', axis=1),\t\t# 독립변수\n",
    "    iris['class'],\t\t\t\t\t# 종속변수\n",
    "    test_size=0.3,\n",
    "    random_state=42\n",
    ")"
   ]
  },
  {
   "cell_type": "code",
   "execution_count": 123,
   "id": "6c4e3e2d",
   "metadata": {},
   "outputs": [
    {
     "name": "stdout",
     "output_type": "stream",
     "text": [
      "학습 데이터 수 : 105, 테스트 데이터 수 : 45\n"
     ]
    }
   ],
   "source": [
    "print(f'학습 데이터 수 : {len(x_train)}, 테스트 데이터 수 : {len(x_test)}')"
   ]
  },
  {
   "cell_type": "code",
   "execution_count": 124,
   "id": "f1bdfeaf",
   "metadata": {},
   "outputs": [
    {
     "data": {
      "text/html": [
       "<div>\n",
       "<style scoped>\n",
       "    .dataframe tbody tr th:only-of-type {\n",
       "        vertical-align: middle;\n",
       "    }\n",
       "\n",
       "    .dataframe tbody tr th {\n",
       "        vertical-align: top;\n",
       "    }\n",
       "\n",
       "    .dataframe thead th {\n",
       "        text-align: right;\n",
       "    }\n",
       "</style>\n",
       "<table border=\"1\" class=\"dataframe\">\n",
       "  <thead>\n",
       "    <tr style=\"text-align: right;\">\n",
       "      <th></th>\n",
       "      <th>sepal length (cm)</th>\n",
       "      <th>sepal width (cm)</th>\n",
       "      <th>petal length (cm)</th>\n",
       "      <th>petal width (cm)</th>\n",
       "    </tr>\n",
       "  </thead>\n",
       "  <tbody>\n",
       "    <tr>\n",
       "      <th>73</th>\n",
       "      <td>6.1</td>\n",
       "      <td>2.8</td>\n",
       "      <td>4.7</td>\n",
       "      <td>1.2</td>\n",
       "    </tr>\n",
       "    <tr>\n",
       "      <th>18</th>\n",
       "      <td>5.7</td>\n",
       "      <td>3.8</td>\n",
       "      <td>1.7</td>\n",
       "      <td>0.3</td>\n",
       "    </tr>\n",
       "    <tr>\n",
       "      <th>118</th>\n",
       "      <td>7.7</td>\n",
       "      <td>2.6</td>\n",
       "      <td>6.9</td>\n",
       "      <td>2.3</td>\n",
       "    </tr>\n",
       "    <tr>\n",
       "      <th>78</th>\n",
       "      <td>6.0</td>\n",
       "      <td>2.9</td>\n",
       "      <td>4.5</td>\n",
       "      <td>1.5</td>\n",
       "    </tr>\n",
       "    <tr>\n",
       "      <th>76</th>\n",
       "      <td>6.8</td>\n",
       "      <td>2.8</td>\n",
       "      <td>4.8</td>\n",
       "      <td>1.4</td>\n",
       "    </tr>\n",
       "    <tr>\n",
       "      <th>31</th>\n",
       "      <td>5.4</td>\n",
       "      <td>3.4</td>\n",
       "      <td>1.5</td>\n",
       "      <td>0.4</td>\n",
       "    </tr>\n",
       "    <tr>\n",
       "      <th>64</th>\n",
       "      <td>5.6</td>\n",
       "      <td>2.9</td>\n",
       "      <td>3.6</td>\n",
       "      <td>1.3</td>\n",
       "    </tr>\n",
       "    <tr>\n",
       "      <th>141</th>\n",
       "      <td>6.9</td>\n",
       "      <td>3.1</td>\n",
       "      <td>5.1</td>\n",
       "      <td>2.3</td>\n",
       "    </tr>\n",
       "    <tr>\n",
       "      <th>68</th>\n",
       "      <td>6.2</td>\n",
       "      <td>2.2</td>\n",
       "      <td>4.5</td>\n",
       "      <td>1.5</td>\n",
       "    </tr>\n",
       "    <tr>\n",
       "      <th>82</th>\n",
       "      <td>5.8</td>\n",
       "      <td>2.7</td>\n",
       "      <td>3.9</td>\n",
       "      <td>1.2</td>\n",
       "    </tr>\n",
       "    <tr>\n",
       "      <th>110</th>\n",
       "      <td>6.5</td>\n",
       "      <td>3.2</td>\n",
       "      <td>5.1</td>\n",
       "      <td>2.0</td>\n",
       "    </tr>\n",
       "    <tr>\n",
       "      <th>12</th>\n",
       "      <td>4.8</td>\n",
       "      <td>3.0</td>\n",
       "      <td>1.4</td>\n",
       "      <td>0.1</td>\n",
       "    </tr>\n",
       "    <tr>\n",
       "      <th>36</th>\n",
       "      <td>5.5</td>\n",
       "      <td>3.5</td>\n",
       "      <td>1.3</td>\n",
       "      <td>0.2</td>\n",
       "    </tr>\n",
       "    <tr>\n",
       "      <th>9</th>\n",
       "      <td>4.9</td>\n",
       "      <td>3.1</td>\n",
       "      <td>1.5</td>\n",
       "      <td>0.1</td>\n",
       "    </tr>\n",
       "    <tr>\n",
       "      <th>19</th>\n",
       "      <td>5.1</td>\n",
       "      <td>3.8</td>\n",
       "      <td>1.5</td>\n",
       "      <td>0.3</td>\n",
       "    </tr>\n",
       "    <tr>\n",
       "      <th>56</th>\n",
       "      <td>6.3</td>\n",
       "      <td>3.3</td>\n",
       "      <td>4.7</td>\n",
       "      <td>1.6</td>\n",
       "    </tr>\n",
       "    <tr>\n",
       "      <th>104</th>\n",
       "      <td>6.5</td>\n",
       "      <td>3.0</td>\n",
       "      <td>5.8</td>\n",
       "      <td>2.2</td>\n",
       "    </tr>\n",
       "    <tr>\n",
       "      <th>69</th>\n",
       "      <td>5.6</td>\n",
       "      <td>2.5</td>\n",
       "      <td>3.9</td>\n",
       "      <td>1.1</td>\n",
       "    </tr>\n",
       "    <tr>\n",
       "      <th>55</th>\n",
       "      <td>5.7</td>\n",
       "      <td>2.8</td>\n",
       "      <td>4.5</td>\n",
       "      <td>1.3</td>\n",
       "    </tr>\n",
       "    <tr>\n",
       "      <th>132</th>\n",
       "      <td>6.4</td>\n",
       "      <td>2.8</td>\n",
       "      <td>5.6</td>\n",
       "      <td>2.2</td>\n",
       "    </tr>\n",
       "    <tr>\n",
       "      <th>29</th>\n",
       "      <td>4.7</td>\n",
       "      <td>3.2</td>\n",
       "      <td>1.6</td>\n",
       "      <td>0.2</td>\n",
       "    </tr>\n",
       "    <tr>\n",
       "      <th>127</th>\n",
       "      <td>6.1</td>\n",
       "      <td>3.0</td>\n",
       "      <td>4.9</td>\n",
       "      <td>1.8</td>\n",
       "    </tr>\n",
       "    <tr>\n",
       "      <th>26</th>\n",
       "      <td>5.0</td>\n",
       "      <td>3.4</td>\n",
       "      <td>1.6</td>\n",
       "      <td>0.4</td>\n",
       "    </tr>\n",
       "    <tr>\n",
       "      <th>128</th>\n",
       "      <td>6.4</td>\n",
       "      <td>2.8</td>\n",
       "      <td>5.6</td>\n",
       "      <td>2.1</td>\n",
       "    </tr>\n",
       "    <tr>\n",
       "      <th>131</th>\n",
       "      <td>7.9</td>\n",
       "      <td>3.8</td>\n",
       "      <td>6.4</td>\n",
       "      <td>2.0</td>\n",
       "    </tr>\n",
       "    <tr>\n",
       "      <th>145</th>\n",
       "      <td>6.7</td>\n",
       "      <td>3.0</td>\n",
       "      <td>5.2</td>\n",
       "      <td>2.3</td>\n",
       "    </tr>\n",
       "    <tr>\n",
       "      <th>108</th>\n",
       "      <td>6.7</td>\n",
       "      <td>2.5</td>\n",
       "      <td>5.8</td>\n",
       "      <td>1.8</td>\n",
       "    </tr>\n",
       "    <tr>\n",
       "      <th>143</th>\n",
       "      <td>6.8</td>\n",
       "      <td>3.2</td>\n",
       "      <td>5.9</td>\n",
       "      <td>2.3</td>\n",
       "    </tr>\n",
       "    <tr>\n",
       "      <th>45</th>\n",
       "      <td>4.8</td>\n",
       "      <td>3.0</td>\n",
       "      <td>1.4</td>\n",
       "      <td>0.3</td>\n",
       "    </tr>\n",
       "    <tr>\n",
       "      <th>30</th>\n",
       "      <td>4.8</td>\n",
       "      <td>3.1</td>\n",
       "      <td>1.6</td>\n",
       "      <td>0.2</td>\n",
       "    </tr>\n",
       "    <tr>\n",
       "      <th>22</th>\n",
       "      <td>4.6</td>\n",
       "      <td>3.6</td>\n",
       "      <td>1.0</td>\n",
       "      <td>0.2</td>\n",
       "    </tr>\n",
       "    <tr>\n",
       "      <th>15</th>\n",
       "      <td>5.7</td>\n",
       "      <td>4.4</td>\n",
       "      <td>1.5</td>\n",
       "      <td>0.4</td>\n",
       "    </tr>\n",
       "    <tr>\n",
       "      <th>65</th>\n",
       "      <td>6.7</td>\n",
       "      <td>3.1</td>\n",
       "      <td>4.4</td>\n",
       "      <td>1.4</td>\n",
       "    </tr>\n",
       "    <tr>\n",
       "      <th>11</th>\n",
       "      <td>4.8</td>\n",
       "      <td>3.4</td>\n",
       "      <td>1.6</td>\n",
       "      <td>0.2</td>\n",
       "    </tr>\n",
       "    <tr>\n",
       "      <th>42</th>\n",
       "      <td>4.4</td>\n",
       "      <td>3.2</td>\n",
       "      <td>1.3</td>\n",
       "      <td>0.2</td>\n",
       "    </tr>\n",
       "    <tr>\n",
       "      <th>146</th>\n",
       "      <td>6.3</td>\n",
       "      <td>2.5</td>\n",
       "      <td>5.0</td>\n",
       "      <td>1.9</td>\n",
       "    </tr>\n",
       "    <tr>\n",
       "      <th>51</th>\n",
       "      <td>6.4</td>\n",
       "      <td>3.2</td>\n",
       "      <td>4.5</td>\n",
       "      <td>1.5</td>\n",
       "    </tr>\n",
       "    <tr>\n",
       "      <th>27</th>\n",
       "      <td>5.2</td>\n",
       "      <td>3.5</td>\n",
       "      <td>1.5</td>\n",
       "      <td>0.2</td>\n",
       "    </tr>\n",
       "    <tr>\n",
       "      <th>4</th>\n",
       "      <td>5.0</td>\n",
       "      <td>3.6</td>\n",
       "      <td>1.4</td>\n",
       "      <td>0.2</td>\n",
       "    </tr>\n",
       "    <tr>\n",
       "      <th>32</th>\n",
       "      <td>5.2</td>\n",
       "      <td>4.1</td>\n",
       "      <td>1.5</td>\n",
       "      <td>0.1</td>\n",
       "    </tr>\n",
       "    <tr>\n",
       "      <th>142</th>\n",
       "      <td>5.8</td>\n",
       "      <td>2.7</td>\n",
       "      <td>5.1</td>\n",
       "      <td>1.9</td>\n",
       "    </tr>\n",
       "    <tr>\n",
       "      <th>85</th>\n",
       "      <td>6.0</td>\n",
       "      <td>3.4</td>\n",
       "      <td>4.5</td>\n",
       "      <td>1.6</td>\n",
       "    </tr>\n",
       "    <tr>\n",
       "      <th>86</th>\n",
       "      <td>6.7</td>\n",
       "      <td>3.1</td>\n",
       "      <td>4.7</td>\n",
       "      <td>1.5</td>\n",
       "    </tr>\n",
       "    <tr>\n",
       "      <th>16</th>\n",
       "      <td>5.4</td>\n",
       "      <td>3.9</td>\n",
       "      <td>1.3</td>\n",
       "      <td>0.4</td>\n",
       "    </tr>\n",
       "    <tr>\n",
       "      <th>10</th>\n",
       "      <td>5.4</td>\n",
       "      <td>3.7</td>\n",
       "      <td>1.5</td>\n",
       "      <td>0.2</td>\n",
       "    </tr>\n",
       "  </tbody>\n",
       "</table>\n",
       "</div>"
      ],
      "text/plain": [
       "     sepal length (cm)  sepal width (cm)  petal length (cm)  petal width (cm)\n",
       "73                 6.1               2.8                4.7               1.2\n",
       "18                 5.7               3.8                1.7               0.3\n",
       "118                7.7               2.6                6.9               2.3\n",
       "78                 6.0               2.9                4.5               1.5\n",
       "76                 6.8               2.8                4.8               1.4\n",
       "31                 5.4               3.4                1.5               0.4\n",
       "64                 5.6               2.9                3.6               1.3\n",
       "141                6.9               3.1                5.1               2.3\n",
       "68                 6.2               2.2                4.5               1.5\n",
       "82                 5.8               2.7                3.9               1.2\n",
       "110                6.5               3.2                5.1               2.0\n",
       "12                 4.8               3.0                1.4               0.1\n",
       "36                 5.5               3.5                1.3               0.2\n",
       "9                  4.9               3.1                1.5               0.1\n",
       "19                 5.1               3.8                1.5               0.3\n",
       "56                 6.3               3.3                4.7               1.6\n",
       "104                6.5               3.0                5.8               2.2\n",
       "69                 5.6               2.5                3.9               1.1\n",
       "55                 5.7               2.8                4.5               1.3\n",
       "132                6.4               2.8                5.6               2.2\n",
       "29                 4.7               3.2                1.6               0.2\n",
       "127                6.1               3.0                4.9               1.8\n",
       "26                 5.0               3.4                1.6               0.4\n",
       "128                6.4               2.8                5.6               2.1\n",
       "131                7.9               3.8                6.4               2.0\n",
       "145                6.7               3.0                5.2               2.3\n",
       "108                6.7               2.5                5.8               1.8\n",
       "143                6.8               3.2                5.9               2.3\n",
       "45                 4.8               3.0                1.4               0.3\n",
       "30                 4.8               3.1                1.6               0.2\n",
       "22                 4.6               3.6                1.0               0.2\n",
       "15                 5.7               4.4                1.5               0.4\n",
       "65                 6.7               3.1                4.4               1.4\n",
       "11                 4.8               3.4                1.6               0.2\n",
       "42                 4.4               3.2                1.3               0.2\n",
       "146                6.3               2.5                5.0               1.9\n",
       "51                 6.4               3.2                4.5               1.5\n",
       "27                 5.2               3.5                1.5               0.2\n",
       "4                  5.0               3.6                1.4               0.2\n",
       "32                 5.2               4.1                1.5               0.1\n",
       "142                5.8               2.7                5.1               1.9\n",
       "85                 6.0               3.4                4.5               1.6\n",
       "86                 6.7               3.1                4.7               1.5\n",
       "16                 5.4               3.9                1.3               0.4\n",
       "10                 5.4               3.7                1.5               0.2"
      ]
     },
     "execution_count": 124,
     "metadata": {},
     "output_type": "execute_result"
    }
   ],
   "source": [
    "x_test"
   ]
  },
  {
   "cell_type": "code",
   "execution_count": 125,
   "id": "d16166f0",
   "metadata": {},
   "outputs": [
    {
     "data": {
      "text/plain": [
       "class\n",
       "versicolor    37\n",
       "vurginica     37\n",
       "setosa        31\n",
       "Name: count, dtype: int64"
      ]
     },
     "execution_count": 125,
     "metadata": {},
     "output_type": "execute_result"
    }
   ],
   "source": [
    "# 종속변수의 데이터 개수\n",
    "y_train.value_counts()"
   ]
  },
  {
   "cell_type": "code",
   "execution_count": 126,
   "id": "044b781e",
   "metadata": {},
   "outputs": [],
   "source": [
    "# iris 데이터에서 class 값들의 비율은 동일하게 데이터를 나눠준다\n",
    "# stratify 속성 사용\n",
    "x_train, x_test, y_train, y_test = train_test_split(\n",
    "    iris.drop('class', axis=1),\n",
    "    iris['class'],\n",
    "    test_size=0.3,\n",
    "    random_state=42,\n",
    "    stratify=iris['class']\n",
    ")"
   ]
  },
  {
   "cell_type": "code",
   "execution_count": 127,
   "id": "dcc21974",
   "metadata": {},
   "outputs": [
    {
     "data": {
      "text/plain": [
       "class\n",
       "versicolor    35\n",
       "setosa        35\n",
       "vurginica     35\n",
       "Name: count, dtype: int64"
      ]
     },
     "execution_count": 127,
     "metadata": {},
     "output_type": "execute_result"
    }
   ],
   "source": [
    "y_train.value_counts()"
   ]
  },
  {
   "cell_type": "code",
   "execution_count": 128,
   "id": "b638470f",
   "metadata": {},
   "outputs": [
    {
     "data": {
      "text/html": [
       "<div>\n",
       "<style scoped>\n",
       "    .dataframe tbody tr th:only-of-type {\n",
       "        vertical-align: middle;\n",
       "    }\n",
       "\n",
       "    .dataframe tbody tr th {\n",
       "        vertical-align: top;\n",
       "    }\n",
       "\n",
       "    .dataframe thead th {\n",
       "        text-align: right;\n",
       "    }\n",
       "</style>\n",
       "<table border=\"1\" class=\"dataframe\">\n",
       "  <thead>\n",
       "    <tr style=\"text-align: right;\">\n",
       "      <th></th>\n",
       "      <th>sepal length (cm)</th>\n",
       "      <th>sepal width (cm)</th>\n",
       "      <th>petal length (cm)</th>\n",
       "      <th>petal width (cm)</th>\n",
       "    </tr>\n",
       "  </thead>\n",
       "  <tbody>\n",
       "    <tr>\n",
       "      <th>107</th>\n",
       "      <td>7.3</td>\n",
       "      <td>2.9</td>\n",
       "      <td>6.3</td>\n",
       "      <td>1.8</td>\n",
       "    </tr>\n",
       "    <tr>\n",
       "      <th>63</th>\n",
       "      <td>6.1</td>\n",
       "      <td>2.9</td>\n",
       "      <td>4.7</td>\n",
       "      <td>1.4</td>\n",
       "    </tr>\n",
       "    <tr>\n",
       "      <th>133</th>\n",
       "      <td>6.3</td>\n",
       "      <td>2.8</td>\n",
       "      <td>5.1</td>\n",
       "      <td>1.5</td>\n",
       "    </tr>\n",
       "    <tr>\n",
       "      <th>56</th>\n",
       "      <td>6.3</td>\n",
       "      <td>3.3</td>\n",
       "      <td>4.7</td>\n",
       "      <td>1.6</td>\n",
       "    </tr>\n",
       "    <tr>\n",
       "      <th>127</th>\n",
       "      <td>6.1</td>\n",
       "      <td>3.0</td>\n",
       "      <td>4.9</td>\n",
       "      <td>1.8</td>\n",
       "    </tr>\n",
       "    <tr>\n",
       "      <th>140</th>\n",
       "      <td>6.7</td>\n",
       "      <td>3.1</td>\n",
       "      <td>5.6</td>\n",
       "      <td>2.4</td>\n",
       "    </tr>\n",
       "    <tr>\n",
       "      <th>53</th>\n",
       "      <td>5.5</td>\n",
       "      <td>2.3</td>\n",
       "      <td>4.0</td>\n",
       "      <td>1.3</td>\n",
       "    </tr>\n",
       "    <tr>\n",
       "      <th>69</th>\n",
       "      <td>5.6</td>\n",
       "      <td>2.5</td>\n",
       "      <td>3.9</td>\n",
       "      <td>1.1</td>\n",
       "    </tr>\n",
       "    <tr>\n",
       "      <th>20</th>\n",
       "      <td>5.4</td>\n",
       "      <td>3.4</td>\n",
       "      <td>1.7</td>\n",
       "      <td>0.2</td>\n",
       "    </tr>\n",
       "    <tr>\n",
       "      <th>141</th>\n",
       "      <td>6.9</td>\n",
       "      <td>3.1</td>\n",
       "      <td>5.1</td>\n",
       "      <td>2.3</td>\n",
       "    </tr>\n",
       "    <tr>\n",
       "      <th>14</th>\n",
       "      <td>5.8</td>\n",
       "      <td>4.0</td>\n",
       "      <td>1.2</td>\n",
       "      <td>0.2</td>\n",
       "    </tr>\n",
       "    <tr>\n",
       "      <th>38</th>\n",
       "      <td>4.4</td>\n",
       "      <td>3.0</td>\n",
       "      <td>1.3</td>\n",
       "      <td>0.2</td>\n",
       "    </tr>\n",
       "    <tr>\n",
       "      <th>108</th>\n",
       "      <td>6.7</td>\n",
       "      <td>2.5</td>\n",
       "      <td>5.8</td>\n",
       "      <td>1.8</td>\n",
       "    </tr>\n",
       "    <tr>\n",
       "      <th>116</th>\n",
       "      <td>6.5</td>\n",
       "      <td>3.0</td>\n",
       "      <td>5.5</td>\n",
       "      <td>1.8</td>\n",
       "    </tr>\n",
       "    <tr>\n",
       "      <th>28</th>\n",
       "      <td>5.2</td>\n",
       "      <td>3.4</td>\n",
       "      <td>1.4</td>\n",
       "      <td>0.2</td>\n",
       "    </tr>\n",
       "    <tr>\n",
       "      <th>148</th>\n",
       "      <td>6.2</td>\n",
       "      <td>3.4</td>\n",
       "      <td>5.4</td>\n",
       "      <td>2.3</td>\n",
       "    </tr>\n",
       "    <tr>\n",
       "      <th>57</th>\n",
       "      <td>4.9</td>\n",
       "      <td>2.4</td>\n",
       "      <td>3.3</td>\n",
       "      <td>1.0</td>\n",
       "    </tr>\n",
       "    <tr>\n",
       "      <th>10</th>\n",
       "      <td>5.4</td>\n",
       "      <td>3.7</td>\n",
       "      <td>1.5</td>\n",
       "      <td>0.2</td>\n",
       "    </tr>\n",
       "    <tr>\n",
       "      <th>23</th>\n",
       "      <td>5.1</td>\n",
       "      <td>3.3</td>\n",
       "      <td>1.7</td>\n",
       "      <td>0.5</td>\n",
       "    </tr>\n",
       "    <tr>\n",
       "      <th>18</th>\n",
       "      <td>5.7</td>\n",
       "      <td>3.8</td>\n",
       "      <td>1.7</td>\n",
       "      <td>0.3</td>\n",
       "    </tr>\n",
       "    <tr>\n",
       "      <th>97</th>\n",
       "      <td>6.2</td>\n",
       "      <td>2.9</td>\n",
       "      <td>4.3</td>\n",
       "      <td>1.3</td>\n",
       "    </tr>\n",
       "    <tr>\n",
       "      <th>7</th>\n",
       "      <td>5.0</td>\n",
       "      <td>3.4</td>\n",
       "      <td>1.5</td>\n",
       "      <td>0.2</td>\n",
       "    </tr>\n",
       "    <tr>\n",
       "      <th>75</th>\n",
       "      <td>6.6</td>\n",
       "      <td>3.0</td>\n",
       "      <td>4.4</td>\n",
       "      <td>1.4</td>\n",
       "    </tr>\n",
       "    <tr>\n",
       "      <th>104</th>\n",
       "      <td>6.5</td>\n",
       "      <td>3.0</td>\n",
       "      <td>5.8</td>\n",
       "      <td>2.2</td>\n",
       "    </tr>\n",
       "    <tr>\n",
       "      <th>138</th>\n",
       "      <td>6.0</td>\n",
       "      <td>3.0</td>\n",
       "      <td>4.8</td>\n",
       "      <td>1.8</td>\n",
       "    </tr>\n",
       "    <tr>\n",
       "      <th>51</th>\n",
       "      <td>6.4</td>\n",
       "      <td>3.2</td>\n",
       "      <td>4.5</td>\n",
       "      <td>1.5</td>\n",
       "    </tr>\n",
       "    <tr>\n",
       "      <th>84</th>\n",
       "      <td>5.4</td>\n",
       "      <td>3.0</td>\n",
       "      <td>4.5</td>\n",
       "      <td>1.5</td>\n",
       "    </tr>\n",
       "    <tr>\n",
       "      <th>93</th>\n",
       "      <td>5.0</td>\n",
       "      <td>2.3</td>\n",
       "      <td>3.3</td>\n",
       "      <td>1.0</td>\n",
       "    </tr>\n",
       "    <tr>\n",
       "      <th>66</th>\n",
       "      <td>5.6</td>\n",
       "      <td>3.0</td>\n",
       "      <td>4.5</td>\n",
       "      <td>1.5</td>\n",
       "    </tr>\n",
       "    <tr>\n",
       "      <th>35</th>\n",
       "      <td>5.0</td>\n",
       "      <td>3.2</td>\n",
       "      <td>1.2</td>\n",
       "      <td>0.2</td>\n",
       "    </tr>\n",
       "    <tr>\n",
       "      <th>134</th>\n",
       "      <td>6.1</td>\n",
       "      <td>2.6</td>\n",
       "      <td>5.6</td>\n",
       "      <td>1.4</td>\n",
       "    </tr>\n",
       "    <tr>\n",
       "      <th>132</th>\n",
       "      <td>6.4</td>\n",
       "      <td>2.8</td>\n",
       "      <td>5.6</td>\n",
       "      <td>2.2</td>\n",
       "    </tr>\n",
       "    <tr>\n",
       "      <th>85</th>\n",
       "      <td>6.0</td>\n",
       "      <td>3.4</td>\n",
       "      <td>4.5</td>\n",
       "      <td>1.6</td>\n",
       "    </tr>\n",
       "    <tr>\n",
       "      <th>49</th>\n",
       "      <td>5.0</td>\n",
       "      <td>3.3</td>\n",
       "      <td>1.4</td>\n",
       "      <td>0.2</td>\n",
       "    </tr>\n",
       "    <tr>\n",
       "      <th>111</th>\n",
       "      <td>6.4</td>\n",
       "      <td>2.7</td>\n",
       "      <td>5.3</td>\n",
       "      <td>1.9</td>\n",
       "    </tr>\n",
       "    <tr>\n",
       "      <th>40</th>\n",
       "      <td>5.0</td>\n",
       "      <td>3.5</td>\n",
       "      <td>1.3</td>\n",
       "      <td>0.3</td>\n",
       "    </tr>\n",
       "    <tr>\n",
       "      <th>42</th>\n",
       "      <td>4.4</td>\n",
       "      <td>3.2</td>\n",
       "      <td>1.3</td>\n",
       "      <td>0.2</td>\n",
       "    </tr>\n",
       "    <tr>\n",
       "      <th>2</th>\n",
       "      <td>4.7</td>\n",
       "      <td>3.2</td>\n",
       "      <td>1.3</td>\n",
       "      <td>0.2</td>\n",
       "    </tr>\n",
       "    <tr>\n",
       "      <th>43</th>\n",
       "      <td>5.0</td>\n",
       "      <td>3.5</td>\n",
       "      <td>1.6</td>\n",
       "      <td>0.6</td>\n",
       "    </tr>\n",
       "    <tr>\n",
       "      <th>77</th>\n",
       "      <td>6.7</td>\n",
       "      <td>3.0</td>\n",
       "      <td>5.0</td>\n",
       "      <td>1.7</td>\n",
       "    </tr>\n",
       "    <tr>\n",
       "      <th>55</th>\n",
       "      <td>5.7</td>\n",
       "      <td>2.8</td>\n",
       "      <td>4.5</td>\n",
       "      <td>1.3</td>\n",
       "    </tr>\n",
       "    <tr>\n",
       "      <th>22</th>\n",
       "      <td>4.6</td>\n",
       "      <td>3.6</td>\n",
       "      <td>1.0</td>\n",
       "      <td>0.2</td>\n",
       "    </tr>\n",
       "    <tr>\n",
       "      <th>106</th>\n",
       "      <td>4.9</td>\n",
       "      <td>2.5</td>\n",
       "      <td>4.5</td>\n",
       "      <td>1.7</td>\n",
       "    </tr>\n",
       "    <tr>\n",
       "      <th>147</th>\n",
       "      <td>6.5</td>\n",
       "      <td>3.0</td>\n",
       "      <td>5.2</td>\n",
       "      <td>2.0</td>\n",
       "    </tr>\n",
       "    <tr>\n",
       "      <th>58</th>\n",
       "      <td>6.6</td>\n",
       "      <td>2.9</td>\n",
       "      <td>4.6</td>\n",
       "      <td>1.3</td>\n",
       "    </tr>\n",
       "  </tbody>\n",
       "</table>\n",
       "</div>"
      ],
      "text/plain": [
       "     sepal length (cm)  sepal width (cm)  petal length (cm)  petal width (cm)\n",
       "107                7.3               2.9                6.3               1.8\n",
       "63                 6.1               2.9                4.7               1.4\n",
       "133                6.3               2.8                5.1               1.5\n",
       "56                 6.3               3.3                4.7               1.6\n",
       "127                6.1               3.0                4.9               1.8\n",
       "140                6.7               3.1                5.6               2.4\n",
       "53                 5.5               2.3                4.0               1.3\n",
       "69                 5.6               2.5                3.9               1.1\n",
       "20                 5.4               3.4                1.7               0.2\n",
       "141                6.9               3.1                5.1               2.3\n",
       "14                 5.8               4.0                1.2               0.2\n",
       "38                 4.4               3.0                1.3               0.2\n",
       "108                6.7               2.5                5.8               1.8\n",
       "116                6.5               3.0                5.5               1.8\n",
       "28                 5.2               3.4                1.4               0.2\n",
       "148                6.2               3.4                5.4               2.3\n",
       "57                 4.9               2.4                3.3               1.0\n",
       "10                 5.4               3.7                1.5               0.2\n",
       "23                 5.1               3.3                1.7               0.5\n",
       "18                 5.7               3.8                1.7               0.3\n",
       "97                 6.2               2.9                4.3               1.3\n",
       "7                  5.0               3.4                1.5               0.2\n",
       "75                 6.6               3.0                4.4               1.4\n",
       "104                6.5               3.0                5.8               2.2\n",
       "138                6.0               3.0                4.8               1.8\n",
       "51                 6.4               3.2                4.5               1.5\n",
       "84                 5.4               3.0                4.5               1.5\n",
       "93                 5.0               2.3                3.3               1.0\n",
       "66                 5.6               3.0                4.5               1.5\n",
       "35                 5.0               3.2                1.2               0.2\n",
       "134                6.1               2.6                5.6               1.4\n",
       "132                6.4               2.8                5.6               2.2\n",
       "85                 6.0               3.4                4.5               1.6\n",
       "49                 5.0               3.3                1.4               0.2\n",
       "111                6.4               2.7                5.3               1.9\n",
       "40                 5.0               3.5                1.3               0.3\n",
       "42                 4.4               3.2                1.3               0.2\n",
       "2                  4.7               3.2                1.3               0.2\n",
       "43                 5.0               3.5                1.6               0.6\n",
       "77                 6.7               3.0                5.0               1.7\n",
       "55                 5.7               2.8                4.5               1.3\n",
       "22                 4.6               3.6                1.0               0.2\n",
       "106                4.9               2.5                4.5               1.7\n",
       "147                6.5               3.0                5.2               2.0\n",
       "58                 6.6               2.9                4.6               1.3"
      ]
     },
     "execution_count": 128,
     "metadata": {},
     "output_type": "execute_result"
    }
   ],
   "source": [
    "x_test"
   ]
  },
  {
   "cell_type": "markdown",
   "id": "dd3b80cb",
   "metadata": {},
   "source": [
    "### 데이터의 불균형 문제 처리\n",
    "- 정상을 정확하게 분류하는 것과 이상을 정확하게 분류하는 것 중 일반적으로 이상을 정확하게 분류하는 것이 중요\n",
    "- 보통 이상 데이터가 tarfet으로 사용하는 경우가 많다\n",
    "- 데이터가 불균형할 떄는 분류의 성능과 tarfet 데이터를 정확하게 분류해내는 목표가 일치하지 않는 경우가 많다\n",
    "- 분석 결과 해석뿐 아니라 머신러닝 모델에서의 문제 발생 가능\n",
    "- 소수의 데이터인 target의 중요도를 낮게 판단해 분석 가능한 모델이 생성되지X\n",
    "- 소수의 데이터를 늘려주는 방법 -> 오버샘플링\n",
    "- 상대적으로 많은 데이터에서 일부만 사용하는 방법 -> 언더샘플링 "
   ]
  },
  {
   "cell_type": "code",
   "execution_count": null,
   "id": "193a6d04",
   "metadata": {},
   "outputs": [
    {
     "name": "stdout",
     "output_type": "stream",
     "text": [
      "Collecting imbalanced-learn\n",
      "  Downloading imbalanced_learn-0.12.4-py3-none-any.whl.metadata (8.3 kB)\n",
      "Requirement already satisfied: numpy>=1.17.3 in c:\\users\\toqha\\appdata\\local\\programs\\python\\python39\\lib\\site-packages (from imbalanced-learn) (2.0.2)\n",
      "Requirement already satisfied: scipy>=1.5.0 in c:\\users\\toqha\\appdata\\local\\programs\\python\\python39\\lib\\site-packages (from imbalanced-learn) (1.13.1)\n",
      "Requirement already satisfied: scikit-learn>=1.0.2 in c:\\users\\toqha\\appdata\\local\\programs\\python\\python39\\lib\\site-packages (from imbalanced-learn) (1.5.2)\n",
      "Requirement already satisfied: joblib>=1.1.1 in c:\\users\\toqha\\appdata\\local\\programs\\python\\python39\\lib\\site-packages (from imbalanced-learn) (1.5.1)\n",
      "Requirement already satisfied: threadpoolctl>=2.0.0 in c:\\users\\toqha\\appdata\\local\\programs\\python\\python39\\lib\\site-packages (from imbalanced-learn) (3.6.0)\n",
      "Downloading imbalanced_learn-0.12.4-py3-none-any.whl (258 kB)\n",
      "Installing collected packages: imbalanced-learn\n",
      "Successfully installed imbalanced-learn-0.12.4\n"
     ]
    }
   ],
   "source": [
    "# 라이브러리 설치\n",
    "# !pip install imbalanced-learn"
   ]
  },
  {
   "cell_type": "markdown",
   "id": "2e7d4a5a",
   "metadata": {},
   "source": [
    "### 언더샘플링\n",
    "- 다수의 라벨을 가진 데이터를 샘플링해 소수의 데이터셋의 라벨의 수 기준으로 감소시키는 방법\n",
    "- 이 기법은 데이터 불균형 문제의 해결 가능하지만, 데이터 개수가 줄어들어서 학습 성능 저하 가능"
   ]
  },
  {
   "cell_type": "code",
   "execution_count": 158,
   "id": "6c5417da",
   "metadata": {},
   "outputs": [],
   "source": [
    "from sklearn.datasets import make_classification\n",
    "from collections import Counter\n",
    "from imblearn.under_sampling import RandomUnderSampler"
   ]
  },
  {
   "cell_type": "code",
   "execution_count": 131,
   "id": "dc286e85",
   "metadata": {},
   "outputs": [],
   "source": [
    "# 랜덤 데이터셋 생성\n",
    "# 90 : 10 비율 데이터 생성\n",
    "x, y = make_classification(\n",
    "    n_samples=2000,\n",
    "    n_features=5,\n",
    "    weights=[0.9],\n",
    "    flip_y=0\n",
    ")"
   ]
  },
  {
   "cell_type": "code",
   "execution_count": 146,
   "id": "7dbf0040",
   "metadata": {},
   "outputs": [
    {
     "data": {
      "text/plain": [
       "array([[-1.58134158,  1.50270891, -1.01821672, -1.07254142,  0.32267818],\n",
       "       [ 1.57466433, -0.11012232,  1.36878655, -0.56067629, -0.20816375],\n",
       "       [ 0.72503893,  0.53577274, -0.00306737, -0.94720779, -0.04797577],\n",
       "       ...,\n",
       "       [ 1.74859807, -0.36151959, -1.27926667, -0.341533  , -0.25068445],\n",
       "       [ 0.38808984,  0.30037815, -0.6765648 , -0.52298394, -0.02457007],\n",
       "       [-0.01025643,  0.8368816 ,  0.98902061, -0.97875386,  0.06960774]])"
      ]
     },
     "execution_count": 146,
     "metadata": {},
     "output_type": "execute_result"
    }
   ],
   "source": [
    "x"
   ]
  },
  {
   "cell_type": "code",
   "execution_count": 136,
   "id": "cf2b1f3d",
   "metadata": {},
   "outputs": [
    {
     "data": {
      "text/plain": [
       "Counter({np.int64(0): 1801, np.int64(1): 199})"
      ]
     },
     "execution_count": 136,
     "metadata": {},
     "output_type": "execute_result"
    }
   ],
   "source": [
    "Counter(y)"
   ]
  },
  {
   "cell_type": "code",
   "execution_count": null,
   "id": "e7a6d15a",
   "metadata": {},
   "outputs": [],
   "source": [
    "# 랜덤 언더샘플링이라는 class 생성\n",
    "undersample = RandomUnderSampler()"
   ]
  },
  {
   "cell_type": "code",
   "execution_count": null,
   "id": "62ed4b25",
   "metadata": {},
   "outputs": [],
   "source": [
    "# fit_resample()\n",
    "x_under, y_under = undersample.fit_resample(x, y)"
   ]
  },
  {
   "cell_type": "code",
   "execution_count": 149,
   "id": "f94b3e2c",
   "metadata": {},
   "outputs": [
    {
     "data": {
      "text/plain": [
       "Counter({np.int64(0): 199, np.int64(1): 199})"
      ]
     },
     "execution_count": 149,
     "metadata": {},
     "output_type": "execute_result"
    }
   ],
   "source": [
    "Counter(y_under)"
   ]
  },
  {
   "cell_type": "code",
   "execution_count": null,
   "id": "b30e1a39",
   "metadata": {},
   "outputs": [],
   "source": [
    "# class 생성시 인자의 값 대입\n",
    "# sampling_strategy : 소수의 데이터의 비율을 지정하여 다수의 데이터 개수 정해줌\n",
    "undersample2 = RandomUnderSampler(\n",
    "    sampling_strategy=0.5\t\t# 소수 데이터의 비율\n",
    ")"
   ]
  },
  {
   "cell_type": "code",
   "execution_count": 151,
   "id": "d2014790",
   "metadata": {},
   "outputs": [
    {
     "data": {
      "text/plain": [
       "Counter({np.int64(0): 398, np.int64(1): 199})"
      ]
     },
     "execution_count": 151,
     "metadata": {},
     "output_type": "execute_result"
    }
   ],
   "source": [
    "x_under2, y_under2 = undersample2.fit_resample(x, y)\n",
    "Counter(y_under2)"
   ]
  },
  {
   "cell_type": "markdown",
   "id": "1dba713d",
   "metadata": {},
   "source": [
    "### 오버샘플링\n",
    "- 소수의 데이터를 다수의 데이터 개수만큼 증식시켜 학습에 사용하기 위한 방법\n",
    "- 데이터 손실이 없어 일반적으로 언더샘플링에 비해 유리하기 때문에 사용\n",
    "\n",
    "### 랜덤 오버샘플링\n",
    "- 소수의 데이터를 단순 복제하여 다수의 데이터 개수와 비율을 맞춰줌\n",
    "- "
   ]
  },
  {
   "cell_type": "code",
   "execution_count": 159,
   "id": "28a3c0f9",
   "metadata": {},
   "outputs": [],
   "source": [
    "from imblearn.over_sampling import RandomOverSampler"
   ]
  },
  {
   "cell_type": "code",
   "execution_count": 160,
   "id": "327cb79b",
   "metadata": {},
   "outputs": [],
   "source": [
    "oversample = RandomOverSampler()"
   ]
  },
  {
   "cell_type": "code",
   "execution_count": 161,
   "id": "a6dbb069",
   "metadata": {},
   "outputs": [],
   "source": [
    "x_over, y_over = oversample.fit_resample(x, y)"
   ]
  },
  {
   "cell_type": "code",
   "execution_count": 162,
   "id": "6289a3d8",
   "metadata": {},
   "outputs": [
    {
     "data": {
      "text/plain": [
       "Counter({np.int64(0): 1801, np.int64(1): 1801})"
      ]
     },
     "execution_count": 162,
     "metadata": {},
     "output_type": "execute_result"
    }
   ],
   "source": [
    "Counter(y_over)"
   ]
  },
  {
   "cell_type": "code",
   "execution_count": 163,
   "id": "493310a9",
   "metadata": {},
   "outputs": [],
   "source": [
    "oversample2 = RandomOverSampler(\n",
    "    sampling_strategy=0.5\n",
    ")"
   ]
  },
  {
   "cell_type": "code",
   "execution_count": 164,
   "id": "3be83361",
   "metadata": {},
   "outputs": [
    {
     "data": {
      "text/plain": [
       "Counter({np.int64(0): 1801, np.int64(1): 900})"
      ]
     },
     "execution_count": 164,
     "metadata": {},
     "output_type": "execute_result"
    }
   ],
   "source": [
    "x_over2, y_over2 = oversample2.fit_resample(x, y)\n",
    "Counter(y_over2)"
   ]
  },
  {
   "cell_type": "markdown",
   "id": "dbe25ff4",
   "metadata": {},
   "source": [
    "### SMOTE\n",
    "- 소수의 데이터 관측값에 대한 K개의 최근접 이웃을 찾고 관측값과 이웃으로 선택된 값 사이에 임의의 데이터 생성"
   ]
  },
  {
   "cell_type": "code",
   "execution_count": 165,
   "id": "1d72d9b5",
   "metadata": {},
   "outputs": [],
   "source": [
    "from imblearn.over_sampling import SMOTE"
   ]
  },
  {
   "cell_type": "code",
   "execution_count": 166,
   "id": "6a274d7d",
   "metadata": {},
   "outputs": [],
   "source": [
    "smote_sample = SMOTE()"
   ]
  },
  {
   "cell_type": "code",
   "execution_count": 169,
   "id": "a6336531",
   "metadata": {},
   "outputs": [],
   "source": [
    "x_sm, y_sm = smote_sample.fit_resample(x, y)"
   ]
  },
  {
   "cell_type": "code",
   "execution_count": 170,
   "id": "f808257d",
   "metadata": {},
   "outputs": [
    {
     "data": {
      "text/plain": [
       "Counter({np.int64(0): 1801, np.int64(1): 1801})"
      ]
     },
     "execution_count": 170,
     "metadata": {},
     "output_type": "execute_result"
    }
   ],
   "source": [
    "Counter(y_sm)"
   ]
  },
  {
   "cell_type": "code",
   "execution_count": null,
   "id": "caf72504",
   "metadata": {},
   "outputs": [],
   "source": []
  }
 ],
 "metadata": {
  "kernelspec": {
   "display_name": "Python 3",
   "language": "python",
   "name": "python3"
  },
  "language_info": {
   "codemirror_mode": {
    "name": "ipython",
    "version": 3
   },
   "file_extension": ".py",
   "mimetype": "text/x-python",
   "name": "python",
   "nbconvert_exporter": "python",
   "pygments_lexer": "ipython3",
   "version": "3.9.13"
  }
 },
 "nbformat": 4,
 "nbformat_minor": 5
}
