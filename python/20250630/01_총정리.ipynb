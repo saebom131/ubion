{
 "cells": [
  {
   "cell_type": "markdown",
   "id": "37c6dd8d",
   "metadata": {},
   "source": [
    "# 변수\n",
    "- 데이터를 저장하는 공간의 이름 (라벨링)\n",
    "\t- 데이터의 타입\n",
    "\t\t- 단일 데이터의 타입\n",
    "\t\t\t- 문자형\n",
    "\t\t\t- 숫자형\n",
    "\t\t\t- bool형\n",
    "\t\t- n차원 데이터\n",
    "\t\t\t- 튜플\n",
    "\t\t\t- 리스트\n",
    "\t\t\t- 딕셔너리\n",
    "- 변수의 종류\n",
    "\t- 전역변수\n",
    "\t\t- 어디서든 사용 가능한 변수\n",
    "\t- 지역변수\n",
    "\t\t- 특정 영역에서만 사용 가능한 변수\n",
    "\t\t- 함수 내부에서 생성된 변수, 매개변수\n",
    "\t- 매개변수\n",
    "\t\t- 함수를 생성할때 입력값(인자)을 받아오기 위해 미리 만들어두는 공간의 이름\n",
    "\t\t- 기본값을 지정하면 인자를 따로 받지 않더라도 실행 가능\n",
    "\t\t- 인자의 개수가 가변인 경우에는 매개변수면 앞에 *를 붙여 변수 생성\n",
    "\t\t- 함수를 호출할때 리스트 형태의 데이터를 가변의 인자로 변경할 때 데이터 앞에 *를 붙이면 인자가 가변인 형태로 함수 실행\n",
    "\t- self 변수\n",
    "\t\t- 클래스 내부에서 사용 가능한 변수\n",
    "\t\t\t- 독립적인 변수의 의미는?\n",
    "\t\t\t\t- 같은 클래스를 여러 군데에서 사용하더라도, 각각의 독립적인 데이터를 가짐\n",
    "\t\t- 클래스 내부에서 self.변수명 이용해 생성\n",
    "\t- 클래스 변수\n",
    "\t\t- 동일한 클래스를 생성했을 때 공유가 가능한 변수\n",
    "\t\t- 클래스 내부에서 self. 붙이지 않은 변수\n",
    "\t\t- 클래스 변수의 데이터를 변경하려면 class명.변수명으로 변수를 선택해 데이터 변경"
   ]
  },
  {
   "cell_type": "code",
   "execution_count": 1,
   "id": "938e8f3e",
   "metadata": {},
   "outputs": [
    {
     "name": "stdout",
     "output_type": "stream",
     "text": [
      "test\n"
     ]
    }
   ],
   "source": [
    "# 전역변수 생성\n",
    "val_1 = 'test'\n",
    "print(val_1)"
   ]
  },
  {
   "cell_type": "code",
   "execution_count": 2,
   "id": "8587c71a",
   "metadata": {},
   "outputs": [],
   "source": [
    "# 지역변수 생성 (함수 내부에)\n",
    "def func_1():\n",
    "    var_2 = 1234\n",
    "    # 지역변수를 함수 내부에서 호출\n",
    "    print(var_2)"
   ]
  },
  {
   "cell_type": "code",
   "execution_count": 4,
   "id": "7f50404a",
   "metadata": {},
   "outputs": [
    {
     "name": "stdout",
     "output_type": "stream",
     "text": [
      "1234\n"
     ]
    }
   ],
   "source": [
    "func_1()"
   ]
  },
  {
   "cell_type": "code",
   "execution_count": null,
   "id": "53cbbd41",
   "metadata": {},
   "outputs": [],
   "source": [
    "# 지역변수는 함수 외부에서 호출 불가능\n",
    "# print(var_2)\n",
    "# 지역변수는 해당 함수의 호출이 끝나면 메모리에서 제거\n",
    "# 이유 -> 메모리를 효율적으로 사용하기 위함"
   ]
  },
  {
   "cell_type": "code",
   "execution_count": 7,
   "id": "4b090632",
   "metadata": {},
   "outputs": [],
   "source": [
    "# 함수의 매개변수 생성\n",
    "def func_2(_x, _y):\n",
    "    # 매개변수 2개 -> 함수를 호출할때 입력값을 받아 결과를 생성하기 위함\n",
    "    result = _x + _y\n",
    "    # result -> 함수 내부에서 생성한 변수 : 지역변수\n",
    "    return result\n",
    "# return의 역할 -> 데이터를 되돌려주는 기능\n",
    "# 함수의 결과 저장 위함"
   ]
  },
  {
   "cell_type": "code",
   "execution_count": null,
   "id": "13029f37",
   "metadata": {},
   "outputs": [
    {
     "data": {
      "text/plain": [
       "15"
      ]
     },
     "execution_count": 8,
     "metadata": {},
     "output_type": "execute_result"
    }
   ],
   "source": [
    "# 함수 호출시 매개변수 개수와 인자 개수를 일치 : 일반적인 경우\n",
    "func_2(10, 5)"
   ]
  },
  {
   "cell_type": "code",
   "execution_count": null,
   "id": "8e7531af",
   "metadata": {},
   "outputs": [
    {
     "name": "stdout",
     "output_type": "stream",
     "text": [
      "1234\n"
     ]
    }
   ],
   "source": [
    "# return이있는 함수와 없는 함수의 차이\n",
    "func_1_result = func_1()\t\t# print 구문이 있으므로 결과 출력\n",
    "func_2_result = func_2(1, 3)\t# return 구문은 결과 따로 출력X"
   ]
  },
  {
   "cell_type": "code",
   "execution_count": null,
   "id": "26bd4bf2",
   "metadata": {},
   "outputs": [
    {
     "name": "stdout",
     "output_type": "stream",
     "text": [
      "None\n",
      "4\n"
     ]
    }
   ],
   "source": [
    "print(func_1_result)\n",
    "# func_1_result -> return 데이터가 존재하지 않는 함수를 호출했기 때문에 변수에 저장되는 데이터X\n",
    "print(func_2_result)\n",
    "# func_2_result -> return 데이터가 존재하기 때문에 변수에 해당 데이터가 저장"
   ]
  },
  {
   "cell_type": "code",
   "execution_count": 11,
   "id": "abb08514",
   "metadata": {},
   "outputs": [],
   "source": [
    "# 전역변수 생성 방법 -> globals()를 이용해 전역변수 생성\n",
    "# 이 방법은 반복문을 이용해 반복실행 될 때마다 전역변수를 생성할 때 사용\n",
    "# globals() -> 데이터 타입은 dict\n",
    "\t# 특정 변수 이름을 추가할 때는 dict에 key:value를 추가하는 것처럼 사용\n",
    "for i in range(5):\n",
    "    # 전역변수를 생성해 i의 값을 전역변수에 대입\n",
    "    globals()[f'for_var_{i}'] = i"
   ]
  },
  {
   "cell_type": "code",
   "execution_count": 12,
   "id": "b7c2d73f",
   "metadata": {},
   "outputs": [
    {
     "data": {
      "text/plain": [
       "0"
      ]
     },
     "execution_count": 12,
     "metadata": {},
     "output_type": "execute_result"
    }
   ],
   "source": [
    "for_var_0"
   ]
  },
  {
   "cell_type": "code",
   "execution_count": 13,
   "id": "72dbceb4",
   "metadata": {},
   "outputs": [
    {
     "data": {
      "text/plain": [
       "3"
      ]
     },
     "execution_count": 13,
     "metadata": {},
     "output_type": "execute_result"
    }
   ],
   "source": [
    "for_var_3"
   ]
  },
  {
   "cell_type": "markdown",
   "id": "041a2eac",
   "metadata": {},
   "source": [
    "# 제어문\n",
    "- 조건문\n",
    "\t- if ~ else문\n",
    "\t\t- if 조건식 : 참인 경우 코드\n",
    "\t\t- else : 거짓인 경우 코드\n",
    "- 반복문\n",
    "\t- for문\n",
    "\t\t- for 변수명 in range(시작값, 종료값, 증감값)\n",
    "\t\t- for 변수명 in n차원 데이터명\n",
    "\t- while문\n",
    "\t\t- while 조건식 : 반복 실행할 코드 \\ln 증감식\n",
    "\t- conntinue\n",
    "\t\t- 반복문으로 되돌아간다\n",
    "\t\t- continue 밑의 코드들을 무시\n",
    "\t- break\n",
    "\t\t- 반복문을 강제로 종료\n"
   ]
  },
  {
   "cell_type": "markdown",
   "id": "52a65aac",
   "metadata": {},
   "source": [
    "# 경로\n",
    "- 절대경로\n",
    "\t- 절대적인 주솟값\n",
    "\t- 환경이 변하더라도 같은 위치를 의미\n",
    "\t\t- (ex)\n",
    "\t\t\t- window : c:/users/admin/document/a.txt\n",
    "\t\t\t- max : ~/user/user_name/Desktop/a.txt\n",
    "\t\t\t- web : https://www.google.com\n",
    "- 상대경로\n",
    "\t- 상대적인 주솟값\n",
    "\t- 환경이 변할 때 위치도 변하는 것을 의미\n",
    "\t\t- ./ : 현재 작업중인 공간\n",
    "\t\t- ../ : 상위 디렉토리로 이동\n",
    "\t\t- 폴더명/ : 하위 디렉토리로 이동"
   ]
  },
  {
   "cell_type": "code",
   "execution_count": 15,
   "id": "e700fcbe",
   "metadata": {},
   "outputs": [],
   "source": [
    "import pandas as pd"
   ]
  },
  {
   "cell_type": "code",
   "execution_count": null,
   "id": "3f435524",
   "metadata": {},
   "outputs": [],
   "source": [
    "# 절대경로 이용해 파일 로드\n",
    "df = pd.read_csv(r'C:\\ubion\\csv\\AAPL.csv')"
   ]
  },
  {
   "cell_type": "code",
   "execution_count": 17,
   "id": "f8dbafc3",
   "metadata": {},
   "outputs": [],
   "source": [
    "# 상대경로 이용해 파일 로드\n",
    "df2 = pd.read_csv('../../csv/AAPL.csv')"
   ]
  },
  {
   "cell_type": "code",
   "execution_count": 18,
   "id": "2021ec41",
   "metadata": {},
   "outputs": [
    {
     "data": {
      "text/html": [
       "<div>\n",
       "<style scoped>\n",
       "    .dataframe tbody tr th:only-of-type {\n",
       "        vertical-align: middle;\n",
       "    }\n",
       "\n",
       "    .dataframe tbody tr th {\n",
       "        vertical-align: top;\n",
       "    }\n",
       "\n",
       "    .dataframe thead th {\n",
       "        text-align: right;\n",
       "    }\n",
       "</style>\n",
       "<table border=\"1\" class=\"dataframe\">\n",
       "  <thead>\n",
       "    <tr style=\"text-align: right;\">\n",
       "      <th></th>\n",
       "      <th>Date</th>\n",
       "      <th>Open</th>\n",
       "      <th>High</th>\n",
       "      <th>Low</th>\n",
       "      <th>Close</th>\n",
       "      <th>Adj Close</th>\n",
       "      <th>Volume</th>\n",
       "    </tr>\n",
       "  </thead>\n",
       "  <tbody>\n",
       "    <tr>\n",
       "      <th>0</th>\n",
       "      <td>1980-12-12</td>\n",
       "      <td>0.513393</td>\n",
       "      <td>0.515625</td>\n",
       "      <td>0.513393</td>\n",
       "      <td>0.513393</td>\n",
       "      <td>0.410525</td>\n",
       "      <td>117258400.0</td>\n",
       "    </tr>\n",
       "    <tr>\n",
       "      <th>1</th>\n",
       "      <td>1980-12-15</td>\n",
       "      <td>0.488839</td>\n",
       "      <td>0.488839</td>\n",
       "      <td>0.486607</td>\n",
       "      <td>0.486607</td>\n",
       "      <td>0.389106</td>\n",
       "      <td>43971200.0</td>\n",
       "    </tr>\n",
       "    <tr>\n",
       "      <th>2</th>\n",
       "      <td>1980-12-16</td>\n",
       "      <td>0.453125</td>\n",
       "      <td>0.453125</td>\n",
       "      <td>0.450893</td>\n",
       "      <td>0.450893</td>\n",
       "      <td>0.360548</td>\n",
       "      <td>26432000.0</td>\n",
       "    </tr>\n",
       "    <tr>\n",
       "      <th>3</th>\n",
       "      <td>1980-12-17</td>\n",
       "      <td>0.462054</td>\n",
       "      <td>0.464286</td>\n",
       "      <td>0.462054</td>\n",
       "      <td>0.462054</td>\n",
       "      <td>0.369472</td>\n",
       "      <td>21610400.0</td>\n",
       "    </tr>\n",
       "    <tr>\n",
       "      <th>4</th>\n",
       "      <td>1980-12-18</td>\n",
       "      <td>0.475446</td>\n",
       "      <td>0.477679</td>\n",
       "      <td>0.475446</td>\n",
       "      <td>0.475446</td>\n",
       "      <td>0.380182</td>\n",
       "      <td>18362400.0</td>\n",
       "    </tr>\n",
       "    <tr>\n",
       "      <th>...</th>\n",
       "      <td>...</td>\n",
       "      <td>...</td>\n",
       "      <td>...</td>\n",
       "      <td>...</td>\n",
       "      <td>...</td>\n",
       "      <td>...</td>\n",
       "      <td>...</td>\n",
       "    </tr>\n",
       "    <tr>\n",
       "      <th>9710</th>\n",
       "      <td>2019-06-18</td>\n",
       "      <td>196.050003</td>\n",
       "      <td>200.289993</td>\n",
       "      <td>195.210007</td>\n",
       "      <td>198.449997</td>\n",
       "      <td>198.449997</td>\n",
       "      <td>26551000.0</td>\n",
       "    </tr>\n",
       "    <tr>\n",
       "      <th>9711</th>\n",
       "      <td>2019-06-19</td>\n",
       "      <td>199.679993</td>\n",
       "      <td>199.880005</td>\n",
       "      <td>197.309998</td>\n",
       "      <td>197.869995</td>\n",
       "      <td>197.869995</td>\n",
       "      <td>21124200.0</td>\n",
       "    </tr>\n",
       "    <tr>\n",
       "      <th>9712</th>\n",
       "      <td>2019-06-20</td>\n",
       "      <td>200.369995</td>\n",
       "      <td>200.610001</td>\n",
       "      <td>198.029999</td>\n",
       "      <td>199.460007</td>\n",
       "      <td>199.460007</td>\n",
       "      <td>21514000.0</td>\n",
       "    </tr>\n",
       "    <tr>\n",
       "      <th>9713</th>\n",
       "      <td>2019-06-21</td>\n",
       "      <td>198.800003</td>\n",
       "      <td>200.850006</td>\n",
       "      <td>198.149994</td>\n",
       "      <td>198.779999</td>\n",
       "      <td>198.779999</td>\n",
       "      <td>47735300.0</td>\n",
       "    </tr>\n",
       "    <tr>\n",
       "      <th>9714</th>\n",
       "      <td>2019-06-24</td>\n",
       "      <td>198.539993</td>\n",
       "      <td>200.160004</td>\n",
       "      <td>198.169998</td>\n",
       "      <td>199.169998</td>\n",
       "      <td>199.169998</td>\n",
       "      <td>9025362.0</td>\n",
       "    </tr>\n",
       "  </tbody>\n",
       "</table>\n",
       "<p>9715 rows × 7 columns</p>\n",
       "</div>"
      ],
      "text/plain": [
       "            Date        Open        High         Low       Close   Adj Close  \\\n",
       "0     1980-12-12    0.513393    0.515625    0.513393    0.513393    0.410525   \n",
       "1     1980-12-15    0.488839    0.488839    0.486607    0.486607    0.389106   \n",
       "2     1980-12-16    0.453125    0.453125    0.450893    0.450893    0.360548   \n",
       "3     1980-12-17    0.462054    0.464286    0.462054    0.462054    0.369472   \n",
       "4     1980-12-18    0.475446    0.477679    0.475446    0.475446    0.380182   \n",
       "...          ...         ...         ...         ...         ...         ...   \n",
       "9710  2019-06-18  196.050003  200.289993  195.210007  198.449997  198.449997   \n",
       "9711  2019-06-19  199.679993  199.880005  197.309998  197.869995  197.869995   \n",
       "9712  2019-06-20  200.369995  200.610001  198.029999  199.460007  199.460007   \n",
       "9713  2019-06-21  198.800003  200.850006  198.149994  198.779999  198.779999   \n",
       "9714  2019-06-24  198.539993  200.160004  198.169998  199.169998  199.169998   \n",
       "\n",
       "           Volume  \n",
       "0     117258400.0  \n",
       "1      43971200.0  \n",
       "2      26432000.0  \n",
       "3      21610400.0  \n",
       "4      18362400.0  \n",
       "...           ...  \n",
       "9710   26551000.0  \n",
       "9711   21124200.0  \n",
       "9712   21514000.0  \n",
       "9713   47735300.0  \n",
       "9714    9025362.0  \n",
       "\n",
       "[9715 rows x 7 columns]"
      ]
     },
     "execution_count": 18,
     "metadata": {},
     "output_type": "execute_result"
    }
   ],
   "source": [
    "df"
   ]
  },
  {
   "cell_type": "code",
   "execution_count": 19,
   "id": "fb7327f8",
   "metadata": {},
   "outputs": [
    {
     "data": {
      "text/html": [
       "<div>\n",
       "<style scoped>\n",
       "    .dataframe tbody tr th:only-of-type {\n",
       "        vertical-align: middle;\n",
       "    }\n",
       "\n",
       "    .dataframe tbody tr th {\n",
       "        vertical-align: top;\n",
       "    }\n",
       "\n",
       "    .dataframe thead th {\n",
       "        text-align: right;\n",
       "    }\n",
       "</style>\n",
       "<table border=\"1\" class=\"dataframe\">\n",
       "  <thead>\n",
       "    <tr style=\"text-align: right;\">\n",
       "      <th></th>\n",
       "      <th>Date</th>\n",
       "      <th>Open</th>\n",
       "      <th>High</th>\n",
       "      <th>Low</th>\n",
       "      <th>Close</th>\n",
       "      <th>Adj Close</th>\n",
       "      <th>Volume</th>\n",
       "    </tr>\n",
       "  </thead>\n",
       "  <tbody>\n",
       "    <tr>\n",
       "      <th>0</th>\n",
       "      <td>1980-12-12</td>\n",
       "      <td>0.513393</td>\n",
       "      <td>0.515625</td>\n",
       "      <td>0.513393</td>\n",
       "      <td>0.513393</td>\n",
       "      <td>0.410525</td>\n",
       "      <td>117258400.0</td>\n",
       "    </tr>\n",
       "    <tr>\n",
       "      <th>1</th>\n",
       "      <td>1980-12-15</td>\n",
       "      <td>0.488839</td>\n",
       "      <td>0.488839</td>\n",
       "      <td>0.486607</td>\n",
       "      <td>0.486607</td>\n",
       "      <td>0.389106</td>\n",
       "      <td>43971200.0</td>\n",
       "    </tr>\n",
       "    <tr>\n",
       "      <th>2</th>\n",
       "      <td>1980-12-16</td>\n",
       "      <td>0.453125</td>\n",
       "      <td>0.453125</td>\n",
       "      <td>0.450893</td>\n",
       "      <td>0.450893</td>\n",
       "      <td>0.360548</td>\n",
       "      <td>26432000.0</td>\n",
       "    </tr>\n",
       "    <tr>\n",
       "      <th>3</th>\n",
       "      <td>1980-12-17</td>\n",
       "      <td>0.462054</td>\n",
       "      <td>0.464286</td>\n",
       "      <td>0.462054</td>\n",
       "      <td>0.462054</td>\n",
       "      <td>0.369472</td>\n",
       "      <td>21610400.0</td>\n",
       "    </tr>\n",
       "    <tr>\n",
       "      <th>4</th>\n",
       "      <td>1980-12-18</td>\n",
       "      <td>0.475446</td>\n",
       "      <td>0.477679</td>\n",
       "      <td>0.475446</td>\n",
       "      <td>0.475446</td>\n",
       "      <td>0.380182</td>\n",
       "      <td>18362400.0</td>\n",
       "    </tr>\n",
       "    <tr>\n",
       "      <th>...</th>\n",
       "      <td>...</td>\n",
       "      <td>...</td>\n",
       "      <td>...</td>\n",
       "      <td>...</td>\n",
       "      <td>...</td>\n",
       "      <td>...</td>\n",
       "      <td>...</td>\n",
       "    </tr>\n",
       "    <tr>\n",
       "      <th>9710</th>\n",
       "      <td>2019-06-18</td>\n",
       "      <td>196.050003</td>\n",
       "      <td>200.289993</td>\n",
       "      <td>195.210007</td>\n",
       "      <td>198.449997</td>\n",
       "      <td>198.449997</td>\n",
       "      <td>26551000.0</td>\n",
       "    </tr>\n",
       "    <tr>\n",
       "      <th>9711</th>\n",
       "      <td>2019-06-19</td>\n",
       "      <td>199.679993</td>\n",
       "      <td>199.880005</td>\n",
       "      <td>197.309998</td>\n",
       "      <td>197.869995</td>\n",
       "      <td>197.869995</td>\n",
       "      <td>21124200.0</td>\n",
       "    </tr>\n",
       "    <tr>\n",
       "      <th>9712</th>\n",
       "      <td>2019-06-20</td>\n",
       "      <td>200.369995</td>\n",
       "      <td>200.610001</td>\n",
       "      <td>198.029999</td>\n",
       "      <td>199.460007</td>\n",
       "      <td>199.460007</td>\n",
       "      <td>21514000.0</td>\n",
       "    </tr>\n",
       "    <tr>\n",
       "      <th>9713</th>\n",
       "      <td>2019-06-21</td>\n",
       "      <td>198.800003</td>\n",
       "      <td>200.850006</td>\n",
       "      <td>198.149994</td>\n",
       "      <td>198.779999</td>\n",
       "      <td>198.779999</td>\n",
       "      <td>47735300.0</td>\n",
       "    </tr>\n",
       "    <tr>\n",
       "      <th>9714</th>\n",
       "      <td>2019-06-24</td>\n",
       "      <td>198.539993</td>\n",
       "      <td>200.160004</td>\n",
       "      <td>198.169998</td>\n",
       "      <td>199.169998</td>\n",
       "      <td>199.169998</td>\n",
       "      <td>9025362.0</td>\n",
       "    </tr>\n",
       "  </tbody>\n",
       "</table>\n",
       "<p>9715 rows × 7 columns</p>\n",
       "</div>"
      ],
      "text/plain": [
       "            Date        Open        High         Low       Close   Adj Close  \\\n",
       "0     1980-12-12    0.513393    0.515625    0.513393    0.513393    0.410525   \n",
       "1     1980-12-15    0.488839    0.488839    0.486607    0.486607    0.389106   \n",
       "2     1980-12-16    0.453125    0.453125    0.450893    0.450893    0.360548   \n",
       "3     1980-12-17    0.462054    0.464286    0.462054    0.462054    0.369472   \n",
       "4     1980-12-18    0.475446    0.477679    0.475446    0.475446    0.380182   \n",
       "...          ...         ...         ...         ...         ...         ...   \n",
       "9710  2019-06-18  196.050003  200.289993  195.210007  198.449997  198.449997   \n",
       "9711  2019-06-19  199.679993  199.880005  197.309998  197.869995  197.869995   \n",
       "9712  2019-06-20  200.369995  200.610001  198.029999  199.460007  199.460007   \n",
       "9713  2019-06-21  198.800003  200.850006  198.149994  198.779999  198.779999   \n",
       "9714  2019-06-24  198.539993  200.160004  198.169998  199.169998  199.169998   \n",
       "\n",
       "           Volume  \n",
       "0     117258400.0  \n",
       "1      43971200.0  \n",
       "2      26432000.0  \n",
       "3      21610400.0  \n",
       "4      18362400.0  \n",
       "...           ...  \n",
       "9710   26551000.0  \n",
       "9711   21124200.0  \n",
       "9712   21514000.0  \n",
       "9713   47735300.0  \n",
       "9714    9025362.0  \n",
       "\n",
       "[9715 rows x 7 columns]"
      ]
     },
     "execution_count": 19,
     "metadata": {},
     "output_type": "execute_result"
    }
   ],
   "source": [
    "df2"
   ]
  },
  {
   "cell_type": "markdown",
   "id": "14e6ee90",
   "metadata": {},
   "source": [
    "# 함수\n",
    "- 행동 -> 음식 레시피\n",
    "- 반복적으로 사용하는 코드를 하나로 묶어서 함수로 표현\n",
    "- 코드 라인의 수를 줄이고 가독성이 올라가고 오류가 발생할 확률을 줄인다\n",
    "- def 키워드를 이용해 함수 생성"
   ]
  },
  {
   "cell_type": "markdown",
   "id": "bd74db07",
   "metadata": {},
   "source": [
    "# class\n",
    "- 변수 + 함수의 모음\n",
    "- 독립적인 데이터(self 변수)들을 미리 변수에 저장하고 해당하는 데이터를 함수를 이용해 데이터의 변경을 해주는 작업\n",
    "- 상속이라는 개념 존재\n",
    "\t- 다른 class의 기능들을 해당 클래스에서 가져와 사용하기 위함\n",
    "- class의 이름은 일반적으로 단어의 첫글자를 대문자로 생성"
   ]
  },
  {
   "cell_type": "code",
   "execution_count": 20,
   "id": "2948997b",
   "metadata": {},
   "outputs": [],
   "source": [
    "class Test_Class:\n",
    "    # 생성자함수: class가 생성될 때 최초로 한번 호출되는 함수\n",
    "    def __init__(self, _x, _y):\n",
    "        # 독립변수들을 생성할때 주로 사용\n",
    "        # self의 의미 -> 자기 자신 -> class가 생성된 위치를 의미\n",
    "        self.x = _x\n",
    "        self.y = _y\n",
    "    def add(self):\n",
    "        result = self.x + self.y\n",
    "        return result\n",
    "    def sub(self):\n",
    "        result = self.x - self.y\n",
    "        return result"
   ]
  },
  {
   "cell_type": "code",
   "execution_count": 21,
   "id": "a02fb9c3",
   "metadata": {},
   "outputs": [],
   "source": [
    "class_1 = Test_Class(10, 5)\n",
    "class_2 = Test_Class(20, 9)"
   ]
  },
  {
   "cell_type": "code",
   "execution_count": 22,
   "id": "437e331f",
   "metadata": {},
   "outputs": [
    {
     "data": {
      "text/plain": [
       "15"
      ]
     },
     "execution_count": 22,
     "metadata": {},
     "output_type": "execute_result"
    }
   ],
   "source": [
    "class_1.add()"
   ]
  },
  {
   "cell_type": "code",
   "execution_count": 23,
   "id": "51d4d804",
   "metadata": {},
   "outputs": [
    {
     "data": {
      "text/plain": [
       "29"
      ]
     },
     "execution_count": 23,
     "metadata": {},
     "output_type": "execute_result"
    }
   ],
   "source": [
    "class_2.add()"
   ]
  },
  {
   "cell_type": "code",
   "execution_count": 25,
   "id": "18d5b87a",
   "metadata": {},
   "outputs": [
    {
     "data": {
      "text/plain": [
       "15"
      ]
     },
     "execution_count": 25,
     "metadata": {},
     "output_type": "execute_result"
    }
   ],
   "source": [
    "class_1.add()"
   ]
  },
  {
   "cell_type": "code",
   "execution_count": 24,
   "id": "eaae6cd0",
   "metadata": {},
   "outputs": [
    {
     "data": {
      "text/plain": [
       "11"
      ]
     },
     "execution_count": 24,
     "metadata": {},
     "output_type": "execute_result"
    }
   ],
   "source": [
    "class_2.sub()"
   ]
  },
  {
   "cell_type": "markdown",
   "id": "0fdb0bb1",
   "metadata": {},
   "source": [
    "# pandas\n",
    "- 외부의 데이터를 로드하는 함수 : read_xxx()\n",
    "\t- read_xxx(경로, encoding = 'utf-8', index_col = 인덱스로 사용할 컬럼)\n",
    "\t\t- encoding : 데이터에 한글이 존재하는 경우 종종 utf-8로 로드 불가능 -> 'cp949' or 'euc-kr'로 변경하여 로드\n",
    "\t\t- 파일의 경로 : 절대경로(read_html 함수 이용시), 상대경로 사용 가능\n",
    "- Series class\n",
    "\t- 1차원 데이터의 형태\n",
    "\t- Series에는 적어도 2개의 변수 존재 (index, values)\n",
    "- DataFrame class\n",
    "\t- 2차원 데이터의 형태\n",
    "\t- DataFrame에는 적어도 3개의 변수 존재 (index, columns, values)\n",
    "\t- Series 데이터들이 모인 2차원 데이터의 형태\n",
    "- info()\n",
    "\t- 데이터 프레임의 정보를 출력하는 함수\n",
    "\t- 데이터의 크기 확인, 결측치 존재 유무 확인, 컬럼 구성 확인\n",
    "- describe()\n",
    "\t- 통계요약 정보를 출력하는 함수\n",
    "\t- 각 컬럼별 수치형 데이터에서 통계량을 출력\n",
    "\t- 이상치의 존재 유무를 간단하게 파악\n",
    "- rename()\n",
    "\t- 이름을 재지정하는 함수\n",
    "\t- 인덱스, 컬럼의 값 모두 변경 가능\n",
    "\t- 일반적으로 특정 컬럼의 이름을 변경할때 사용\n",
    "\t- 전체 컬럼의 이름을 변경할때는 rename() 함수보다는 DataFrame의 columns 변수의 데이터를 변경\n",
    "\t\t- df.columns = []\n",
    "- shift(n)\n",
    "\t- 인덱스를 n만큼 이동시켜주는 함수\n",
    "\t- 전날의 데이터를 확인하거나 전월의 데이터를 확인하여 비교할 때 사용\n",
    "- diff(n)\n",
    "\t- 인덱스를 n만큼 이동한 데이터와의 차이를 구하는 함수\n",
    "- isna()\n",
    "\t- 데이터프레임에서 결측치의 존재 유무를 판단하는 함수\n",
    "\t- 결과값의 타입 bool\n",
    "\t- 결측치 개수 확인 -> isna().sum()\n",
    "- isin(1차원데이터)\n",
    "\t- 1차원 데이터의 포함 여부를 판단하는 함수\n",
    "\t- 결과값의 타입 bool\n",
    "- fillna()\n",
    "\t- 결측치를 다른 값으로 대체하는 함수\n",
    "\t- 특정 데이터를 인자로 사용하면 결측치가 해당 데이터로 대체됨\n",
    "\t- method 매개변수를 이용\n",
    "\t\t- ffill : 전 행의 데이터로 대체\n",
    "\t\t- bfill : 후 행의 데이터로 대체\n",
    "- groupby()\n",
    "\t- 특정 컬럼의 데이터들을 같은 값들끼리 그룹화하여 나눠주는 함수\n",
    "\t- 연산 함수를 추가해 그룹화된 데이터프레임들을 결합하여 보여줄 수 있음\n",
    "\t- set_group() 함수를 이용해 그룹화된 특정 데이터프레임 호출 가능\n",
    "- pivot_table()\n",
    "\t- 테이블을 재구조화하는 함수\n",
    "\t- 데이터프레임에서 인덱스, 컬럼, value, 연산식을 지정하여 테이블의 구조 변경하는 함수\n",
    "- select_dtype()\n",
    "\t- 컬럼들의 목록 중 특정 dtype의 컬럼들의 데이터를 추출하기 위한 함수\n",
    "- 데이터프레임 결합 함수\n",
    "\t- 유니언 결합(단순 결합)\n",
    "\t\t- concat()\n",
    "\t\t\t- 첫번째 인자 : 1차원 형태의 데이터(Series or DataFrame)들의 목록\n",
    "\t\t\t- axis : 행으로 결합할지 열로 결합할지\n",
    "\t\t\t- ignore_index : 결합되는 기준을 초기화 시킬것인지 (초기화시 0,1,2,3...)\n",
    "\t\t\t- pandas에 내장된 함수\n",
    "\t- 조인 결합(조건에 맞춰 열을 결합)\n",
    "\t\t- merge()\n",
    "\t\t\t- 특정 조건에 맞춰 열을 결합해주는 함수\n",
    "\t\t\t\t- 2개의 데이터프레임이 결합\n",
    "\t\t\t- on 매개변수 : 조건 (컬럼의 이름)\n",
    "\t\t\t\t- left_on, right_on -> 두 개의 데이터프레임에서 컬럼명이 다른 경우 사용\n",
    "\t\t\t- how 매개변수 : 조인 결합의 방식\n",
    "\t\t\t\t- inner, left, right, outer\n",
    "\t\t\t- 3개 이상의 데이터프레임을 조인결합하려면?\n",
    "\t\t\t\t- merge() 함수를 중복해 사용\n"
   ]
  },
  {
   "cell_type": "code",
   "execution_count": 1,
   "id": "59269333",
   "metadata": {},
   "outputs": [
    {
     "name": "stdout",
     "output_type": "stream",
     "text": [
      "Package                      Version\n",
      "---------------------------- -----------\n",
      "absl-py                      2.3.0\n",
      "arch                         7.2.0\n",
      "asttokens                    3.0.0\n",
      "astunparse                   1.6.3\n",
      "attrs                        25.3.0\n",
      "autograd                     1.8.0\n",
      "autograd-gamma               0.5.0\n",
      "beautifulsoup4               4.13.4\n",
      "blinker                      1.9.0\n",
      "bs4                          0.0.2\n",
      "certifi                      2025.4.26\n",
      "cffi                         1.17.1\n",
      "charset-normalizer           3.4.2\n",
      "click                        8.1.8\n",
      "cloudpickle                  3.1.1\n",
      "colorama                     0.4.6\n",
      "comm                         0.2.2\n",
      "contourpy                    1.3.0\n",
      "curl_cffi                    0.10.0\n",
      "cycler                       0.12.1\n",
      "datapungi_fed                0.3.1\n",
      "DateTime                     5.5\n",
      "debugpy                      1.8.14\n",
      "decorator                    5.2.1\n",
      "Deprecated                   1.2.18\n",
      "ecos                         2.0.14\n",
      "et_xmlfile                   2.0.0\n",
      "exceptiongroup               1.3.0\n",
      "executing                    2.2.0\n",
      "filelock                     3.18.0\n",
      "finance-datareader           0.9.96\n",
      "Flask                        3.1.1\n",
      "flatbuffers                  25.2.10\n",
      "fonttools                    4.58.0\n",
      "formulaic                    1.1.1\n",
      "fredapi                      0.5.2\n",
      "frozendict                   2.4.6\n",
      "fsspec                       2025.5.1\n",
      "full_fred                    0.1\n",
      "gast                         0.6.0\n",
      "git-filter-repo              2.47.0\n",
      "google-pasta                 0.2.0\n",
      "greenlet                     3.2.3\n",
      "grpcio                       1.72.1\n",
      "h11                          0.16.0\n",
      "h5py                         3.13.0\n",
      "html5lib                     1.1\n",
      "idna                         3.10\n",
      "imbalanced-learn             0.12.4\n",
      "importlib_metadata           8.7.0\n",
      "importlib_resources          6.5.2\n",
      "iniconfig                    2.1.0\n",
      "interface-meta               1.3.0\n",
      "ipykernel                    6.29.5\n",
      "ipython                      8.18.1\n",
      "itsdangerous                 2.2.0\n",
      "jedi                         0.19.2\n",
      "Jinja2                       3.1.6\n",
      "joblib                       1.5.1\n",
      "jupyter_client               8.6.3\n",
      "jupyter_core                 5.7.2\n",
      "keras                        3.10.0\n",
      "kiwisolver                   1.4.7\n",
      "libclang                     18.1.1\n",
      "lifelines                    0.30.0\n",
      "lightgbm                     3.3.2\n",
      "llvmlite                     0.43.0\n",
      "lxml                         5.4.0\n",
      "Markdown                     3.8\n",
      "markdown-it-py               3.0.0\n",
      "MarkupSafe                   3.0.2\n",
      "matplotlib                   3.9.4\n",
      "matplotlib-inline            0.1.7\n",
      "mdurl                        0.1.2\n",
      "ml_dtypes                    0.5.1\n",
      "mpmath                       1.3.0\n",
      "multipledispatch             1.0.0\n",
      "multitasking                 0.0.11\n",
      "namex                        0.1.0\n",
      "narwhals                     1.42.1\n",
      "nest-asyncio                 1.6.0\n",
      "networkx                     3.2.1\n",
      "numba                        0.60.0\n",
      "numexpr                      2.10.2\n",
      "numpy                        2.0.2\n",
      "OpenDartReader               0.2.3\n",
      "openpyxl                     3.1.5\n",
      "opt_einsum                   3.4.0\n",
      "optree                       0.16.0\n",
      "osqp                         1.0.4\n",
      "outcome                      1.3.0.post0\n",
      "packaging                    25.0\n",
      "pandas                       2.2.3\n",
      "pandas-datareader            0.10.0\n",
      "parso                        0.8.4\n",
      "patsy                        1.0.1\n",
      "peewee                       3.18.1\n",
      "pillow                       11.2.1\n",
      "pip                          25.1.1\n",
      "platformdirs                 4.3.8\n",
      "plotly                       6.1.2\n",
      "pluggy                       1.6.0\n",
      "prompt_toolkit               3.0.51\n",
      "protobuf                     5.29.5\n",
      "psutil                       7.0.0\n",
      "pure_eval                    0.2.3\n",
      "pycparser                    2.22\n",
      "Pygments                     2.19.1\n",
      "pykrx                        1.0.48\n",
      "PyMySQL                      1.1.1\n",
      "pyparsing                    3.2.3\n",
      "pyperclip                    1.9.0\n",
      "PySocks                      1.7.1\n",
      "pytest                       8.4.0\n",
      "pytest-html                  4.1.1\n",
      "pytest-metadata              3.1.1\n",
      "python-dateutil              2.9.0.post0\n",
      "python-dotenv                1.1.0\n",
      "pytorch-tabnet               4.1.0\n",
      "pytz                         2025.2\n",
      "pywin32                      310\n",
      "PyYAML                       6.0.2\n",
      "pyzmq                        26.4.0\n",
      "requests                     2.32.3\n",
      "requests-file                2.1.0\n",
      "rich                         14.0.0\n",
      "scikit-learn                 1.5.2\n",
      "scikit-survival              0.23.1\n",
      "scipy                        1.13.1\n",
      "seaborn                      0.13.2\n",
      "selenium                     4.33.0\n",
      "setuptools                   58.1.0\n",
      "shap                         0.48.0\n",
      "six                          1.17.0\n",
      "slicer                       0.0.8\n",
      "sniffio                      1.3.1\n",
      "sortedcontainers             2.4.0\n",
      "soupsieve                    2.7\n",
      "SQLAlchemy                   2.0.41\n",
      "stack-data                   0.6.3\n",
      "statsmodels                  0.14.4\n",
      "sympy                        1.14.0\n",
      "tensorboard                  2.19.0\n",
      "tensorboard-data-server      0.7.2\n",
      "tensorflow                   2.19.0\n",
      "tensorflow-io-gcs-filesystem 0.31.0\n",
      "termcolor                    3.1.0\n",
      "threadpoolctl                3.6.0\n",
      "tomli                        2.2.1\n",
      "torch                        2.7.1\n",
      "tornado                      6.5\n",
      "tqdm                         4.67.1\n",
      "traitlets                    5.14.3\n",
      "trio                         0.30.0\n",
      "trio-websocket               0.12.2\n",
      "typing_extensions            4.13.2\n",
      "tzdata                       2025.2\n",
      "urllib3                      2.4.0\n",
      "versioneer                   0.29\n",
      "wcwidth                      0.2.13\n",
      "webencodings                 0.5.1\n",
      "websocket-client             1.8.0\n",
      "websockets                   15.0.1\n",
      "Werkzeug                     3.1.3\n",
      "wget                         3.2\n",
      "wheel                        0.45.1\n",
      "wrapt                        1.17.2\n",
      "wsproto                      1.2.0\n",
      "xgboost                      2.1.4\n",
      "xlrd                         2.0.1\n",
      "xmltodict                    0.14.2\n",
      "yfinance                     0.2.61\n",
      "zipp                         3.21.0\n",
      "zope.interface               7.2\n",
      "Note: you may need to restart the kernel to use updated packages.\n"
     ]
    }
   ],
   "source": [
    "pip list"
   ]
  },
  {
   "cell_type": "markdown",
   "id": "6cb21569",
   "metadata": {},
   "source": [
    "#"
   ]
  },
  {
   "cell_type": "code",
   "execution_count": 12,
   "id": "6811810e",
   "metadata": {},
   "outputs": [],
   "source": [
    "import pandas as pd"
   ]
  },
  {
   "cell_type": "code",
   "execution_count": null,
   "id": "3eb1a180",
   "metadata": {},
   "outputs": [],
   "source": []
  }
 ],
 "metadata": {
  "kernelspec": {
   "display_name": ".venv",
   "language": "python",
   "name": "python3"
  },
  "language_info": {
   "codemirror_mode": {
    "name": "ipython",
    "version": 3
   },
   "file_extension": ".py",
   "mimetype": "text/x-python",
   "name": "python",
   "nbconvert_exporter": "python",
   "pygments_lexer": "ipython3",
   "version": "3.9.13"
  }
 },
 "nbformat": 4,
 "nbformat_minor": 5
}
