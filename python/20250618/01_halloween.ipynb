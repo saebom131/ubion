{
 "cells": [
  {
   "cell_type": "markdown",
   "id": "2e7fee09",
   "metadata": {},
   "source": [
    "### <할로윈 전략>\n",
    "1. 11월 첫날에 매수 -> 4월 말일에 매도\n",
    "2. 매수 가격: 11월 첫날의 시가\n",
    "3. 매도 가격: 4월 말일의 종가\n",
    "4. 수익률: 4월 말일의 종가 / 11월 첫날의 시가\n",
    "5. 누적 수익률 계산"
   ]
  },
  {
   "cell_type": "code",
   "execution_count": 2,
   "id": "3134b390",
   "metadata": {},
   "outputs": [],
   "source": [
    "from datetime import datetime\n",
    "import pandas as pd\n",
    "import numpy as np\n",
    "# 날짜 간격(기간)을 다룰 때 사용하는 모듈\n",
    "from dateutil.relativedelta import relativedelta"
   ]
  },
  {
   "cell_type": "code",
   "execution_count": 3,
   "id": "e08a3715",
   "metadata": {},
   "outputs": [],
   "source": [
    "# 데이터 로드\n",
    "df = pd.read_csv('../../csv/AAPL.csv')"
   ]
  },
  {
   "cell_type": "code",
   "execution_count": 4,
   "id": "5d575c15",
   "metadata": {},
   "outputs": [],
   "source": [
    "# 컬럼에 Date가 존재하면 Date를 인덱스로 설정\n",
    "if 'Date' in df.columns:\n",
    "    df.set_index('Date', inplace=True)"
   ]
  },
  {
   "cell_type": "code",
   "execution_count": 5,
   "id": "8ae89163",
   "metadata": {},
   "outputs": [],
   "source": [
    "# index를 시계열 데이터로 변경\n",
    "df.index = pd.to_datetime(df.index)"
   ]
  },
  {
   "cell_type": "code",
   "execution_count": 6,
   "id": "c8edfafd",
   "metadata": {},
   "outputs": [
    {
     "data": {
      "text/html": [
       "<div>\n",
       "<style scoped>\n",
       "    .dataframe tbody tr th:only-of-type {\n",
       "        vertical-align: middle;\n",
       "    }\n",
       "\n",
       "    .dataframe tbody tr th {\n",
       "        vertical-align: top;\n",
       "    }\n",
       "\n",
       "    .dataframe thead th {\n",
       "        text-align: right;\n",
       "    }\n",
       "</style>\n",
       "<table border=\"1\" class=\"dataframe\">\n",
       "  <thead>\n",
       "    <tr style=\"text-align: right;\">\n",
       "      <th></th>\n",
       "      <th>Open</th>\n",
       "      <th>High</th>\n",
       "      <th>Low</th>\n",
       "      <th>Close</th>\n",
       "      <th>Adj Close</th>\n",
       "      <th>Volume</th>\n",
       "    </tr>\n",
       "    <tr>\n",
       "      <th>Date</th>\n",
       "      <th></th>\n",
       "      <th></th>\n",
       "      <th></th>\n",
       "      <th></th>\n",
       "      <th></th>\n",
       "      <th></th>\n",
       "    </tr>\n",
       "  </thead>\n",
       "  <tbody>\n",
       "    <tr>\n",
       "      <th>1980-12-12</th>\n",
       "      <td>0.513393</td>\n",
       "      <td>0.515625</td>\n",
       "      <td>0.513393</td>\n",
       "      <td>0.513393</td>\n",
       "      <td>0.410525</td>\n",
       "      <td>117258400.0</td>\n",
       "    </tr>\n",
       "    <tr>\n",
       "      <th>1980-12-15</th>\n",
       "      <td>0.488839</td>\n",
       "      <td>0.488839</td>\n",
       "      <td>0.486607</td>\n",
       "      <td>0.486607</td>\n",
       "      <td>0.389106</td>\n",
       "      <td>43971200.0</td>\n",
       "    </tr>\n",
       "    <tr>\n",
       "      <th>1980-12-16</th>\n",
       "      <td>0.453125</td>\n",
       "      <td>0.453125</td>\n",
       "      <td>0.450893</td>\n",
       "      <td>0.450893</td>\n",
       "      <td>0.360548</td>\n",
       "      <td>26432000.0</td>\n",
       "    </tr>\n",
       "    <tr>\n",
       "      <th>1980-12-17</th>\n",
       "      <td>0.462054</td>\n",
       "      <td>0.464286</td>\n",
       "      <td>0.462054</td>\n",
       "      <td>0.462054</td>\n",
       "      <td>0.369472</td>\n",
       "      <td>21610400.0</td>\n",
       "    </tr>\n",
       "    <tr>\n",
       "      <th>1980-12-18</th>\n",
       "      <td>0.475446</td>\n",
       "      <td>0.477679</td>\n",
       "      <td>0.475446</td>\n",
       "      <td>0.475446</td>\n",
       "      <td>0.380182</td>\n",
       "      <td>18362400.0</td>\n",
       "    </tr>\n",
       "  </tbody>\n",
       "</table>\n",
       "</div>"
      ],
      "text/plain": [
       "                Open      High       Low     Close  Adj Close       Volume\n",
       "Date                                                                      \n",
       "1980-12-12  0.513393  0.515625  0.513393  0.513393   0.410525  117258400.0\n",
       "1980-12-15  0.488839  0.488839  0.486607  0.486607   0.389106   43971200.0\n",
       "1980-12-16  0.453125  0.453125  0.450893  0.450893   0.360548   26432000.0\n",
       "1980-12-17  0.462054  0.464286  0.462054  0.462054   0.369472   21610400.0\n",
       "1980-12-18  0.475446  0.477679  0.475446  0.475446   0.380182   18362400.0"
      ]
     },
     "execution_count": 6,
     "metadata": {},
     "output_type": "execute_result"
    }
   ],
   "source": [
    "df.head()"
   ]
  },
  {
   "cell_type": "code",
   "execution_count": 7,
   "id": "ab2139b7",
   "metadata": {},
   "outputs": [
    {
     "name": "stderr",
     "output_type": "stream",
     "text": [
      "C:\\Users\\toqha\\AppData\\Local\\Temp\\ipykernel_7088\\741597926.py:2: FutureWarning: Series.__getitem__ treating keys as positions is deprecated. In a future version, integer keys will always be treated as labels (consistent with DataFrame behavior). To access a value by position, use `ser.iloc[pos]`\n",
      "  df.loc['2010-11-01' : '2010-12-01', 'Open'][0]\n"
     ]
    },
    {
     "data": {
      "text/plain": [
       "np.float64(43.174286)"
      ]
     },
     "execution_count": 7,
     "metadata": {},
     "output_type": "execute_result"
    }
   ],
   "source": [
    "# 2010년 11월 첫날 시가 데이터\n",
    "df.loc['2010-11-01' : '2010-12-01', 'Open'][0]"
   ]
  },
  {
   "cell_type": "code",
   "execution_count": 8,
   "id": "450c352d",
   "metadata": {},
   "outputs": [
    {
     "name": "stderr",
     "output_type": "stream",
     "text": [
      "C:\\Users\\toqha\\AppData\\Local\\Temp\\ipykernel_7088\\1022133651.py:1: FutureWarning: Series.__getitem__ treating keys as positions is deprecated. In a future version, integer keys will always be treated as labels (consistent with DataFrame behavior). To access a value by position, use `ser.iloc[pos]`\n",
      "  df.loc['2010-11-01': , 'Open'][0]\n"
     ]
    },
    {
     "data": {
      "text/plain": [
       "np.float64(43.174286)"
      ]
     },
     "execution_count": 8,
     "metadata": {},
     "output_type": "execute_result"
    }
   ],
   "source": [
    "df.loc['2010-11-01': , 'Open'][0]"
   ]
  },
  {
   "cell_type": "code",
   "execution_count": 9,
   "id": "9a9b253c",
   "metadata": {},
   "outputs": [
    {
     "name": "stderr",
     "output_type": "stream",
     "text": [
      "C:\\Users\\toqha\\AppData\\Local\\Temp\\ipykernel_7088\\1424043316.py:1: FutureWarning: Series.__getitem__ treating keys as positions is deprecated. In a future version, integer keys will always be treated as labels (consistent with DataFrame behavior). To access a value by position, use `ser.iloc[pos]`\n",
      "  df.loc['2010-11', 'Open'][0]\n"
     ]
    },
    {
     "data": {
      "text/plain": [
       "np.float64(43.174286)"
      ]
     },
     "execution_count": 9,
     "metadata": {},
     "output_type": "execute_result"
    }
   ],
   "source": [
    "df.loc['2010-11', 'Open'][0]"
   ]
  },
  {
   "cell_type": "code",
   "execution_count": 10,
   "id": "afd726a6",
   "metadata": {},
   "outputs": [],
   "source": [
    "# df.loc['2011-04', 'Close']"
   ]
  },
  {
   "cell_type": "code",
   "execution_count": 11,
   "id": "aa7929c4",
   "metadata": {},
   "outputs": [
    {
     "name": "stderr",
     "output_type": "stream",
     "text": [
      "C:\\Users\\toqha\\AppData\\Local\\Temp\\ipykernel_7088\\2631509459.py:2: FutureWarning: Series.__getitem__ treating keys as positions is deprecated. In a future version, integer keys will always be treated as labels (consistent with DataFrame behavior). To access a value by position, use `ser.iloc[pos]`\n",
      "  df.loc['2011-04', 'Close'][-1]\n"
     ]
    },
    {
     "data": {
      "text/plain": [
       "np.float64(50.01857)"
      ]
     },
     "execution_count": 11,
     "metadata": {},
     "output_type": "execute_result"
    }
   ],
   "source": [
    "# 2011년 4월의 말일의 종가\n",
    "df.loc['2011-04', 'Close'][-1]"
   ]
  },
  {
   "cell_type": "code",
   "execution_count": 12,
   "id": "6981f427",
   "metadata": {},
   "outputs": [],
   "source": [
    "# 2000년부터 2010년까지 할로윈 전략으로 수익률 계산\n",
    "\n",
    "price_df = pd.DataFrame()\n",
    "\n",
    "for year in range(2000, 2010, 1):\n",
    "    # 매수 year-11 (기준년도의 11월)\n",
    "    buy_mon = f'{year}-11'\n",
    "    # 매도 (year+1)-04 (기준 다음 년도의 4월)\n",
    "    sell_mon = f'{year+1}-04'\n",
    "    buy = df.loc[buy_mon, ].head(1)\n",
    "    sell = df.loc[sell_mon, ].tail(1)\n",
    "\n",
    "    price_df = pd.concat(\n",
    "        [price_df, buy, sell], axis=0\n",
    "    )"
   ]
  },
  {
   "cell_type": "code",
   "execution_count": 13,
   "id": "98974a45",
   "metadata": {},
   "outputs": [
    {
     "data": {
      "text/html": [
       "<div>\n",
       "<style scoped>\n",
       "    .dataframe tbody tr th:only-of-type {\n",
       "        vertical-align: middle;\n",
       "    }\n",
       "\n",
       "    .dataframe tbody tr th {\n",
       "        vertical-align: top;\n",
       "    }\n",
       "\n",
       "    .dataframe thead th {\n",
       "        text-align: right;\n",
       "    }\n",
       "</style>\n",
       "<table border=\"1\" class=\"dataframe\">\n",
       "  <thead>\n",
       "    <tr style=\"text-align: right;\">\n",
       "      <th></th>\n",
       "      <th>Open</th>\n",
       "      <th>Close</th>\n",
       "    </tr>\n",
       "    <tr>\n",
       "      <th>Date</th>\n",
       "      <th></th>\n",
       "      <th></th>\n",
       "    </tr>\n",
       "  </thead>\n",
       "  <tbody>\n",
       "    <tr>\n",
       "      <th>2000-11-01</th>\n",
       "      <td>1.388393</td>\n",
       "      <td>1.464286</td>\n",
       "    </tr>\n",
       "    <tr>\n",
       "      <th>2001-04-30</th>\n",
       "      <td>1.907143</td>\n",
       "      <td>1.820714</td>\n",
       "    </tr>\n",
       "    <tr>\n",
       "      <th>2001-11-01</th>\n",
       "      <td>1.260714</td>\n",
       "      <td>1.327857</td>\n",
       "    </tr>\n",
       "    <tr>\n",
       "      <th>2002-04-30</th>\n",
       "      <td>1.706429</td>\n",
       "      <td>1.733571</td>\n",
       "    </tr>\n",
       "    <tr>\n",
       "      <th>2002-11-01</th>\n",
       "      <td>1.138571</td>\n",
       "      <td>1.168571</td>\n",
       "    </tr>\n",
       "    <tr>\n",
       "      <th>2003-04-30</th>\n",
       "      <td>0.995000</td>\n",
       "      <td>1.015714</td>\n",
       "    </tr>\n",
       "    <tr>\n",
       "      <th>2003-11-03</th>\n",
       "      <td>1.630714</td>\n",
       "      <td>1.653571</td>\n",
       "    </tr>\n",
       "    <tr>\n",
       "      <th>2004-04-30</th>\n",
       "      <td>1.907857</td>\n",
       "      <td>1.841429</td>\n",
       "    </tr>\n",
       "    <tr>\n",
       "      <th>2004-11-01</th>\n",
       "      <td>3.750000</td>\n",
       "      <td>3.746428</td>\n",
       "    </tr>\n",
       "    <tr>\n",
       "      <th>2005-04-29</th>\n",
       "      <td>5.164286</td>\n",
       "      <td>5.151429</td>\n",
       "    </tr>\n",
       "    <tr>\n",
       "      <th>2005-11-01</th>\n",
       "      <td>8.177143</td>\n",
       "      <td>8.214286</td>\n",
       "    </tr>\n",
       "    <tr>\n",
       "      <th>2006-04-28</th>\n",
       "      <td>9.911428</td>\n",
       "      <td>10.055715</td>\n",
       "    </tr>\n",
       "    <tr>\n",
       "      <th>2006-11-01</th>\n",
       "      <td>11.585714</td>\n",
       "      <td>11.308572</td>\n",
       "    </tr>\n",
       "    <tr>\n",
       "      <th>2007-04-30</th>\n",
       "      <td>14.298572</td>\n",
       "      <td>14.257143</td>\n",
       "    </tr>\n",
       "    <tr>\n",
       "      <th>2007-11-01</th>\n",
       "      <td>26.942858</td>\n",
       "      <td>26.777143</td>\n",
       "    </tr>\n",
       "    <tr>\n",
       "      <th>2008-04-30</th>\n",
       "      <td>25.170000</td>\n",
       "      <td>24.850000</td>\n",
       "    </tr>\n",
       "    <tr>\n",
       "      <th>2008-11-03</th>\n",
       "      <td>15.132857</td>\n",
       "      <td>15.280000</td>\n",
       "    </tr>\n",
       "    <tr>\n",
       "      <th>2009-04-30</th>\n",
       "      <td>18.031429</td>\n",
       "      <td>17.975714</td>\n",
       "    </tr>\n",
       "    <tr>\n",
       "      <th>2009-11-02</th>\n",
       "      <td>27.114286</td>\n",
       "      <td>27.044285</td>\n",
       "    </tr>\n",
       "    <tr>\n",
       "      <th>2010-04-30</th>\n",
       "      <td>38.472858</td>\n",
       "      <td>37.298573</td>\n",
       "    </tr>\n",
       "  </tbody>\n",
       "</table>\n",
       "</div>"
      ],
      "text/plain": [
       "                 Open      Close\n",
       "Date                            \n",
       "2000-11-01   1.388393   1.464286\n",
       "2001-04-30   1.907143   1.820714\n",
       "2001-11-01   1.260714   1.327857\n",
       "2002-04-30   1.706429   1.733571\n",
       "2002-11-01   1.138571   1.168571\n",
       "2003-04-30   0.995000   1.015714\n",
       "2003-11-03   1.630714   1.653571\n",
       "2004-04-30   1.907857   1.841429\n",
       "2004-11-01   3.750000   3.746428\n",
       "2005-04-29   5.164286   5.151429\n",
       "2005-11-01   8.177143   8.214286\n",
       "2006-04-28   9.911428  10.055715\n",
       "2006-11-01  11.585714  11.308572\n",
       "2007-04-30  14.298572  14.257143\n",
       "2007-11-01  26.942858  26.777143\n",
       "2008-04-30  25.170000  24.850000\n",
       "2008-11-03  15.132857  15.280000\n",
       "2009-04-30  18.031429  17.975714\n",
       "2009-11-02  27.114286  27.044285\n",
       "2010-04-30  38.472858  37.298573"
      ]
     },
     "execution_count": 13,
     "metadata": {},
     "output_type": "execute_result"
    }
   ],
   "source": [
    "price_df = price_df[ ['Open', 'Close'] ]\n",
    "price_df"
   ]
  },
  {
   "cell_type": "code",
   "execution_count": 14,
   "id": "091414a2",
   "metadata": {},
   "outputs": [
    {
     "data": {
      "text/plain": [
       "np.float64(1.820714)"
      ]
     },
     "execution_count": 14,
     "metadata": {},
     "output_type": "execute_result"
    }
   ],
   "source": [
    "price_df.iloc[1, 1]     # 2001년 4월 말일의 종가"
   ]
  },
  {
   "cell_type": "code",
   "execution_count": 15,
   "id": "e3188b2b",
   "metadata": {},
   "outputs": [],
   "source": [
    "# price_df.loc[:, ['Open', 'Close']]"
   ]
  },
  {
   "cell_type": "code",
   "execution_count": 16,
   "id": "c4007efd",
   "metadata": {},
   "outputs": [],
   "source": [
    "# 수익률 컬럼 생성해 1 대입\n",
    "price_df['rtn'] = 1"
   ]
  },
  {
   "cell_type": "code",
   "execution_count": 17,
   "id": "a3eaa167",
   "metadata": {},
   "outputs": [
    {
     "data": {
      "text/html": [
       "<div>\n",
       "<style scoped>\n",
       "    .dataframe tbody tr th:only-of-type {\n",
       "        vertical-align: middle;\n",
       "    }\n",
       "\n",
       "    .dataframe tbody tr th {\n",
       "        vertical-align: top;\n",
       "    }\n",
       "\n",
       "    .dataframe thead th {\n",
       "        text-align: right;\n",
       "    }\n",
       "</style>\n",
       "<table border=\"1\" class=\"dataframe\">\n",
       "  <thead>\n",
       "    <tr style=\"text-align: right;\">\n",
       "      <th></th>\n",
       "      <th>Open</th>\n",
       "      <th>Close</th>\n",
       "      <th>rtn</th>\n",
       "    </tr>\n",
       "    <tr>\n",
       "      <th>Date</th>\n",
       "      <th></th>\n",
       "      <th></th>\n",
       "      <th></th>\n",
       "    </tr>\n",
       "  </thead>\n",
       "  <tbody>\n",
       "    <tr>\n",
       "      <th>2000-11-01</th>\n",
       "      <td>1.388393</td>\n",
       "      <td>1.464286</td>\n",
       "      <td>1</td>\n",
       "    </tr>\n",
       "  </tbody>\n",
       "</table>\n",
       "</div>"
      ],
      "text/plain": [
       "                Open     Close  rtn\n",
       "Date                               \n",
       "2000-11-01  1.388393  1.464286    1"
      ]
     },
     "execution_count": 17,
     "metadata": {},
     "output_type": "execute_result"
    }
   ],
   "source": [
    "price_df.head(1)"
   ]
  },
  {
   "cell_type": "code",
   "execution_count": 18,
   "id": "40676fff",
   "metadata": {},
   "outputs": [
    {
     "name": "stderr",
     "output_type": "stream",
     "text": [
      "C:\\Users\\toqha\\AppData\\Local\\Temp\\ipykernel_7088\\1615165912.py:11: FutureWarning: Setting an item of incompatible dtype is deprecated and will raise an error in a future version of pandas. Value '1.3113822959349406' has dtype incompatible with int64, please explicitly cast to a compatible dtype first.\n",
      "  price_df.iloc[idx, -1] = rtn\n"
     ]
    }
   ],
   "source": [
    "# 인덱스 위치의 값이 홀수(4월)인 경우 수익률 발생\n",
    "# for idx in range(len(price_df)):\n",
    "#     if idx % 2 == 1:\n",
    "#         # 홀수인 경우\n",
    "for idx in range(1, len(price_df), 2):\n",
    "    sell = price_df.iloc[idx, 1]\n",
    "    buy = price_df.shift().iloc[idx, 0]\n",
    "    # 수익률 계산\n",
    "    rtn = sell / buy\n",
    "    # 수익률 컬럼에 rtn 값 대입\n",
    "    price_df.iloc[idx, -1] = rtn"
   ]
  },
  {
   "cell_type": "code",
   "execution_count": 19,
   "id": "f30769a3",
   "metadata": {},
   "outputs": [
    {
     "data": {
      "text/html": [
       "<div>\n",
       "<style scoped>\n",
       "    .dataframe tbody tr th:only-of-type {\n",
       "        vertical-align: middle;\n",
       "    }\n",
       "\n",
       "    .dataframe tbody tr th {\n",
       "        vertical-align: top;\n",
       "    }\n",
       "\n",
       "    .dataframe thead th {\n",
       "        text-align: right;\n",
       "    }\n",
       "</style>\n",
       "<table border=\"1\" class=\"dataframe\">\n",
       "  <thead>\n",
       "    <tr style=\"text-align: right;\">\n",
       "      <th></th>\n",
       "      <th>Open</th>\n",
       "      <th>Close</th>\n",
       "      <th>rtn</th>\n",
       "    </tr>\n",
       "    <tr>\n",
       "      <th>Date</th>\n",
       "      <th></th>\n",
       "      <th></th>\n",
       "      <th></th>\n",
       "    </tr>\n",
       "  </thead>\n",
       "  <tbody>\n",
       "    <tr>\n",
       "      <th>2000-11-01</th>\n",
       "      <td>1.388393</td>\n",
       "      <td>1.464286</td>\n",
       "      <td>1.000000</td>\n",
       "    </tr>\n",
       "    <tr>\n",
       "      <th>2001-04-30</th>\n",
       "      <td>1.907143</td>\n",
       "      <td>1.820714</td>\n",
       "      <td>1.311382</td>\n",
       "    </tr>\n",
       "    <tr>\n",
       "      <th>2001-11-01</th>\n",
       "      <td>1.260714</td>\n",
       "      <td>1.327857</td>\n",
       "      <td>1.000000</td>\n",
       "    </tr>\n",
       "    <tr>\n",
       "      <th>2002-04-30</th>\n",
       "      <td>1.706429</td>\n",
       "      <td>1.733571</td>\n",
       "      <td>1.375071</td>\n",
       "    </tr>\n",
       "  </tbody>\n",
       "</table>\n",
       "</div>"
      ],
      "text/plain": [
       "                Open     Close       rtn\n",
       "Date                                    \n",
       "2000-11-01  1.388393  1.464286  1.000000\n",
       "2001-04-30  1.907143  1.820714  1.311382\n",
       "2001-11-01  1.260714  1.327857  1.000000\n",
       "2002-04-30  1.706429  1.733571  1.375071"
      ]
     },
     "execution_count": 19,
     "metadata": {},
     "output_type": "execute_result"
    }
   ],
   "source": [
    "price_df.head(4)"
   ]
  },
  {
   "cell_type": "code",
   "execution_count": 20,
   "id": "81a072e9",
   "metadata": {},
   "outputs": [],
   "source": [
    "price_df['acc_rtn'] = price_df['rtn'].cumprod()"
   ]
  },
  {
   "cell_type": "code",
   "execution_count": 21,
   "id": "02e8d9bb",
   "metadata": {},
   "outputs": [
    {
     "data": {
      "text/plain": [
       "True"
      ]
     },
     "execution_count": 21,
     "metadata": {},
     "output_type": "execute_result"
    }
   ],
   "source": [
    "# 수익률 발생 조건 -> 4월 -> 시계열 데이터에서 월만 추출해 확인\n",
    "# 1. 문자열(str) 포맷으로 월 비교\n",
    "price_df.index[1].strftime('%m') == '04'"
   ]
  },
  {
   "cell_type": "code",
   "execution_count": 22,
   "id": "37784d90",
   "metadata": {},
   "outputs": [
    {
     "data": {
      "text/plain": [
       "True"
      ]
     },
     "execution_count": 22,
     "metadata": {},
     "output_type": "execute_result"
    }
   ],
   "source": [
    "# 2. datetime 객체의 month 속성 -> 월을 int 값으로 추출해 비교\n",
    "price_df.index[1].month == 4"
   ]
  },
  {
   "cell_type": "code",
   "execution_count": 23,
   "id": "633e764d",
   "metadata": {},
   "outputs": [
    {
     "name": "stderr",
     "output_type": "stream",
     "text": [
      "C:\\Users\\toqha\\AppData\\Local\\Temp\\ipykernel_7088\\4275678569.py:7: FutureWarning: Setting an item of incompatible dtype is deprecated and will raise an error in a future version of pandas. Value '1.3113822959349406' has dtype incompatible with int64, please explicitly cast to a compatible dtype first.\n",
      "  price_df.loc[idx, 'rtn2'] = rtn\n"
     ]
    }
   ],
   "source": [
    "price_df['rtn2'] = 1\n",
    "for idx in price_df.index:\n",
    "    # idx의 월 데이터가 4인 경우\n",
    "    # if idx.strftime('%m') == '04':\n",
    "    if idx.month == 4:\n",
    "        rtn = price_df.loc[idx, 'Close'] / price_df.shift().loc[idx, 'Open']\n",
    "        price_df.loc[idx, 'rtn2'] = rtn"
   ]
  },
  {
   "cell_type": "code",
   "execution_count": 24,
   "id": "8ad7de4d",
   "metadata": {},
   "outputs": [
    {
     "data": {
      "text/html": [
       "<div>\n",
       "<style scoped>\n",
       "    .dataframe tbody tr th:only-of-type {\n",
       "        vertical-align: middle;\n",
       "    }\n",
       "\n",
       "    .dataframe tbody tr th {\n",
       "        vertical-align: top;\n",
       "    }\n",
       "\n",
       "    .dataframe thead th {\n",
       "        text-align: right;\n",
       "    }\n",
       "</style>\n",
       "<table border=\"1\" class=\"dataframe\">\n",
       "  <thead>\n",
       "    <tr style=\"text-align: right;\">\n",
       "      <th></th>\n",
       "      <th>rtn</th>\n",
       "      <th>rtn2</th>\n",
       "    </tr>\n",
       "    <tr>\n",
       "      <th>Date</th>\n",
       "      <th></th>\n",
       "      <th></th>\n",
       "    </tr>\n",
       "  </thead>\n",
       "  <tbody>\n",
       "    <tr>\n",
       "      <th>2000-11-01</th>\n",
       "      <td>1.000000</td>\n",
       "      <td>1.000000</td>\n",
       "    </tr>\n",
       "    <tr>\n",
       "      <th>2001-04-30</th>\n",
       "      <td>1.311382</td>\n",
       "      <td>1.311382</td>\n",
       "    </tr>\n",
       "    <tr>\n",
       "      <th>2001-11-01</th>\n",
       "      <td>1.000000</td>\n",
       "      <td>1.000000</td>\n",
       "    </tr>\n",
       "    <tr>\n",
       "      <th>2002-04-30</th>\n",
       "      <td>1.375071</td>\n",
       "      <td>1.375071</td>\n",
       "    </tr>\n",
       "    <tr>\n",
       "      <th>2002-11-01</th>\n",
       "      <td>1.000000</td>\n",
       "      <td>1.000000</td>\n",
       "    </tr>\n",
       "    <tr>\n",
       "      <th>2003-04-30</th>\n",
       "      <td>0.892095</td>\n",
       "      <td>0.892095</td>\n",
       "    </tr>\n",
       "    <tr>\n",
       "      <th>2003-11-03</th>\n",
       "      <td>1.000000</td>\n",
       "      <td>1.000000</td>\n",
       "    </tr>\n",
       "    <tr>\n",
       "      <th>2004-04-30</th>\n",
       "      <td>1.129216</td>\n",
       "      <td>1.129216</td>\n",
       "    </tr>\n",
       "    <tr>\n",
       "      <th>2004-11-01</th>\n",
       "      <td>1.000000</td>\n",
       "      <td>1.000000</td>\n",
       "    </tr>\n",
       "    <tr>\n",
       "      <th>2005-04-29</th>\n",
       "      <td>1.373714</td>\n",
       "      <td>1.373714</td>\n",
       "    </tr>\n",
       "    <tr>\n",
       "      <th>2005-11-01</th>\n",
       "      <td>1.000000</td>\n",
       "      <td>1.000000</td>\n",
       "    </tr>\n",
       "    <tr>\n",
       "      <th>2006-04-28</th>\n",
       "      <td>1.229735</td>\n",
       "      <td>1.229735</td>\n",
       "    </tr>\n",
       "    <tr>\n",
       "      <th>2006-11-01</th>\n",
       "      <td>1.000000</td>\n",
       "      <td>1.000000</td>\n",
       "    </tr>\n",
       "    <tr>\n",
       "      <th>2007-04-30</th>\n",
       "      <td>1.230580</td>\n",
       "      <td>1.230580</td>\n",
       "    </tr>\n",
       "    <tr>\n",
       "      <th>2007-11-01</th>\n",
       "      <td>1.000000</td>\n",
       "      <td>1.000000</td>\n",
       "    </tr>\n",
       "    <tr>\n",
       "      <th>2008-04-30</th>\n",
       "      <td>0.922322</td>\n",
       "      <td>0.922322</td>\n",
       "    </tr>\n",
       "    <tr>\n",
       "      <th>2008-11-03</th>\n",
       "      <td>1.000000</td>\n",
       "      <td>1.000000</td>\n",
       "    </tr>\n",
       "    <tr>\n",
       "      <th>2009-04-30</th>\n",
       "      <td>1.187860</td>\n",
       "      <td>1.187860</td>\n",
       "    </tr>\n",
       "    <tr>\n",
       "      <th>2009-11-02</th>\n",
       "      <td>1.000000</td>\n",
       "      <td>1.000000</td>\n",
       "    </tr>\n",
       "    <tr>\n",
       "      <th>2010-04-30</th>\n",
       "      <td>1.375606</td>\n",
       "      <td>1.375606</td>\n",
       "    </tr>\n",
       "  </tbody>\n",
       "</table>\n",
       "</div>"
      ],
      "text/plain": [
       "                 rtn      rtn2\n",
       "Date                          \n",
       "2000-11-01  1.000000  1.000000\n",
       "2001-04-30  1.311382  1.311382\n",
       "2001-11-01  1.000000  1.000000\n",
       "2002-04-30  1.375071  1.375071\n",
       "2002-11-01  1.000000  1.000000\n",
       "2003-04-30  0.892095  0.892095\n",
       "2003-11-03  1.000000  1.000000\n",
       "2004-04-30  1.129216  1.129216\n",
       "2004-11-01  1.000000  1.000000\n",
       "2005-04-29  1.373714  1.373714\n",
       "2005-11-01  1.000000  1.000000\n",
       "2006-04-28  1.229735  1.229735\n",
       "2006-11-01  1.000000  1.000000\n",
       "2007-04-30  1.230580  1.230580\n",
       "2007-11-01  1.000000  1.000000\n",
       "2008-04-30  0.922322  0.922322\n",
       "2008-11-03  1.000000  1.000000\n",
       "2009-04-30  1.187860  1.187860\n",
       "2009-11-02  1.000000  1.000000\n",
       "2010-04-30  1.375606  1.375606"
      ]
     },
     "execution_count": 24,
     "metadata": {},
     "output_type": "execute_result"
    }
   ],
   "source": [
    "price_df[['rtn', 'rtn2']]"
   ]
  },
  {
   "cell_type": "code",
   "execution_count": 25,
   "id": "6679d22c",
   "metadata": {},
   "outputs": [],
   "source": [
    "# 투자의 시작시간 -> 년도\n",
    "# 문자를 시계열로 변환 -> 시계열에서 년도만 특정 월\n",
    "start = '2000-01-01'\n",
    "# 시계열 데이터로 변환\n",
    "t_s = pd.to_datetime(start)\n",
    "# t_s의 특정 년도 추출\n",
    "t_s2 = t_s.replace(month=11)"
   ]
  },
  {
   "cell_type": "code",
   "execution_count": 26,
   "id": "a5c17a09",
   "metadata": {},
   "outputs": [
    {
     "data": {
      "text/plain": [
       "Timestamp('2000-01-01 00:00:00')"
      ]
     },
     "execution_count": 26,
     "metadata": {},
     "output_type": "execute_result"
    }
   ],
   "source": [
    "t_s"
   ]
  },
  {
   "cell_type": "code",
   "execution_count": 27,
   "id": "6c006dbb",
   "metadata": {},
   "outputs": [
    {
     "data": {
      "text/plain": [
       "Timestamp('2000-11-01 00:00:00')"
      ]
     },
     "execution_count": 27,
     "metadata": {},
     "output_type": "execute_result"
    }
   ],
   "source": [
    "t_s2"
   ]
  },
  {
   "cell_type": "code",
   "execution_count": 28,
   "id": "51a54596",
   "metadata": {},
   "outputs": [
    {
     "data": {
      "text/plain": [
       "Timestamp('2001-04-01 00:00:00')"
      ]
     },
     "execution_count": 28,
     "metadata": {},
     "output_type": "execute_result"
    }
   ],
   "source": [
    "# 시작일로부터 5개월 뒤 -> relativedelta의 months 속성 사용\n",
    "t_s2 + relativedelta(months=5)"
   ]
  },
  {
   "cell_type": "markdown",
   "id": "6262af4b",
   "metadata": {},
   "source": [
    "### <할로윈 투자 전략 함수화>\n",
    "- 매개변수 5개\n",
    "    - 데이터프레임: 필수\n",
    "    - 시작시간: '2010-01-01' 기본값\n",
    "    - 종료시간: 현재 시간 기본값\n",
    "    - 기준이 되는 컬럼: 'Adj Close' 기본값\n",
    "    - 투자의 시작월: 11 기본값"
   ]
  },
  {
   "cell_type": "code",
   "execution_count": 51,
   "id": "3261888f",
   "metadata": {},
   "outputs": [],
   "source": [
    "def six_month(\n",
    "        _df,\n",
    "        _start = '2010-01-01',\n",
    "        _end = datetime.now(),\n",
    "        _col = 'Adj Close',\n",
    "        _month = 11\n",
    "):\n",
    "\t# 복사본 생성\n",
    "\tdf = _df.copy()\n",
    "\t# Date 컬럼이 존재한다면 인덱스로 변경\n",
    "\tif 'Date' in df.columns:\n",
    "\t\tdf.set_index('Date', inplace=True)\n",
    "    # index를 시계열 데이터로 변경\n",
    "\tdf.index = pd.to_datetime(df.index)\n",
    "\t# 시작 시간을 시계열로 변경\n",
    "\tstart = pd.to_datetime(_start)\n",
    "\t# 종료 시간은 타입이 문자라면 시계열로 변경\n",
    "\tif type(_end) == str:\n",
    "\t\tend = pd.to_datetime(_end)\n",
    "\telse:\n",
    "\t\tend = _end\n",
    "\n",
    "\t# 빈 데이터프레임 생성\n",
    "\tresult = pd.DataFrame()\n",
    "\n",
    "\tfor year in range(start.year, end.year):\n",
    "\t\t# 매수 시간\n",
    "\t\tbuy = datetime(year = year, month = _month, day = 1)\n",
    "\t\t# 매도 시간 (매수 5개월 뒤)\n",
    "\t\tsell = buy + relativedelta(months=5)\n",
    "\t\t\n",
    "\t\tbuy_mon = buy.strftime('%Y-%m')\n",
    "\t\tsell_mon = sell.strftime('%Y-%m')\n",
    "\n",
    "\t\ttry:\n",
    "\t\t\tstart_df = df.loc[buy_mon, [_col]].head(1)\n",
    "\t\t\tend_df = df.loc[sell_mon, [_col]].tail(1)\n",
    "\t\t\tresult = pd.concat(\n",
    "\t\t\t\t[result, start_df, end_df], axis=0\n",
    "\t\t\t)\n",
    "\t\texcept:\n",
    "\t\t\tbreak\n",
    "\t\t\n",
    "\t# result를 이용해 수익률 계산\n",
    "\tresult['rtn'] = 1\n",
    "\tfor idx in range(1, len(result), 2):\n",
    "\t\trtn = result.iloc[idx, ][_col] / result.iloc[idx-1, ][_col]\n",
    "\t\tresult.iloc[idx, -1] = rtn\n",
    "\t# 누적수익률 계산\n",
    "\tresult['acc_rtn'] = result['rtn'].cumprod()\n",
    "\tacc_rtn = result.iloc[-1, -1]\n",
    "\n",
    "\treturn result, acc_rtn"
   ]
  },
  {
   "cell_type": "code",
   "execution_count": 52,
   "id": "b6318fb9",
   "metadata": {},
   "outputs": [],
   "source": [
    "df2 = pd.read_csv('../../csv/MSFT.csv')"
   ]
  },
  {
   "cell_type": "code",
   "execution_count": 53,
   "id": "6352c6be",
   "metadata": {},
   "outputs": [
    {
     "name": "stderr",
     "output_type": "stream",
     "text": [
      "C:\\Users\\toqha\\AppData\\Local\\Temp\\ipykernel_7088\\3099338786.py:48: FutureWarning: Setting an item of incompatible dtype is deprecated and will raise an error in a future version of pandas. Value '0.9734104243660585' has dtype incompatible with int64, please explicitly cast to a compatible dtype first.\n",
      "  result.iloc[idx, -1] = rtn\n"
     ]
    },
    {
     "data": {
      "text/plain": [
       "(             Adj Close       rtn   acc_rtn\n",
       " Date                                      \n",
       " 2010-11-01   21.667025  1.000000  1.000000\n",
       " 2011-04-29   21.090908  0.973410  0.973410\n",
       " 2011-11-01   21.420837  1.000000  0.973410\n",
       " 2012-04-30   26.764505  1.249461  1.216239\n",
       " 2012-11-01   25.001280  1.000000  1.216239\n",
       " 2013-04-30   28.497641  1.139847  1.386326\n",
       " 2013-11-01   31.021326  1.000000  1.386326\n",
       " 2014-04-30   35.807358  1.154282  1.600211\n",
       " 2014-11-03   42.608147  1.000000  1.600211\n",
       " 2015-04-30   44.274323  1.039105  1.662787\n",
       " 2015-11-02   49.098042  1.000000  1.662787\n",
       " 2016-04-29   46.632641  0.949786  1.579292\n",
       " 2016-11-01   56.660099  1.000000  1.579292\n",
       " 2017-04-28   65.699493  1.159537  1.831248\n",
       " 2017-11-01   80.711250  1.000000  1.831248\n",
       " 2018-04-30   91.628487  1.135263  2.078948\n",
       " 2018-11-01  104.628593  1.000000  2.078948\n",
       " 2019-04-30  130.118362  1.243621  2.585424,\n",
       " np.float64(2.585424226050299))"
      ]
     },
     "execution_count": 53,
     "metadata": {},
     "output_type": "execute_result"
    }
   ],
   "source": [
    "six_month(df2)"
   ]
  },
  {
   "cell_type": "code",
   "execution_count": 55,
   "id": "a99225e4",
   "metadata": {},
   "outputs": [
    {
     "name": "stderr",
     "output_type": "stream",
     "text": [
      "C:\\Users\\toqha\\AppData\\Local\\Temp\\ipykernel_7088\\3099338786.py:48: FutureWarning: Setting an item of incompatible dtype is deprecated and will raise an error in a future version of pandas. Value '0.7503040058806886' has dtype incompatible with int64, please explicitly cast to a compatible dtype first.\n",
      "  result.iloc[idx, -1] = rtn\n",
      "C:\\Users\\toqha\\AppData\\Local\\Temp\\ipykernel_7088\\3099338786.py:48: FutureWarning: Setting an item of incompatible dtype is deprecated and will raise an error in a future version of pandas. Value '0.9168498443317445' has dtype incompatible with int64, please explicitly cast to a compatible dtype first.\n",
      "  result.iloc[idx, -1] = rtn\n",
      "C:\\Users\\toqha\\AppData\\Local\\Temp\\ipykernel_7088\\3099338786.py:48: FutureWarning: Setting an item of incompatible dtype is deprecated and will raise an error in a future version of pandas. Value '0.8167353995486427' has dtype incompatible with int64, please explicitly cast to a compatible dtype first.\n",
      "  result.iloc[idx, -1] = rtn\n",
      "C:\\Users\\toqha\\AppData\\Local\\Temp\\ipykernel_7088\\3099338786.py:48: FutureWarning: Setting an item of incompatible dtype is deprecated and will raise an error in a future version of pandas. Value '0.8481394788144779' has dtype incompatible with int64, please explicitly cast to a compatible dtype first.\n",
      "  result.iloc[idx, -1] = rtn\n",
      "C:\\Users\\toqha\\AppData\\Local\\Temp\\ipykernel_7088\\3099338786.py:48: FutureWarning: Setting an item of incompatible dtype is deprecated and will raise an error in a future version of pandas. Value '0.8727560388390614' has dtype incompatible with int64, please explicitly cast to a compatible dtype first.\n",
      "  result.iloc[idx, -1] = rtn\n"
     ]
    },
    {
     "name": "stdout",
     "output_type": "stream",
     "text": [
      "1월 투자 시작시 누적 수익률: 1.9047977289739622\n",
      "2월 투자 시작시 누적 수익률: 1.996812171930415\n",
      "3월 투자 시작시 누적 수익률: 1.8979311397394325\n",
      "4월 투자 시작시 누적 수익률: 1.8150437673363577\n",
      "5월 투자 시작시 누적 수익률: 1.9537872230675444\n",
      "6월 투자 시작시 누적 수익률: 2.3267769278149752\n",
      "7월 투자 시작시 누적 수익률: 2.742369841522477\n",
      "8월 투자 시작시 누적 수익률: 2.3189373202298746\n",
      "9월 투자 시작시 누적 수익률: 2.778991066321281\n",
      "10월 투자 시작시 누적 수익률: 2.858872297236525\n",
      "11월 투자 시작시 누적 수익률: 2.585424226050299\n",
      "12월 투자 시작시 누적 수익률: 2.4626705199785817\n"
     ]
    },
    {
     "name": "stderr",
     "output_type": "stream",
     "text": [
      "C:\\Users\\toqha\\AppData\\Local\\Temp\\ipykernel_7088\\3099338786.py:48: FutureWarning: Setting an item of incompatible dtype is deprecated and will raise an error in a future version of pandas. Value '0.98689793507361' has dtype incompatible with int64, please explicitly cast to a compatible dtype first.\n",
      "  result.iloc[idx, -1] = rtn\n",
      "C:\\Users\\toqha\\AppData\\Local\\Temp\\ipykernel_7088\\3099338786.py:48: FutureWarning: Setting an item of incompatible dtype is deprecated and will raise an error in a future version of pandas. Value '1.2189670909285772' has dtype incompatible with int64, please explicitly cast to a compatible dtype first.\n",
      "  result.iloc[idx, -1] = rtn\n",
      "C:\\Users\\toqha\\AppData\\Local\\Temp\\ipykernel_7088\\3099338786.py:48: FutureWarning: Setting an item of incompatible dtype is deprecated and will raise an error in a future version of pandas. Value '1.065295133414133' has dtype incompatible with int64, please explicitly cast to a compatible dtype first.\n",
      "  result.iloc[idx, -1] = rtn\n",
      "C:\\Users\\toqha\\AppData\\Local\\Temp\\ipykernel_7088\\3099338786.py:48: FutureWarning: Setting an item of incompatible dtype is deprecated and will raise an error in a future version of pandas. Value '1.1255810329849998' has dtype incompatible with int64, please explicitly cast to a compatible dtype first.\n",
      "  result.iloc[idx, -1] = rtn\n",
      "C:\\Users\\toqha\\AppData\\Local\\Temp\\ipykernel_7088\\3099338786.py:48: FutureWarning: Setting an item of incompatible dtype is deprecated and will raise an error in a future version of pandas. Value '1.0540196815245322' has dtype incompatible with int64, please explicitly cast to a compatible dtype first.\n",
      "  result.iloc[idx, -1] = rtn\n",
      "C:\\Users\\toqha\\AppData\\Local\\Temp\\ipykernel_7088\\3099338786.py:48: FutureWarning: Setting an item of incompatible dtype is deprecated and will raise an error in a future version of pandas. Value '0.9734104243660585' has dtype incompatible with int64, please explicitly cast to a compatible dtype first.\n",
      "  result.iloc[idx, -1] = rtn\n",
      "C:\\Users\\toqha\\AppData\\Local\\Temp\\ipykernel_7088\\3099338786.py:48: FutureWarning: Setting an item of incompatible dtype is deprecated and will raise an error in a future version of pandas. Value '0.9724548658669439' has dtype incompatible with int64, please explicitly cast to a compatible dtype first.\n",
      "  result.iloc[idx, -1] = rtn\n"
     ]
    }
   ],
   "source": [
    "for i in range(1, 13, 1):\n",
    "\thalloween_df, halloween_rtn = six_month(df2, _month=i)\n",
    "\tprint(f'{i}월 투자 시작시 누적 수익률: {halloween_rtn}')"
   ]
  },
  {
   "cell_type": "code",
   "execution_count": 56,
   "id": "29896d45",
   "metadata": {},
   "outputs": [],
   "source": [
    "# 야후파이낸스 라이브러리 설치\n",
    "# !pip install yfinance"
   ]
  },
  {
   "cell_type": "code",
   "execution_count": 57,
   "id": "e48a5e06",
   "metadata": {},
   "outputs": [],
   "source": [
    "import yfinance as yf"
   ]
  },
  {
   "cell_type": "code",
   "execution_count": 58,
   "id": "d642736c",
   "metadata": {},
   "outputs": [
    {
     "name": "stdout",
     "output_type": "stream",
     "text": [
      "YF.download() has changed argument auto_adjust default to True\n"
     ]
    },
    {
     "name": "stderr",
     "output_type": "stream",
     "text": [
      "[*********************100%***********************]  1 of 1 completed\n"
     ]
    }
   ],
   "source": [
    "aapl_df = yf.download('AAPL', start='2023-01-01', interval='1d')"
   ]
  },
  {
   "cell_type": "code",
   "execution_count": 59,
   "id": "b9c4a30d",
   "metadata": {},
   "outputs": [
    {
     "data": {
      "text/html": [
       "<div>\n",
       "<style scoped>\n",
       "    .dataframe tbody tr th:only-of-type {\n",
       "        vertical-align: middle;\n",
       "    }\n",
       "\n",
       "    .dataframe tbody tr th {\n",
       "        vertical-align: top;\n",
       "    }\n",
       "\n",
       "    .dataframe thead tr th {\n",
       "        text-align: left;\n",
       "    }\n",
       "\n",
       "    .dataframe thead tr:last-of-type th {\n",
       "        text-align: right;\n",
       "    }\n",
       "</style>\n",
       "<table border=\"1\" class=\"dataframe\">\n",
       "  <thead>\n",
       "    <tr>\n",
       "      <th>Price</th>\n",
       "      <th>Close</th>\n",
       "      <th>High</th>\n",
       "      <th>Low</th>\n",
       "      <th>Open</th>\n",
       "      <th>Volume</th>\n",
       "    </tr>\n",
       "    <tr>\n",
       "      <th>Ticker</th>\n",
       "      <th>AAPL</th>\n",
       "      <th>AAPL</th>\n",
       "      <th>AAPL</th>\n",
       "      <th>AAPL</th>\n",
       "      <th>AAPL</th>\n",
       "    </tr>\n",
       "    <tr>\n",
       "      <th>Date</th>\n",
       "      <th></th>\n",
       "      <th></th>\n",
       "      <th></th>\n",
       "      <th></th>\n",
       "      <th></th>\n",
       "    </tr>\n",
       "  </thead>\n",
       "  <tbody>\n",
       "    <tr>\n",
       "      <th>2023-01-03</th>\n",
       "      <td>123.470619</td>\n",
       "      <td>129.226060</td>\n",
       "      <td>122.582127</td>\n",
       "      <td>128.613993</td>\n",
       "      <td>112117500</td>\n",
       "    </tr>\n",
       "    <tr>\n",
       "      <th>2023-01-04</th>\n",
       "      <td>124.744118</td>\n",
       "      <td>127.014709</td>\n",
       "      <td>123.480487</td>\n",
       "      <td>125.267339</td>\n",
       "      <td>89113600</td>\n",
       "    </tr>\n",
       "    <tr>\n",
       "      <th>2023-01-05</th>\n",
       "      <td>123.421249</td>\n",
       "      <td>126.136083</td>\n",
       "      <td>123.164580</td>\n",
       "      <td>125.504267</td>\n",
       "      <td>80962700</td>\n",
       "    </tr>\n",
       "    <tr>\n",
       "      <th>2023-01-06</th>\n",
       "      <td>127.962425</td>\n",
       "      <td>128.623856</td>\n",
       "      <td>123.292916</td>\n",
       "      <td>124.398597</td>\n",
       "      <td>87754700</td>\n",
       "    </tr>\n",
       "    <tr>\n",
       "      <th>2023-01-09</th>\n",
       "      <td>128.485657</td>\n",
       "      <td>131.703978</td>\n",
       "      <td>128.228987</td>\n",
       "      <td>128.801572</td>\n",
       "      <td>70790800</td>\n",
       "    </tr>\n",
       "    <tr>\n",
       "      <th>...</th>\n",
       "      <td>...</td>\n",
       "      <td>...</td>\n",
       "      <td>...</td>\n",
       "      <td>...</td>\n",
       "      <td>...</td>\n",
       "    </tr>\n",
       "    <tr>\n",
       "      <th>2025-06-11</th>\n",
       "      <td>198.779999</td>\n",
       "      <td>204.500000</td>\n",
       "      <td>198.410004</td>\n",
       "      <td>203.500000</td>\n",
       "      <td>60989900</td>\n",
       "    </tr>\n",
       "    <tr>\n",
       "      <th>2025-06-12</th>\n",
       "      <td>199.199997</td>\n",
       "      <td>199.679993</td>\n",
       "      <td>197.360001</td>\n",
       "      <td>199.080002</td>\n",
       "      <td>43904600</td>\n",
       "    </tr>\n",
       "    <tr>\n",
       "      <th>2025-06-13</th>\n",
       "      <td>196.449997</td>\n",
       "      <td>200.369995</td>\n",
       "      <td>195.699997</td>\n",
       "      <td>199.729996</td>\n",
       "      <td>51447300</td>\n",
       "    </tr>\n",
       "    <tr>\n",
       "      <th>2025-06-16</th>\n",
       "      <td>198.419998</td>\n",
       "      <td>198.690002</td>\n",
       "      <td>196.559998</td>\n",
       "      <td>197.300003</td>\n",
       "      <td>43020700</td>\n",
       "    </tr>\n",
       "    <tr>\n",
       "      <th>2025-06-17</th>\n",
       "      <td>195.639999</td>\n",
       "      <td>198.389999</td>\n",
       "      <td>195.210007</td>\n",
       "      <td>197.199997</td>\n",
       "      <td>38736900</td>\n",
       "    </tr>\n",
       "  </tbody>\n",
       "</table>\n",
       "<p>616 rows × 5 columns</p>\n",
       "</div>"
      ],
      "text/plain": [
       "Price            Close        High         Low        Open     Volume\n",
       "Ticker            AAPL        AAPL        AAPL        AAPL       AAPL\n",
       "Date                                                                 \n",
       "2023-01-03  123.470619  129.226060  122.582127  128.613993  112117500\n",
       "2023-01-04  124.744118  127.014709  123.480487  125.267339   89113600\n",
       "2023-01-05  123.421249  126.136083  123.164580  125.504267   80962700\n",
       "2023-01-06  127.962425  128.623856  123.292916  124.398597   87754700\n",
       "2023-01-09  128.485657  131.703978  128.228987  128.801572   70790800\n",
       "...                ...         ...         ...         ...        ...\n",
       "2025-06-11  198.779999  204.500000  198.410004  203.500000   60989900\n",
       "2025-06-12  199.199997  199.679993  197.360001  199.080002   43904600\n",
       "2025-06-13  196.449997  200.369995  195.699997  199.729996   51447300\n",
       "2025-06-16  198.419998  198.690002  196.559998  197.300003   43020700\n",
       "2025-06-17  195.639999  198.389999  195.210007  197.199997   38736900\n",
       "\n",
       "[616 rows x 5 columns]"
      ]
     },
     "execution_count": 59,
     "metadata": {},
     "output_type": "execute_result"
    }
   ],
   "source": [
    "aapl_df"
   ]
  },
  {
   "cell_type": "code",
   "execution_count": 60,
   "id": "ce949cf3",
   "metadata": {},
   "outputs": [
    {
     "name": "stderr",
     "output_type": "stream",
     "text": [
      "C:\\Users\\toqha\\AppData\\Local\\Temp\\ipykernel_7088\\1875426577.py:1: FutureWarning: The previous implementation of stack is deprecated and will be removed in a future version of pandas. See the What's New notes for pandas 2.1.0 for details. Specify future_stack=True to adopt the new implementation and silence this warning.\n",
      "  six_month(aapl_df.stack().droplevel(level='Ticker'), _start = '2023-01-01', _col='Close')\n",
      "C:\\Users\\toqha\\AppData\\Local\\Temp\\ipykernel_7088\\3099338786.py:48: FutureWarning: Setting an item of incompatible dtype is deprecated and will raise an error in a future version of pandas. Value '0.9816176730788285' has dtype incompatible with int64, please explicitly cast to a compatible dtype first.\n",
      "  result.iloc[idx, -1] = rtn\n"
     ]
    },
    {
     "data": {
      "text/plain": [
       "(Price            Close       rtn   acc_rtn\n",
       " Date                                      \n",
       " 2023-11-01  172.478027  1.000000  1.000000\n",
       " 2024-04-30  169.307480  0.981618  0.981618\n",
       " 2024-11-01  222.129196  1.000000  0.981618\n",
       " 2025-04-30  212.221710  0.955398  0.937835,\n",
       " np.float64(0.9378352100626479))"
      ]
     },
     "execution_count": 60,
     "metadata": {},
     "output_type": "execute_result"
    }
   ],
   "source": [
    "six_month(aapl_df.stack().droplevel(level='Ticker'), _start = '2023-01-01', _col='Close')"
   ]
  }
 ],
 "metadata": {
  "kernelspec": {
   "display_name": "Python 3",
   "language": "python",
   "name": "python3"
  },
  "language_info": {
   "codemirror_mode": {
    "name": "ipython",
    "version": 3
   },
   "file_extension": ".py",
   "mimetype": "text/x-python",
   "name": "python",
   "nbconvert_exporter": "python",
   "pygments_lexer": "ipython3",
   "version": "3.9.13"
  }
 },
 "nbformat": 4,
 "nbformat_minor": 5
}
